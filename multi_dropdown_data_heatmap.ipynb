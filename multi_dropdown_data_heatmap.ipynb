{
  "nbformat": 4,
  "nbformat_minor": 0,
  "metadata": {
    "colab": {
      "provenance": [],
      "toc_visible": true,
      "authorship_tag": "ABX9TyMxa+RX3A+FTw4YBaW3Mk5V",
      "include_colab_link": true
    },
    "kernelspec": {
      "name": "python3",
      "display_name": "Python 3"
    },
    "language_info": {
      "name": "python"
    },
    "widgets": {
      "application/vnd.jupyter.widget-state+json": {
        "6d4cbb10fe4b446eafd64c41b4555870": {
          "model_module": "@jupyter-widgets/controls",
          "model_name": "DropdownModel",
          "model_module_version": "1.5.0",
          "state": {
            "_dom_classes": [],
            "_model_module": "@jupyter-widgets/controls",
            "_model_module_version": "1.5.0",
            "_model_name": "DropdownModel",
            "_options_labels": [
              "2",
              "3"
            ],
            "_view_count": null,
            "_view_module": "@jupyter-widgets/controls",
            "_view_module_version": "1.5.0",
            "_view_name": "DropdownView",
            "description": "arg",
            "description_tooltip": null,
            "disabled": false,
            "index": 0,
            "layout": "IPY_MODEL_e8f1af3950dd431e9f0e784aef183219",
            "style": "IPY_MODEL_67e9c06437cd4ed78578555bde6c2709"
          }
        },
        "e8f1af3950dd431e9f0e784aef183219": {
          "model_module": "@jupyter-widgets/base",
          "model_name": "LayoutModel",
          "model_module_version": "1.2.0",
          "state": {
            "_model_module": "@jupyter-widgets/base",
            "_model_module_version": "1.2.0",
            "_model_name": "LayoutModel",
            "_view_count": null,
            "_view_module": "@jupyter-widgets/base",
            "_view_module_version": "1.2.0",
            "_view_name": "LayoutView",
            "align_content": null,
            "align_items": null,
            "align_self": null,
            "border": null,
            "bottom": null,
            "display": null,
            "flex": null,
            "flex_flow": null,
            "grid_area": null,
            "grid_auto_columns": null,
            "grid_auto_flow": null,
            "grid_auto_rows": null,
            "grid_column": null,
            "grid_gap": null,
            "grid_row": null,
            "grid_template_areas": null,
            "grid_template_columns": null,
            "grid_template_rows": null,
            "height": null,
            "justify_content": null,
            "justify_items": null,
            "left": null,
            "margin": null,
            "max_height": null,
            "max_width": null,
            "min_height": null,
            "min_width": null,
            "object_fit": null,
            "object_position": null,
            "order": null,
            "overflow": null,
            "overflow_x": null,
            "overflow_y": null,
            "padding": null,
            "right": null,
            "top": null,
            "visibility": null,
            "width": null
          }
        },
        "67e9c06437cd4ed78578555bde6c2709": {
          "model_module": "@jupyter-widgets/controls",
          "model_name": "DescriptionStyleModel",
          "model_module_version": "1.5.0",
          "state": {
            "_model_module": "@jupyter-widgets/controls",
            "_model_module_version": "1.5.0",
            "_model_name": "DescriptionStyleModel",
            "_view_count": null,
            "_view_module": "@jupyter-widgets/base",
            "_view_module_version": "1.2.0",
            "_view_name": "StyleView",
            "description_width": ""
          }
        },
        "aecf9984eb9c44139c11ae980943d8b2": {
          "model_module": "@jupyter-widgets/controls",
          "model_name": "DropdownModel",
          "model_module_version": "1.5.0",
          "state": {
            "_dom_classes": [],
            "_model_module": "@jupyter-widgets/controls",
            "_model_module_version": "1.5.0",
            "_model_name": "DropdownModel",
            "_options_labels": [
              "div",
              "mod"
            ],
            "_view_count": null,
            "_view_module": "@jupyter-widgets/controls",
            "_view_module_version": "1.5.0",
            "_view_name": "DropdownView",
            "description": "op",
            "description_tooltip": null,
            "disabled": false,
            "index": 1,
            "layout": "IPY_MODEL_36a3d5ac35fc425681267d403fc56c47",
            "style": "IPY_MODEL_4dae4e43241f49dc8b30eaced52ebaf9"
          }
        },
        "36a3d5ac35fc425681267d403fc56c47": {
          "model_module": "@jupyter-widgets/base",
          "model_name": "LayoutModel",
          "model_module_version": "1.2.0",
          "state": {
            "_model_module": "@jupyter-widgets/base",
            "_model_module_version": "1.2.0",
            "_model_name": "LayoutModel",
            "_view_count": null,
            "_view_module": "@jupyter-widgets/base",
            "_view_module_version": "1.2.0",
            "_view_name": "LayoutView",
            "align_content": null,
            "align_items": null,
            "align_self": null,
            "border": null,
            "bottom": null,
            "display": null,
            "flex": null,
            "flex_flow": null,
            "grid_area": null,
            "grid_auto_columns": null,
            "grid_auto_flow": null,
            "grid_auto_rows": null,
            "grid_column": null,
            "grid_gap": null,
            "grid_row": null,
            "grid_template_areas": null,
            "grid_template_columns": null,
            "grid_template_rows": null,
            "height": null,
            "justify_content": null,
            "justify_items": null,
            "left": null,
            "margin": null,
            "max_height": null,
            "max_width": null,
            "min_height": null,
            "min_width": null,
            "object_fit": null,
            "object_position": null,
            "order": null,
            "overflow": null,
            "overflow_x": null,
            "overflow_y": null,
            "padding": null,
            "right": null,
            "top": null,
            "visibility": null,
            "width": null
          }
        },
        "4dae4e43241f49dc8b30eaced52ebaf9": {
          "model_module": "@jupyter-widgets/controls",
          "model_name": "DescriptionStyleModel",
          "model_module_version": "1.5.0",
          "state": {
            "_model_module": "@jupyter-widgets/controls",
            "_model_module_version": "1.5.0",
            "_model_name": "DescriptionStyleModel",
            "_view_count": null,
            "_view_module": "@jupyter-widgets/base",
            "_view_module_version": "1.2.0",
            "_view_name": "StyleView",
            "description_width": ""
          }
        },
        "3319e6060faa442992ad3914383b317f": {
          "model_module": "@jupyter-widgets/controls",
          "model_name": "DropdownModel",
          "model_module_version": "1.5.0",
          "state": {
            "_dom_classes": [],
            "_model_module": "@jupyter-widgets/controls",
            "_model_module_version": "1.5.0",
            "_model_name": "DropdownModel",
            "_options_labels": [
              "2",
              "3"
            ],
            "_view_count": null,
            "_view_module": "@jupyter-widgets/controls",
            "_view_module_version": "1.5.0",
            "_view_name": "DropdownView",
            "description": "arg",
            "description_tooltip": null,
            "disabled": false,
            "index": 1,
            "layout": "IPY_MODEL_b7b92ca5592048ceaa6b5586e935e207",
            "style": "IPY_MODEL_e5cf84d9c8114a39b57e1dbb8e594205"
          }
        },
        "b7b92ca5592048ceaa6b5586e935e207": {
          "model_module": "@jupyter-widgets/base",
          "model_name": "LayoutModel",
          "model_module_version": "1.2.0",
          "state": {
            "_model_module": "@jupyter-widgets/base",
            "_model_module_version": "1.2.0",
            "_model_name": "LayoutModel",
            "_view_count": null,
            "_view_module": "@jupyter-widgets/base",
            "_view_module_version": "1.2.0",
            "_view_name": "LayoutView",
            "align_content": null,
            "align_items": null,
            "align_self": null,
            "border": null,
            "bottom": null,
            "display": null,
            "flex": null,
            "flex_flow": null,
            "grid_area": null,
            "grid_auto_columns": null,
            "grid_auto_flow": null,
            "grid_auto_rows": null,
            "grid_column": null,
            "grid_gap": null,
            "grid_row": null,
            "grid_template_areas": null,
            "grid_template_columns": null,
            "grid_template_rows": null,
            "height": null,
            "justify_content": null,
            "justify_items": null,
            "left": null,
            "margin": null,
            "max_height": null,
            "max_width": null,
            "min_height": null,
            "min_width": null,
            "object_fit": null,
            "object_position": null,
            "order": null,
            "overflow": null,
            "overflow_x": null,
            "overflow_y": null,
            "padding": null,
            "right": null,
            "top": null,
            "visibility": null,
            "width": null
          }
        },
        "e5cf84d9c8114a39b57e1dbb8e594205": {
          "model_module": "@jupyter-widgets/controls",
          "model_name": "DescriptionStyleModel",
          "model_module_version": "1.5.0",
          "state": {
            "_model_module": "@jupyter-widgets/controls",
            "_model_module_version": "1.5.0",
            "_model_name": "DescriptionStyleModel",
            "_view_count": null,
            "_view_module": "@jupyter-widgets/base",
            "_view_module_version": "1.2.0",
            "_view_name": "StyleView",
            "description_width": ""
          }
        },
        "a7f04cdb6908477fa7441ffb9d129fb3": {
          "model_module": "@jupyter-widgets/controls",
          "model_name": "DropdownModel",
          "model_module_version": "1.5.0",
          "state": {
            "_dom_classes": [],
            "_model_module": "@jupyter-widgets/controls",
            "_model_module_version": "1.5.0",
            "_model_name": "DropdownModel",
            "_options_labels": [
              "div",
              "mod"
            ],
            "_view_count": null,
            "_view_module": "@jupyter-widgets/controls",
            "_view_module_version": "1.5.0",
            "_view_name": "DropdownView",
            "description": "op",
            "description_tooltip": null,
            "disabled": false,
            "index": 1,
            "layout": "IPY_MODEL_90a2c97fb0a846629eabb02152256f7d",
            "style": "IPY_MODEL_0514364a8ef740c28db0a1d7ca488371"
          }
        },
        "90a2c97fb0a846629eabb02152256f7d": {
          "model_module": "@jupyter-widgets/base",
          "model_name": "LayoutModel",
          "model_module_version": "1.2.0",
          "state": {
            "_model_module": "@jupyter-widgets/base",
            "_model_module_version": "1.2.0",
            "_model_name": "LayoutModel",
            "_view_count": null,
            "_view_module": "@jupyter-widgets/base",
            "_view_module_version": "1.2.0",
            "_view_name": "LayoutView",
            "align_content": null,
            "align_items": null,
            "align_self": null,
            "border": null,
            "bottom": null,
            "display": null,
            "flex": null,
            "flex_flow": null,
            "grid_area": null,
            "grid_auto_columns": null,
            "grid_auto_flow": null,
            "grid_auto_rows": null,
            "grid_column": null,
            "grid_gap": null,
            "grid_row": null,
            "grid_template_areas": null,
            "grid_template_columns": null,
            "grid_template_rows": null,
            "height": null,
            "justify_content": null,
            "justify_items": null,
            "left": null,
            "margin": null,
            "max_height": null,
            "max_width": null,
            "min_height": null,
            "min_width": null,
            "object_fit": null,
            "object_position": null,
            "order": null,
            "overflow": null,
            "overflow_x": null,
            "overflow_y": null,
            "padding": null,
            "right": null,
            "top": null,
            "visibility": null,
            "width": null
          }
        },
        "0514364a8ef740c28db0a1d7ca488371": {
          "model_module": "@jupyter-widgets/controls",
          "model_name": "DescriptionStyleModel",
          "model_module_version": "1.5.0",
          "state": {
            "_model_module": "@jupyter-widgets/controls",
            "_model_module_version": "1.5.0",
            "_model_name": "DescriptionStyleModel",
            "_view_count": null,
            "_view_module": "@jupyter-widgets/base",
            "_view_module_version": "1.2.0",
            "_view_name": "StyleView",
            "description_width": ""
          }
        }
      }
    }
  },
  "cells": [
    {
      "cell_type": "markdown",
      "metadata": {
        "id": "view-in-github",
        "colab_type": "text"
      },
      "source": [
        "<a href=\"https://colab.research.google.com/github/GURJEW/tasks/blob/main/multi_dropdown_data_heatmap.ipynb\" target=\"_parent\"><img src=\"https://colab.research.google.com/assets/colab-badge.svg\" alt=\"Open In Colab\"/></a>"
      ]
    },
    {
      "cell_type": "markdown",
      "source": [
        "# Выбор отображаемых данных с помощью нескольких выпадающих списков\n",
        "\n"
      ],
      "metadata": {
        "id": "ZbD7Pm5PHp8f"
      }
    },
    {
      "cell_type": "code",
      "source": [
        "import numpy as np\n",
        "import seaborn as sns\n",
        "import matplotlib.pyplot as plt\n",
        "from ipywidgets import widgets\n",
        "from IPython.display import display, clear_output\n",
        "\n",
        "data = {\n",
        "    i: dict(zip(['div', 'mod'], np.divmod(np.arange(6).reshape(2, 3), i)))\n",
        "    for i in (2, 3)\n",
        "}\n",
        "\n",
        "def plot_data(op, arg):\n",
        "    z = data[arg][op]\n",
        "    sns.heatmap(z, annot=True)\n",
        "    plt.show()\n",
        "\n",
        "arg_widget = widgets.Dropdown(options=[2, 3], description='arg')\n",
        "op_widget = widgets.Dropdown(options=['div', 'mod'], description='op')\n",
        "\n",
        "# Обработчик события изменения значения аргументов\n",
        "def on_change(change):\n",
        "    if change['type'] == 'change' and change['name'] == 'value':\n",
        "        clear_output(wait=True)  # Очистка вывода с сохранением предыдущего состояния\n",
        "        display(arg_widget, op_widget)  # Отображение выпадающих списков снова\n",
        "        plot_data(op_widget.value, arg_widget.value)\n",
        "\n",
        "arg_widget.observe(on_change)\n",
        "op_widget.observe(on_change)\n",
        "\n",
        "# Используйте display, чтобы отобразить виджеты\n",
        "display(arg_widget, op_widget)\n",
        "\n",
        "# Инициируйте отображение с начальными значениями виджетов\n",
        "plot_data(op_widget.value, arg_widget.value)"
      ],
      "metadata": {
        "colab": {
          "base_uri": "https://localhost:8080/",
          "height": 497,
          "referenced_widgets": [
            "6d4cbb10fe4b446eafd64c41b4555870",
            "e8f1af3950dd431e9f0e784aef183219",
            "67e9c06437cd4ed78578555bde6c2709",
            "aecf9984eb9c44139c11ae980943d8b2",
            "36a3d5ac35fc425681267d403fc56c47",
            "4dae4e43241f49dc8b30eaced52ebaf9"
          ]
        },
        "id": "jzZ3g0z4HbwL",
        "outputId": "66c6d2da-f699-4d7d-b5e8-bb62d8ae45ab"
      },
      "execution_count": null,
      "outputs": [
        {
          "output_type": "display_data",
          "data": {
            "text/plain": [
              "Dropdown(description='arg', options=(2, 3), value=2)"
            ],
            "application/vnd.jupyter.widget-view+json": {
              "version_major": 2,
              "version_minor": 0,
              "model_id": "6d4cbb10fe4b446eafd64c41b4555870"
            }
          },
          "metadata": {}
        },
        {
          "output_type": "display_data",
          "data": {
            "text/plain": [
              "Dropdown(description='op', index=1, options=('div', 'mod'), value='mod')"
            ],
            "application/vnd.jupyter.widget-view+json": {
              "version_major": 2,
              "version_minor": 0,
              "model_id": "aecf9984eb9c44139c11ae980943d8b2"
            }
          },
          "metadata": {}
        },
        {
          "output_type": "display_data",
          "data": {
            "text/plain": [
              "<Figure size 640x480 with 2 Axes>"
            ],
            "image/png": "[encoded data removed]"
          },
          "metadata": {}
        }
      ]
    },
    {
      "cell_type": "code",
      "source": [
        "import numpy as np  # Импорт библиотеки numpy для работы с массивами\n",
        "import seaborn as sns  # Импорт библиотеки seaborn для создания тепловых карт\n",
        "import matplotlib.pyplot as plt  # Импорт библиотеки matplotlib для отображения графиков\n",
        "import ipywidgets as widgets  # Импорт библиотеки ipywidgets для создания интерактивных виджетов\n",
        "from IPython.display import display, clear_output  # Импорт функций для отображения и очистки вывода\n",
        "\n",
        "class DataPlotter:\n",
        "    \"\"\"\n",
        "    Класс для визуализации данных на основе деления и остатка от деления массива.\n",
        "\n",
        "    Attributes:\n",
        "        data (dict): Словарь, содержащий результаты операций div и mod для заданных аргументов.\n",
        "        arg_widget (widgets.Dropdown): Виджет для выбора аргумента.\n",
        "        op_widget (widgets.Dropdown): Виджет для выбора операции.\n",
        "    \"\"\"\n",
        "    def __init__(self):\n",
        "        \"\"\"\n",
        "        Инициализация объекта DataPlotter.\n",
        "        \"\"\"\n",
        "        self.data = {\n",
        "            i: dict(zip(['div', 'mod'], np.divmod(np.arange(6).reshape(2, 3), i)))\n",
        "            for i in (2, 3)\n",
        "        }  # Создание данных для визуализации\n",
        "\n",
        "        self.arg_widget = widgets.Dropdown(options=[2, 3], description='arg')  # Виджет для выбора аргумента\n",
        "        self.op_widget = widgets.Dropdown(options=['div', 'mod'], description='op')  # Виджет для выбора операции\n",
        "\n",
        "        self.arg_widget.observe(self.on_change, names='value')  # Добавление обработчика изменений для виджета аргумента\n",
        "        self.op_widget.observe(self.on_change, names='value')  # Добавление обработчика изменений для виджета операции\n",
        "\n",
        "    def plot_data(self, op, arg):\n",
        "        \"\"\"\n",
        "        Построение тепловой карты для выбранной операции и аргумента.\n",
        "\n",
        "        Parameters:\n",
        "            op (str): Операция ('div' или 'mod').\n",
        "            arg (int): Аргумент (2 или 3).\n",
        "        \"\"\"\n",
        "        z = self.data[arg][op]  # Получение данных для выбранной операции и аргумента\n",
        "        sns.heatmap(z, annot=True)  # Построение тепловой карты с аннотациями\n",
        "        plt.show()  # Отображение графика\n",
        "\n",
        "    def on_change(self, change):\n",
        "        \"\"\"\n",
        "        Обработчик события изменения значения аргументов.\n",
        "\n",
        "        Parameters:\n",
        "            change (dict): Словарь с информацией о событии изменения.\n",
        "        \"\"\"\n",
        "        if change['type'] == 'change' and change['name'] == 'value':\n",
        "            clear_output(wait=True)  # Очистка вывода с сохранением предыдущего состояния\n",
        "            display(self.arg_widget, self.op_widget)  # Отображение виджетов снова\n",
        "            self.plot_data(self.op_widget.value, self.arg_widget.value)  # Построение графика с новыми значениями\n",
        "\n",
        "    def display_widgets(self):\n",
        "        \"\"\"\n",
        "        Отображение виджетов и начальное построение графика.\n",
        "        \"\"\"\n",
        "        display(self.arg_widget, self.op_widget)  # Отображение виджетов\n",
        "        self.plot_data(self.op_widget.value, self.arg_widget.value)  # Построение графика с начальными значениями виджетов\n",
        "\n",
        "\n",
        "# Создание экземпляра класса DataPlotter и отображение виджетов\n",
        "plotter = DataPlotter()\n",
        "plotter.display_widgets()"
      ],
      "metadata": {
        "colab": {
          "base_uri": "https://localhost:8080/",
          "height": 497,
          "referenced_widgets": [
            "3319e6060faa442992ad3914383b317f",
            "b7b92ca5592048ceaa6b5586e935e207",
            "e5cf84d9c8114a39b57e1dbb8e594205",
            "a7f04cdb6908477fa7441ffb9d129fb3",
            "90a2c97fb0a846629eabb02152256f7d",
            "0514364a8ef740c28db0a1d7ca488371"
          ]
        },
        "id": "OWwrItTtEhyI",
        "outputId": "eea6975b-6b77-452b-8fd0-a3c34c76993c"
      },
      "execution_count": 1,
      "outputs": [
        {
          "output_type": "display_data",
          "data": {
            "text/plain": [
              "Dropdown(description='arg', index=1, options=(2, 3), value=3)"
            ],
            "application/vnd.jupyter.widget-view+json": {
              "version_major": 2,
              "version_minor": 0,
              "model_id": "3319e6060faa442992ad3914383b317f"
            }
          },
          "metadata": {}
        },
        {
          "output_type": "display_data",
          "data": {
            "text/plain": [
              "Dropdown(description='op', index=1, options=('div', 'mod'), value='mod')"
            ],
            "application/vnd.jupyter.widget-view+json": {
              "version_major": 2,
              "version_minor": 0,
              "model_id": "a7f04cdb6908477fa7441ffb9d129fb3"
            }
          },
          "metadata": {}
        },
        {
          "output_type": "display_data",
          "data": {
            "text/plain": [
              "<Figure size 640x480 with 2 Axes>"
            ],
            "image/png": "[encoded data removed]"
          },
          "metadata": {}
        }
      ]
    }
  ]
}