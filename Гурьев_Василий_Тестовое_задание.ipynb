{
  "nbformat": 4,
  "nbformat_minor": 0,
  "metadata": {
    "colab": {
      "name": "Гурьев Василий - Тестовое задание.ipynb",
      "provenance": [],
      "collapsed_sections": [],
      "toc_visible": true,
      "authorship_tag": "ABX9TyNw3DDCGeb1LxwbC+TUFgjO",
      "include_colab_link": true
    },
    "kernelspec": {
      "name": "python3",
      "display_name": "Python 3"
    },
    "accelerator": "GPU"
  },
  "cells": [
    {
      "cell_type": "markdown",
      "metadata": {
        "id": "view-in-github",
        "colab_type": "text"
      },
      "source": [
        "<a href=\"https://colab.research.google.com/github/GURJEW/tasks/blob/main/%D0%93%D1%83%D1%80%D1%8C%D0%B5%D0%B2_%D0%92%D0%B0%D1%81%D0%B8%D0%BB%D0%B8%D0%B9_%D0%A2%D0%B5%D1%81%D1%82%D0%BE%D0%B2%D0%BE%D0%B5_%D0%B7%D0%B0%D0%B4%D0%B0%D0%BD%D0%B8%D0%B5.ipynb\" target=\"_parent\"><img src=\"https://colab.research.google.com/assets/colab-badge.svg\" alt=\"Open In Colab\"/></a>"
      ]
    },
    {
      "cell_type": "markdown",
      "metadata": {
        "id": "Hi0TENTt2AUu"
      },
      "source": [
        "#Task 1\n",
        "\n",
        "Имеется база со статистикой баскетбольных матчей (https://drive.google.com/file/d/1TGiwfCMtryCLy0acYgsRtRd-QHLUhlpA/view?usp=sharing). Напишите нейронную сеть, которая будет предсказывать результат матча. Можно выбрать один из вариантов (будем плюсом реализовать оба).\n",
        "\n",
        "\n",
        "\n",
        "1.   нейронка, предсказывающая результат в произвольный момент времени (на вход подается количество мячей, забитых каждой из команд, и время прошедшее с начала матча. На выходе - суммарное количество мячей, забитых обеими командами в конце матча.)\n",
        "2.   нейронка, предсказывающая результат после второго периода (на вход приходят данные за сыгранные два периода. На выходе - суммарное количество мячей, забитых обеими командами в конце матча).\n",
        "\n"
      ]
    },
    {
      "cell_type": "markdown",
      "metadata": {
        "id": "rclL6_y914Da"
      },
      "source": [
        "##Imports"
      ]
    },
    {
      "cell_type": "code",
      "metadata": {
        "id": "nNJ2aQ47vDcN"
      },
      "source": [
        "import pandas as pd\n",
        "import numpy as np\n",
        "from google.colab import drive\n",
        "import os\n",
        "from IPython.display import clear_output\n",
        "import plotly.express as px\n",
        "import plotly.graph_objs as go\n",
        "from plotly.subplots import make_subplots\n",
        "\n",
        "from tensorflow.keras.models import Model\n",
        "from tensorflow.keras.layers import Input, Dense, Dropout\n",
        "from tensorflow.keras.callbacks import EarlyStopping, ReduceLROnPlateau\n",
        "from tensorflow.keras.optimizers import Adam\n",
        "\n",
        "from sklearn.model_selection import train_test_split\n",
        "from sklearn.preprocessing import MinMaxScaler"
      ],
      "execution_count": null,
      "outputs": []
    },
    {
      "cell_type": "code",
      "metadata": {
        "id": "dJsh02qxv7Gl",
        "colab": {
          "base_uri": "https://localhost:8080/",
          "height": 35
        },
        "outputId": "8823a727-af67-4fc3-b94c-269408c76fe1"
      },
      "source": [
        "drive.mount('/content/gdrive')\n",
        "os.chdir('/content/gdrive/My Drive/Colab Notebooks/AIU/TEST')"
      ],
      "execution_count": null,
      "outputs": [
        {
          "output_type": "stream",
          "text": [
            "Drive already mounted at /content/gdrive; to attempt to forcibly remount, call drive.mount(\"/content/gdrive\", force_remount=True).\n"
          ],
          "name": "stdout"
        }
      ]
    },
    {
      "cell_type": "markdown",
      "metadata": {
        "id": "t3j5j9dZ85YE"
      },
      "source": [
        "##Defs"
      ]
    },
    {
      "cell_type": "markdown",
      "metadata": {
        "id": "TLuC_zCHG9_B"
      },
      "source": [
        "###history_plot"
      ]
    },
    {
      "cell_type": "code",
      "metadata": {
        "id": "U1vCcb2vTDkM"
      },
      "source": [
        "def history_plot(history):\n",
        "    epochs = len(history['loss'])\n",
        "    history.pop('lr', None)\n",
        "    fig = make_subplots(rows=1, cols=2)\n",
        "    for score in history.keys():\n",
        "        fig.add_trace(\n",
        "            go.Scatter(\n",
        "                x=[i + 1 for i in range(epochs)],\n",
        "                y=history[score],\n",
        "                name=score\n",
        "                ),\n",
        "                row=1,\n",
        "                col=[1, 2]['mae' in score]\n",
        "            )\n",
        "    fig.update_layout(\n",
        "        legend_orientation='h',\n",
        "        margin={'l': 0, 'r': 40, 't': 40, 'b': 0},\n",
        "        title='History'\n",
        "        )\n",
        "    fig.update_xaxes(title='epochs')\n",
        "    fig.update_yaxes(title='loss (MSE)', row=1, col=1)\n",
        "    fig.update_yaxes(title='MAE', row=1, col=2)\n",
        "    fig.update_traces(hoverinfo='all', hovertemplate=\"epoch: %{x}<br>error: %{y}\")\n",
        "    fig.show()"
      ],
      "execution_count": null,
      "outputs": []
    },
    {
      "cell_type": "markdown",
      "metadata": {
        "id": "2nDL78xkWL5s"
      },
      "source": [
        "###box_plot"
      ]
    },
    {
      "cell_type": "code",
      "metadata": {
        "id": "B3TJfaoLWHpk"
      },
      "source": [
        "def box_plot(data_frame, color, title, x='subset', y='mae',):\n",
        "    fig = px.box(data_frame=data_frame, x=x, y=y, color=color)\n",
        "    fig.update_layout(title=title, margin=dict(l=0, r=200, t=40, b=0))\n",
        "    fig.show()"
      ],
      "execution_count": null,
      "outputs": []
    },
    {
      "cell_type": "markdown",
      "metadata": {
        "id": "Vry9qB8KHIDg"
      },
      "source": [
        "###to_log"
      ]
    },
    {
      "cell_type": "code",
      "metadata": {
        "id": "rH_xeExETRPy"
      },
      "source": [
        "def to_log(path, record, new_log=False):\n",
        "    if new_log:\n",
        "        log = pd.DataFrame(columns=record.keys())\n",
        "    else:    \n",
        "        try:\n",
        "            log = pd.read_csv(path, index_col=0)\n",
        "        except:\n",
        "            log = pd.DataFrame(columns=record.keys())\n",
        "    log.loc[len(log)] = record\n",
        "    log.to_csv(path)"
      ],
      "execution_count": null,
      "outputs": []
    },
    {
      "cell_type": "markdown",
      "metadata": {
        "id": "nwwU08CDXW-C"
      },
      "source": [
        "###scaler"
      ]
    },
    {
      "cell_type": "code",
      "metadata": {
        "id": "hd3dM0RmUDfj"
      },
      "source": [
        "def scaler(x, y):\n",
        "    x = MinMaxScaler().fit_transform(x)\n",
        "    y = np.array(y).reshape(-1, 1)\n",
        "    y_scaler = MinMaxScaler()\n",
        "    y_scaler.fit(y)\n",
        "    return x, y_scaler.transform(y), y_scaler"
      ],
      "execution_count": null,
      "outputs": []
    },
    {
      "cell_type": "markdown",
      "metadata": {
        "id": "MMUqTBM3XfO_"
      },
      "source": [
        "###research"
      ]
    },
    {
      "cell_type": "code",
      "metadata": {
        "id": "ljcVv-WbXdse"
      },
      "source": [
        "def research(\n",
        "    data,\n",
        "    mode,\n",
        "    n_trial=10,\n",
        "    outlier_threshold=0,\n",
        "    hidden_dim=20,\n",
        "    depth=1,\n",
        "    activation='relu',\n",
        "    learning_rate=0.001,\n",
        "    batch_size=128\n",
        "    ):\n",
        "\n",
        "    for n in range(n_trial):\n",
        "        if mode == 'time': # данные по времени, как есть\n",
        "            x, y, y_scaler = scaler(\n",
        "                data[['team_1', 'team_2', 'time']],\n",
        "                data.final_count\n",
        "                )\n",
        "            x_train, x_test, y_train, y_test = train_test_split(x, y, test_size=0.2)\n",
        "        elif mode == 'sum': # так как очки команд сильно коррелируются друг с другом, попробуем сократить размерность\n",
        "            x, y, y_scaler = scaler(\n",
        "                data[['current_count', 'time']],\n",
        "                data.final_count\n",
        "            )\n",
        "            x_train, x_test, y_train, y_test = train_test_split(x, y, test_size=0.2)\n",
        "        elif mode == 'time_2': # сделаем аугментацуию поменяв местами команды\n",
        "            x, y, y_scaler = scaler(\n",
        "                np.vstack(\n",
        "                [data[['team_1', 'team_2', 'time']].to_numpy(), data[['team_2', 'team_1', 'time']].to_numpy()]\n",
        "                ),\n",
        "                np.array(data.final_count.to_list() * 2)\n",
        "            )\n",
        "            x_train, x_test, y_train, y_test = train_test_split(x, y, test_size=0.2)\n",
        "        elif mode == 'quarter_1': # предсказания по результатам первой четверти\n",
        "            x, y, y_scaler = scaler(data[1], data.final_count)\n",
        "            x_train, x_test, y_train, y_test = train_test_split(x, y, test_size=0.2)\n",
        "        elif mode == 'quarter_2': # предсказания по результатам второй четверти\n",
        "            x, y, y_scaler = scaler(data[2], data.final_count)\n",
        "            x_train, x_test, y_train, y_test = train_test_split(x, y, test_size=0.2)\n",
        "        elif mode == 'quarter_3': # предсказания по результатам третьей четверти\n",
        "            x, y, y_scaler = scaler(data[3], data.final_count)\n",
        "            x_train, x_test, y_train, y_test = train_test_split(x, y, test_size=0.2)\n",
        "        elif mode == 'quarter_12': # предсказания по результатам первой и второй четверти\n",
        "            x, y, y_scaler = scaler(data[[1, 2]], data.final_count)\n",
        "            x_train, x_test, y_train, y_test = train_test_split(x, y, test_size=0.2)\n",
        "        elif mode == 'quarter_23': # предсказания по результатам второй и третьей четверти\n",
        "            x, y, y_scaler = scaler(data[[2, 3]], data.final_count)\n",
        "            x_train, x_test, y_train, y_test = train_test_split(x, y, test_size=0.2)\n",
        "        elif mode == 'quarter_123': # предсказания по результатам первой, второй и третьей четверти\n",
        "            x, y, y_scaler = scaler(data[[1, 2, 3]], data.final_count)\n",
        "            x_train, x_test, y_train, y_test = train_test_split(x, y, test_size=0.2)\n",
        "\n",
        "        #удаляем выбросы\n",
        "        x_train = x_train[y_scaler.inverse_transform(y_train).flatten() > outlier_threshold]\n",
        "        y_train = y_train[y_scaler.inverse_transform(y_train).flatten() > outlier_threshold]\n",
        "\n",
        "        inputs = Input(x_train.shape[-1])\n",
        "        hiddens = inputs\n",
        "        for _ in range(depth):\n",
        "            hiddens = Dense(hidden_dim, activation)(hiddens)\n",
        "        outputs = Dense(1, 'linear')(hiddens)\n",
        "\n",
        "        model = Model(inputs, outputs)\n",
        "\n",
        "        model.compile(\n",
        "            optimizer=Adam(learning_rate),\n",
        "            loss='mse',\n",
        "            metrics=['mae']\n",
        "        )\n",
        "\n",
        "        reduce_lr = ReduceLROnPlateau(monitor='val_loss', factor=0.1, patience=5, verbose=1)\n",
        "        early_stopping = EarlyStopping(restore_best_weights=True, patience=7)\n",
        "        history = model.fit(\n",
        "            x=x_train,\n",
        "            y=y_train,\n",
        "            batch_size=batch_size,\n",
        "            epochs=2000,\n",
        "            validation_split=0.2,\n",
        "            callbacks=[reduce_lr, early_stopping]\n",
        "        )\n",
        "        clear_output()\n",
        "        history_plot(history.history)\n",
        "        \n",
        "        train_loss, train_mae = model.evaluate(x_train, y_train, verbose=0)\n",
        "        test_loss, test_mae = model.evaluate(x_test, y_test, verbose=0)\n",
        "        \n",
        "        print(f'\\nСредняя ошибка на тестовой выборке: {round(y_scaler.inverse_transform([[test_mae]])[0][0], 2)} очков.')\n",
        "        \n",
        "        for subset in ['train', 'test']:\n",
        "            record = {\n",
        "                'subset': subset,\n",
        "                'mode': mode,\n",
        "                'outlier_threshold': outlier_threshold,\n",
        "                'hidden_dim': hidden_dim,\n",
        "                'depth': depth,\n",
        "                'activation': activation,\n",
        "                'batch_size': batch_size,\n",
        "                'loss': eval(f'round({subset}_loss, 4)'),\n",
        "                'mae': eval(f'round(y_scaler.inverse_transform([[{subset}_mae]])[0][0], 2)')\n",
        "            }\n",
        "            to_log('log.csv', record)"
      ],
      "execution_count": null,
      "outputs": []
    },
    {
      "cell_type": "markdown",
      "metadata": {
        "id": "nYfvNIA8RvSD"
      },
      "source": [
        "##EDA\n",
        "\n",
        "Предварительный анализ данных"
      ]
    },
    {
      "cell_type": "markdown",
      "metadata": {
        "id": "-4DJAfYXuV7y"
      },
      "source": [
        "###Подготовка данных для предсказания по времени"
      ]
    },
    {
      "cell_type": "code",
      "metadata": {
        "id": "CMactdkSwGu6",
        "colab": {
          "base_uri": "https://localhost:8080/",
          "height": 202
        },
        "outputId": "afff5dbe-f820-4ef4-9ff5-c443de7dc881"
      },
      "source": [
        "time_data = pd.read_csv(\n",
        "    'basketball.csv',\n",
        "    encoding='cp1251',\n",
        "    sep=';',\n",
        "    index_col=0,\n",
        "    usecols=[0, 2, 3, 4, 8, 9] # выбираем нужные признаки\n",
        "    )\n",
        "time_data.columns = ['game', 'team_1', 'team_2', 'final_count', 'time'] # делаем удобные имена\n",
        "time_data['current_count'] = time_data.team_1 + time_data.team_2 # добавляем поле текущих очков\n",
        "time_data['quarter'] = time_data.time.apply(lambda x: x // 600 + 1) # определяем четверть\n",
        "time_data.head()"
      ],
      "execution_count": null,
      "outputs": [
        {
          "output_type": "execute_result",
          "data": {
            "text/html": [
              "<div>\n",
              "<style scoped>\n",
              "    .dataframe tbody tr th:only-of-type {\n",
              "        vertical-align: middle;\n",
              "    }\n",
              "\n",
              "    .dataframe tbody tr th {\n",
              "        vertical-align: top;\n",
              "    }\n",
              "\n",
              "    .dataframe thead th {\n",
              "        text-align: right;\n",
              "    }\n",
              "</style>\n",
              "<table border=\"1\" class=\"dataframe\">\n",
              "  <thead>\n",
              "    <tr style=\"text-align: right;\">\n",
              "      <th></th>\n",
              "      <th>game</th>\n",
              "      <th>team_1</th>\n",
              "      <th>team_2</th>\n",
              "      <th>final_count</th>\n",
              "      <th>time</th>\n",
              "      <th>current_count</th>\n",
              "      <th>quarter</th>\n",
              "    </tr>\n",
              "  </thead>\n",
              "  <tbody>\n",
              "    <tr>\n",
              "      <th>0</th>\n",
              "      <td>4081445 Новая Зеландия. Женщины. WBC. Регулярн...</td>\n",
              "      <td>2</td>\n",
              "      <td>0.0</td>\n",
              "      <td>81</td>\n",
              "      <td>90.0</td>\n",
              "      <td>2.0</td>\n",
              "      <td>1.0</td>\n",
              "    </tr>\n",
              "    <tr>\n",
              "      <th>1</th>\n",
              "      <td>4081445 Новая Зеландия. Женщины. WBC. Регулярн...</td>\n",
              "      <td>2</td>\n",
              "      <td>2.0</td>\n",
              "      <td>81</td>\n",
              "      <td>105.0</td>\n",
              "      <td>4.0</td>\n",
              "      <td>1.0</td>\n",
              "    </tr>\n",
              "    <tr>\n",
              "      <th>2</th>\n",
              "      <td>4081445 Новая Зеландия. Женщины. WBC. Регулярн...</td>\n",
              "      <td>2</td>\n",
              "      <td>2.0</td>\n",
              "      <td>81</td>\n",
              "      <td>120.0</td>\n",
              "      <td>4.0</td>\n",
              "      <td>1.0</td>\n",
              "    </tr>\n",
              "    <tr>\n",
              "      <th>3</th>\n",
              "      <td>4081445 Новая Зеландия. Женщины. WBC. Регулярн...</td>\n",
              "      <td>2</td>\n",
              "      <td>2.0</td>\n",
              "      <td>81</td>\n",
              "      <td>150.0</td>\n",
              "      <td>4.0</td>\n",
              "      <td>1.0</td>\n",
              "    </tr>\n",
              "    <tr>\n",
              "      <th>4</th>\n",
              "      <td>4081445 Новая Зеландия. Женщины. WBC. Регулярн...</td>\n",
              "      <td>2</td>\n",
              "      <td>2.0</td>\n",
              "      <td>81</td>\n",
              "      <td>180.0</td>\n",
              "      <td>4.0</td>\n",
              "      <td>1.0</td>\n",
              "    </tr>\n",
              "  </tbody>\n",
              "</table>\n",
              "</div>"
            ],
            "text/plain": [
              "                                                game  ...  quarter\n",
              "0  4081445 Новая Зеландия. Женщины. WBC. Регулярн...  ...      1.0\n",
              "1  4081445 Новая Зеландия. Женщины. WBC. Регулярн...  ...      1.0\n",
              "2  4081445 Новая Зеландия. Женщины. WBC. Регулярн...  ...      1.0\n",
              "3  4081445 Новая Зеландия. Женщины. WBC. Регулярн...  ...      1.0\n",
              "4  4081445 Новая Зеландия. Женщины. WBC. Регулярн...  ...      1.0\n",
              "\n",
              "[5 rows x 7 columns]"
            ]
          },
          "metadata": {
            "tags": []
          },
          "execution_count": 7
        }
      ]
    },
    {
      "cell_type": "code",
      "metadata": {
        "id": "jqKk5657Sh0h",
        "colab": {
          "base_uri": "https://localhost:8080/",
          "height": 165
        },
        "outputId": "11503f29-5e17-477f-f371-3ac4ad253910"
      },
      "source": [
        "(time_data.groupby('game').agg({'time': 'max'}) / 600).round().time.value_counts() # посмотрим на количество четвертей"
      ],
      "execution_count": null,
      "outputs": [
        {
          "output_type": "execute_result",
          "data": {
            "text/plain": [
              "4.0    414\n",
              "1.0      7\n",
              "5.0      7\n",
              "2.0      3\n",
              "3.0      2\n",
              "0.0      1\n",
              "6.0      1\n",
              "Name: time, dtype: int64"
            ]
          },
          "metadata": {
            "tags": []
          },
          "execution_count": 8
        }
      ]
    },
    {
      "cell_type": "markdown",
      "metadata": {
        "id": "MHerBZ8ZawF8"
      },
      "source": [
        "Если 5 и 6 четвертей можно объяснить дополнительным временем, то меньшее количество вызывает вопросы."
      ]
    },
    {
      "cell_type": "code",
      "metadata": {
        "id": "8ELIPLSlt0-U",
        "colab": {
          "base_uri": "https://localhost:8080/",
          "height": 220
        },
        "outputId": "a566c5ab-31c8-4bf3-abf6-79fec565956e"
      },
      "source": [
        "time_data.game.value_counts().tail(10) # посмотрим количество записей каждой игры"
      ],
      "execution_count": null,
      "outputs": [
        {
          "output_type": "execute_result",
          "data": {
            "text/plain": [
              "4169331 Литва. Мужчины. LKL. Плей-офф. 1/4 финала(Жальгирис - Пено Жвайгждес)\\n                                 27\n",
              "4085297 Россия. Женщины. Суперлига. 2-й дивизион. Плей-офф. 1/2 финала. Оренбург(Надежда-2 - Энергия-2)\\n       21\n",
              "4146967 Литва. Мужчины. NKL. Плей-офф. Матч за 3-е место(Петрохема - Паланга)\\n                                 20\n",
              "4085327 Нордеа Юхислиига. Женщины. Плей-офф. 1/8 финала. Ответные матчи(ТТТ Рига-мол - Латвияс Университи)\\n    17\n",
              "4184627 Португалия. Мужчины. Про-лига. Плей-офф. 1/2 финала(Атлетико-Экспрессо - Тершейра)\\n                     5\n",
              "4146967 Литва. Мужчины. NKL. Плей-офф. Матч за 3-е место. Паланга(Петрохема - Паланга)\\n                         5\n",
              "4148645 Венесуэла. Мужчины. LPB. Плей-офф. 1/4 финала(Маринос - Гигантес)\\n                                      3\n",
              "4170266 Чехия. Мужчины. NBL. Плей-офф. 1/2 финала(Простеев - Дечин)\\n                                            3\n",
              "4163325 Канада. Мужчины. NBL(Оринджевилл Эйс - Лондон Лайтнинг)\\n                                                1\n",
              "4159500 Пуэрто-Рико. Мужчины. BSN(Сантерос де Агвада - Сантурсе)\\n                                               1\n",
              "Name: game, dtype: int64"
            ]
          },
          "metadata": {
            "tags": []
          },
          "execution_count": 9
        }
      ]
    },
    {
      "cell_type": "markdown",
      "metadata": {
        "id": "wuCm5vjtbQsa"
      },
      "source": [
        "Настораживает малое количесьво записей. Вероятно там будут выбросы."
      ]
    },
    {
      "cell_type": "code",
      "metadata": {
        "id": "jCkbJtATJL2v"
      },
      "source": [
        "outliers = list(time_data.game.value_counts().index[-6:]) # берём 6 нижних строчек"
      ],
      "execution_count": null,
      "outputs": []
    },
    {
      "cell_type": "code",
      "metadata": {
        "id": "EPJu22oOIcTY",
        "colab": {
          "base_uri": "https://localhost:8080/",
          "height": 602
        },
        "outputId": "48593bda-c7c6-4d06-86b4-9ed588a22279"
      },
      "source": [
        "time_data.query('game == @outliers') # и смотрим содержание игр"
      ],
      "execution_count": null,
      "outputs": [
        {
          "output_type": "execute_result",
          "data": {
            "text/html": [
              "<div>\n",
              "<style scoped>\n",
              "    .dataframe tbody tr th:only-of-type {\n",
              "        vertical-align: middle;\n",
              "    }\n",
              "\n",
              "    .dataframe tbody tr th {\n",
              "        vertical-align: top;\n",
              "    }\n",
              "\n",
              "    .dataframe thead th {\n",
              "        text-align: right;\n",
              "    }\n",
              "</style>\n",
              "<table border=\"1\" class=\"dataframe\">\n",
              "  <thead>\n",
              "    <tr style=\"text-align: right;\">\n",
              "      <th></th>\n",
              "      <th>game</th>\n",
              "      <th>team_1</th>\n",
              "      <th>team_2</th>\n",
              "      <th>final_count</th>\n",
              "      <th>time</th>\n",
              "      <th>current_count</th>\n",
              "      <th>quarter</th>\n",
              "    </tr>\n",
              "  </thead>\n",
              "  <tbody>\n",
              "    <tr>\n",
              "      <th>5607</th>\n",
              "      <td>4170266 Чехия. Мужчины. NBL. Плей-офф. 1/2 фин...</td>\n",
              "      <td>73</td>\n",
              "      <td>64.0</td>\n",
              "      <td>138</td>\n",
              "      <td>2385.0</td>\n",
              "      <td>137.0</td>\n",
              "      <td>4.0</td>\n",
              "    </tr>\n",
              "    <tr>\n",
              "      <th>5608</th>\n",
              "      <td>4170266 Чехия. Мужчины. NBL. Плей-офф. 1/2 фин...</td>\n",
              "      <td>74</td>\n",
              "      <td>64.0</td>\n",
              "      <td>138</td>\n",
              "      <td>2390.0</td>\n",
              "      <td>138.0</td>\n",
              "      <td>4.0</td>\n",
              "    </tr>\n",
              "    <tr>\n",
              "      <th>5609</th>\n",
              "      <td>4170266 Чехия. Мужчины. NBL. Плей-офф. 1/2 фин...</td>\n",
              "      <td>74</td>\n",
              "      <td>64.0</td>\n",
              "      <td>138</td>\n",
              "      <td>2400.0</td>\n",
              "      <td>138.0</td>\n",
              "      <td>5.0</td>\n",
              "    </tr>\n",
              "    <tr>\n",
              "      <th>21490</th>\n",
              "      <td>4184627 Португалия. Мужчины. Про-лига. Плей-оф...</td>\n",
              "      <td>60</td>\n",
              "      <td>52.0</td>\n",
              "      <td>118</td>\n",
              "      <td>2370.0</td>\n",
              "      <td>112.0</td>\n",
              "      <td>4.0</td>\n",
              "    </tr>\n",
              "    <tr>\n",
              "      <th>21491</th>\n",
              "      <td>4184627 Португалия. Мужчины. Про-лига. Плей-оф...</td>\n",
              "      <td>62</td>\n",
              "      <td>52.0</td>\n",
              "      <td>118</td>\n",
              "      <td>2385.0</td>\n",
              "      <td>114.0</td>\n",
              "      <td>4.0</td>\n",
              "    </tr>\n",
              "    <tr>\n",
              "      <th>21492</th>\n",
              "      <td>4184627 Португалия. Мужчины. Про-лига. Плей-оф...</td>\n",
              "      <td>62</td>\n",
              "      <td>52.0</td>\n",
              "      <td>118</td>\n",
              "      <td>2390.0</td>\n",
              "      <td>114.0</td>\n",
              "      <td>4.0</td>\n",
              "    </tr>\n",
              "    <tr>\n",
              "      <th>21493</th>\n",
              "      <td>4184627 Португалия. Мужчины. Про-лига. Плей-оф...</td>\n",
              "      <td>65</td>\n",
              "      <td>52.0</td>\n",
              "      <td>118</td>\n",
              "      <td>2390.0</td>\n",
              "      <td>117.0</td>\n",
              "      <td>4.0</td>\n",
              "    </tr>\n",
              "    <tr>\n",
              "      <th>21494</th>\n",
              "      <td>4184627 Португалия. Мужчины. Про-лига. Плей-оф...</td>\n",
              "      <td>65</td>\n",
              "      <td>53.0</td>\n",
              "      <td>118</td>\n",
              "      <td>2390.0</td>\n",
              "      <td>118.0</td>\n",
              "      <td>4.0</td>\n",
              "    </tr>\n",
              "    <tr>\n",
              "      <th>55522</th>\n",
              "      <td>4146967 Литва. Мужчины. NKL. Плей-офф. Матч за...</td>\n",
              "      <td>15</td>\n",
              "      <td>12.0</td>\n",
              "      <td>44</td>\n",
              "      <td>435.0</td>\n",
              "      <td>27.0</td>\n",
              "      <td>1.0</td>\n",
              "    </tr>\n",
              "    <tr>\n",
              "      <th>55523</th>\n",
              "      <td>4146967 Литва. Мужчины. NKL. Плей-офф. Матч за...</td>\n",
              "      <td>15</td>\n",
              "      <td>18.0</td>\n",
              "      <td>44</td>\n",
              "      <td>480.0</td>\n",
              "      <td>33.0</td>\n",
              "      <td>1.0</td>\n",
              "    </tr>\n",
              "    <tr>\n",
              "      <th>55524</th>\n",
              "      <td>4146967 Литва. Мужчины. NKL. Плей-офф. Матч за...</td>\n",
              "      <td>20</td>\n",
              "      <td>21.0</td>\n",
              "      <td>44</td>\n",
              "      <td>585.0</td>\n",
              "      <td>41.0</td>\n",
              "      <td>1.0</td>\n",
              "    </tr>\n",
              "    <tr>\n",
              "      <th>55527</th>\n",
              "      <td>4146967 Литва. Мужчины. NKL. Плей-офф. Матч за...</td>\n",
              "      <td>20</td>\n",
              "      <td>24.0</td>\n",
              "      <td>44</td>\n",
              "      <td>675.0</td>\n",
              "      <td>44.0</td>\n",
              "      <td>2.0</td>\n",
              "    </tr>\n",
              "    <tr>\n",
              "      <th>55528</th>\n",
              "      <td>4146967 Литва. Мужчины. NKL. Плей-офф. Матч за...</td>\n",
              "      <td>20</td>\n",
              "      <td>24.0</td>\n",
              "      <td>44</td>\n",
              "      <td>690.0</td>\n",
              "      <td>44.0</td>\n",
              "      <td>2.0</td>\n",
              "    </tr>\n",
              "    <tr>\n",
              "      <th>58516</th>\n",
              "      <td>4148645 Венесуэла. Мужчины. LPB. Плей-офф. 1/4...</td>\n",
              "      <td>5</td>\n",
              "      <td>1.0</td>\n",
              "      <td>6</td>\n",
              "      <td>390.0</td>\n",
              "      <td>6.0</td>\n",
              "      <td>1.0</td>\n",
              "    </tr>\n",
              "    <tr>\n",
              "      <th>58517</th>\n",
              "      <td>4148645 Венесуэла. Мужчины. LPB. Плей-офф. 1/4...</td>\n",
              "      <td>5</td>\n",
              "      <td>1.0</td>\n",
              "      <td>6</td>\n",
              "      <td>390.0</td>\n",
              "      <td>6.0</td>\n",
              "      <td>1.0</td>\n",
              "    </tr>\n",
              "    <tr>\n",
              "      <th>58518</th>\n",
              "      <td>4148645 Венесуэла. Мужчины. LPB. Плей-офф. 1/4...</td>\n",
              "      <td>5</td>\n",
              "      <td>1.0</td>\n",
              "      <td>6</td>\n",
              "      <td>390.0</td>\n",
              "      <td>6.0</td>\n",
              "      <td>1.0</td>\n",
              "    </tr>\n",
              "    <tr>\n",
              "      <th>64132</th>\n",
              "      <td>4159500 Пуэрто-Рико. Мужчины. BSN(Сантерос де ...</td>\n",
              "      <td>2</td>\n",
              "      <td>0.0</td>\n",
              "      <td>2</td>\n",
              "      <td>30.0</td>\n",
              "      <td>2.0</td>\n",
              "      <td>1.0</td>\n",
              "    </tr>\n",
              "    <tr>\n",
              "      <th>64427</th>\n",
              "      <td>4163325 Канада. Мужчины. NBL(Оринджевилл Эйс -...</td>\n",
              "      <td>113</td>\n",
              "      <td>122.0</td>\n",
              "      <td>235</td>\n",
              "      <td>2520.0</td>\n",
              "      <td>235.0</td>\n",
              "      <td>5.0</td>\n",
              "    </tr>\n",
              "  </tbody>\n",
              "</table>\n",
              "</div>"
            ],
            "text/plain": [
              "                                                    game  ...  quarter\n",
              "5607   4170266 Чехия. Мужчины. NBL. Плей-офф. 1/2 фин...  ...      4.0\n",
              "5608   4170266 Чехия. Мужчины. NBL. Плей-офф. 1/2 фин...  ...      4.0\n",
              "5609   4170266 Чехия. Мужчины. NBL. Плей-офф. 1/2 фин...  ...      5.0\n",
              "21490  4184627 Португалия. Мужчины. Про-лига. Плей-оф...  ...      4.0\n",
              "21491  4184627 Португалия. Мужчины. Про-лига. Плей-оф...  ...      4.0\n",
              "21492  4184627 Португалия. Мужчины. Про-лига. Плей-оф...  ...      4.0\n",
              "21493  4184627 Португалия. Мужчины. Про-лига. Плей-оф...  ...      4.0\n",
              "21494  4184627 Португалия. Мужчины. Про-лига. Плей-оф...  ...      4.0\n",
              "55522  4146967 Литва. Мужчины. NKL. Плей-офф. Матч за...  ...      1.0\n",
              "55523  4146967 Литва. Мужчины. NKL. Плей-офф. Матч за...  ...      1.0\n",
              "55524  4146967 Литва. Мужчины. NKL. Плей-офф. Матч за...  ...      1.0\n",
              "55527  4146967 Литва. Мужчины. NKL. Плей-офф. Матч за...  ...      2.0\n",
              "55528  4146967 Литва. Мужчины. NKL. Плей-офф. Матч за...  ...      2.0\n",
              "58516  4148645 Венесуэла. Мужчины. LPB. Плей-офф. 1/4...  ...      1.0\n",
              "58517  4148645 Венесуэла. Мужчины. LPB. Плей-офф. 1/4...  ...      1.0\n",
              "58518  4148645 Венесуэла. Мужчины. LPB. Плей-офф. 1/4...  ...      1.0\n",
              "64132  4159500 Пуэрто-Рико. Мужчины. BSN(Сантерос де ...  ...      1.0\n",
              "64427  4163325 Канада. Мужчины. NBL(Оринджевилл Эйс -...  ...      5.0\n",
              "\n",
              "[18 rows x 7 columns]"
            ]
          },
          "metadata": {
            "tags": []
          },
          "execution_count": 11
        }
      ]
    },
    {
      "cell_type": "markdown",
      "metadata": {
        "id": "I2mFIRk5brYv"
      },
      "source": [
        "Некоторые данные вполне релевантны, несмотря на неполное представление игры. А те, где итоговая сумма очков слишком мала, определённо являются выбросами."
      ]
    },
    {
      "cell_type": "code",
      "metadata": {
        "id": "YeP5lLxaKi-c",
        "colab": {
          "base_uri": "https://localhost:8080/",
          "height": 220
        },
        "outputId": "58c0aa52-8b4d-4516-8b91-7383817f273c"
      },
      "source": [
        "time_data.final_count.value_counts().sort_index()[:10] # посмотрим на минимальное финальное количество очков"
      ],
      "execution_count": null,
      "outputs": [
        {
          "output_type": "execute_result",
          "data": {
            "text/plain": [
              "2      1\n",
              "6      3\n",
              "17    17\n",
              "24    20\n",
              "29    32\n",
              "44     5\n",
              "56    83\n",
              "62    46\n",
              "65    54\n",
              "74    56\n",
              "Name: final_count, dtype: int64"
            ]
          },
          "metadata": {
            "tags": []
          },
          "execution_count": 12
        }
      ]
    },
    {
      "cell_type": "markdown",
      "metadata": {
        "id": "VdqvFvFzscBY"
      },
      "source": [
        "Меньше 40-50 можно считать выбросами."
      ]
    },
    {
      "cell_type": "code",
      "metadata": {
        "id": "CQ2BsdGgvXjt",
        "colab": {
          "base_uri": "https://localhost:8080/",
          "height": 35
        },
        "outputId": "23af922d-44ea-4064-e6d7-df3ce2660864"
      },
      "source": [
        "time_data.game.nunique() # "
      ],
      "execution_count": null,
      "outputs": [
        {
          "output_type": "execute_result",
          "data": {
            "text/plain": [
              "435"
            ]
          },
          "metadata": {
            "tags": []
          },
          "execution_count": 13
        }
      ]
    },
    {
      "cell_type": "code",
      "metadata": {
        "id": "ABpr_eUzvjYM",
        "colab": {
          "base_uri": "https://localhost:8080/",
          "height": 35
        },
        "outputId": "56cae6f6-0995-4de7-e863-ebcf8a3bd8f8"
      },
      "source": [
        "time_data.game.apply(lambda x: x.split()[0]).nunique() # "
      ],
      "execution_count": null,
      "outputs": [
        {
          "output_type": "execute_result",
          "data": {
            "text/plain": [
              "434"
            ]
          },
          "metadata": {
            "tags": []
          },
          "execution_count": 14
        }
      ]
    },
    {
      "cell_type": "markdown",
      "metadata": {
        "id": "SUyWHz79ss61"
      },
      "source": [
        "В данных ошибка: есть повторение номера игры."
      ]
    },
    {
      "cell_type": "code",
      "metadata": {
        "id": "qonZmW5W6Bf2",
        "colab": {
          "base_uri": "https://localhost:8080/",
          "height": 35
        },
        "outputId": "15c08954-4a32-444e-dcb8-217cd707604e"
      },
      "source": [
        "time_data.game.apply(lambda x: ' '.join(x.split()[1:])).nunique() # "
      ],
      "execution_count": null,
      "outputs": [
        {
          "output_type": "execute_result",
          "data": {
            "text/plain": [
              "423"
            ]
          },
          "metadata": {
            "tags": []
          },
          "execution_count": 15
        }
      ]
    },
    {
      "cell_type": "markdown",
      "metadata": {
        "id": "a-A7gNILs1Vw"
      },
      "source": [
        "Есть и повторения описаний при разных номерах."
      ]
    },
    {
      "cell_type": "code",
      "metadata": {
        "id": "BC8Pzu2HxjBr"
      },
      "source": [
        "time_data['number'] = time_data.game.apply(lambda x: x.split()[0]) # создаём поле с номером игры"
      ],
      "execution_count": null,
      "outputs": []
    },
    {
      "cell_type": "code",
      "metadata": {
        "id": "HIMauCNQwN4Q",
        "colab": {
          "base_uri": "https://localhost:8080/",
          "height": 72
        },
        "outputId": "0fe3da28-f2bc-4228-d9a7-ecd4ab8e142b"
      },
      "source": [
        "time_data.game.loc[time_data.number == pd.Series(time_data.game.unique()) \\ # находим дубль\n",
        "              .apply(lambda x: x.split()[0]).value_counts().index[0]].unique()"
      ],
      "execution_count": null,
      "outputs": [
        {
          "output_type": "execute_result",
          "data": {
            "text/plain": [
              "array(['4146967 Литва. Мужчины. NKL. Плей-офф. Матч за 3-е место(Петрохема - Паланга)\\n',\n",
              "       '4146967 Литва. Мужчины. NKL. Плей-офф. Матч за 3-е место. Паланга(Петрохема - Паланга)\\n'],\n",
              "      dtype=object)"
            ]
          },
          "metadata": {
            "tags": []
          },
          "execution_count": 17
        }
      ]
    },
    {
      "cell_type": "markdown",
      "metadata": {
        "id": "DRm6LQJjtHtG"
      },
      "source": [
        "Действительно эти данные стоит объединить."
      ]
    },
    {
      "cell_type": "code",
      "metadata": {
        "id": "z1SUeegs6d2R"
      },
      "source": [
        "time_data['description'] = time_data.game.apply(lambda x: ' '.join(x.split()[1:])) # создаём поле описания игры"
      ],
      "execution_count": null,
      "outputs": []
    },
    {
      "cell_type": "code",
      "metadata": {
        "id": "xHUwQ9L4622R",
        "colab": {
          "base_uri": "https://localhost:8080/",
          "height": 72
        },
        "outputId": "45a07f15-7d1b-45ec-eeb8-adcfaeca62df"
      },
      "source": [
        "time_data.game.loc[time_data.description == pd.Series(time_data.game.unique()) \\ # находим дубль\n",
        "              .apply(lambda x: ' '.join(x.split()[1:])).value_counts().index[0]].unique()"
      ],
      "execution_count": null,
      "outputs": [
        {
          "output_type": "execute_result",
          "data": {
            "text/plain": [
              "array(['4171925 Литва. Мужчины. LKL. Плей-офф. 1/4 финала(Нептунас - Шяуляй)\\n',\n",
              "       '4154509 Литва. Мужчины. LKL. Плей-офф. 1/4 финала(Нептунас - Шяуляй)\\n'],\n",
              "      dtype=object)"
            ]
          },
          "metadata": {
            "tags": []
          },
          "execution_count": 19
        }
      ]
    },
    {
      "cell_type": "markdown",
      "metadata": {
        "id": "Y7qsE29OtWmd"
      },
      "source": [
        "Так как номера сильно отличаются, наверное, это всё же разные игры."
      ]
    },
    {
      "cell_type": "markdown",
      "metadata": {
        "id": "qT8ooCzIulby"
      },
      "source": [
        "###Подготовка данных для предсказания по результатам четвертей"
      ]
    },
    {
      "cell_type": "code",
      "metadata": {
        "id": "2sdwFwfuz04C",
        "colab": {
          "base_uri": "https://localhost:8080/",
          "height": 356
        },
        "outputId": "16dc211b-afda-4575-8846-0df718e5b219"
      },
      "source": [
        "temp1 = time_data.groupby(['number', 'quarter'], as_index=False) \\\n",
        "    .agg({feature: 'max' for feature in ['team_1', 'team_2', 'current_count', 'final_count']})\n",
        "temp1.head(10) # создаём таблицу с данными по четвертям"
      ],
      "execution_count": null,
      "outputs": [
        {
          "output_type": "execute_result",
          "data": {
            "text/html": [
              "<div>\n",
              "<style scoped>\n",
              "    .dataframe tbody tr th:only-of-type {\n",
              "        vertical-align: middle;\n",
              "    }\n",
              "\n",
              "    .dataframe tbody tr th {\n",
              "        vertical-align: top;\n",
              "    }\n",
              "\n",
              "    .dataframe thead th {\n",
              "        text-align: right;\n",
              "    }\n",
              "</style>\n",
              "<table border=\"1\" class=\"dataframe\">\n",
              "  <thead>\n",
              "    <tr style=\"text-align: right;\">\n",
              "      <th></th>\n",
              "      <th>number</th>\n",
              "      <th>quarter</th>\n",
              "      <th>team_1</th>\n",
              "      <th>team_2</th>\n",
              "      <th>current_count</th>\n",
              "      <th>final_count</th>\n",
              "    </tr>\n",
              "  </thead>\n",
              "  <tbody>\n",
              "    <tr>\n",
              "      <th>0</th>\n",
              "      <td>3986915</td>\n",
              "      <td>1.0</td>\n",
              "      <td>18</td>\n",
              "      <td>12.0</td>\n",
              "      <td>30.0</td>\n",
              "      <td>150</td>\n",
              "    </tr>\n",
              "    <tr>\n",
              "      <th>1</th>\n",
              "      <td>3986915</td>\n",
              "      <td>2.0</td>\n",
              "      <td>43</td>\n",
              "      <td>27.0</td>\n",
              "      <td>70.0</td>\n",
              "      <td>150</td>\n",
              "    </tr>\n",
              "    <tr>\n",
              "      <th>2</th>\n",
              "      <td>3986915</td>\n",
              "      <td>3.0</td>\n",
              "      <td>57</td>\n",
              "      <td>53.0</td>\n",
              "      <td>110.0</td>\n",
              "      <td>150</td>\n",
              "    </tr>\n",
              "    <tr>\n",
              "      <th>3</th>\n",
              "      <td>3986915</td>\n",
              "      <td>4.0</td>\n",
              "      <td>65</td>\n",
              "      <td>70.0</td>\n",
              "      <td>135.0</td>\n",
              "      <td>150</td>\n",
              "    </tr>\n",
              "    <tr>\n",
              "      <th>4</th>\n",
              "      <td>3986915</td>\n",
              "      <td>5.0</td>\n",
              "      <td>69</td>\n",
              "      <td>78.0</td>\n",
              "      <td>147.0</td>\n",
              "      <td>150</td>\n",
              "    </tr>\n",
              "    <tr>\n",
              "      <th>5</th>\n",
              "      <td>3986915</td>\n",
              "      <td>6.0</td>\n",
              "      <td>72</td>\n",
              "      <td>78.0</td>\n",
              "      <td>150.0</td>\n",
              "      <td>150</td>\n",
              "    </tr>\n",
              "    <tr>\n",
              "      <th>6</th>\n",
              "      <td>3986918</td>\n",
              "      <td>1.0</td>\n",
              "      <td>14</td>\n",
              "      <td>15.0</td>\n",
              "      <td>29.0</td>\n",
              "      <td>133</td>\n",
              "    </tr>\n",
              "    <tr>\n",
              "      <th>7</th>\n",
              "      <td>3986918</td>\n",
              "      <td>2.0</td>\n",
              "      <td>39</td>\n",
              "      <td>30.0</td>\n",
              "      <td>69.0</td>\n",
              "      <td>133</td>\n",
              "    </tr>\n",
              "    <tr>\n",
              "      <th>8</th>\n",
              "      <td>3986918</td>\n",
              "      <td>3.0</td>\n",
              "      <td>58</td>\n",
              "      <td>41.0</td>\n",
              "      <td>99.0</td>\n",
              "      <td>133</td>\n",
              "    </tr>\n",
              "    <tr>\n",
              "      <th>9</th>\n",
              "      <td>3986918</td>\n",
              "      <td>4.0</td>\n",
              "      <td>74</td>\n",
              "      <td>59.0</td>\n",
              "      <td>133.0</td>\n",
              "      <td>133</td>\n",
              "    </tr>\n",
              "  </tbody>\n",
              "</table>\n",
              "</div>"
            ],
            "text/plain": [
              "    number  quarter  team_1  team_2  current_count  final_count\n",
              "0  3986915      1.0      18    12.0           30.0          150\n",
              "1  3986915      2.0      43    27.0           70.0          150\n",
              "2  3986915      3.0      57    53.0          110.0          150\n",
              "3  3986915      4.0      65    70.0          135.0          150\n",
              "4  3986915      5.0      69    78.0          147.0          150\n",
              "5  3986915      6.0      72    78.0          150.0          150\n",
              "6  3986918      1.0      14    15.0           29.0          133\n",
              "7  3986918      2.0      39    30.0           69.0          133\n",
              "8  3986918      3.0      58    41.0           99.0          133\n",
              "9  3986918      4.0      74    59.0          133.0          133"
            ]
          },
          "metadata": {
            "tags": []
          },
          "execution_count": 20
        }
      ]
    },
    {
      "cell_type": "code",
      "metadata": {
        "id": "dQ91TVWH9KFp",
        "colab": {
          "base_uri": "https://localhost:8080/",
          "height": 171
        },
        "outputId": "b5b26124-dcd5-48dc-c9da-0f23bbd637cf"
      },
      "source": [
        "temp2 = temp1.pivot_table(values=['team_1', 'team_2'], index='number', columns='quarter')\n",
        "temp2.head(2) # преобразуем часть входных данных так, чтобы каждый экземпляр описывался одним вектором"
      ],
      "execution_count": null,
      "outputs": [
        {
          "output_type": "execute_result",
          "data": {
            "text/html": [
              "<div>\n",
              "<style scoped>\n",
              "    .dataframe tbody tr th:only-of-type {\n",
              "        vertical-align: middle;\n",
              "    }\n",
              "\n",
              "    .dataframe tbody tr th {\n",
              "        vertical-align: top;\n",
              "    }\n",
              "\n",
              "    .dataframe thead tr th {\n",
              "        text-align: left;\n",
              "    }\n",
              "\n",
              "    .dataframe thead tr:last-of-type th {\n",
              "        text-align: right;\n",
              "    }\n",
              "</style>\n",
              "<table border=\"1\" class=\"dataframe\">\n",
              "  <thead>\n",
              "    <tr>\n",
              "      <th></th>\n",
              "      <th colspan=\"6\" halign=\"left\">team_1</th>\n",
              "      <th colspan=\"6\" halign=\"left\">team_2</th>\n",
              "    </tr>\n",
              "    <tr>\n",
              "      <th>quarter</th>\n",
              "      <th>1.0</th>\n",
              "      <th>2.0</th>\n",
              "      <th>3.0</th>\n",
              "      <th>4.0</th>\n",
              "      <th>5.0</th>\n",
              "      <th>6.0</th>\n",
              "      <th>1.0</th>\n",
              "      <th>2.0</th>\n",
              "      <th>3.0</th>\n",
              "      <th>4.0</th>\n",
              "      <th>5.0</th>\n",
              "      <th>6.0</th>\n",
              "    </tr>\n",
              "    <tr>\n",
              "      <th>number</th>\n",
              "      <th></th>\n",
              "      <th></th>\n",
              "      <th></th>\n",
              "      <th></th>\n",
              "      <th></th>\n",
              "      <th></th>\n",
              "      <th></th>\n",
              "      <th></th>\n",
              "      <th></th>\n",
              "      <th></th>\n",
              "      <th></th>\n",
              "      <th></th>\n",
              "    </tr>\n",
              "  </thead>\n",
              "  <tbody>\n",
              "    <tr>\n",
              "      <th>3986915</th>\n",
              "      <td>18.0</td>\n",
              "      <td>43.0</td>\n",
              "      <td>57.0</td>\n",
              "      <td>65.0</td>\n",
              "      <td>69.0</td>\n",
              "      <td>72.0</td>\n",
              "      <td>12.0</td>\n",
              "      <td>27.0</td>\n",
              "      <td>53.0</td>\n",
              "      <td>70.0</td>\n",
              "      <td>78.0</td>\n",
              "      <td>78.0</td>\n",
              "    </tr>\n",
              "    <tr>\n",
              "      <th>3986918</th>\n",
              "      <td>14.0</td>\n",
              "      <td>39.0</td>\n",
              "      <td>58.0</td>\n",
              "      <td>74.0</td>\n",
              "      <td>NaN</td>\n",
              "      <td>NaN</td>\n",
              "      <td>15.0</td>\n",
              "      <td>30.0</td>\n",
              "      <td>41.0</td>\n",
              "      <td>59.0</td>\n",
              "      <td>NaN</td>\n",
              "      <td>NaN</td>\n",
              "    </tr>\n",
              "  </tbody>\n",
              "</table>\n",
              "</div>"
            ],
            "text/plain": [
              "        team_1                          ... team_2                        \n",
              "quarter    1.0   2.0   3.0   4.0   5.0  ...    2.0   3.0   4.0   5.0   6.0\n",
              "number                                  ...                               \n",
              "3986915   18.0  43.0  57.0  65.0  69.0  ...   27.0  53.0  70.0  78.0  78.0\n",
              "3986918   14.0  39.0  58.0  74.0   NaN  ...   30.0  41.0  59.0   NaN   NaN\n",
              "\n",
              "[2 rows x 12 columns]"
            ]
          },
          "metadata": {
            "tags": []
          },
          "execution_count": 21
        }
      ]
    },
    {
      "cell_type": "code",
      "metadata": {
        "id": "bKVsZQuZFEQu",
        "colab": {
          "base_uri": "https://localhost:8080/",
          "height": 447
        },
        "outputId": "20f0fe84-fed6-492d-ed0e-5e02d27106b5"
      },
      "source": [
        "quarter_data = pd.concat(\n",
        "    [\n",
        "     temp2['team_1'][[1, 2, 3]],\n",
        "     temp2['team_2'][[1, 2, 3]],\n",
        "     temp1.groupby('number').agg({'final_count': 'max'})\n",
        "     ], axis=1\n",
        "     )\n",
        "quarter_data # соединяем входные и выходные данные"
      ],
      "execution_count": null,
      "outputs": [
        {
          "output_type": "execute_result",
          "data": {
            "text/html": [
              "<div>\n",
              "<style scoped>\n",
              "    .dataframe tbody tr th:only-of-type {\n",
              "        vertical-align: middle;\n",
              "    }\n",
              "\n",
              "    .dataframe tbody tr th {\n",
              "        vertical-align: top;\n",
              "    }\n",
              "\n",
              "    .dataframe thead th {\n",
              "        text-align: right;\n",
              "    }\n",
              "</style>\n",
              "<table border=\"1\" class=\"dataframe\">\n",
              "  <thead>\n",
              "    <tr style=\"text-align: right;\">\n",
              "      <th></th>\n",
              "      <th>1.0</th>\n",
              "      <th>2.0</th>\n",
              "      <th>3.0</th>\n",
              "      <th>1.0</th>\n",
              "      <th>2.0</th>\n",
              "      <th>3.0</th>\n",
              "      <th>final_count</th>\n",
              "    </tr>\n",
              "    <tr>\n",
              "      <th>number</th>\n",
              "      <th></th>\n",
              "      <th></th>\n",
              "      <th></th>\n",
              "      <th></th>\n",
              "      <th></th>\n",
              "      <th></th>\n",
              "      <th></th>\n",
              "    </tr>\n",
              "  </thead>\n",
              "  <tbody>\n",
              "    <tr>\n",
              "      <th>3986915</th>\n",
              "      <td>18.0</td>\n",
              "      <td>43.0</td>\n",
              "      <td>57.0</td>\n",
              "      <td>12.0</td>\n",
              "      <td>27.0</td>\n",
              "      <td>53.0</td>\n",
              "      <td>150</td>\n",
              "    </tr>\n",
              "    <tr>\n",
              "      <th>3986918</th>\n",
              "      <td>14.0</td>\n",
              "      <td>39.0</td>\n",
              "      <td>58.0</td>\n",
              "      <td>15.0</td>\n",
              "      <td>30.0</td>\n",
              "      <td>41.0</td>\n",
              "      <td>133</td>\n",
              "    </tr>\n",
              "    <tr>\n",
              "      <th>3986921</th>\n",
              "      <td>16.0</td>\n",
              "      <td>40.0</td>\n",
              "      <td>56.0</td>\n",
              "      <td>17.0</td>\n",
              "      <td>40.0</td>\n",
              "      <td>64.0</td>\n",
              "      <td>163</td>\n",
              "    </tr>\n",
              "    <tr>\n",
              "      <th>3986923</th>\n",
              "      <td>14.0</td>\n",
              "      <td>19.0</td>\n",
              "      <td>36.0</td>\n",
              "      <td>16.0</td>\n",
              "      <td>19.0</td>\n",
              "      <td>41.0</td>\n",
              "      <td>163</td>\n",
              "    </tr>\n",
              "    <tr>\n",
              "      <th>3986924</th>\n",
              "      <td>25.0</td>\n",
              "      <td>45.0</td>\n",
              "      <td>57.0</td>\n",
              "      <td>18.0</td>\n",
              "      <td>37.0</td>\n",
              "      <td>54.0</td>\n",
              "      <td>146</td>\n",
              "    </tr>\n",
              "    <tr>\n",
              "      <th>...</th>\n",
              "      <td>...</td>\n",
              "      <td>...</td>\n",
              "      <td>...</td>\n",
              "      <td>...</td>\n",
              "      <td>...</td>\n",
              "      <td>...</td>\n",
              "      <td>...</td>\n",
              "    </tr>\n",
              "    <tr>\n",
              "      <th>4191662</th>\n",
              "      <td>22.0</td>\n",
              "      <td>29.0</td>\n",
              "      <td>48.0</td>\n",
              "      <td>17.0</td>\n",
              "      <td>39.0</td>\n",
              "      <td>58.0</td>\n",
              "      <td>149</td>\n",
              "    </tr>\n",
              "    <tr>\n",
              "      <th>4191737</th>\n",
              "      <td>9.0</td>\n",
              "      <td>25.0</td>\n",
              "      <td>38.0</td>\n",
              "      <td>21.0</td>\n",
              "      <td>30.0</td>\n",
              "      <td>38.0</td>\n",
              "      <td>92</td>\n",
              "    </tr>\n",
              "    <tr>\n",
              "      <th>4191757</th>\n",
              "      <td>19.0</td>\n",
              "      <td>42.0</td>\n",
              "      <td>56.0</td>\n",
              "      <td>20.0</td>\n",
              "      <td>36.0</td>\n",
              "      <td>48.0</td>\n",
              "      <td>135</td>\n",
              "    </tr>\n",
              "    <tr>\n",
              "      <th>4192386</th>\n",
              "      <td>22.0</td>\n",
              "      <td>39.0</td>\n",
              "      <td>53.0</td>\n",
              "      <td>17.0</td>\n",
              "      <td>36.0</td>\n",
              "      <td>48.0</td>\n",
              "      <td>140</td>\n",
              "    </tr>\n",
              "    <tr>\n",
              "      <th>4192929</th>\n",
              "      <td>4.0</td>\n",
              "      <td>26.0</td>\n",
              "      <td>47.0</td>\n",
              "      <td>0.0</td>\n",
              "      <td>35.0</td>\n",
              "      <td>45.0</td>\n",
              "      <td>133</td>\n",
              "    </tr>\n",
              "  </tbody>\n",
              "</table>\n",
              "<p>434 rows × 7 columns</p>\n",
              "</div>"
            ],
            "text/plain": [
              "          1.0   2.0   3.0   1.0   2.0   3.0  final_count\n",
              "number                                                  \n",
              "3986915  18.0  43.0  57.0  12.0  27.0  53.0          150\n",
              "3986918  14.0  39.0  58.0  15.0  30.0  41.0          133\n",
              "3986921  16.0  40.0  56.0  17.0  40.0  64.0          163\n",
              "3986923  14.0  19.0  36.0  16.0  19.0  41.0          163\n",
              "3986924  25.0  45.0  57.0  18.0  37.0  54.0          146\n",
              "...       ...   ...   ...   ...   ...   ...          ...\n",
              "4191662  22.0  29.0  48.0  17.0  39.0  58.0          149\n",
              "4191737   9.0  25.0  38.0  21.0  30.0  38.0           92\n",
              "4191757  19.0  42.0  56.0  20.0  36.0  48.0          135\n",
              "4192386  22.0  39.0  53.0  17.0  36.0  48.0          140\n",
              "4192929   4.0  26.0  47.0   0.0  35.0  45.0          133\n",
              "\n",
              "[434 rows x 7 columns]"
            ]
          },
          "metadata": {
            "tags": []
          },
          "execution_count": 22
        }
      ]
    },
    {
      "cell_type": "code",
      "metadata": {
        "id": "ZoEMdoLyKPDG",
        "colab": {
          "base_uri": "https://localhost:8080/",
          "height": 447
        },
        "outputId": "50ef4f7a-6ec1-4db9-dc90-ddeadb683821"
      },
      "source": [
        "quarter_data = pd.concat([quarter_data, quarter_data.iloc[:, [3, 4, 5, 0, 1, 2, 6]]])\n",
        "quarter_data # делаем аугументацию, меняя команды местами"
      ],
      "execution_count": null,
      "outputs": [
        {
          "output_type": "execute_result",
          "data": {
            "text/html": [
              "<div>\n",
              "<style scoped>\n",
              "    .dataframe tbody tr th:only-of-type {\n",
              "        vertical-align: middle;\n",
              "    }\n",
              "\n",
              "    .dataframe tbody tr th {\n",
              "        vertical-align: top;\n",
              "    }\n",
              "\n",
              "    .dataframe thead th {\n",
              "        text-align: right;\n",
              "    }\n",
              "</style>\n",
              "<table border=\"1\" class=\"dataframe\">\n",
              "  <thead>\n",
              "    <tr style=\"text-align: right;\">\n",
              "      <th></th>\n",
              "      <th>1.0</th>\n",
              "      <th>2.0</th>\n",
              "      <th>3.0</th>\n",
              "      <th>1.0</th>\n",
              "      <th>2.0</th>\n",
              "      <th>3.0</th>\n",
              "      <th>final_count</th>\n",
              "    </tr>\n",
              "    <tr>\n",
              "      <th>number</th>\n",
              "      <th></th>\n",
              "      <th></th>\n",
              "      <th></th>\n",
              "      <th></th>\n",
              "      <th></th>\n",
              "      <th></th>\n",
              "      <th></th>\n",
              "    </tr>\n",
              "  </thead>\n",
              "  <tbody>\n",
              "    <tr>\n",
              "      <th>3986915</th>\n",
              "      <td>18.0</td>\n",
              "      <td>43.0</td>\n",
              "      <td>57.0</td>\n",
              "      <td>12.0</td>\n",
              "      <td>27.0</td>\n",
              "      <td>53.0</td>\n",
              "      <td>150</td>\n",
              "    </tr>\n",
              "    <tr>\n",
              "      <th>3986918</th>\n",
              "      <td>14.0</td>\n",
              "      <td>39.0</td>\n",
              "      <td>58.0</td>\n",
              "      <td>15.0</td>\n",
              "      <td>30.0</td>\n",
              "      <td>41.0</td>\n",
              "      <td>133</td>\n",
              "    </tr>\n",
              "    <tr>\n",
              "      <th>3986921</th>\n",
              "      <td>16.0</td>\n",
              "      <td>40.0</td>\n",
              "      <td>56.0</td>\n",
              "      <td>17.0</td>\n",
              "      <td>40.0</td>\n",
              "      <td>64.0</td>\n",
              "      <td>163</td>\n",
              "    </tr>\n",
              "    <tr>\n",
              "      <th>3986923</th>\n",
              "      <td>14.0</td>\n",
              "      <td>19.0</td>\n",
              "      <td>36.0</td>\n",
              "      <td>16.0</td>\n",
              "      <td>19.0</td>\n",
              "      <td>41.0</td>\n",
              "      <td>163</td>\n",
              "    </tr>\n",
              "    <tr>\n",
              "      <th>3986924</th>\n",
              "      <td>25.0</td>\n",
              "      <td>45.0</td>\n",
              "      <td>57.0</td>\n",
              "      <td>18.0</td>\n",
              "      <td>37.0</td>\n",
              "      <td>54.0</td>\n",
              "      <td>146</td>\n",
              "    </tr>\n",
              "    <tr>\n",
              "      <th>...</th>\n",
              "      <td>...</td>\n",
              "      <td>...</td>\n",
              "      <td>...</td>\n",
              "      <td>...</td>\n",
              "      <td>...</td>\n",
              "      <td>...</td>\n",
              "      <td>...</td>\n",
              "    </tr>\n",
              "    <tr>\n",
              "      <th>4191662</th>\n",
              "      <td>17.0</td>\n",
              "      <td>39.0</td>\n",
              "      <td>58.0</td>\n",
              "      <td>22.0</td>\n",
              "      <td>29.0</td>\n",
              "      <td>48.0</td>\n",
              "      <td>149</td>\n",
              "    </tr>\n",
              "    <tr>\n",
              "      <th>4191737</th>\n",
              "      <td>21.0</td>\n",
              "      <td>30.0</td>\n",
              "      <td>38.0</td>\n",
              "      <td>9.0</td>\n",
              "      <td>25.0</td>\n",
              "      <td>38.0</td>\n",
              "      <td>92</td>\n",
              "    </tr>\n",
              "    <tr>\n",
              "      <th>4191757</th>\n",
              "      <td>20.0</td>\n",
              "      <td>36.0</td>\n",
              "      <td>48.0</td>\n",
              "      <td>19.0</td>\n",
              "      <td>42.0</td>\n",
              "      <td>56.0</td>\n",
              "      <td>135</td>\n",
              "    </tr>\n",
              "    <tr>\n",
              "      <th>4192386</th>\n",
              "      <td>17.0</td>\n",
              "      <td>36.0</td>\n",
              "      <td>48.0</td>\n",
              "      <td>22.0</td>\n",
              "      <td>39.0</td>\n",
              "      <td>53.0</td>\n",
              "      <td>140</td>\n",
              "    </tr>\n",
              "    <tr>\n",
              "      <th>4192929</th>\n",
              "      <td>0.0</td>\n",
              "      <td>35.0</td>\n",
              "      <td>45.0</td>\n",
              "      <td>4.0</td>\n",
              "      <td>26.0</td>\n",
              "      <td>47.0</td>\n",
              "      <td>133</td>\n",
              "    </tr>\n",
              "  </tbody>\n",
              "</table>\n",
              "<p>868 rows × 7 columns</p>\n",
              "</div>"
            ],
            "text/plain": [
              "          1.0   2.0   3.0   1.0   2.0   3.0  final_count\n",
              "number                                                  \n",
              "3986915  18.0  43.0  57.0  12.0  27.0  53.0          150\n",
              "3986918  14.0  39.0  58.0  15.0  30.0  41.0          133\n",
              "3986921  16.0  40.0  56.0  17.0  40.0  64.0          163\n",
              "3986923  14.0  19.0  36.0  16.0  19.0  41.0          163\n",
              "3986924  25.0  45.0  57.0  18.0  37.0  54.0          146\n",
              "...       ...   ...   ...   ...   ...   ...          ...\n",
              "4191662  17.0  39.0  58.0  22.0  29.0  48.0          149\n",
              "4191737  21.0  30.0  38.0   9.0  25.0  38.0           92\n",
              "4191757  20.0  36.0  48.0  19.0  42.0  56.0          135\n",
              "4192386  17.0  36.0  48.0  22.0  39.0  53.0          140\n",
              "4192929   0.0  35.0  45.0   4.0  26.0  47.0          133\n",
              "\n",
              "[868 rows x 7 columns]"
            ]
          },
          "metadata": {
            "tags": []
          },
          "execution_count": 23
        }
      ]
    },
    {
      "cell_type": "markdown",
      "metadata": {
        "id": "EuxSV7PvRxgq"
      },
      "source": [
        "##Research"
      ]
    },
    {
      "cell_type": "markdown",
      "metadata": {
        "id": "DDh4I9fGpD9S"
      },
      "source": [
        "###Learning"
      ]
    },
    {
      "cell_type": "code",
      "metadata": {
        "id": "n-NnHjLwYGux",
        "colab": {
          "base_uri": "https://localhost:8080/",
          "height": 579
        },
        "outputId": "94669ce2-f4ed-4a9c-bb6a-35360201c18a"
      },
      "source": [
        "for mode in ['time', 'sum', 'time_2']:\n",
        "    research(time_data, mode)"
      ],
      "execution_count": null,
      "outputs": [
        {
          "output_type": "display_data",
          "data": {
            "text/html": [
              "<html>\n",
              "<head><meta charset=\"utf-8\" /></head>\n",
              "<body>\n",
              "    <div>\n",
              "            <script src=\"https://cdnjs.cloudflare.com/ajax/libs/mathjax/2.7.5/MathJax.js?config=TeX-AMS-MML_SVG\"></script><script type=\"text/javascript\">if (window.MathJax) {MathJax.Hub.Config({SVG: {font: \"STIX-Web\"}});}</script>\n",
              "                <script type=\"text/javascript\">window.PlotlyConfig = {MathJaxConfig: 'local'};</script>\n",
              "        <script src=\"https://cdn.plot.ly/plotly-latest.min.js\"></script>    \n",
              "            <div id=\"10c167c9-a413-4afe-bcc3-4351cd3a0d79\" class=\"plotly-graph-div\" style=\"height:525px; width:100%;\"></div>\n",
              "            <script type=\"text/javascript\">\n",
              "                \n",
              "                    window.PLOTLYENV=window.PLOTLYENV || {};\n",
              "                    \n",
              "                if (document.getElementById(\"10c167c9-a413-4afe-bcc3-4351cd3a0d79\")) {\n",
              "                    Plotly.newPlot(\n",
              "                        '10c167c9-a413-4afe-bcc3-4351cd3a0d79',\n",
              "                        [{\"hoverinfo\": \"all\", \"hovertemplate\": \"epoch: %{x}<br>error: %{y}\", \"name\": \"loss\", \"type\": \"scatter\", \"x\": [1, 2, 3, 4, 5, 6, 7, 8, 9, 10, 11, 12, 13, 14, 15, 16, 17, 18, 19, 20, 21, 22, 23, 24, 25, 26, 27, 28, 29, 30, 31, 32, 33, 34, 35, 36, 37, 38, 39, 40], \"xaxis\": \"x\", \"y\": [0.028613213449716568, 0.004517997615039349, 0.0042265900410711765, 0.004205869510769844, 0.0041990638710558414, 0.004197704140096903, 0.00418072659522295, 0.0041544511914253235, 0.004152276087552309, 0.004150764085352421, 0.00414980947971344, 0.004144945647567511, 0.004142043646425009, 0.004139848984777927, 0.004136798437684774, 0.00413114670664072, 0.004130355082452297, 0.004129854962229729, 0.004128819331526756, 0.004127828869968653, 0.004127472639083862, 0.004127103369683027, 0.0041270083747804165, 0.004126918502151966, 0.004126809537410736, 0.004126699175685644, 0.0041266921907663345, 0.004126681014895439, 0.004126672632992268, 0.004126657731831074, 0.004126647487282753, 0.004126647021621466, 0.004126646555960178, 0.004126646090298891, 0.004126646555960178, 0.004126647021621466, 0.00412664795294404, 0.0041266437619924545, 0.004126646555960178, 0.00412664283066988], \"yaxis\": \"y\"}, {\"hoverinfo\": \"all\", \"hovertemplate\": \"epoch: %{x}<br>error: %{y}\", \"name\": \"mae\", \"type\": \"scatter\", \"x\": [1, 2, 3, 4, 5, 6, 7, 8, 9, 10, 11, 12, 13, 14, 15, 16, 17, 18, 19, 20, 21, 22, 23, 24, 25, 26, 27, 28, 29, 30, 31, 32, 33, 34, 35, 36, 37, 38, 39, 40], \"xaxis\": \"x2\", \"y\": [0.10166912525892258, 0.046224478632211685, 0.043776869773864746, 0.04368451610207558, 0.04362209141254425, 0.04370652511715889, 0.043689142912626266, 0.04356955364346504, 0.043561991304159164, 0.043570730835199356, 0.04356222599744797, 0.0435737781226635, 0.04356237128376961, 0.04356939345598221, 0.04356755316257477, 0.043521709740161896, 0.043515052646398544, 0.04350067302584648, 0.04348107427358627, 0.043475572019815445, 0.04351602867245674, 0.04345915839076042, 0.04345317929983139, 0.04344518855214119, 0.043455325067043304, 0.04344908148050308, 0.043450698256492615, 0.04344858229160309, 0.043448057025671005, 0.04344889521598816, 0.04344846308231354, 0.043448496609926224, 0.04344841092824936, 0.0434485524892807, 0.043448466807603836, 0.043448492884635925, 0.04344846308231354, 0.04344845563173294, 0.04344848543405533, 0.04344847425818443], \"yaxis\": \"y2\"}, {\"hoverinfo\": \"all\", \"hovertemplate\": \"epoch: %{x}<br>error: %{y}\", \"name\": \"val_loss\", \"type\": \"scatter\", \"x\": [1, 2, 3, 4, 5, 6, 7, 8, 9, 10, 11, 12, 13, 14, 15, 16, 17, 18, 19, 20, 21, 22, 23, 24, 25, 26, 27, 28, 29, 30, 31, 32, 33, 34, 35, 36, 37, 38, 39, 40], \"xaxis\": \"x\", \"y\": [0.0049638934433460236, 0.004177456721663475, 0.004125415347516537, 0.0041132294572889805, 0.004102772567421198, 0.004116217140108347, 0.004087087698280811, 0.004079045262187719, 0.0040787216275930405, 0.004075692035257816, 0.004073687829077244, 0.004073233809322119, 0.004068933892995119, 0.004072874318808317, 0.004069207701832056, 0.004064877983182669, 0.004063842818140984, 0.0040634130127727985, 0.004063427913933992, 0.004063039552420378, 0.004062296357005835, 0.004062323365360498, 0.004062265157699585, 0.004062145482748747, 0.0040621161460876465, 0.004062105901539326, 0.004062093794345856, 0.004062093328684568, 0.0040620858781039715, 0.004062080290168524, 0.004062079358845949, 0.0040620798245072365, 0.0040620784275233746, 0.004062080755829811, 0.004062080755829811, 0.004062080290168524, 0.004062080290168524, 0.004062080290168524, 0.004062080290168524, 0.0040620798245072365], \"yaxis\": \"y\"}, {\"hoverinfo\": \"all\", \"hovertemplate\": \"epoch: %{x}<br>error: %{y}\", \"name\": \"val_mae\", \"type\": \"scatter\", \"x\": [1, 2, 3, 4, 5, 6, 7, 8, 9, 10, 11, 12, 13, 14, 15, 16, 17, 18, 19, 20, 21, 22, 23, 24, 25, 26, 27, 28, 29, 30, 31, 32, 33, 34, 35, 36, 37, 38, 39, 40], \"xaxis\": \"x2\", \"y\": [0.04996398463845253, 0.04370163008570671, 0.043726641684770584, 0.04304424300789833, 0.04327725991606712, 0.04301602020859718, 0.04321209341287613, 0.043312862515449524, 0.04323232173919678, 0.04336808621883392, 0.04341915622353554, 0.04323895275592804, 0.04337773472070694, 0.04321395233273506, 0.0432465523481369, 0.04331371933221817, 0.04334301874041557, 0.043321844190359116, 0.0432724691927433, 0.043409563601017, 0.043306391686201096, 0.04328938573598862, 0.043288614600896835, 0.043297577649354935, 0.04329174384474754, 0.043292250484228134, 0.0432930551469326, 0.04329223185777664, 0.04329247027635574, 0.043292026966810226, 0.04329206421971321, 0.04329204186797142, 0.043292075395584106, 0.043292030692100525, 0.043292056769132614, 0.043292053043842316, 0.04329204931855202, 0.043292056769132614, 0.043292053043842316, 0.04329204931855202], \"yaxis\": \"y2\"}],\n",
              "                        {\"legend\": {\"orientation\": \"h\"}, \"margin\": {\"b\": 0, \"l\": 0, \"r\": 40, \"t\": 40}, \"template\": {\"data\": {\"bar\": [{\"error_x\": {\"color\": \"#2a3f5f\"}, \"error_y\": {\"color\": \"#2a3f5f\"}, \"marker\": {\"line\": {\"color\": \"#E5ECF6\", \"width\": 0.5}}, \"type\": \"bar\"}], \"barpolar\": [{\"marker\": {\"line\": {\"color\": \"#E5ECF6\", \"width\": 0.5}}, \"type\": \"barpolar\"}], \"carpet\": [{\"aaxis\": {\"endlinecolor\": \"#2a3f5f\", \"gridcolor\": \"white\", \"linecolor\": \"white\", \"minorgridcolor\": \"white\", \"startlinecolor\": \"#2a3f5f\"}, \"baxis\": {\"endlinecolor\": \"#2a3f5f\", \"gridcolor\": \"white\", \"linecolor\": \"white\", \"minorgridcolor\": \"white\", \"startlinecolor\": \"#2a3f5f\"}, \"type\": \"carpet\"}], \"choropleth\": [{\"colorbar\": {\"outlinewidth\": 0, \"ticks\": \"\"}, \"type\": \"choropleth\"}], \"contour\": [{\"colorbar\": {\"outlinewidth\": 0, \"ticks\": \"\"}, \"colorscale\": [[0.0, \"#0d0887\"], [0.1111111111111111, \"#46039f\"], [0.2222222222222222, \"#7201a8\"], [0.3333333333333333, \"#9c179e\"], [0.4444444444444444, \"#bd3786\"], [0.5555555555555556, \"#d8576b\"], [0.6666666666666666, \"#ed7953\"], [0.7777777777777778, \"#fb9f3a\"], [0.8888888888888888, \"#fdca26\"], [1.0, \"#f0f921\"]], \"type\": \"contour\"}], \"contourcarpet\": [{\"colorbar\": {\"outlinewidth\": 0, \"ticks\": \"\"}, \"type\": \"contourcarpet\"}], \"heatmap\": [{\"colorbar\": {\"outlinewidth\": 0, \"ticks\": \"\"}, \"colorscale\": [[0.0, \"#0d0887\"], [0.1111111111111111, \"#46039f\"], [0.2222222222222222, \"#7201a8\"], [0.3333333333333333, \"#9c179e\"], [0.4444444444444444, \"#bd3786\"], [0.5555555555555556, \"#d8576b\"], [0.6666666666666666, \"#ed7953\"], [0.7777777777777778, \"#fb9f3a\"], [0.8888888888888888, \"#fdca26\"], [1.0, \"#f0f921\"]], \"type\": \"heatmap\"}], \"heatmapgl\": [{\"colorbar\": {\"outlinewidth\": 0, \"ticks\": \"\"}, \"colorscale\": [[0.0, \"#0d0887\"], [0.1111111111111111, \"#46039f\"], [0.2222222222222222, \"#7201a8\"], [0.3333333333333333, \"#9c179e\"], [0.4444444444444444, \"#bd3786\"], [0.5555555555555556, \"#d8576b\"], [0.6666666666666666, \"#ed7953\"], [0.7777777777777778, \"#fb9f3a\"], [0.8888888888888888, \"#fdca26\"], [1.0, \"#f0f921\"]], \"type\": \"heatmapgl\"}], \"histogram\": [{\"marker\": {\"colorbar\": {\"outlinewidth\": 0, \"ticks\": \"\"}}, \"type\": \"histogram\"}], \"histogram2d\": [{\"colorbar\": {\"outlinewidth\": 0, \"ticks\": \"\"}, \"colorscale\": [[0.0, \"#0d0887\"], [0.1111111111111111, \"#46039f\"], [0.2222222222222222, \"#7201a8\"], [0.3333333333333333, \"#9c179e\"], [0.4444444444444444, \"#bd3786\"], [0.5555555555555556, \"#d8576b\"], [0.6666666666666666, \"#ed7953\"], [0.7777777777777778, \"#fb9f3a\"], [0.8888888888888888, \"#fdca26\"], [1.0, \"#f0f921\"]], \"type\": \"histogram2d\"}], \"histogram2dcontour\": [{\"colorbar\": {\"outlinewidth\": 0, \"ticks\": \"\"}, \"colorscale\": [[0.0, \"#0d0887\"], [0.1111111111111111, \"#46039f\"], [0.2222222222222222, \"#7201a8\"], [0.3333333333333333, \"#9c179e\"], [0.4444444444444444, \"#bd3786\"], [0.5555555555555556, \"#d8576b\"], [0.6666666666666666, \"#ed7953\"], [0.7777777777777778, \"#fb9f3a\"], [0.8888888888888888, \"#fdca26\"], [1.0, \"#f0f921\"]], \"type\": \"histogram2dcontour\"}], \"mesh3d\": [{\"colorbar\": {\"outlinewidth\": 0, \"ticks\": \"\"}, \"type\": \"mesh3d\"}], \"parcoords\": [{\"line\": {\"colorbar\": {\"outlinewidth\": 0, \"ticks\": \"\"}}, \"type\": \"parcoords\"}], \"pie\": [{\"automargin\": true, \"type\": \"pie\"}], \"scatter\": [{\"marker\": {\"colorbar\": {\"outlinewidth\": 0, \"ticks\": \"\"}}, \"type\": \"scatter\"}], \"scatter3d\": [{\"line\": {\"colorbar\": {\"outlinewidth\": 0, \"ticks\": \"\"}}, \"marker\": {\"colorbar\": {\"outlinewidth\": 0, \"ticks\": \"\"}}, \"type\": \"scatter3d\"}], \"scattercarpet\": [{\"marker\": {\"colorbar\": {\"outlinewidth\": 0, \"ticks\": \"\"}}, \"type\": \"scattercarpet\"}], \"scattergeo\": [{\"marker\": {\"colorbar\": {\"outlinewidth\": 0, \"ticks\": \"\"}}, \"type\": \"scattergeo\"}], \"scattergl\": [{\"marker\": {\"colorbar\": {\"outlinewidth\": 0, \"ticks\": \"\"}}, \"type\": \"scattergl\"}], \"scattermapbox\": [{\"marker\": {\"colorbar\": {\"outlinewidth\": 0, \"ticks\": \"\"}}, \"type\": \"scattermapbox\"}], \"scatterpolar\": [{\"marker\": {\"colorbar\": {\"outlinewidth\": 0, \"ticks\": \"\"}}, \"type\": \"scatterpolar\"}], \"scatterpolargl\": [{\"marker\": {\"colorbar\": {\"outlinewidth\": 0, \"ticks\": \"\"}}, \"type\": \"scatterpolargl\"}], \"scatterternary\": [{\"marker\": {\"colorbar\": {\"outlinewidth\": 0, \"ticks\": \"\"}}, \"type\": \"scatterternary\"}], \"surface\": [{\"colorbar\": {\"outlinewidth\": 0, \"ticks\": \"\"}, \"colorscale\": [[0.0, \"#0d0887\"], [0.1111111111111111, \"#46039f\"], [0.2222222222222222, \"#7201a8\"], [0.3333333333333333, \"#9c179e\"], [0.4444444444444444, \"#bd3786\"], [0.5555555555555556, \"#d8576b\"], [0.6666666666666666, \"#ed7953\"], [0.7777777777777778, \"#fb9f3a\"], [0.8888888888888888, \"#fdca26\"], [1.0, \"#f0f921\"]], \"type\": \"surface\"}], \"table\": [{\"cells\": {\"fill\": {\"color\": \"#EBF0F8\"}, \"line\": {\"color\": \"white\"}}, \"header\": {\"fill\": {\"color\": \"#C8D4E3\"}, \"line\": {\"color\": \"white\"}}, \"type\": \"table\"}]}, \"layout\": {\"annotationdefaults\": {\"arrowcolor\": \"#2a3f5f\", \"arrowhead\": 0, \"arrowwidth\": 1}, \"coloraxis\": {\"colorbar\": {\"outlinewidth\": 0, \"ticks\": \"\"}}, \"colorscale\": {\"diverging\": [[0, \"#8e0152\"], [0.1, \"#c51b7d\"], [0.2, \"#de77ae\"], [0.3, \"#f1b6da\"], [0.4, \"#fde0ef\"], [0.5, \"#f7f7f7\"], [0.6, \"#e6f5d0\"], [0.7, \"#b8e186\"], [0.8, \"#7fbc41\"], [0.9, \"#4d9221\"], [1, \"#276419\"]], \"sequential\": [[0.0, \"#0d0887\"], [0.1111111111111111, \"#46039f\"], [0.2222222222222222, \"#7201a8\"], [0.3333333333333333, \"#9c179e\"], [0.4444444444444444, \"#bd3786\"], [0.5555555555555556, \"#d8576b\"], [0.6666666666666666, \"#ed7953\"], [0.7777777777777778, \"#fb9f3a\"], [0.8888888888888888, \"#fdca26\"], [1.0, \"#f0f921\"]], \"sequentialminus\": [[0.0, \"#0d0887\"], [0.1111111111111111, \"#46039f\"], [0.2222222222222222, \"#7201a8\"], [0.3333333333333333, \"#9c179e\"], [0.4444444444444444, \"#bd3786\"], [0.5555555555555556, \"#d8576b\"], [0.6666666666666666, \"#ed7953\"], [0.7777777777777778, \"#fb9f3a\"], [0.8888888888888888, \"#fdca26\"], [1.0, \"#f0f921\"]]}, \"colorway\": [\"#636efa\", \"#EF553B\", \"#00cc96\", \"#ab63fa\", \"#FFA15A\", \"#19d3f3\", \"#FF6692\", \"#B6E880\", \"#FF97FF\", \"#FECB52\"], \"font\": {\"color\": \"#2a3f5f\"}, \"geo\": {\"bgcolor\": \"white\", \"lakecolor\": \"white\", \"landcolor\": \"#E5ECF6\", \"showlakes\": true, \"showland\": true, \"subunitcolor\": \"white\"}, \"hoverlabel\": {\"align\": \"left\"}, \"hovermode\": \"closest\", \"mapbox\": {\"style\": \"light\"}, \"paper_bgcolor\": \"white\", \"plot_bgcolor\": \"#E5ECF6\", \"polar\": {\"angularaxis\": {\"gridcolor\": \"white\", \"linecolor\": \"white\", \"ticks\": \"\"}, \"bgcolor\": \"#E5ECF6\", \"radialaxis\": {\"gridcolor\": \"white\", \"linecolor\": \"white\", \"ticks\": \"\"}}, \"scene\": {\"xaxis\": {\"backgroundcolor\": \"#E5ECF6\", \"gridcolor\": \"white\", \"gridwidth\": 2, \"linecolor\": \"white\", \"showbackground\": true, \"ticks\": \"\", \"zerolinecolor\": \"white\"}, \"yaxis\": {\"backgroundcolor\": \"#E5ECF6\", \"gridcolor\": \"white\", \"gridwidth\": 2, \"linecolor\": \"white\", \"showbackground\": true, \"ticks\": \"\", \"zerolinecolor\": \"white\"}, \"zaxis\": {\"backgroundcolor\": \"#E5ECF6\", \"gridcolor\": \"white\", \"gridwidth\": 2, \"linecolor\": \"white\", \"showbackground\": true, \"ticks\": \"\", \"zerolinecolor\": \"white\"}}, \"shapedefaults\": {\"line\": {\"color\": \"#2a3f5f\"}}, \"ternary\": {\"aaxis\": {\"gridcolor\": \"white\", \"linecolor\": \"white\", \"ticks\": \"\"}, \"baxis\": {\"gridcolor\": \"white\", \"linecolor\": \"white\", \"ticks\": \"\"}, \"bgcolor\": \"#E5ECF6\", \"caxis\": {\"gridcolor\": \"white\", \"linecolor\": \"white\", \"ticks\": \"\"}}, \"title\": {\"x\": 0.05}, \"xaxis\": {\"automargin\": true, \"gridcolor\": \"white\", \"linecolor\": \"white\", \"ticks\": \"\", \"title\": {\"standoff\": 15}, \"zerolinecolor\": \"white\", \"zerolinewidth\": 2}, \"yaxis\": {\"automargin\": true, \"gridcolor\": \"white\", \"linecolor\": \"white\", \"ticks\": \"\", \"title\": {\"standoff\": 15}, \"zerolinecolor\": \"white\", \"zerolinewidth\": 2}}}, \"title\": {\"text\": \"History\"}, \"xaxis\": {\"anchor\": \"y\", \"domain\": [0.0, 0.45], \"title\": {\"text\": \"epochs\"}}, \"xaxis2\": {\"anchor\": \"y2\", \"domain\": [0.55, 1.0], \"title\": {\"text\": \"epochs\"}}, \"yaxis\": {\"anchor\": \"x\", \"domain\": [0.0, 1.0], \"title\": {\"text\": \"loss (MSE)\"}}, \"yaxis2\": {\"anchor\": \"x2\", \"domain\": [0.0, 1.0], \"title\": {\"text\": \"MAE\"}}},\n",
              "                        {\"responsive\": true}\n",
              "                    ).then(function(){\n",
              "                            \n",
              "var gd = document.getElementById('10c167c9-a413-4afe-bcc3-4351cd3a0d79');\n",
              "var x = new MutationObserver(function (mutations, observer) {{\n",
              "        var display = window.getComputedStyle(gd).display;\n",
              "        if (!display || display === 'none') {{\n",
              "            console.log([gd, 'removed!']);\n",
              "            Plotly.purge(gd);\n",
              "            observer.disconnect();\n",
              "        }}\n",
              "}});\n",
              "\n",
              "// Listen for the removal of the full notebook cells\n",
              "var notebookContainer = gd.closest('#notebook-container');\n",
              "if (notebookContainer) {{\n",
              "    x.observe(notebookContainer, {childList: true});\n",
              "}}\n",
              "\n",
              "// Listen for the clearing of the current output cell\n",
              "var outputEl = gd.closest('.output');\n",
              "if (outputEl) {{\n",
              "    x.observe(outputEl, {childList: true});\n",
              "}}\n",
              "\n",
              "                        })\n",
              "                };\n",
              "                \n",
              "            </script>\n",
              "        </div>\n",
              "</body>\n",
              "</html>"
            ]
          },
          "metadata": {
            "tags": []
          }
        },
        {
          "output_type": "stream",
          "text": [
            "\n",
            "Средняя ошибка на тестовой выборке: 13.77 очков.\n"
          ],
          "name": "stdout"
        }
      ]
    },
    {
      "cell_type": "code",
      "metadata": {
        "id": "MXq73ePDqW7E",
        "colab": {
          "base_uri": "https://localhost:8080/",
          "height": 579
        },
        "outputId": "ba330157-ae0b-4b8e-cc8b-a54e012293d7"
      },
      "source": [
        "for mode in ['quarter_1', 'quarter_2', 'quarter_3', 'quarter_12', 'quarter_23', 'quarter_123']:\n",
        "    research(quarter_data, mode)"
      ],
      "execution_count": null,
      "outputs": [
        {
          "output_type": "display_data",
          "data": {
            "text/html": [
              "<html>\n",
              "<head><meta charset=\"utf-8\" /></head>\n",
              "<body>\n",
              "    <div>\n",
              "            <script src=\"https://cdnjs.cloudflare.com/ajax/libs/mathjax/2.7.5/MathJax.js?config=TeX-AMS-MML_SVG\"></script><script type=\"text/javascript\">if (window.MathJax) {MathJax.Hub.Config({SVG: {font: \"STIX-Web\"}});}</script>\n",
              "                <script type=\"text/javascript\">window.PlotlyConfig = {MathJaxConfig: 'local'};</script>\n",
              "        <script src=\"https://cdn.plot.ly/plotly-latest.min.js\"></script>    \n",
              "            <div id=\"a9a8a7a4-fe5e-4885-b714-48abfbf3fda4\" class=\"plotly-graph-div\" style=\"height:525px; width:100%;\"></div>\n",
              "            <script type=\"text/javascript\">\n",
              "                \n",
              "                    window.PLOTLYENV=window.PLOTLYENV || {};\n",
              "                    \n",
              "                if (document.getElementById(\"a9a8a7a4-fe5e-4885-b714-48abfbf3fda4\")) {\n",
              "                    Plotly.newPlot(\n",
              "                        'a9a8a7a4-fe5e-4885-b714-48abfbf3fda4',\n",
              "                        [{\"hoverinfo\": \"all\", \"hovertemplate\": \"epoch: %{x}<br>error: %{y}\", \"name\": \"loss\", \"type\": \"scatter\", \"x\": [1, 2, 3, 4, 5, 6, 7, 8, 9, 10, 11, 12, 13, 14, 15, 16, 17, 18, 19, 20, 21, 22, 23, 24, 25, 26, 27, 28, 29, 30, 31, 32, 33, 34, 35, 36, 37, 38, 39, 40, 41, 42, 43, 44, 45, 46, 47, 48, 49, 50, 51, 52, 53, 54, 55, 56, 57, 58, 59, 60, 61, 62, 63, 64, 65, 66, 67, 68, 69, 70, 71, 72, 73, 74, 75, 76, 77, 78, 79, 80, 81, 82, 83, 84, 85, 86, 87, 88, 89, 90, 91, 92, 93, 94, 95, 96, 97, 98, 99, 100, 101, 102, 103, 104, 105, 106, 107, 108, 109, 110, 111, 112, 113, 114, 115, 116, 117, 118, 119, 120, 121, 122, 123, 124, 125, 126, 127, 128, 129, 130, 131, 132, 133, 134, 135, 136, 137, 138, 139, 140, 141, 142, 143, 144, 145, 146, 147, 148, 149, 150, 151, 152, 153, 154, 155, 156, 157, 158, 159, 160, 161, 162, 163, 164, 165, 166, 167, 168, 169, 170, 171, 172, 173, 174, 175, 176, 177, 178, 179, 180, 181, 182, 183, 184, 185, 186, 187, 188, 189, 190, 191, 192, 193, 194, 195, 196, 197, 198, 199, 200, 201, 202, 203, 204, 205, 206, 207, 208, 209, 210, 211, 212, 213, 214, 215, 216, 217, 218, 219, 220, 221, 222, 223, 224, 225, 226, 227, 228, 229, 230, 231, 232], \"xaxis\": \"x\", \"y\": [0.35275572538375854, 0.29922157526016235, 0.2939629852771759, 0.288779616355896, 0.28363457322120667, 0.2785601317882538, 0.27354055643081665, 0.26855871081352234, 0.2637084424495697, 0.25887760519981384, 0.2541254758834839, 0.24941356480121613, 0.24478080868721008, 0.24024547636508942, 0.23572973906993866, 0.23130817711353302, 0.22695772349834442, 0.22265660762786865, 0.21843872964382172, 0.2142585813999176, 0.2101617008447647, 0.20609989762306213, 0.20213450491428375, 0.19818264245986938, 0.19435620307922363, 0.19054163992404938, 0.1868242621421814, 0.18312840163707733, 0.17953282594680786, 0.17596273124217987, 0.17244741320610046, 0.1690094918012619, 0.16561399400234222, 0.16229084134101868, 0.15898995101451874, 0.1557786464691162, 0.15262363851070404, 0.14951682090759277, 0.146465003490448, 0.14348189532756805, 0.14053979516029358, 0.13763833045959473, 0.13480281829833984, 0.13200806081295013, 0.12926363945007324, 0.12656360864639282, 0.12390431016683578, 0.12129899114370346, 0.11875097453594208, 0.11623989045619965, 0.11377625167369843, 0.11137166619300842, 0.10899065434932709, 0.10666829347610474, 0.10438136756420135, 0.10215722024440765, 0.09995803236961365, 0.09781455993652344, 0.09568949043750763, 0.09363880753517151, 0.09161470830440521, 0.08963795751333237, 0.0876973494887352, 0.0857987105846405, 0.08393525332212448, 0.08211995661258698, 0.08032442629337311, 0.07857655733823776, 0.0768590122461319, 0.0751754567027092, 0.07354741543531418, 0.0719398483633995, 0.07037124037742615, 0.06884327530860901, 0.06733208149671555, 0.06587269902229309, 0.06442064046859741, 0.06301549822092056, 0.061616331338882446, 0.06026794761419296, 0.05897735804319382, 0.057691413909196854, 0.056420739740133286, 0.05522499233484268, 0.054004769772291183, 0.0528327077627182, 0.0516841858625412, 0.05055846646428108, 0.04947492107748985, 0.04840404540300369, 0.0473603755235672, 0.04633551090955734, 0.045335348695516586, 0.04435749724507332, 0.04341059550642967, 0.04247916489839554, 0.041583556681871414, 0.04069124162197113, 0.03984455019235611, 0.03900923952460289, 0.03819985315203667, 0.037404902279376984, 0.0366392508149147, 0.035887300968170166, 0.035158056765794754, 0.03445454686880112, 0.033767204731702805, 0.03309759125113487, 0.03243695944547653, 0.03181227296590805, 0.031179489567875862, 0.030579695478081703, 0.02998914197087288, 0.029409177601337433, 0.028859412297606468, 0.028314922004938126, 0.027799440547823906, 0.027289867401123047, 0.0267991591244936, 0.02631545439362526, 0.0258423313498497, 0.02539471723139286, 0.02493881992995739, 0.024504613131284714, 0.02408856526017189, 0.02367093600332737, 0.02328725904226303, 0.02290043607354164, 0.022517791017889977, 0.022157913073897362, 0.021810216829180717, 0.021463800221681595, 0.021140750497579575, 0.02081635221838951, 0.02051548659801483, 0.020215025171637535, 0.01993153803050518, 0.019653664901852608, 0.019383927807211876, 0.019124260172247887, 0.018873684108257294, 0.018628433346748352, 0.01838875748217106, 0.018155260011553764, 0.017935140058398247, 0.01772097311913967, 0.017513195052742958, 0.017314109951257706, 0.017112016677856445, 0.016929587349295616, 0.016749829053878784, 0.016569506376981735, 0.01641206629574299, 0.016244178637862206, 0.016084814444184303, 0.015931103378534317, 0.01578545570373535, 0.01564573310315609, 0.015508444048464298, 0.015377054922282696, 0.015247355215251446, 0.015125805512070656, 0.015008912421762943, 0.014892639592289925, 0.014783005230128765, 0.014678683131933212, 0.014581235125660896, 0.014486510306596756, 0.014387219212949276, 0.014303608797490597, 0.014211040921509266, 0.014128035865724087, 0.01404231134802103, 0.013968858867883682, 0.013891013339161873, 0.013814425095915794, 0.013744695112109184, 0.01367869321256876, 0.013615368865430355, 0.013548685237765312, 0.013491258956491947, 0.013434138149023056, 0.013383371755480766, 0.013331961818039417, 0.01328248344361782, 0.01323719508945942, 0.013185927644371986, 0.01314595714211464, 0.01309895794838667, 0.01305987499654293, 0.01301764976233244, 0.012978223152458668, 0.012944076210260391, 0.012909326702356339, 0.012877543456852436, 0.012847119010984898, 0.012813759036362171, 0.012786507606506348, 0.012757695280015469, 0.01273140124976635, 0.012705306522548199, 0.01267931330949068, 0.012657101266086102, 0.01263223122805357, 0.012610597535967827, 0.01259305328130722, 0.01257022563368082, 0.012554355897009373, 0.012536398135125637, 0.012517781928181648, 0.012507162056863308, 0.012505955994129181, 0.012504065409302711, 0.012502530589699745, 0.012501160614192486, 0.012499963864684105, 0.012499826028943062, 0.012499632313847542, 0.012499485164880753, 0.012499338015913963, 0.012499234639108181, 0.012499221600592136, 0.012499202974140644, 0.0124991899356246, 0.012499179691076279, 0.012499164789915085, 0.01249916572123766, 0.012499164789915085, 0.01249916572123766, 0.01249916572123766, 0.01249916572123766, 0.012499166652560234], \"yaxis\": \"y\"}, {\"hoverinfo\": \"all\", \"hovertemplate\": \"epoch: %{x}<br>error: %{y}\", \"name\": \"mae\", \"type\": \"scatter\", \"x\": [1, 2, 3, 4, 5, 6, 7, 8, 9, 10, 11, 12, 13, 14, 15, 16, 17, 18, 19, 20, 21, 22, 23, 24, 25, 26, 27, 28, 29, 30, 31, 32, 33, 34, 35, 36, 37, 38, 39, 40, 41, 42, 43, 44, 45, 46, 47, 48, 49, 50, 51, 52, 53, 54, 55, 56, 57, 58, 59, 60, 61, 62, 63, 64, 65, 66, 67, 68, 69, 70, 71, 72, 73, 74, 75, 76, 77, 78, 79, 80, 81, 82, 83, 84, 85, 86, 87, 88, 89, 90, 91, 92, 93, 94, 95, 96, 97, 98, 99, 100, 101, 102, 103, 104, 105, 106, 107, 108, 109, 110, 111, 112, 113, 114, 115, 116, 117, 118, 119, 120, 121, 122, 123, 124, 125, 126, 127, 128, 129, 130, 131, 132, 133, 134, 135, 136, 137, 138, 139, 140, 141, 142, 143, 144, 145, 146, 147, 148, 149, 150, 151, 152, 153, 154, 155, 156, 157, 158, 159, 160, 161, 162, 163, 164, 165, 166, 167, 168, 169, 170, 171, 172, 173, 174, 175, 176, 177, 178, 179, 180, 181, 182, 183, 184, 185, 186, 187, 188, 189, 190, 191, 192, 193, 194, 195, 196, 197, 198, 199, 200, 201, 202, 203, 204, 205, 206, 207, 208, 209, 210, 211, 212, 213, 214, 215, 216, 217, 218, 219, 220, 221, 222, 223, 224, 225, 226, 227, 228, 229, 230, 231, 232], \"xaxis\": \"x2\", \"y\": [0.5752500891685486, 0.5357731580734253, 0.5308628678321838, 0.5259683132171631, 0.5211009979248047, 0.5162349939346313, 0.5113763809204102, 0.5065386891365051, 0.5017315745353699, 0.4969375729560852, 0.49216213822364807, 0.4874059855937958, 0.482676237821579, 0.4779823124408722, 0.4732993245124817, 0.46865102648735046, 0.4640277624130249, 0.4594053626060486, 0.45482337474823, 0.45025819540023804, 0.4457186162471771, 0.44120341539382935, 0.4367528557777405, 0.43230557441711426, 0.42788687348365784, 0.4235117733478546, 0.4191322326660156, 0.4147935211658478, 0.4104803204536438, 0.4061805307865143, 0.40191200375556946, 0.397670716047287, 0.3934282064437866, 0.38921216130256653, 0.3850613534450531, 0.38094061613082886, 0.3768261969089508, 0.37274688482284546, 0.36869487166404724, 0.3646942377090454, 0.36068087816238403, 0.3567142188549042, 0.352771133184433, 0.34885215759277344, 0.34495678544044495, 0.3411056101322174, 0.33726462721824646, 0.33345189690589905, 0.32967549562454224, 0.32592740654945374, 0.32219991087913513, 0.31854814291000366, 0.3148874044418335, 0.31127041578292847, 0.30770930647850037, 0.3041806221008301, 0.3006415069103241, 0.2971535623073578, 0.2936724126338959, 0.29024961590766907, 0.28682976961135864, 0.2834544777870178, 0.2801133394241333, 0.276792973279953, 0.2734987735748291, 0.27025604248046875, 0.26702216267585754, 0.2637891471385956, 0.26060378551483154, 0.2574920356273651, 0.2544170618057251, 0.2513538599014282, 0.2483130693435669, 0.24531032145023346, 0.24234318733215332, 0.23935896158218384, 0.23643925786018372, 0.2334766536951065, 0.2305746227502823, 0.22774553298950195, 0.22493918240070343, 0.22210218012332916, 0.2193337380886078, 0.2166101336479187, 0.21386535465717316, 0.21115252375602722, 0.20847250521183014, 0.20581355690956116, 0.20322869718074799, 0.2006119340658188, 0.19804076850414276, 0.1955016851425171, 0.19295835494995117, 0.19045786559581757, 0.1880127489566803, 0.1855587363243103, 0.1831587851047516, 0.18077753484249115, 0.17845216393470764, 0.17613907158374786, 0.17384032905101776, 0.1715807467699051, 0.16937880218029022, 0.16720058023929596, 0.16508406400680542, 0.16300123929977417, 0.16096201539039612, 0.15895310044288635, 0.1569630205631256, 0.15502992272377014, 0.1530919373035431, 0.15122893452644348, 0.14937879145145416, 0.14757075905799866, 0.14588861167430878, 0.14412802457809448, 0.14247305691242218, 0.14083223044872284, 0.139198437333107, 0.1376272290945053, 0.13600100576877594, 0.13445886969566345, 0.132881298661232, 0.13133519887924194, 0.12986230850219727, 0.12837274372577667, 0.12699195742607117, 0.12559127807617188, 0.12420234829187393, 0.12287553399801254, 0.12155967950820923, 0.12025189399719238, 0.1190393790602684, 0.11782819032669067, 0.11670097708702087, 0.11557935923337936, 0.11449005454778671, 0.11342710256576538, 0.11237787455320358, 0.11134212464094162, 0.1103309690952301, 0.10936649888753891, 0.10841302573680878, 0.10746634006500244, 0.10656339675188065, 0.10567031800746918, 0.10479851067066193, 0.10396204888820648, 0.103139728307724, 0.10233842581510544, 0.1015622541308403, 0.1007954329252243, 0.10011238604784012, 0.09940092265605927, 0.09869089722633362, 0.09800106287002563, 0.0973605141043663, 0.09672010689973831, 0.0960923433303833, 0.09550613164901733, 0.09492538124322891, 0.09435072541236877, 0.0938059389591217, 0.0932340919971466, 0.09272320568561554, 0.09224670380353928, 0.09178700298070908, 0.09134460240602493, 0.09087251871824265, 0.0904742181301117, 0.09002015739679337, 0.08961940556764603, 0.08919774740934372, 0.08883538097143173, 0.08841867744922638, 0.08804075419902802, 0.08769867569208145, 0.08736026287078857, 0.08703232556581497, 0.08668726682662964, 0.08638392388820648, 0.08609318733215332, 0.08580602705478668, 0.08551855385303497, 0.08525233715772629, 0.0850006639957428, 0.08474674075841904, 0.08451718837022781, 0.08425965160131454, 0.08402987569570541, 0.08382049947977066, 0.08359862118959427, 0.08340587466955185, 0.08320746570825577, 0.08301539719104767, 0.08283676207065582, 0.08265917003154755, 0.08251456171274185, 0.08234130591154099, 0.08218172937631607, 0.08202331513166428, 0.08186796307563782, 0.08172638714313507, 0.08157524466514587, 0.08144504576921463, 0.08132260292768478, 0.08119363337755203, 0.08108022063970566, 0.0809563472867012, 0.08084292709827423, 0.08077298104763031, 0.0807630717754364, 0.08075177669525146, 0.08074210584163666, 0.08073152601718903, 0.08072447031736374, 0.08072347939014435, 0.08072233945131302, 0.0807214081287384, 0.08072035014629364, 0.08071969449520111, 0.08071959763765335, 0.0807194784283638, 0.08071939647197723, 0.08071931451559067, 0.0807192251086235, 0.0807192325592041, 0.0807192325592041, 0.0807192325592041, 0.0807192400097847, 0.0807192325592041, 0.0807192251086235], \"yaxis\": \"y2\"}, {\"hoverinfo\": \"all\", \"hovertemplate\": \"epoch: %{x}<br>error: %{y}\", \"name\": \"val_loss\", \"type\": \"scatter\", \"x\": [1, 2, 3, 4, 5, 6, 7, 8, 9, 10, 11, 12, 13, 14, 15, 16, 17, 18, 19, 20, 21, 22, 23, 24, 25, 26, 27, 28, 29, 30, 31, 32, 33, 34, 35, 36, 37, 38, 39, 40, 41, 42, 43, 44, 45, 46, 47, 48, 49, 50, 51, 52, 53, 54, 55, 56, 57, 58, 59, 60, 61, 62, 63, 64, 65, 66, 67, 68, 69, 70, 71, 72, 73, 74, 75, 76, 77, 78, 79, 80, 81, 82, 83, 84, 85, 86, 87, 88, 89, 90, 91, 92, 93, 94, 95, 96, 97, 98, 99, 100, 101, 102, 103, 104, 105, 106, 107, 108, 109, 110, 111, 112, 113, 114, 115, 116, 117, 118, 119, 120, 121, 122, 123, 124, 125, 126, 127, 128, 129, 130, 131, 132, 133, 134, 135, 136, 137, 138, 139, 140, 141, 142, 143, 144, 145, 146, 147, 148, 149, 150, 151, 152, 153, 154, 155, 156, 157, 158, 159, 160, 161, 162, 163, 164, 165, 166, 167, 168, 169, 170, 171, 172, 173, 174, 175, 176, 177, 178, 179, 180, 181, 182, 183, 184, 185, 186, 187, 188, 189, 190, 191, 192, 193, 194, 195, 196, 197, 198, 199, 200, 201, 202, 203, 204, 205, 206, 207, 208, 209, 210, 211, 212, 213, 214, 215, 216, 217, 218, 219, 220, 221, 222, 223, 224, 225, 226, 227, 228, 229, 230, 231, 232], \"xaxis\": \"x\", \"y\": [0.296880841255188, 0.29162296652793884, 0.2864169180393219, 0.2812594473361969, 0.27616173028945923, 0.27112680673599243, 0.2661554217338562, 0.26125556230545044, 0.25641143321990967, 0.2516433298587799, 0.24693408608436584, 0.24229346215724945, 0.2377181053161621, 0.23320086300373077, 0.22875933349132538, 0.22438523173332214, 0.22007323801517487, 0.21582482755184174, 0.2116369605064392, 0.2075180560350418, 0.20345331728458405, 0.19945554435253143, 0.19551753997802734, 0.19165930151939392, 0.18784719705581665, 0.1840965300798416, 0.1803925782442093, 0.17677229642868042, 0.1731957048177719, 0.16968154907226562, 0.1662299782037735, 0.16282598674297333, 0.15946687757968903, 0.15617255866527557, 0.1529463678598404, 0.14976651966571808, 0.14664433896541595, 0.14358893036842346, 0.14058327674865723, 0.13762399554252625, 0.13471770286560059, 0.1318632811307907, 0.1290612816810608, 0.1263107806444168, 0.1236039325594902, 0.12093845754861832, 0.11831917613744736, 0.11575053632259369, 0.11322736740112305, 0.11075471341609955, 0.1083369255065918, 0.10595664381980896, 0.10362169146537781, 0.10132507979869843, 0.09907782822847366, 0.09687503427267075, 0.09471970796585083, 0.092598095536232, 0.09052690863609314, 0.08849060535430908, 0.08650292456150055, 0.08455958217382431, 0.0826544538140297, 0.08078417927026749, 0.0789540708065033, 0.07715679705142975, 0.0753968358039856, 0.07366658747196198, 0.07197468727827072, 0.0703287124633789, 0.06871587783098221, 0.0671510100364685, 0.0656149610877037, 0.06410542130470276, 0.06262855976819992, 0.061171628534793854, 0.05974945053458214, 0.05835510417819023, 0.057005781680345535, 0.055692676454782486, 0.054400887340307236, 0.053143762052059174, 0.051921214908361435, 0.05070870742201805, 0.04952998459339142, 0.04837394878268242, 0.0472484715282917, 0.046152692288160324, 0.04508015140891075, 0.04403337091207504, 0.04300931096076965, 0.04200442135334015, 0.04102036729454994, 0.04006607457995415, 0.039131660014390945, 0.03822367265820503, 0.03733545169234276, 0.03648019954562187, 0.035640034824609756, 0.034826863557100296, 0.03403282165527344, 0.03325727581977844, 0.03250045329332352, 0.03176878020167351, 0.03105960413813591, 0.030368922278285027, 0.029695870354771614, 0.029041454195976257, 0.028406187891960144, 0.027779683470726013, 0.02717074193060398, 0.026571432128548622, 0.025991734117269516, 0.025438182055950165, 0.024898236617445946, 0.024380624294281006, 0.023871755227446556, 0.023373721167445183, 0.02288718707859516, 0.022418469190597534, 0.021963724866509438, 0.02151256799697876, 0.021074773743748665, 0.02064911462366581, 0.020237494260072708, 0.019847549498081207, 0.019461242482066154, 0.019084449857473373, 0.018719496205449104, 0.018361764028668404, 0.01801685057580471, 0.017690509557724, 0.017371544614434242, 0.017065037041902542, 0.016765890643000603, 0.016481567174196243, 0.016202867031097412, 0.015933144837617874, 0.015669459477066994, 0.015415776520967484, 0.015173428691923618, 0.01493582408875227, 0.014704184606671333, 0.01448022574186325, 0.014261199161410332, 0.01405184343457222, 0.013850388117134571, 0.013654160313308239, 0.01346875075250864, 0.013287782669067383, 0.013113865628838539, 0.012950285337865353, 0.01278521679341793, 0.012624583207070827, 0.012469428591430187, 0.012322279624640942, 0.012180108577013016, 0.012043904513120651, 0.011914961971342564, 0.011789572425186634, 0.011667754501104355, 0.011547083035111427, 0.011429905891418457, 0.011319502256810665, 0.011216521263122559, 0.011117895133793354, 0.011021874845027924, 0.010929964482784271, 0.010840891860425472, 0.010750067420303822, 0.01066618598997593, 0.010585137642920017, 0.010508165694773197, 0.010429579764604568, 0.01035537663847208, 0.01028664130717516, 0.010219892486929893, 0.010154208168387413, 0.01009044237434864, 0.010032319463789463, 0.009975296445190907, 0.009922845289111137, 0.009871345944702625, 0.009823054075241089, 0.009776410646736622, 0.009730745106935501, 0.009688234888017178, 0.009644200094044209, 0.00960279069840908, 0.009561440907418728, 0.009523657150566578, 0.009488905780017376, 0.009454845450818539, 0.009422056376934052, 0.00939090084284544, 0.00936005637049675, 0.009333119727671146, 0.009305911138653755, 0.00927967019379139, 0.009253284893929958, 0.009228786453604698, 0.009203753434121609, 0.009179657325148582, 0.009158844128251076, 0.009139563888311386, 0.009120217524468899, 0.009102891199290752, 0.00908541027456522, 0.009068695828318596, 0.009053400717675686, 0.009051915258169174, 0.00905022956430912, 0.009048820473253727, 0.00904739648103714, 0.009045800194144249, 0.009045646525919437, 0.009045487269759178, 0.009045339189469814, 0.009045196697115898, 0.009045050479471684, 0.009045038372278214, 0.009045020677149296, 0.009045005775988102, 0.009044995531439781, 0.009044977836310863, 0.009044977836310863, 0.009044977836310863, 0.009044977836310863, 0.009044977836310863, 0.009044977836310863, 0.009044977836310863, 0.009044977836310863], \"yaxis\": \"y\"}, {\"hoverinfo\": \"all\", \"hovertemplate\": \"epoch: %{x}<br>error: %{y}\", \"name\": \"val_mae\", \"type\": \"scatter\", \"x\": [1, 2, 3, 4, 5, 6, 7, 8, 9, 10, 11, 12, 13, 14, 15, 16, 17, 18, 19, 20, 21, 22, 23, 24, 25, 26, 27, 28, 29, 30, 31, 32, 33, 34, 35, 36, 37, 38, 39, 40, 41, 42, 43, 44, 45, 46, 47, 48, 49, 50, 51, 52, 53, 54, 55, 56, 57, 58, 59, 60, 61, 62, 63, 64, 65, 66, 67, 68, 69, 70, 71, 72, 73, 74, 75, 76, 77, 78, 79, 80, 81, 82, 83, 84, 85, 86, 87, 88, 89, 90, 91, 92, 93, 94, 95, 96, 97, 98, 99, 100, 101, 102, 103, 104, 105, 106, 107, 108, 109, 110, 111, 112, 113, 114, 115, 116, 117, 118, 119, 120, 121, 122, 123, 124, 125, 126, 127, 128, 129, 130, 131, 132, 133, 134, 135, 136, 137, 138, 139, 140, 141, 142, 143, 144, 145, 146, 147, 148, 149, 150, 151, 152, 153, 154, 155, 156, 157, 158, 159, 160, 161, 162, 163, 164, 165, 166, 167, 168, 169, 170, 171, 172, 173, 174, 175, 176, 177, 178, 179, 180, 181, 182, 183, 184, 185, 186, 187, 188, 189, 190, 191, 192, 193, 194, 195, 196, 197, 198, 199, 200, 201, 202, 203, 204, 205, 206, 207, 208, 209, 210, 211, 212, 213, 214, 215, 216, 217, 218, 219, 220, 221, 222, 223, 224, 225, 226, 227, 228, 229, 230, 231, 232], \"xaxis\": \"x2\", \"y\": [0.5368325114250183, 0.531982958316803, 0.5271367430686951, 0.5222905874252319, 0.5174553394317627, 0.5126341581344604, 0.5078281760215759, 0.5030457973480225, 0.4982719123363495, 0.49352720379829407, 0.48879504203796387, 0.4841304123401642, 0.4795099198818207, 0.47490260004997253, 0.47032707929611206, 0.46577563881874084, 0.46124333143234253, 0.45673248171806335, 0.4522404372692108, 0.44777682423591614, 0.4433263838291168, 0.43890368938446045, 0.4345015287399292, 0.4301432967185974, 0.42579182982444763, 0.4214650094509125, 0.4171464443206787, 0.41288018226623535, 0.40862002968788147, 0.40438881516456604, 0.40018773078918457, 0.3959992825984955, 0.39182040095329285, 0.3876767158508301, 0.3835735023021698, 0.3794841766357422, 0.37542369961738586, 0.3714054822921753, 0.3674079477787018, 0.36342740058898926, 0.3594732880592346, 0.3555451035499573, 0.35164451599121094, 0.34777119755744934, 0.34391486644744873, 0.3400728106498718, 0.3362525403499603, 0.33246156573295593, 0.328693151473999, 0.3249557316303253, 0.3212571442127228, 0.31757184863090515, 0.31391260027885437, 0.31026923656463623, 0.3066602051258087, 0.30307862162590027, 0.29953068494796753, 0.29599452018737793, 0.29249900579452515, 0.2890188694000244, 0.28557872772216797, 0.2821725308895111, 0.2787906527519226, 0.27542799711227417, 0.2720949649810791, 0.2687792181968689, 0.26548975706100464, 0.26221323013305664, 0.2589668035507202, 0.2557665705680847, 0.2525889575481415, 0.2494647353887558, 0.24635706841945648, 0.24326187372207642, 0.24019251763820648, 0.2371230572462082, 0.23408541083335876, 0.2310657948255539, 0.22810296714305878, 0.22517962753772736, 0.22226355969905853, 0.21938581764698029, 0.216574564576149, 0.21376222372055054, 0.21098901331424713, 0.20822997391223907, 0.2055048644542694, 0.202834352850914, 0.20020142197608948, 0.19759394228458405, 0.1950053572654724, 0.19242730736732483, 0.18986468017101288, 0.18734191358089447, 0.18483415246009827, 0.18236012756824493, 0.17990271747112274, 0.1775001883506775, 0.17510364949703217, 0.1727481633424759, 0.1704123467206955, 0.16809524595737457, 0.16579844057559967, 0.16354286670684814, 0.16132213175296783, 0.15912510454654694, 0.15698164701461792, 0.15486587584018707, 0.15277908742427826, 0.15068776905536652, 0.14862366020679474, 0.1465887427330017, 0.14458756148815155, 0.1426449567079544, 0.14071877300739288, 0.13884174823760986, 0.13701824843883514, 0.13521024584770203, 0.13341397047042847, 0.13165396451950073, 0.12991730868816376, 0.12818627059459686, 0.12651175260543823, 0.12485486268997192, 0.12322414666414261, 0.12165209650993347, 0.12006718665361404, 0.11849348247051239, 0.11694158613681793, 0.1153925210237503, 0.11387138068675995, 0.11241640150547028, 0.11098235100507736, 0.1095970869064331, 0.10827376693487167, 0.10699288547039032, 0.10575999319553375, 0.10454490035772324, 0.1033347025513649, 0.10214836895465851, 0.10100531578063965, 0.09989500045776367, 0.09879176318645477, 0.09773802012205124, 0.09669594466686249, 0.09568553417921066, 0.09470915049314499, 0.09373930096626282, 0.09280488640069962, 0.09187489748001099, 0.09096343070268631, 0.09010380506515503, 0.08922280371189117, 0.0883479118347168, 0.08750191330909729, 0.08668459951877594, 0.08587871491909027, 0.0851365253329277, 0.08442443609237671, 0.08371783792972565, 0.08304981887340546, 0.08238999545574188, 0.08173539489507675, 0.0811111330986023, 0.08052583783864975, 0.0799536406993866, 0.07938490808010101, 0.07888143509626389, 0.07840099185705185, 0.07790032774209976, 0.07742766290903091, 0.07697398215532303, 0.07653412222862244, 0.07607488334178925, 0.07563117146492004, 0.0752108171582222, 0.07479339092969894, 0.07437315583229065, 0.07395556569099426, 0.07357465475797653, 0.07319539040327072, 0.07283853739500046, 0.072480209171772, 0.07213650643825531, 0.07180718332529068, 0.07147754728794098, 0.0711636021733284, 0.07083065062761307, 0.07050980627536774, 0.07023368030786514, 0.06998463720083237, 0.06975002586841583, 0.06951450556516647, 0.06928221136331558, 0.06906143575906754, 0.06885888427495956, 0.0686776340007782, 0.06849010288715363, 0.06830471009016037, 0.06811343878507614, 0.06793113052845001, 0.06774721294641495, 0.0675661563873291, 0.06740548461675644, 0.0672527551651001, 0.06709548830986023, 0.06695092469453812, 0.06680124253034592, 0.06667497009038925, 0.06656251847743988, 0.06655142456293106, 0.06653882563114166, 0.06652825325727463, 0.06651754677295685, 0.06650550663471222, 0.0665043443441391, 0.0665031373500824, 0.06650201976299286, 0.0665009468793869, 0.06649983674287796, 0.0664997473359108, 0.06649960577487946, 0.0664995014667511, 0.06649943441152573, 0.06649930030107498, 0.06649930030107498, 0.06649930030107498, 0.06649930030107498, 0.06649930030107498, 0.06649930030107498, 0.06649930030107498, 0.06649930030107498], \"yaxis\": \"y2\"}],\n",
              "                        {\"legend\": {\"orientation\": \"h\"}, \"margin\": {\"b\": 0, \"l\": 0, \"r\": 40, \"t\": 40}, \"template\": {\"data\": {\"bar\": [{\"error_x\": {\"color\": \"#2a3f5f\"}, \"error_y\": {\"color\": \"#2a3f5f\"}, \"marker\": {\"line\": {\"color\": \"#E5ECF6\", \"width\": 0.5}}, \"type\": \"bar\"}], \"barpolar\": [{\"marker\": {\"line\": {\"color\": \"#E5ECF6\", \"width\": 0.5}}, \"type\": \"barpolar\"}], \"carpet\": [{\"aaxis\": {\"endlinecolor\": \"#2a3f5f\", \"gridcolor\": \"white\", \"linecolor\": \"white\", \"minorgridcolor\": \"white\", \"startlinecolor\": \"#2a3f5f\"}, \"baxis\": {\"endlinecolor\": \"#2a3f5f\", \"gridcolor\": \"white\", \"linecolor\": \"white\", \"minorgridcolor\": \"white\", \"startlinecolor\": \"#2a3f5f\"}, \"type\": \"carpet\"}], \"choropleth\": [{\"colorbar\": {\"outlinewidth\": 0, \"ticks\": \"\"}, \"type\": \"choropleth\"}], \"contour\": [{\"colorbar\": {\"outlinewidth\": 0, \"ticks\": \"\"}, \"colorscale\": [[0.0, \"#0d0887\"], [0.1111111111111111, \"#46039f\"], [0.2222222222222222, \"#7201a8\"], [0.3333333333333333, \"#9c179e\"], [0.4444444444444444, \"#bd3786\"], [0.5555555555555556, \"#d8576b\"], [0.6666666666666666, \"#ed7953\"], [0.7777777777777778, \"#fb9f3a\"], [0.8888888888888888, \"#fdca26\"], [1.0, \"#f0f921\"]], \"type\": \"contour\"}], \"contourcarpet\": [{\"colorbar\": {\"outlinewidth\": 0, \"ticks\": \"\"}, \"type\": \"contourcarpet\"}], \"heatmap\": [{\"colorbar\": {\"outlinewidth\": 0, \"ticks\": \"\"}, \"colorscale\": [[0.0, \"#0d0887\"], [0.1111111111111111, \"#46039f\"], [0.2222222222222222, \"#7201a8\"], [0.3333333333333333, \"#9c179e\"], [0.4444444444444444, \"#bd3786\"], [0.5555555555555556, \"#d8576b\"], [0.6666666666666666, \"#ed7953\"], [0.7777777777777778, \"#fb9f3a\"], [0.8888888888888888, \"#fdca26\"], [1.0, \"#f0f921\"]], \"type\": \"heatmap\"}], \"heatmapgl\": [{\"colorbar\": {\"outlinewidth\": 0, \"ticks\": \"\"}, \"colorscale\": [[0.0, \"#0d0887\"], [0.1111111111111111, \"#46039f\"], [0.2222222222222222, \"#7201a8\"], [0.3333333333333333, \"#9c179e\"], [0.4444444444444444, \"#bd3786\"], [0.5555555555555556, \"#d8576b\"], [0.6666666666666666, \"#ed7953\"], [0.7777777777777778, \"#fb9f3a\"], [0.8888888888888888, \"#fdca26\"], [1.0, \"#f0f921\"]], \"type\": \"heatmapgl\"}], \"histogram\": [{\"marker\": {\"colorbar\": {\"outlinewidth\": 0, \"ticks\": \"\"}}, \"type\": \"histogram\"}], \"histogram2d\": [{\"colorbar\": {\"outlinewidth\": 0, \"ticks\": \"\"}, \"colorscale\": [[0.0, \"#0d0887\"], [0.1111111111111111, \"#46039f\"], [0.2222222222222222, \"#7201a8\"], [0.3333333333333333, \"#9c179e\"], [0.4444444444444444, \"#bd3786\"], [0.5555555555555556, \"#d8576b\"], [0.6666666666666666, \"#ed7953\"], [0.7777777777777778, \"#fb9f3a\"], [0.8888888888888888, \"#fdca26\"], [1.0, \"#f0f921\"]], \"type\": \"histogram2d\"}], \"histogram2dcontour\": [{\"colorbar\": {\"outlinewidth\": 0, \"ticks\": \"\"}, \"colorscale\": [[0.0, \"#0d0887\"], [0.1111111111111111, \"#46039f\"], [0.2222222222222222, \"#7201a8\"], [0.3333333333333333, \"#9c179e\"], [0.4444444444444444, \"#bd3786\"], [0.5555555555555556, \"#d8576b\"], [0.6666666666666666, \"#ed7953\"], [0.7777777777777778, \"#fb9f3a\"], [0.8888888888888888, \"#fdca26\"], [1.0, \"#f0f921\"]], \"type\": \"histogram2dcontour\"}], \"mesh3d\": [{\"colorbar\": {\"outlinewidth\": 0, \"ticks\": \"\"}, \"type\": \"mesh3d\"}], \"parcoords\": [{\"line\": {\"colorbar\": {\"outlinewidth\": 0, \"ticks\": \"\"}}, \"type\": \"parcoords\"}], \"pie\": [{\"automargin\": true, \"type\": \"pie\"}], \"scatter\": [{\"marker\": {\"colorbar\": {\"outlinewidth\": 0, \"ticks\": \"\"}}, \"type\": \"scatter\"}], \"scatter3d\": [{\"line\": {\"colorbar\": {\"outlinewidth\": 0, \"ticks\": \"\"}}, \"marker\": {\"colorbar\": {\"outlinewidth\": 0, \"ticks\": \"\"}}, \"type\": \"scatter3d\"}], \"scattercarpet\": [{\"marker\": {\"colorbar\": {\"outlinewidth\": 0, \"ticks\": \"\"}}, \"type\": \"scattercarpet\"}], \"scattergeo\": [{\"marker\": {\"colorbar\": {\"outlinewidth\": 0, \"ticks\": \"\"}}, \"type\": \"scattergeo\"}], \"scattergl\": [{\"marker\": {\"colorbar\": {\"outlinewidth\": 0, \"ticks\": \"\"}}, \"type\": \"scattergl\"}], \"scattermapbox\": [{\"marker\": {\"colorbar\": {\"outlinewidth\": 0, \"ticks\": \"\"}}, \"type\": \"scattermapbox\"}], \"scatterpolar\": [{\"marker\": {\"colorbar\": {\"outlinewidth\": 0, \"ticks\": \"\"}}, \"type\": \"scatterpolar\"}], \"scatterpolargl\": [{\"marker\": {\"colorbar\": {\"outlinewidth\": 0, \"ticks\": \"\"}}, \"type\": \"scatterpolargl\"}], \"scatterternary\": [{\"marker\": {\"colorbar\": {\"outlinewidth\": 0, \"ticks\": \"\"}}, \"type\": \"scatterternary\"}], \"surface\": [{\"colorbar\": {\"outlinewidth\": 0, \"ticks\": \"\"}, \"colorscale\": [[0.0, \"#0d0887\"], [0.1111111111111111, \"#46039f\"], [0.2222222222222222, \"#7201a8\"], [0.3333333333333333, \"#9c179e\"], [0.4444444444444444, \"#bd3786\"], [0.5555555555555556, \"#d8576b\"], [0.6666666666666666, \"#ed7953\"], [0.7777777777777778, \"#fb9f3a\"], [0.8888888888888888, \"#fdca26\"], [1.0, \"#f0f921\"]], \"type\": \"surface\"}], \"table\": [{\"cells\": {\"fill\": {\"color\": \"#EBF0F8\"}, \"line\": {\"color\": \"white\"}}, \"header\": {\"fill\": {\"color\": \"#C8D4E3\"}, \"line\": {\"color\": \"white\"}}, \"type\": \"table\"}]}, \"layout\": {\"annotationdefaults\": {\"arrowcolor\": \"#2a3f5f\", \"arrowhead\": 0, \"arrowwidth\": 1}, \"coloraxis\": {\"colorbar\": {\"outlinewidth\": 0, \"ticks\": \"\"}}, \"colorscale\": {\"diverging\": [[0, \"#8e0152\"], [0.1, \"#c51b7d\"], [0.2, \"#de77ae\"], [0.3, \"#f1b6da\"], [0.4, \"#fde0ef\"], [0.5, \"#f7f7f7\"], [0.6, \"#e6f5d0\"], [0.7, \"#b8e186\"], [0.8, \"#7fbc41\"], [0.9, \"#4d9221\"], [1, \"#276419\"]], \"sequential\": [[0.0, \"#0d0887\"], [0.1111111111111111, \"#46039f\"], [0.2222222222222222, \"#7201a8\"], [0.3333333333333333, \"#9c179e\"], [0.4444444444444444, \"#bd3786\"], [0.5555555555555556, \"#d8576b\"], [0.6666666666666666, \"#ed7953\"], [0.7777777777777778, \"#fb9f3a\"], [0.8888888888888888, \"#fdca26\"], [1.0, \"#f0f921\"]], \"sequentialminus\": [[0.0, \"#0d0887\"], [0.1111111111111111, \"#46039f\"], [0.2222222222222222, \"#7201a8\"], [0.3333333333333333, \"#9c179e\"], [0.4444444444444444, \"#bd3786\"], [0.5555555555555556, \"#d8576b\"], [0.6666666666666666, \"#ed7953\"], [0.7777777777777778, \"#fb9f3a\"], [0.8888888888888888, \"#fdca26\"], [1.0, \"#f0f921\"]]}, \"colorway\": [\"#636efa\", \"#EF553B\", \"#00cc96\", \"#ab63fa\", \"#FFA15A\", \"#19d3f3\", \"#FF6692\", \"#B6E880\", \"#FF97FF\", \"#FECB52\"], \"font\": {\"color\": \"#2a3f5f\"}, \"geo\": {\"bgcolor\": \"white\", \"lakecolor\": \"white\", \"landcolor\": \"#E5ECF6\", \"showlakes\": true, \"showland\": true, \"subunitcolor\": \"white\"}, \"hoverlabel\": {\"align\": \"left\"}, \"hovermode\": \"closest\", \"mapbox\": {\"style\": \"light\"}, \"paper_bgcolor\": \"white\", \"plot_bgcolor\": \"#E5ECF6\", \"polar\": {\"angularaxis\": {\"gridcolor\": \"white\", \"linecolor\": \"white\", \"ticks\": \"\"}, \"bgcolor\": \"#E5ECF6\", \"radialaxis\": {\"gridcolor\": \"white\", \"linecolor\": \"white\", \"ticks\": \"\"}}, \"scene\": {\"xaxis\": {\"backgroundcolor\": \"#E5ECF6\", \"gridcolor\": \"white\", \"gridwidth\": 2, \"linecolor\": \"white\", \"showbackground\": true, \"ticks\": \"\", \"zerolinecolor\": \"white\"}, \"yaxis\": {\"backgroundcolor\": \"#E5ECF6\", \"gridcolor\": \"white\", \"gridwidth\": 2, \"linecolor\": \"white\", \"showbackground\": true, \"ticks\": \"\", \"zerolinecolor\": \"white\"}, \"zaxis\": {\"backgroundcolor\": \"#E5ECF6\", \"gridcolor\": \"white\", \"gridwidth\": 2, \"linecolor\": \"white\", \"showbackground\": true, \"ticks\": \"\", \"zerolinecolor\": \"white\"}}, \"shapedefaults\": {\"line\": {\"color\": \"#2a3f5f\"}}, \"ternary\": {\"aaxis\": {\"gridcolor\": \"white\", \"linecolor\": \"white\", \"ticks\": \"\"}, \"baxis\": {\"gridcolor\": \"white\", \"linecolor\": \"white\", \"ticks\": \"\"}, \"bgcolor\": \"#E5ECF6\", \"caxis\": {\"gridcolor\": \"white\", \"linecolor\": \"white\", \"ticks\": \"\"}}, \"title\": {\"x\": 0.05}, \"xaxis\": {\"automargin\": true, \"gridcolor\": \"white\", \"linecolor\": \"white\", \"ticks\": \"\", \"title\": {\"standoff\": 15}, \"zerolinecolor\": \"white\", \"zerolinewidth\": 2}, \"yaxis\": {\"automargin\": true, \"gridcolor\": \"white\", \"linecolor\": \"white\", \"ticks\": \"\", \"title\": {\"standoff\": 15}, \"zerolinecolor\": \"white\", \"zerolinewidth\": 2}}}, \"title\": {\"text\": \"History\"}, \"xaxis\": {\"anchor\": \"y\", \"domain\": [0.0, 0.45], \"title\": {\"text\": \"epochs\"}}, \"xaxis2\": {\"anchor\": \"y2\", \"domain\": [0.55, 1.0], \"title\": {\"text\": \"epochs\"}}, \"yaxis\": {\"anchor\": \"x\", \"domain\": [0.0, 1.0], \"title\": {\"text\": \"loss (MSE)\"}}, \"yaxis2\": {\"anchor\": \"x2\", \"domain\": [0.0, 1.0], \"title\": {\"text\": \"MAE\"}}},\n",
              "                        {\"responsive\": true}\n",
              "                    ).then(function(){\n",
              "                            \n",
              "var gd = document.getElementById('a9a8a7a4-fe5e-4885-b714-48abfbf3fda4');\n",
              "var x = new MutationObserver(function (mutations, observer) {{\n",
              "        var display = window.getComputedStyle(gd).display;\n",
              "        if (!display || display === 'none') {{\n",
              "            console.log([gd, 'removed!']);\n",
              "            Plotly.purge(gd);\n",
              "            observer.disconnect();\n",
              "        }}\n",
              "}});\n",
              "\n",
              "// Listen for the removal of the full notebook cells\n",
              "var notebookContainer = gd.closest('#notebook-container');\n",
              "if (notebookContainer) {{\n",
              "    x.observe(notebookContainer, {childList: true});\n",
              "}}\n",
              "\n",
              "// Listen for the clearing of the current output cell\n",
              "var outputEl = gd.closest('.output');\n",
              "if (outputEl) {{\n",
              "    x.observe(outputEl, {childList: true});\n",
              "}}\n",
              "\n",
              "                        })\n",
              "                };\n",
              "                \n",
              "            </script>\n",
              "        </div>\n",
              "</body>\n",
              "</html>"
            ]
          },
          "metadata": {
            "tags": []
          }
        },
        {
          "output_type": "stream",
          "text": [
            "\n",
            "Средняя ошибка на тестовой выборке: 23.6 очков.\n"
          ],
          "name": "stdout"
        }
      ]
    },
    {
      "cell_type": "code",
      "metadata": {
        "id": "eUwGshPAC3mk",
        "colab": {
          "base_uri": "https://localhost:8080/",
          "height": 579
        },
        "outputId": "15160bcc-86f6-40db-80f5-e6a4cd0f8508"
      },
      "source": [
        "for hidden_dim in [5, 10, 100]:\n",
        "    research(time_data, 'time_2', hidden_dim=hidden_dim)"
      ],
      "execution_count": null,
      "outputs": [
        {
          "output_type": "display_data",
          "data": {
            "text/html": [
              "<html>\n",
              "<head><meta charset=\"utf-8\" /></head>\n",
              "<body>\n",
              "    <div>\n",
              "            <script src=\"https://cdnjs.cloudflare.com/ajax/libs/mathjax/2.7.5/MathJax.js?config=TeX-AMS-MML_SVG\"></script><script type=\"text/javascript\">if (window.MathJax) {MathJax.Hub.Config({SVG: {font: \"STIX-Web\"}});}</script>\n",
              "                <script type=\"text/javascript\">window.PlotlyConfig = {MathJaxConfig: 'local'};</script>\n",
              "        <script src=\"https://cdn.plot.ly/plotly-latest.min.js\"></script>    \n",
              "            <div id=\"a45f0a98-469e-4986-9415-7bf6e07ea51d\" class=\"plotly-graph-div\" style=\"height:525px; width:100%;\"></div>\n",
              "            <script type=\"text/javascript\">\n",
              "                \n",
              "                    window.PLOTLYENV=window.PLOTLYENV || {};\n",
              "                    \n",
              "                if (document.getElementById(\"a45f0a98-469e-4986-9415-7bf6e07ea51d\")) {\n",
              "                    Plotly.newPlot(\n",
              "                        'a45f0a98-469e-4986-9415-7bf6e07ea51d',\n",
              "                        [{\"hoverinfo\": \"all\", \"hovertemplate\": \"epoch: %{x}<br>error: %{y}\", \"name\": \"loss\", \"type\": \"scatter\", \"x\": [1, 2, 3, 4, 5, 6, 7, 8, 9, 10, 11, 12, 13, 14, 15, 16, 17, 18, 19, 20, 21, 22, 23, 24, 25, 26, 27], \"xaxis\": \"x\", \"y\": [0.01011720672249794, 0.004098552744835615, 0.004058936145156622, 0.004042172338813543, 0.004031672608107328, 0.004008424002677202, 0.004023512359708548, 0.004023455549031496, 0.004002364818006754, 0.003991121891885996, 0.0039511253125965595, 0.003950635902583599, 0.003949201200157404, 0.003952628932893276, 0.0039520557038486, 0.003944718278944492, 0.003944376949220896, 0.003944451455026865, 0.0039439816027879715, 0.003944280557334423, 0.003943596035242081, 0.003943563438951969, 0.003943625371903181, 0.003943542949855328, 0.003943555522710085, 0.003943437244743109, 0.0039434367790818214], \"yaxis\": \"y\"}, {\"hoverinfo\": \"all\", \"hovertemplate\": \"epoch: %{x}<br>error: %{y}\", \"name\": \"mae\", \"type\": \"scatter\", \"x\": [1, 2, 3, 4, 5, 6, 7, 8, 9, 10, 11, 12, 13, 14, 15, 16, 17, 18, 19, 20, 21, 22, 23, 24, 25, 26, 27], \"xaxis\": \"x2\", \"y\": [0.06311869621276855, 0.043331559747457504, 0.043144844472408295, 0.04306367039680481, 0.043070387095212936, 0.042916376143693924, 0.04310879111289978, 0.04311107471585274, 0.04298277571797371, 0.0428503192961216, 0.04249740019440651, 0.042466480284929276, 0.04247129335999489, 0.04251386597752571, 0.04248633608222008, 0.04245811328291893, 0.04242901876568794, 0.04242026060819626, 0.04242207482457161, 0.04243342950940132, 0.042423803359270096, 0.04241403192281723, 0.042419515550136566, 0.04242480918765068, 0.04241809621453285, 0.0424245223402977, 0.042421210557222366], \"yaxis\": \"y2\"}, {\"hoverinfo\": \"all\", \"hovertemplate\": \"epoch: %{x}<br>error: %{y}\", \"name\": \"val_loss\", \"type\": \"scatter\", \"x\": [1, 2, 3, 4, 5, 6, 7, 8, 9, 10, 11, 12, 13, 14, 15, 16, 17, 18, 19, 20, 21, 22, 23, 24, 25, 26, 27], \"xaxis\": \"x\", \"y\": [0.004097117111086845, 0.0040711285546422005, 0.0040293806232512, 0.004218477290123701, 0.0039931596256792545, 0.003986365161836147, 0.003952722530812025, 0.003950709011405706, 0.0040018800646066666, 0.003960093948990107, 0.003934329841285944, 0.003931785002350807, 0.003930495120584965, 0.003928918857127428, 0.003931121900677681, 0.003927542828023434, 0.0039278846234083176, 0.003927766345441341, 0.0039293887093663216, 0.00392752792686224, 0.003927936311811209, 0.003927725832909346, 0.003927671350538731, 0.0039280313067138195, 0.003927826415747404, 0.003927844110876322, 0.0039278315380215645], \"yaxis\": \"y\"}, {\"hoverinfo\": \"all\", \"hovertemplate\": \"epoch: %{x}<br>error: %{y}\", \"name\": \"val_mae\", \"type\": \"scatter\", \"x\": [1, 2, 3, 4, 5, 6, 7, 8, 9, 10, 11, 12, 13, 14, 15, 16, 17, 18, 19, 20, 21, 22, 23, 24, 25, 26, 27], \"xaxis\": \"x2\", \"y\": [0.04379758983850479, 0.04291984438896179, 0.042926106601953506, 0.04707667604088783, 0.043826788663864136, 0.04260128736495972, 0.04292093962430954, 0.04277456924319267, 0.04267905279994011, 0.04270710051059723, 0.04257785528898239, 0.04270176962018013, 0.042854662984609604, 0.04263809695839882, 0.042686827480793, 0.04270664602518082, 0.04267055168747902, 0.04269259795546532, 0.04267406091094017, 0.04269237816333771, 0.04267654940485954, 0.04268588870763779, 0.04269007220864296, 0.04267542064189911, 0.042684998363256454, 0.04268420860171318, 0.042684655636548996], \"yaxis\": \"y2\"}],\n",
              "                        {\"legend\": {\"orientation\": \"h\"}, \"margin\": {\"b\": 0, \"l\": 0, \"r\": 40, \"t\": 40}, \"template\": {\"data\": {\"bar\": [{\"error_x\": {\"color\": \"#2a3f5f\"}, \"error_y\": {\"color\": \"#2a3f5f\"}, \"marker\": {\"line\": {\"color\": \"#E5ECF6\", \"width\": 0.5}}, \"type\": \"bar\"}], \"barpolar\": [{\"marker\": {\"line\": {\"color\": \"#E5ECF6\", \"width\": 0.5}}, \"type\": \"barpolar\"}], \"carpet\": [{\"aaxis\": {\"endlinecolor\": \"#2a3f5f\", \"gridcolor\": \"white\", \"linecolor\": \"white\", \"minorgridcolor\": \"white\", \"startlinecolor\": \"#2a3f5f\"}, \"baxis\": {\"endlinecolor\": \"#2a3f5f\", \"gridcolor\": \"white\", \"linecolor\": \"white\", \"minorgridcolor\": \"white\", \"startlinecolor\": \"#2a3f5f\"}, \"type\": \"carpet\"}], \"choropleth\": [{\"colorbar\": {\"outlinewidth\": 0, \"ticks\": \"\"}, \"type\": \"choropleth\"}], \"contour\": [{\"colorbar\": {\"outlinewidth\": 0, \"ticks\": \"\"}, \"colorscale\": [[0.0, \"#0d0887\"], [0.1111111111111111, \"#46039f\"], [0.2222222222222222, \"#7201a8\"], [0.3333333333333333, \"#9c179e\"], [0.4444444444444444, \"#bd3786\"], [0.5555555555555556, \"#d8576b\"], [0.6666666666666666, \"#ed7953\"], [0.7777777777777778, \"#fb9f3a\"], [0.8888888888888888, \"#fdca26\"], [1.0, \"#f0f921\"]], \"type\": \"contour\"}], \"contourcarpet\": [{\"colorbar\": {\"outlinewidth\": 0, \"ticks\": \"\"}, \"type\": \"contourcarpet\"}], \"heatmap\": [{\"colorbar\": {\"outlinewidth\": 0, \"ticks\": \"\"}, \"colorscale\": [[0.0, \"#0d0887\"], [0.1111111111111111, \"#46039f\"], [0.2222222222222222, \"#7201a8\"], [0.3333333333333333, \"#9c179e\"], [0.4444444444444444, \"#bd3786\"], [0.5555555555555556, \"#d8576b\"], [0.6666666666666666, \"#ed7953\"], [0.7777777777777778, \"#fb9f3a\"], [0.8888888888888888, \"#fdca26\"], [1.0, \"#f0f921\"]], \"type\": \"heatmap\"}], \"heatmapgl\": [{\"colorbar\": {\"outlinewidth\": 0, \"ticks\": \"\"}, \"colorscale\": [[0.0, \"#0d0887\"], [0.1111111111111111, \"#46039f\"], [0.2222222222222222, \"#7201a8\"], [0.3333333333333333, \"#9c179e\"], [0.4444444444444444, \"#bd3786\"], [0.5555555555555556, \"#d8576b\"], [0.6666666666666666, \"#ed7953\"], [0.7777777777777778, \"#fb9f3a\"], [0.8888888888888888, \"#fdca26\"], [1.0, \"#f0f921\"]], \"type\": \"heatmapgl\"}], \"histogram\": [{\"marker\": {\"colorbar\": {\"outlinewidth\": 0, \"ticks\": \"\"}}, \"type\": \"histogram\"}], \"histogram2d\": [{\"colorbar\": {\"outlinewidth\": 0, \"ticks\": \"\"}, \"colorscale\": [[0.0, \"#0d0887\"], [0.1111111111111111, \"#46039f\"], [0.2222222222222222, \"#7201a8\"], [0.3333333333333333, \"#9c179e\"], [0.4444444444444444, \"#bd3786\"], [0.5555555555555556, \"#d8576b\"], [0.6666666666666666, \"#ed7953\"], [0.7777777777777778, \"#fb9f3a\"], [0.8888888888888888, \"#fdca26\"], [1.0, \"#f0f921\"]], \"type\": \"histogram2d\"}], \"histogram2dcontour\": [{\"colorbar\": {\"outlinewidth\": 0, \"ticks\": \"\"}, \"colorscale\": [[0.0, \"#0d0887\"], [0.1111111111111111, \"#46039f\"], [0.2222222222222222, \"#7201a8\"], [0.3333333333333333, \"#9c179e\"], [0.4444444444444444, \"#bd3786\"], [0.5555555555555556, \"#d8576b\"], [0.6666666666666666, \"#ed7953\"], [0.7777777777777778, \"#fb9f3a\"], [0.8888888888888888, \"#fdca26\"], [1.0, \"#f0f921\"]], \"type\": \"histogram2dcontour\"}], \"mesh3d\": [{\"colorbar\": {\"outlinewidth\": 0, \"ticks\": \"\"}, \"type\": \"mesh3d\"}], \"parcoords\": [{\"line\": {\"colorbar\": {\"outlinewidth\": 0, \"ticks\": \"\"}}, \"type\": \"parcoords\"}], \"pie\": [{\"automargin\": true, \"type\": \"pie\"}], \"scatter\": [{\"marker\": {\"colorbar\": {\"outlinewidth\": 0, \"ticks\": \"\"}}, \"type\": \"scatter\"}], \"scatter3d\": [{\"line\": {\"colorbar\": {\"outlinewidth\": 0, \"ticks\": \"\"}}, \"marker\": {\"colorbar\": {\"outlinewidth\": 0, \"ticks\": \"\"}}, \"type\": \"scatter3d\"}], \"scattercarpet\": [{\"marker\": {\"colorbar\": {\"outlinewidth\": 0, \"ticks\": \"\"}}, \"type\": \"scattercarpet\"}], \"scattergeo\": [{\"marker\": {\"colorbar\": {\"outlinewidth\": 0, \"ticks\": \"\"}}, \"type\": \"scattergeo\"}], \"scattergl\": [{\"marker\": {\"colorbar\": {\"outlinewidth\": 0, \"ticks\": \"\"}}, \"type\": \"scattergl\"}], \"scattermapbox\": [{\"marker\": {\"colorbar\": {\"outlinewidth\": 0, \"ticks\": \"\"}}, \"type\": \"scattermapbox\"}], \"scatterpolar\": [{\"marker\": {\"colorbar\": {\"outlinewidth\": 0, \"ticks\": \"\"}}, \"type\": \"scatterpolar\"}], \"scatterpolargl\": [{\"marker\": {\"colorbar\": {\"outlinewidth\": 0, \"ticks\": \"\"}}, \"type\": \"scatterpolargl\"}], \"scatterternary\": [{\"marker\": {\"colorbar\": {\"outlinewidth\": 0, \"ticks\": \"\"}}, \"type\": \"scatterternary\"}], \"surface\": [{\"colorbar\": {\"outlinewidth\": 0, \"ticks\": \"\"}, \"colorscale\": [[0.0, \"#0d0887\"], [0.1111111111111111, \"#46039f\"], [0.2222222222222222, \"#7201a8\"], [0.3333333333333333, \"#9c179e\"], [0.4444444444444444, \"#bd3786\"], [0.5555555555555556, \"#d8576b\"], [0.6666666666666666, \"#ed7953\"], [0.7777777777777778, \"#fb9f3a\"], [0.8888888888888888, \"#fdca26\"], [1.0, \"#f0f921\"]], \"type\": \"surface\"}], \"table\": [{\"cells\": {\"fill\": {\"color\": \"#EBF0F8\"}, \"line\": {\"color\": \"white\"}}, \"header\": {\"fill\": {\"color\": \"#C8D4E3\"}, \"line\": {\"color\": \"white\"}}, \"type\": \"table\"}]}, \"layout\": {\"annotationdefaults\": {\"arrowcolor\": \"#2a3f5f\", \"arrowhead\": 0, \"arrowwidth\": 1}, \"coloraxis\": {\"colorbar\": {\"outlinewidth\": 0, \"ticks\": \"\"}}, \"colorscale\": {\"diverging\": [[0, \"#8e0152\"], [0.1, \"#c51b7d\"], [0.2, \"#de77ae\"], [0.3, \"#f1b6da\"], [0.4, \"#fde0ef\"], [0.5, \"#f7f7f7\"], [0.6, \"#e6f5d0\"], [0.7, \"#b8e186\"], [0.8, \"#7fbc41\"], [0.9, \"#4d9221\"], [1, \"#276419\"]], \"sequential\": [[0.0, \"#0d0887\"], [0.1111111111111111, \"#46039f\"], [0.2222222222222222, \"#7201a8\"], [0.3333333333333333, \"#9c179e\"], [0.4444444444444444, \"#bd3786\"], [0.5555555555555556, \"#d8576b\"], [0.6666666666666666, \"#ed7953\"], [0.7777777777777778, \"#fb9f3a\"], [0.8888888888888888, \"#fdca26\"], [1.0, \"#f0f921\"]], \"sequentialminus\": [[0.0, \"#0d0887\"], [0.1111111111111111, \"#46039f\"], [0.2222222222222222, \"#7201a8\"], [0.3333333333333333, \"#9c179e\"], [0.4444444444444444, \"#bd3786\"], [0.5555555555555556, \"#d8576b\"], [0.6666666666666666, \"#ed7953\"], [0.7777777777777778, \"#fb9f3a\"], [0.8888888888888888, \"#fdca26\"], [1.0, \"#f0f921\"]]}, \"colorway\": [\"#636efa\", \"#EF553B\", \"#00cc96\", \"#ab63fa\", \"#FFA15A\", \"#19d3f3\", \"#FF6692\", \"#B6E880\", \"#FF97FF\", \"#FECB52\"], \"font\": {\"color\": \"#2a3f5f\"}, \"geo\": {\"bgcolor\": \"white\", \"lakecolor\": \"white\", \"landcolor\": \"#E5ECF6\", \"showlakes\": true, \"showland\": true, \"subunitcolor\": \"white\"}, \"hoverlabel\": {\"align\": \"left\"}, \"hovermode\": \"closest\", \"mapbox\": {\"style\": \"light\"}, \"paper_bgcolor\": \"white\", \"plot_bgcolor\": \"#E5ECF6\", \"polar\": {\"angularaxis\": {\"gridcolor\": \"white\", \"linecolor\": \"white\", \"ticks\": \"\"}, \"bgcolor\": \"#E5ECF6\", \"radialaxis\": {\"gridcolor\": \"white\", \"linecolor\": \"white\", \"ticks\": \"\"}}, \"scene\": {\"xaxis\": {\"backgroundcolor\": \"#E5ECF6\", \"gridcolor\": \"white\", \"gridwidth\": 2, \"linecolor\": \"white\", \"showbackground\": true, \"ticks\": \"\", \"zerolinecolor\": \"white\"}, \"yaxis\": {\"backgroundcolor\": \"#E5ECF6\", \"gridcolor\": \"white\", \"gridwidth\": 2, \"linecolor\": \"white\", \"showbackground\": true, \"ticks\": \"\", \"zerolinecolor\": \"white\"}, \"zaxis\": {\"backgroundcolor\": \"#E5ECF6\", \"gridcolor\": \"white\", \"gridwidth\": 2, \"linecolor\": \"white\", \"showbackground\": true, \"ticks\": \"\", \"zerolinecolor\": \"white\"}}, \"shapedefaults\": {\"line\": {\"color\": \"#2a3f5f\"}}, \"ternary\": {\"aaxis\": {\"gridcolor\": \"white\", \"linecolor\": \"white\", \"ticks\": \"\"}, \"baxis\": {\"gridcolor\": \"white\", \"linecolor\": \"white\", \"ticks\": \"\"}, \"bgcolor\": \"#E5ECF6\", \"caxis\": {\"gridcolor\": \"white\", \"linecolor\": \"white\", \"ticks\": \"\"}}, \"title\": {\"x\": 0.05}, \"xaxis\": {\"automargin\": true, \"gridcolor\": \"white\", \"linecolor\": \"white\", \"ticks\": \"\", \"title\": {\"standoff\": 15}, \"zerolinecolor\": \"white\", \"zerolinewidth\": 2}, \"yaxis\": {\"automargin\": true, \"gridcolor\": \"white\", \"linecolor\": \"white\", \"ticks\": \"\", \"title\": {\"standoff\": 15}, \"zerolinecolor\": \"white\", \"zerolinewidth\": 2}}}, \"title\": {\"text\": \"History\"}, \"xaxis\": {\"anchor\": \"y\", \"domain\": [0.0, 0.45], \"title\": {\"text\": \"epochs\"}}, \"xaxis2\": {\"anchor\": \"y2\", \"domain\": [0.55, 1.0], \"title\": {\"text\": \"epochs\"}}, \"yaxis\": {\"anchor\": \"x\", \"domain\": [0.0, 1.0], \"title\": {\"text\": \"loss (MSE)\"}}, \"yaxis2\": {\"anchor\": \"x2\", \"domain\": [0.0, 1.0], \"title\": {\"text\": \"MAE\"}}},\n",
              "                        {\"responsive\": true}\n",
              "                    ).then(function(){\n",
              "                            \n",
              "var gd = document.getElementById('a45f0a98-469e-4986-9415-7bf6e07ea51d');\n",
              "var x = new MutationObserver(function (mutations, observer) {{\n",
              "        var display = window.getComputedStyle(gd).display;\n",
              "        if (!display || display === 'none') {{\n",
              "            console.log([gd, 'removed!']);\n",
              "            Plotly.purge(gd);\n",
              "            observer.disconnect();\n",
              "        }}\n",
              "}});\n",
              "\n",
              "// Listen for the removal of the full notebook cells\n",
              "var notebookContainer = gd.closest('#notebook-container');\n",
              "if (notebookContainer) {{\n",
              "    x.observe(notebookContainer, {childList: true});\n",
              "}}\n",
              "\n",
              "// Listen for the clearing of the current output cell\n",
              "var outputEl = gd.closest('.output');\n",
              "if (outputEl) {{\n",
              "    x.observe(outputEl, {childList: true});\n",
              "}}\n",
              "\n",
              "                        })\n",
              "                };\n",
              "                \n",
              "            </script>\n",
              "        </div>\n",
              "</body>\n",
              "</html>"
            ]
          },
          "metadata": {
            "tags": []
          }
        },
        {
          "output_type": "stream",
          "text": [
            "\n",
            "Средняя ошибка на тестовой выборке: 13.46 очков.\n"
          ],
          "name": "stdout"
        }
      ]
    },
    {
      "cell_type": "code",
      "metadata": {
        "id": "8vqyAItSIpC1",
        "colab": {
          "base_uri": "https://localhost:8080/",
          "height": 579
        },
        "outputId": "b927e63b-c8f7-4b65-9311-4915352378ba"
      },
      "source": [
        "for depth in [2, 3]:\n",
        "    research(time_data, 'time_2', depth=depth)"
      ],
      "execution_count": null,
      "outputs": [
        {
          "output_type": "display_data",
          "data": {
            "text/html": [
              "<html>\n",
              "<head><meta charset=\"utf-8\" /></head>\n",
              "<body>\n",
              "    <div>\n",
              "            <script src=\"https://cdnjs.cloudflare.com/ajax/libs/mathjax/2.7.5/MathJax.js?config=TeX-AMS-MML_SVG\"></script><script type=\"text/javascript\">if (window.MathJax) {MathJax.Hub.Config({SVG: {font: \"STIX-Web\"}});}</script>\n",
              "                <script type=\"text/javascript\">window.PlotlyConfig = {MathJaxConfig: 'local'};</script>\n",
              "        <script src=\"https://cdn.plot.ly/plotly-latest.min.js\"></script>    \n",
              "            <div id=\"749cb80f-0c3d-4931-8f93-757d6cf47b02\" class=\"plotly-graph-div\" style=\"height:525px; width:100%;\"></div>\n",
              "            <script type=\"text/javascript\">\n",
              "                \n",
              "                    window.PLOTLYENV=window.PLOTLYENV || {};\n",
              "                    \n",
              "                if (document.getElementById(\"749cb80f-0c3d-4931-8f93-757d6cf47b02\")) {\n",
              "                    Plotly.newPlot(\n",
              "                        '749cb80f-0c3d-4931-8f93-757d6cf47b02',\n",
              "                        [{\"hoverinfo\": \"all\", \"hovertemplate\": \"epoch: %{x}<br>error: %{y}\", \"name\": \"loss\", \"type\": \"scatter\", \"x\": [1, 2, 3, 4, 5, 6, 7, 8, 9, 10, 11, 12, 13, 14, 15, 16, 17, 18, 19, 20, 21, 22, 23, 24, 25], \"xaxis\": \"x\", \"y\": [0.013445155695080757, 0.003977225627750158, 0.003963777795433998, 0.003953973762691021, 0.00394311361014843, 0.00394548149779439, 0.003938465844839811, 0.0039228955283761024, 0.003929836209863424, 0.003930947277694941, 0.003917258698493242, 0.0038663693703711033, 0.003867312101647258, 0.003867147956043482, 0.0038682539016008377, 0.0038647474721074104, 0.003857289906591177, 0.003857230767607689, 0.0038569883909076452, 0.0038570913020521402, 0.003857245435938239, 0.003856192110106349, 0.0038560780230909586, 0.0038559711538255215, 0.0038560389075428247], \"yaxis\": \"y\"}, {\"hoverinfo\": \"all\", \"hovertemplate\": \"epoch: %{x}<br>error: %{y}\", \"name\": \"mae\", \"type\": \"scatter\", \"x\": [1, 2, 3, 4, 5, 6, 7, 8, 9, 10, 11, 12, 13, 14, 15, 16, 17, 18, 19, 20, 21, 22, 23, 24, 25], \"xaxis\": \"x2\", \"y\": [0.07082987576723099, 0.04304823651909828, 0.04301068186759949, 0.04300383850932121, 0.042874909937381744, 0.04293142631649971, 0.042904675006866455, 0.04271393269300461, 0.04279841110110283, 0.0428374744951725, 0.04268498718738556, 0.042282793670892715, 0.04226769506931305, 0.04229298233985901, 0.04227675497531891, 0.04225446283817291, 0.042167965322732925, 0.04219282045960426, 0.04217122495174408, 0.042186569422483444, 0.042200908064842224, 0.042164359241724014, 0.04219042509794235, 0.04217284172773361, 0.04218790680170059], \"yaxis\": \"y2\"}, {\"hoverinfo\": \"all\", \"hovertemplate\": \"epoch: %{x}<br>error: %{y}\", \"name\": \"val_loss\", \"type\": \"scatter\", \"x\": [1, 2, 3, 4, 5, 6, 7, 8, 9, 10, 11, 12, 13, 14, 15, 16, 17, 18, 19, 20, 21, 22, 23, 24, 25], \"xaxis\": \"x\", \"y\": [0.004133957903832197, 0.004089312627911568, 0.004045888315886259, 0.004133352544158697, 0.004056098405271769, 0.004033377394080162, 0.004042814485728741, 0.004017534665763378, 0.004040789324790239, 0.004042789805680513, 0.004012007266283035, 0.00399900833144784, 0.004019716754555702, 0.004006636328995228, 0.004008941818028688, 0.003998913336545229, 0.0040006558410823345, 0.003997403662651777, 0.003999445587396622, 0.004001204390078783, 0.003999416716396809, 0.003997869789600372, 0.003998456057161093, 0.00399760901927948, 0.0039978944696486], \"yaxis\": \"y\"}, {\"hoverinfo\": \"all\", \"hovertemplate\": \"epoch: %{x}<br>error: %{y}\", \"name\": \"val_mae\", \"type\": \"scatter\", \"x\": [1, 2, 3, 4, 5, 6, 7, 8, 9, 10, 11, 12, 13, 14, 15, 16, 17, 18, 19, 20, 21, 22, 23, 24, 25], \"xaxis\": \"x2\", \"y\": [0.043448250740766525, 0.04312703013420105, 0.04323156177997589, 0.043412476778030396, 0.04373680055141449, 0.043146561831235886, 0.04331185296177864, 0.04289744049310684, 0.04312547296285629, 0.04279312863945961, 0.0431065633893013, 0.04280858486890793, 0.04278503358364105, 0.04298124834895134, 0.042737945914268494, 0.042842984199523926, 0.042772077023983, 0.04277847707271576, 0.04278060421347618, 0.042755916714668274, 0.042753543704748154, 0.042787399142980576, 0.042766571044921875, 0.04279179126024246, 0.04277642443776131], \"yaxis\": \"y2\"}],\n",
              "                        {\"legend\": {\"orientation\": \"h\"}, \"margin\": {\"b\": 0, \"l\": 0, \"r\": 40, \"t\": 40}, \"template\": {\"data\": {\"bar\": [{\"error_x\": {\"color\": \"#2a3f5f\"}, \"error_y\": {\"color\": \"#2a3f5f\"}, \"marker\": {\"line\": {\"color\": \"#E5ECF6\", \"width\": 0.5}}, \"type\": \"bar\"}], \"barpolar\": [{\"marker\": {\"line\": {\"color\": \"#E5ECF6\", \"width\": 0.5}}, \"type\": \"barpolar\"}], \"carpet\": [{\"aaxis\": {\"endlinecolor\": \"#2a3f5f\", \"gridcolor\": \"white\", \"linecolor\": \"white\", \"minorgridcolor\": \"white\", \"startlinecolor\": \"#2a3f5f\"}, \"baxis\": {\"endlinecolor\": \"#2a3f5f\", \"gridcolor\": \"white\", \"linecolor\": \"white\", \"minorgridcolor\": \"white\", \"startlinecolor\": \"#2a3f5f\"}, \"type\": \"carpet\"}], \"choropleth\": [{\"colorbar\": {\"outlinewidth\": 0, \"ticks\": \"\"}, \"type\": \"choropleth\"}], \"contour\": [{\"colorbar\": {\"outlinewidth\": 0, \"ticks\": \"\"}, \"colorscale\": [[0.0, \"#0d0887\"], [0.1111111111111111, \"#46039f\"], [0.2222222222222222, \"#7201a8\"], [0.3333333333333333, \"#9c179e\"], [0.4444444444444444, \"#bd3786\"], [0.5555555555555556, \"#d8576b\"], [0.6666666666666666, \"#ed7953\"], [0.7777777777777778, \"#fb9f3a\"], [0.8888888888888888, \"#fdca26\"], [1.0, \"#f0f921\"]], \"type\": \"contour\"}], \"contourcarpet\": [{\"colorbar\": {\"outlinewidth\": 0, \"ticks\": \"\"}, \"type\": \"contourcarpet\"}], \"heatmap\": [{\"colorbar\": {\"outlinewidth\": 0, \"ticks\": \"\"}, \"colorscale\": [[0.0, \"#0d0887\"], [0.1111111111111111, \"#46039f\"], [0.2222222222222222, \"#7201a8\"], [0.3333333333333333, \"#9c179e\"], [0.4444444444444444, \"#bd3786\"], [0.5555555555555556, \"#d8576b\"], [0.6666666666666666, \"#ed7953\"], [0.7777777777777778, \"#fb9f3a\"], [0.8888888888888888, \"#fdca26\"], [1.0, \"#f0f921\"]], \"type\": \"heatmap\"}], \"heatmapgl\": [{\"colorbar\": {\"outlinewidth\": 0, \"ticks\": \"\"}, \"colorscale\": [[0.0, \"#0d0887\"], [0.1111111111111111, \"#46039f\"], [0.2222222222222222, \"#7201a8\"], [0.3333333333333333, \"#9c179e\"], [0.4444444444444444, \"#bd3786\"], [0.5555555555555556, \"#d8576b\"], [0.6666666666666666, \"#ed7953\"], [0.7777777777777778, \"#fb9f3a\"], [0.8888888888888888, \"#fdca26\"], [1.0, \"#f0f921\"]], \"type\": \"heatmapgl\"}], \"histogram\": [{\"marker\": {\"colorbar\": {\"outlinewidth\": 0, \"ticks\": \"\"}}, \"type\": \"histogram\"}], \"histogram2d\": [{\"colorbar\": {\"outlinewidth\": 0, \"ticks\": \"\"}, \"colorscale\": [[0.0, \"#0d0887\"], [0.1111111111111111, \"#46039f\"], [0.2222222222222222, \"#7201a8\"], [0.3333333333333333, \"#9c179e\"], [0.4444444444444444, \"#bd3786\"], [0.5555555555555556, \"#d8576b\"], [0.6666666666666666, \"#ed7953\"], [0.7777777777777778, \"#fb9f3a\"], [0.8888888888888888, \"#fdca26\"], [1.0, \"#f0f921\"]], \"type\": \"histogram2d\"}], \"histogram2dcontour\": [{\"colorbar\": {\"outlinewidth\": 0, \"ticks\": \"\"}, \"colorscale\": [[0.0, \"#0d0887\"], [0.1111111111111111, \"#46039f\"], [0.2222222222222222, \"#7201a8\"], [0.3333333333333333, \"#9c179e\"], [0.4444444444444444, \"#bd3786\"], [0.5555555555555556, \"#d8576b\"], [0.6666666666666666, \"#ed7953\"], [0.7777777777777778, \"#fb9f3a\"], [0.8888888888888888, \"#fdca26\"], [1.0, \"#f0f921\"]], \"type\": \"histogram2dcontour\"}], \"mesh3d\": [{\"colorbar\": {\"outlinewidth\": 0, \"ticks\": \"\"}, \"type\": \"mesh3d\"}], \"parcoords\": [{\"line\": {\"colorbar\": {\"outlinewidth\": 0, \"ticks\": \"\"}}, \"type\": \"parcoords\"}], \"pie\": [{\"automargin\": true, \"type\": \"pie\"}], \"scatter\": [{\"marker\": {\"colorbar\": {\"outlinewidth\": 0, \"ticks\": \"\"}}, \"type\": \"scatter\"}], \"scatter3d\": [{\"line\": {\"colorbar\": {\"outlinewidth\": 0, \"ticks\": \"\"}}, \"marker\": {\"colorbar\": {\"outlinewidth\": 0, \"ticks\": \"\"}}, \"type\": \"scatter3d\"}], \"scattercarpet\": [{\"marker\": {\"colorbar\": {\"outlinewidth\": 0, \"ticks\": \"\"}}, \"type\": \"scattercarpet\"}], \"scattergeo\": [{\"marker\": {\"colorbar\": {\"outlinewidth\": 0, \"ticks\": \"\"}}, \"type\": \"scattergeo\"}], \"scattergl\": [{\"marker\": {\"colorbar\": {\"outlinewidth\": 0, \"ticks\": \"\"}}, \"type\": \"scattergl\"}], \"scattermapbox\": [{\"marker\": {\"colorbar\": {\"outlinewidth\": 0, \"ticks\": \"\"}}, \"type\": \"scattermapbox\"}], \"scatterpolar\": [{\"marker\": {\"colorbar\": {\"outlinewidth\": 0, \"ticks\": \"\"}}, \"type\": \"scatterpolar\"}], \"scatterpolargl\": [{\"marker\": {\"colorbar\": {\"outlinewidth\": 0, \"ticks\": \"\"}}, \"type\": \"scatterpolargl\"}], \"scatterternary\": [{\"marker\": {\"colorbar\": {\"outlinewidth\": 0, \"ticks\": \"\"}}, \"type\": \"scatterternary\"}], \"surface\": [{\"colorbar\": {\"outlinewidth\": 0, \"ticks\": \"\"}, \"colorscale\": [[0.0, \"#0d0887\"], [0.1111111111111111, \"#46039f\"], [0.2222222222222222, \"#7201a8\"], [0.3333333333333333, \"#9c179e\"], [0.4444444444444444, \"#bd3786\"], [0.5555555555555556, \"#d8576b\"], [0.6666666666666666, \"#ed7953\"], [0.7777777777777778, \"#fb9f3a\"], [0.8888888888888888, \"#fdca26\"], [1.0, \"#f0f921\"]], \"type\": \"surface\"}], \"table\": [{\"cells\": {\"fill\": {\"color\": \"#EBF0F8\"}, \"line\": {\"color\": \"white\"}}, \"header\": {\"fill\": {\"color\": \"#C8D4E3\"}, \"line\": {\"color\": \"white\"}}, \"type\": \"table\"}]}, \"layout\": {\"annotationdefaults\": {\"arrowcolor\": \"#2a3f5f\", \"arrowhead\": 0, \"arrowwidth\": 1}, \"coloraxis\": {\"colorbar\": {\"outlinewidth\": 0, \"ticks\": \"\"}}, \"colorscale\": {\"diverging\": [[0, \"#8e0152\"], [0.1, \"#c51b7d\"], [0.2, \"#de77ae\"], [0.3, \"#f1b6da\"], [0.4, \"#fde0ef\"], [0.5, \"#f7f7f7\"], [0.6, \"#e6f5d0\"], [0.7, \"#b8e186\"], [0.8, \"#7fbc41\"], [0.9, \"#4d9221\"], [1, \"#276419\"]], \"sequential\": [[0.0, \"#0d0887\"], [0.1111111111111111, \"#46039f\"], [0.2222222222222222, \"#7201a8\"], [0.3333333333333333, \"#9c179e\"], [0.4444444444444444, \"#bd3786\"], [0.5555555555555556, \"#d8576b\"], [0.6666666666666666, \"#ed7953\"], [0.7777777777777778, \"#fb9f3a\"], [0.8888888888888888, \"#fdca26\"], [1.0, \"#f0f921\"]], \"sequentialminus\": [[0.0, \"#0d0887\"], [0.1111111111111111, \"#46039f\"], [0.2222222222222222, \"#7201a8\"], [0.3333333333333333, \"#9c179e\"], [0.4444444444444444, \"#bd3786\"], [0.5555555555555556, \"#d8576b\"], [0.6666666666666666, \"#ed7953\"], [0.7777777777777778, \"#fb9f3a\"], [0.8888888888888888, \"#fdca26\"], [1.0, \"#f0f921\"]]}, \"colorway\": [\"#636efa\", \"#EF553B\", \"#00cc96\", \"#ab63fa\", \"#FFA15A\", \"#19d3f3\", \"#FF6692\", \"#B6E880\", \"#FF97FF\", \"#FECB52\"], \"font\": {\"color\": \"#2a3f5f\"}, \"geo\": {\"bgcolor\": \"white\", \"lakecolor\": \"white\", \"landcolor\": \"#E5ECF6\", \"showlakes\": true, \"showland\": true, \"subunitcolor\": \"white\"}, \"hoverlabel\": {\"align\": \"left\"}, \"hovermode\": \"closest\", \"mapbox\": {\"style\": \"light\"}, \"paper_bgcolor\": \"white\", \"plot_bgcolor\": \"#E5ECF6\", \"polar\": {\"angularaxis\": {\"gridcolor\": \"white\", \"linecolor\": \"white\", \"ticks\": \"\"}, \"bgcolor\": \"#E5ECF6\", \"radialaxis\": {\"gridcolor\": \"white\", \"linecolor\": \"white\", \"ticks\": \"\"}}, \"scene\": {\"xaxis\": {\"backgroundcolor\": \"#E5ECF6\", \"gridcolor\": \"white\", \"gridwidth\": 2, \"linecolor\": \"white\", \"showbackground\": true, \"ticks\": \"\", \"zerolinecolor\": \"white\"}, \"yaxis\": {\"backgroundcolor\": \"#E5ECF6\", \"gridcolor\": \"white\", \"gridwidth\": 2, \"linecolor\": \"white\", \"showbackground\": true, \"ticks\": \"\", \"zerolinecolor\": \"white\"}, \"zaxis\": {\"backgroundcolor\": \"#E5ECF6\", \"gridcolor\": \"white\", \"gridwidth\": 2, \"linecolor\": \"white\", \"showbackground\": true, \"ticks\": \"\", \"zerolinecolor\": \"white\"}}, \"shapedefaults\": {\"line\": {\"color\": \"#2a3f5f\"}}, \"ternary\": {\"aaxis\": {\"gridcolor\": \"white\", \"linecolor\": \"white\", \"ticks\": \"\"}, \"baxis\": {\"gridcolor\": \"white\", \"linecolor\": \"white\", \"ticks\": \"\"}, \"bgcolor\": \"#E5ECF6\", \"caxis\": {\"gridcolor\": \"white\", \"linecolor\": \"white\", \"ticks\": \"\"}}, \"title\": {\"x\": 0.05}, \"xaxis\": {\"automargin\": true, \"gridcolor\": \"white\", \"linecolor\": \"white\", \"ticks\": \"\", \"title\": {\"standoff\": 15}, \"zerolinecolor\": \"white\", \"zerolinewidth\": 2}, \"yaxis\": {\"automargin\": true, \"gridcolor\": \"white\", \"linecolor\": \"white\", \"ticks\": \"\", \"title\": {\"standoff\": 15}, \"zerolinecolor\": \"white\", \"zerolinewidth\": 2}}}, \"title\": {\"text\": \"History\"}, \"xaxis\": {\"anchor\": \"y\", \"domain\": [0.0, 0.45], \"title\": {\"text\": \"epochs\"}}, \"xaxis2\": {\"anchor\": \"y2\", \"domain\": [0.55, 1.0], \"title\": {\"text\": \"epochs\"}}, \"yaxis\": {\"anchor\": \"x\", \"domain\": [0.0, 1.0], \"title\": {\"text\": \"loss (MSE)\"}}, \"yaxis2\": {\"anchor\": \"x2\", \"domain\": [0.0, 1.0], \"title\": {\"text\": \"MAE\"}}},\n",
              "                        {\"responsive\": true}\n",
              "                    ).then(function(){\n",
              "                            \n",
              "var gd = document.getElementById('749cb80f-0c3d-4931-8f93-757d6cf47b02');\n",
              "var x = new MutationObserver(function (mutations, observer) {{\n",
              "        var display = window.getComputedStyle(gd).display;\n",
              "        if (!display || display === 'none') {{\n",
              "            console.log([gd, 'removed!']);\n",
              "            Plotly.purge(gd);\n",
              "            observer.disconnect();\n",
              "        }}\n",
              "}});\n",
              "\n",
              "// Listen for the removal of the full notebook cells\n",
              "var notebookContainer = gd.closest('#notebook-container');\n",
              "if (notebookContainer) {{\n",
              "    x.observe(notebookContainer, {childList: true});\n",
              "}}\n",
              "\n",
              "// Listen for the clearing of the current output cell\n",
              "var outputEl = gd.closest('.output');\n",
              "if (outputEl) {{\n",
              "    x.observe(outputEl, {childList: true});\n",
              "}}\n",
              "\n",
              "                        })\n",
              "                };\n",
              "                \n",
              "            </script>\n",
              "        </div>\n",
              "</body>\n",
              "</html>"
            ]
          },
          "metadata": {
            "tags": []
          }
        },
        {
          "output_type": "stream",
          "text": [
            "\n",
            "Средняя ошибка на тестовой выборке: 13.48 очков.\n"
          ],
          "name": "stdout"
        }
      ]
    },
    {
      "cell_type": "code",
      "metadata": {
        "id": "DPS5NxlNKyrm",
        "colab": {
          "base_uri": "https://localhost:8080/",
          "height": 579
        },
        "outputId": "0c9db408-8b43-455b-ba94-d77b6b575379"
      },
      "source": [
        "for batch_size in [32, 512]:\n",
        "    research(time_data, 'time_2', hidden_dim=100, batch_size=batch_size)"
      ],
      "execution_count": null,
      "outputs": [
        {
          "output_type": "display_data",
          "data": {
            "text/html": [
              "<html>\n",
              "<head><meta charset=\"utf-8\" /></head>\n",
              "<body>\n",
              "    <div>\n",
              "            <script src=\"https://cdnjs.cloudflare.com/ajax/libs/mathjax/2.7.5/MathJax.js?config=TeX-AMS-MML_SVG\"></script><script type=\"text/javascript\">if (window.MathJax) {MathJax.Hub.Config({SVG: {font: \"STIX-Web\"}});}</script>\n",
              "                <script type=\"text/javascript\">window.PlotlyConfig = {MathJaxConfig: 'local'};</script>\n",
              "        <script src=\"https://cdn.plot.ly/plotly-latest.min.js\"></script>    \n",
              "            <div id=\"38f81557-dcb4-4d91-8ef7-963c5a4f7da1\" class=\"plotly-graph-div\" style=\"height:525px; width:100%;\"></div>\n",
              "            <script type=\"text/javascript\">\n",
              "                \n",
              "                    window.PLOTLYENV=window.PLOTLYENV || {};\n",
              "                    \n",
              "                if (document.getElementById(\"38f81557-dcb4-4d91-8ef7-963c5a4f7da1\")) {\n",
              "                    Plotly.newPlot(\n",
              "                        '38f81557-dcb4-4d91-8ef7-963c5a4f7da1',\n",
              "                        [{\"hoverinfo\": \"all\", \"hovertemplate\": \"epoch: %{x}<br>error: %{y}\", \"name\": \"loss\", \"type\": \"scatter\", \"x\": [1, 2, 3, 4, 5, 6, 7, 8, 9, 10, 11, 12, 13, 14, 15, 16, 17, 18, 19, 20, 21, 22, 23, 24, 25, 26, 27, 28, 29, 30, 31, 32, 33, 34, 35, 36, 37], \"xaxis\": \"x\", \"y\": [0.03355258330702782, 0.004834596998989582, 0.00423213467001915, 0.004130124114453793, 0.004103514365851879, 0.0040874239057302475, 0.0040660398080945015, 0.0040585617534816265, 0.004041503183543682, 0.004040025174617767, 0.004039204679429531, 0.0040376498363912106, 0.0040361168794333935, 0.004036003723740578, 0.004034050740301609, 0.0040327804163098335, 0.004031159449368715, 0.004031008575111628, 0.004030771087855101, 0.0040306211449205875, 0.004030442330986261, 0.0040302034467458725, 0.004030175041407347, 0.00403016060590744, 0.004030139651149511, 0.004030115902423859, 0.004030086100101471, 0.00403008284047246, 0.0040300809778273106, 0.0040300823748111725, 0.004030077718198299, 0.004030072130262852, 0.004030073527246714, 0.004030072595924139, 0.004030073992908001, 0.004030073527246714, 0.004030072130262852], \"yaxis\": \"y\"}, {\"hoverinfo\": \"all\", \"hovertemplate\": \"epoch: %{x}<br>error: %{y}\", \"name\": \"mae\", \"type\": \"scatter\", \"x\": [1, 2, 3, 4, 5, 6, 7, 8, 9, 10, 11, 12, 13, 14, 15, 16, 17, 18, 19, 20, 21, 22, 23, 24, 25, 26, 27, 28, 29, 30, 31, 32, 33, 34, 35, 36, 37], \"xaxis\": \"x2\", \"y\": [0.13017188012599945, 0.04866823926568031, 0.04400866478681564, 0.043314702808856964, 0.04325363412499428, 0.043157730251550674, 0.04307485744357109, 0.043046820908784866, 0.04292501136660576, 0.042882077395915985, 0.04289240762591362, 0.04290017858147621, 0.042880646884441376, 0.04287666454911232, 0.04288500174880028, 0.04285496845841408, 0.04289853200316429, 0.0428834930062294, 0.04288202151656151, 0.0428529791533947, 0.04286475107073784, 0.0428476482629776, 0.04285504296422005, 0.04286012798547745, 0.0428655669093132, 0.04285382106900215, 0.04285810887813568, 0.04286012426018715, 0.04285954684019089, 0.042859479784965515, 0.042859453707933426, 0.042859479784965515, 0.0428595133125782, 0.042859505861997604, 0.0428595207631588, 0.04285949841141701, 0.04285948723554611], \"yaxis\": \"y2\"}, {\"hoverinfo\": \"all\", \"hovertemplate\": \"epoch: %{x}<br>error: %{y}\", \"name\": \"val_loss\", \"type\": \"scatter\", \"x\": [1, 2, 3, 4, 5, 6, 7, 8, 9, 10, 11, 12, 13, 14, 15, 16, 17, 18, 19, 20, 21, 22, 23, 24, 25, 26, 27, 28, 29, 30, 31, 32, 33, 34, 35, 36, 37], \"xaxis\": \"x\", \"y\": [0.005421387497335672, 0.0041811345145106316, 0.004006044007837772, 0.003958442248404026, 0.003946137614548206, 0.003930721431970596, 0.003960059955716133, 0.003913316410034895, 0.003907486330717802, 0.003906369209289551, 0.003905694931745529, 0.0039049722254276276, 0.00391430826857686, 0.003902512602508068, 0.0039013212081044912, 0.0039011617191135883, 0.00390079477801919, 0.0039005165454000235, 0.0039009517058730125, 0.0039004648569971323, 0.0039001437835395336, 0.0039000592660158873, 0.003899974748492241, 0.0038998692762106657, 0.0038998411037027836, 0.0038998574018478394, 0.00389985297806561, 0.0038998383097350597, 0.0038998406380414963, 0.003899833420291543, 0.0038998352829366922, 0.0038998352829366922, 0.0038998352829366922, 0.003899834817275405, 0.003899834817275405, 0.003899834817275405, 0.003899834817275405], \"yaxis\": \"y\"}, {\"hoverinfo\": \"all\", \"hovertemplate\": \"epoch: %{x}<br>error: %{y}\", \"name\": \"val_mae\", \"type\": \"scatter\", \"x\": [1, 2, 3, 4, 5, 6, 7, 8, 9, 10, 11, 12, 13, 14, 15, 16, 17, 18, 19, 20, 21, 22, 23, 24, 25, 26, 27, 28, 29, 30, 31, 32, 33, 34, 35, 36, 37], \"xaxis\": \"x2\", \"y\": [0.053730517625808716, 0.04450393468141556, 0.043155964463949203, 0.0428401380777359, 0.04262104257941246, 0.04296819120645523, 0.042695142328739166, 0.04267687350511551, 0.04267234727740288, 0.042719997465610504, 0.04281115531921387, 0.042648907750844955, 0.04255425184965134, 0.04276460036635399, 0.04267224296927452, 0.04269177094101906, 0.042677141726017, 0.04266529902815819, 0.042630385607481, 0.04264006018638611, 0.04264388605952263, 0.042647648602724075, 0.0426509827375412, 0.04265621304512024, 0.042655546218156815, 0.04265301674604416, 0.04265317693352699, 0.042653899639844894, 0.04265354573726654, 0.04265382140874863, 0.04265369474887848, 0.04265369474887848, 0.04265368729829788, 0.04265369102358818, 0.042653705924749374, 0.04265369474887848, 0.04265369474887848], \"yaxis\": \"y2\"}],\n",
              "                        {\"legend\": {\"orientation\": \"h\"}, \"margin\": {\"b\": 0, \"l\": 0, \"r\": 40, \"t\": 40}, \"template\": {\"data\": {\"bar\": [{\"error_x\": {\"color\": \"#2a3f5f\"}, \"error_y\": {\"color\": \"#2a3f5f\"}, \"marker\": {\"line\": {\"color\": \"#E5ECF6\", \"width\": 0.5}}, \"type\": \"bar\"}], \"barpolar\": [{\"marker\": {\"line\": {\"color\": \"#E5ECF6\", \"width\": 0.5}}, \"type\": \"barpolar\"}], \"carpet\": [{\"aaxis\": {\"endlinecolor\": \"#2a3f5f\", \"gridcolor\": \"white\", \"linecolor\": \"white\", \"minorgridcolor\": \"white\", \"startlinecolor\": \"#2a3f5f\"}, \"baxis\": {\"endlinecolor\": \"#2a3f5f\", \"gridcolor\": \"white\", \"linecolor\": \"white\", \"minorgridcolor\": \"white\", \"startlinecolor\": \"#2a3f5f\"}, \"type\": \"carpet\"}], \"choropleth\": [{\"colorbar\": {\"outlinewidth\": 0, \"ticks\": \"\"}, \"type\": \"choropleth\"}], \"contour\": [{\"colorbar\": {\"outlinewidth\": 0, \"ticks\": \"\"}, \"colorscale\": [[0.0, \"#0d0887\"], [0.1111111111111111, \"#46039f\"], [0.2222222222222222, \"#7201a8\"], [0.3333333333333333, \"#9c179e\"], [0.4444444444444444, \"#bd3786\"], [0.5555555555555556, \"#d8576b\"], [0.6666666666666666, \"#ed7953\"], [0.7777777777777778, \"#fb9f3a\"], [0.8888888888888888, \"#fdca26\"], [1.0, \"#f0f921\"]], \"type\": \"contour\"}], \"contourcarpet\": [{\"colorbar\": {\"outlinewidth\": 0, \"ticks\": \"\"}, \"type\": \"contourcarpet\"}], \"heatmap\": [{\"colorbar\": {\"outlinewidth\": 0, \"ticks\": \"\"}, \"colorscale\": [[0.0, \"#0d0887\"], [0.1111111111111111, \"#46039f\"], [0.2222222222222222, \"#7201a8\"], [0.3333333333333333, \"#9c179e\"], [0.4444444444444444, \"#bd3786\"], [0.5555555555555556, \"#d8576b\"], [0.6666666666666666, \"#ed7953\"], [0.7777777777777778, \"#fb9f3a\"], [0.8888888888888888, \"#fdca26\"], [1.0, \"#f0f921\"]], \"type\": \"heatmap\"}], \"heatmapgl\": [{\"colorbar\": {\"outlinewidth\": 0, \"ticks\": \"\"}, \"colorscale\": [[0.0, \"#0d0887\"], [0.1111111111111111, \"#46039f\"], [0.2222222222222222, \"#7201a8\"], [0.3333333333333333, \"#9c179e\"], [0.4444444444444444, \"#bd3786\"], [0.5555555555555556, \"#d8576b\"], [0.6666666666666666, \"#ed7953\"], [0.7777777777777778, \"#fb9f3a\"], [0.8888888888888888, \"#fdca26\"], [1.0, \"#f0f921\"]], \"type\": \"heatmapgl\"}], \"histogram\": [{\"marker\": {\"colorbar\": {\"outlinewidth\": 0, \"ticks\": \"\"}}, \"type\": \"histogram\"}], \"histogram2d\": [{\"colorbar\": {\"outlinewidth\": 0, \"ticks\": \"\"}, \"colorscale\": [[0.0, \"#0d0887\"], [0.1111111111111111, \"#46039f\"], [0.2222222222222222, \"#7201a8\"], [0.3333333333333333, \"#9c179e\"], [0.4444444444444444, \"#bd3786\"], [0.5555555555555556, \"#d8576b\"], [0.6666666666666666, \"#ed7953\"], [0.7777777777777778, \"#fb9f3a\"], [0.8888888888888888, \"#fdca26\"], [1.0, \"#f0f921\"]], \"type\": \"histogram2d\"}], \"histogram2dcontour\": [{\"colorbar\": {\"outlinewidth\": 0, \"ticks\": \"\"}, \"colorscale\": [[0.0, \"#0d0887\"], [0.1111111111111111, \"#46039f\"], [0.2222222222222222, \"#7201a8\"], [0.3333333333333333, \"#9c179e\"], [0.4444444444444444, \"#bd3786\"], [0.5555555555555556, \"#d8576b\"], [0.6666666666666666, \"#ed7953\"], [0.7777777777777778, \"#fb9f3a\"], [0.8888888888888888, \"#fdca26\"], [1.0, \"#f0f921\"]], \"type\": \"histogram2dcontour\"}], \"mesh3d\": [{\"colorbar\": {\"outlinewidth\": 0, \"ticks\": \"\"}, \"type\": \"mesh3d\"}], \"parcoords\": [{\"line\": {\"colorbar\": {\"outlinewidth\": 0, \"ticks\": \"\"}}, \"type\": \"parcoords\"}], \"pie\": [{\"automargin\": true, \"type\": \"pie\"}], \"scatter\": [{\"marker\": {\"colorbar\": {\"outlinewidth\": 0, \"ticks\": \"\"}}, \"type\": \"scatter\"}], \"scatter3d\": [{\"line\": {\"colorbar\": {\"outlinewidth\": 0, \"ticks\": \"\"}}, \"marker\": {\"colorbar\": {\"outlinewidth\": 0, \"ticks\": \"\"}}, \"type\": \"scatter3d\"}], \"scattercarpet\": [{\"marker\": {\"colorbar\": {\"outlinewidth\": 0, \"ticks\": \"\"}}, \"type\": \"scattercarpet\"}], \"scattergeo\": [{\"marker\": {\"colorbar\": {\"outlinewidth\": 0, \"ticks\": \"\"}}, \"type\": \"scattergeo\"}], \"scattergl\": [{\"marker\": {\"colorbar\": {\"outlinewidth\": 0, \"ticks\": \"\"}}, \"type\": \"scattergl\"}], \"scattermapbox\": [{\"marker\": {\"colorbar\": {\"outlinewidth\": 0, \"ticks\": \"\"}}, \"type\": \"scattermapbox\"}], \"scatterpolar\": [{\"marker\": {\"colorbar\": {\"outlinewidth\": 0, \"ticks\": \"\"}}, \"type\": \"scatterpolar\"}], \"scatterpolargl\": [{\"marker\": {\"colorbar\": {\"outlinewidth\": 0, \"ticks\": \"\"}}, \"type\": \"scatterpolargl\"}], \"scatterternary\": [{\"marker\": {\"colorbar\": {\"outlinewidth\": 0, \"ticks\": \"\"}}, \"type\": \"scatterternary\"}], \"surface\": [{\"colorbar\": {\"outlinewidth\": 0, \"ticks\": \"\"}, \"colorscale\": [[0.0, \"#0d0887\"], [0.1111111111111111, \"#46039f\"], [0.2222222222222222, \"#7201a8\"], [0.3333333333333333, \"#9c179e\"], [0.4444444444444444, \"#bd3786\"], [0.5555555555555556, \"#d8576b\"], [0.6666666666666666, \"#ed7953\"], [0.7777777777777778, \"#fb9f3a\"], [0.8888888888888888, \"#fdca26\"], [1.0, \"#f0f921\"]], \"type\": \"surface\"}], \"table\": [{\"cells\": {\"fill\": {\"color\": \"#EBF0F8\"}, \"line\": {\"color\": \"white\"}}, \"header\": {\"fill\": {\"color\": \"#C8D4E3\"}, \"line\": {\"color\": \"white\"}}, \"type\": \"table\"}]}, \"layout\": {\"annotationdefaults\": {\"arrowcolor\": \"#2a3f5f\", \"arrowhead\": 0, \"arrowwidth\": 1}, \"coloraxis\": {\"colorbar\": {\"outlinewidth\": 0, \"ticks\": \"\"}}, \"colorscale\": {\"diverging\": [[0, \"#8e0152\"], [0.1, \"#c51b7d\"], [0.2, \"#de77ae\"], [0.3, \"#f1b6da\"], [0.4, \"#fde0ef\"], [0.5, \"#f7f7f7\"], [0.6, \"#e6f5d0\"], [0.7, \"#b8e186\"], [0.8, \"#7fbc41\"], [0.9, \"#4d9221\"], [1, \"#276419\"]], \"sequential\": [[0.0, \"#0d0887\"], [0.1111111111111111, \"#46039f\"], [0.2222222222222222, \"#7201a8\"], [0.3333333333333333, \"#9c179e\"], [0.4444444444444444, \"#bd3786\"], [0.5555555555555556, \"#d8576b\"], [0.6666666666666666, \"#ed7953\"], [0.7777777777777778, \"#fb9f3a\"], [0.8888888888888888, \"#fdca26\"], [1.0, \"#f0f921\"]], \"sequentialminus\": [[0.0, \"#0d0887\"], [0.1111111111111111, \"#46039f\"], [0.2222222222222222, \"#7201a8\"], [0.3333333333333333, \"#9c179e\"], [0.4444444444444444, \"#bd3786\"], [0.5555555555555556, \"#d8576b\"], [0.6666666666666666, \"#ed7953\"], [0.7777777777777778, \"#fb9f3a\"], [0.8888888888888888, \"#fdca26\"], [1.0, \"#f0f921\"]]}, \"colorway\": [\"#636efa\", \"#EF553B\", \"#00cc96\", \"#ab63fa\", \"#FFA15A\", \"#19d3f3\", \"#FF6692\", \"#B6E880\", \"#FF97FF\", \"#FECB52\"], \"font\": {\"color\": \"#2a3f5f\"}, \"geo\": {\"bgcolor\": \"white\", \"lakecolor\": \"white\", \"landcolor\": \"#E5ECF6\", \"showlakes\": true, \"showland\": true, \"subunitcolor\": \"white\"}, \"hoverlabel\": {\"align\": \"left\"}, \"hovermode\": \"closest\", \"mapbox\": {\"style\": \"light\"}, \"paper_bgcolor\": \"white\", \"plot_bgcolor\": \"#E5ECF6\", \"polar\": {\"angularaxis\": {\"gridcolor\": \"white\", \"linecolor\": \"white\", \"ticks\": \"\"}, \"bgcolor\": \"#E5ECF6\", \"radialaxis\": {\"gridcolor\": \"white\", \"linecolor\": \"white\", \"ticks\": \"\"}}, \"scene\": {\"xaxis\": {\"backgroundcolor\": \"#E5ECF6\", \"gridcolor\": \"white\", \"gridwidth\": 2, \"linecolor\": \"white\", \"showbackground\": true, \"ticks\": \"\", \"zerolinecolor\": \"white\"}, \"yaxis\": {\"backgroundcolor\": \"#E5ECF6\", \"gridcolor\": \"white\", \"gridwidth\": 2, \"linecolor\": \"white\", \"showbackground\": true, \"ticks\": \"\", \"zerolinecolor\": \"white\"}, \"zaxis\": {\"backgroundcolor\": \"#E5ECF6\", \"gridcolor\": \"white\", \"gridwidth\": 2, \"linecolor\": \"white\", \"showbackground\": true, \"ticks\": \"\", \"zerolinecolor\": \"white\"}}, \"shapedefaults\": {\"line\": {\"color\": \"#2a3f5f\"}}, \"ternary\": {\"aaxis\": {\"gridcolor\": \"white\", \"linecolor\": \"white\", \"ticks\": \"\"}, \"baxis\": {\"gridcolor\": \"white\", \"linecolor\": \"white\", \"ticks\": \"\"}, \"bgcolor\": \"#E5ECF6\", \"caxis\": {\"gridcolor\": \"white\", \"linecolor\": \"white\", \"ticks\": \"\"}}, \"title\": {\"x\": 0.05}, \"xaxis\": {\"automargin\": true, \"gridcolor\": \"white\", \"linecolor\": \"white\", \"ticks\": \"\", \"title\": {\"standoff\": 15}, \"zerolinecolor\": \"white\", \"zerolinewidth\": 2}, \"yaxis\": {\"automargin\": true, \"gridcolor\": \"white\", \"linecolor\": \"white\", \"ticks\": \"\", \"title\": {\"standoff\": 15}, \"zerolinecolor\": \"white\", \"zerolinewidth\": 2}}}, \"title\": {\"text\": \"History\"}, \"xaxis\": {\"anchor\": \"y\", \"domain\": [0.0, 0.45], \"title\": {\"text\": \"epochs\"}}, \"xaxis2\": {\"anchor\": \"y2\", \"domain\": [0.55, 1.0], \"title\": {\"text\": \"epochs\"}}, \"yaxis\": {\"anchor\": \"x\", \"domain\": [0.0, 1.0], \"title\": {\"text\": \"loss (MSE)\"}}, \"yaxis2\": {\"anchor\": \"x2\", \"domain\": [0.0, 1.0], \"title\": {\"text\": \"MAE\"}}},\n",
              "                        {\"responsive\": true}\n",
              "                    ).then(function(){\n",
              "                            \n",
              "var gd = document.getElementById('38f81557-dcb4-4d91-8ef7-963c5a4f7da1');\n",
              "var x = new MutationObserver(function (mutations, observer) {{\n",
              "        var display = window.getComputedStyle(gd).display;\n",
              "        if (!display || display === 'none') {{\n",
              "            console.log([gd, 'removed!']);\n",
              "            Plotly.purge(gd);\n",
              "            observer.disconnect();\n",
              "        }}\n",
              "}});\n",
              "\n",
              "// Listen for the removal of the full notebook cells\n",
              "var notebookContainer = gd.closest('#notebook-container');\n",
              "if (notebookContainer) {{\n",
              "    x.observe(notebookContainer, {childList: true});\n",
              "}}\n",
              "\n",
              "// Listen for the clearing of the current output cell\n",
              "var outputEl = gd.closest('.output');\n",
              "if (outputEl) {{\n",
              "    x.observe(outputEl, {childList: true});\n",
              "}}\n",
              "\n",
              "                        })\n",
              "                };\n",
              "                \n",
              "            </script>\n",
              "        </div>\n",
              "</body>\n",
              "</html>"
            ]
          },
          "metadata": {
            "tags": []
          }
        },
        {
          "output_type": "stream",
          "text": [
            "\n",
            "Средняя ошибка на тестовой выборке: 13.66 очков.\n"
          ],
          "name": "stdout"
        }
      ]
    },
    {
      "cell_type": "code",
      "metadata": {
        "id": "PE1-pCqwLdwt",
        "colab": {
          "base_uri": "https://localhost:8080/",
          "height": 579
        },
        "outputId": "23ea7b10-2ec6-405b-9b2f-c445c577a1f6"
      },
      "source": [
        "research(time_data, 'time_2', hidden_dim=100, outlier_threshold=50)"
      ],
      "execution_count": null,
      "outputs": [
        {
          "output_type": "display_data",
          "data": {
            "text/html": [
              "<html>\n",
              "<head><meta charset=\"utf-8\" /></head>\n",
              "<body>\n",
              "    <div>\n",
              "            <script src=\"https://cdnjs.cloudflare.com/ajax/libs/mathjax/2.7.5/MathJax.js?config=TeX-AMS-MML_SVG\"></script><script type=\"text/javascript\">if (window.MathJax) {MathJax.Hub.Config({SVG: {font: \"STIX-Web\"}});}</script>\n",
              "                <script type=\"text/javascript\">window.PlotlyConfig = {MathJaxConfig: 'local'};</script>\n",
              "        <script src=\"https://cdn.plot.ly/plotly-latest.min.js\"></script>    \n",
              "            <div id=\"3780f3bd-3f7b-43a2-8489-73db2cdef587\" class=\"plotly-graph-div\" style=\"height:525px; width:100%;\"></div>\n",
              "            <script type=\"text/javascript\">\n",
              "                \n",
              "                    window.PLOTLYENV=window.PLOTLYENV || {};\n",
              "                    \n",
              "                if (document.getElementById(\"3780f3bd-3f7b-43a2-8489-73db2cdef587\")) {\n",
              "                    Plotly.newPlot(\n",
              "                        '3780f3bd-3f7b-43a2-8489-73db2cdef587',\n",
              "                        [{\"hoverinfo\": \"all\", \"hovertemplate\": \"epoch: %{x}<br>error: %{y}\", \"name\": \"loss\", \"type\": \"scatter\", \"x\": [1, 2, 3, 4, 5, 6, 7, 8, 9, 10, 11, 12, 13, 14, 15, 16, 17, 18, 19, 20, 21, 22, 23, 24, 25], \"xaxis\": \"x\", \"y\": [0.012293615378439426, 0.0037626128178089857, 0.0037142557557672262, 0.00370126124471426, 0.003681962611153722, 0.003692772937938571, 0.0036702717188745737, 0.0036354369949549437, 0.003633410669863224, 0.0036337622441351414, 0.003633075160905719, 0.00363350473344326, 0.003627727273851633, 0.00362758943811059, 0.003627622267231345, 0.0036274048034101725, 0.0036272972356528044, 0.003627345198765397, 0.003626504447311163, 0.00362641760148108, 0.0036263931542634964, 0.0036263407673686743, 0.003626416437327862, 0.0036262846551835537, 0.0036262820940464735], \"yaxis\": \"y\"}, {\"hoverinfo\": \"all\", \"hovertemplate\": \"epoch: %{x}<br>error: %{y}\", \"name\": \"mae\", \"type\": \"scatter\", \"x\": [1, 2, 3, 4, 5, 6, 7, 8, 9, 10, 11, 12, 13, 14, 15, 16, 17, 18, 19, 20, 21, 22, 23, 24, 25], \"xaxis\": \"x2\", \"y\": [0.06975558400154114, 0.042550377547740936, 0.04235972836613655, 0.042313843965530396, 0.04220176115632057, 0.04233015701174736, 0.04213042929768562, 0.04184963181614876, 0.0418066531419754, 0.0418068952858448, 0.04181874170899391, 0.04182108864188194, 0.0417914055287838, 0.04176655039191246, 0.04175934940576553, 0.04176587611436844, 0.04176478460431099, 0.04175393283367157, 0.04175001010298729, 0.04176216572523117, 0.041777048259973526, 0.04174454137682915, 0.041766099631786346, 0.0417574942111969, 0.041760433465242386], \"yaxis\": \"y2\"}, {\"hoverinfo\": \"all\", \"hovertemplate\": \"epoch: %{x}<br>error: %{y}\", \"name\": \"val_loss\", \"type\": \"scatter\", \"x\": [1, 2, 3, 4, 5, 6, 7, 8, 9, 10, 11, 12, 13, 14, 15, 16, 17, 18, 19, 20, 21, 22, 23, 24, 25], \"xaxis\": \"x\", \"y\": [0.0038875199388712645, 0.0037466520443558693, 0.0037550334818661213, 0.0037062910851091146, 0.0036663247738033533, 0.0037254863418638706, 0.003661729395389557, 0.0036508033517748117, 0.0036543735768646, 0.003647884586825967, 0.0036476999521255493, 0.0036603761836886406, 0.0036452847998589277, 0.003643900388851762, 0.003644958371296525, 0.0036437050439417362, 0.003644313896074891, 0.0036432917695492506, 0.003643389791250229, 0.0036434694193303585, 0.0036433336790651083, 0.003643481060862541, 0.0036433767527341843, 0.0036433767527341843, 0.0036433765199035406], \"yaxis\": \"y\"}, {\"hoverinfo\": \"all\", \"hovertemplate\": \"epoch: %{x}<br>error: %{y}\", \"name\": \"val_mae\", \"type\": \"scatter\", \"x\": [1, 2, 3, 4, 5, 6, 7, 8, 9, 10, 11, 12, 13, 14, 15, 16, 17, 18, 19, 20, 21, 22, 23, 24, 25], \"xaxis\": \"x2\", \"y\": [0.04272005707025528, 0.04253120720386505, 0.04211008548736572, 0.04286155104637146, 0.04208465293049812, 0.04319759085774422, 0.04227419197559357, 0.04181841015815735, 0.041776131838560104, 0.04183262959122658, 0.04181642457842827, 0.04253607615828514, 0.04205583781003952, 0.04191781207919121, 0.04204708710312843, 0.0419183075428009, 0.041877977550029755, 0.04194996505975723, 0.04198470339179039, 0.0419912226498127, 0.04196299985051155, 0.04198768362402916, 0.04197271168231964, 0.041972480714321136, 0.04197249934077263], \"yaxis\": \"y2\"}],\n",
              "                        {\"legend\": {\"orientation\": \"h\"}, \"margin\": {\"b\": 0, \"l\": 0, \"r\": 40, \"t\": 40}, \"template\": {\"data\": {\"bar\": [{\"error_x\": {\"color\": \"#2a3f5f\"}, \"error_y\": {\"color\": \"#2a3f5f\"}, \"marker\": {\"line\": {\"color\": \"#E5ECF6\", \"width\": 0.5}}, \"type\": \"bar\"}], \"barpolar\": [{\"marker\": {\"line\": {\"color\": \"#E5ECF6\", \"width\": 0.5}}, \"type\": \"barpolar\"}], \"carpet\": [{\"aaxis\": {\"endlinecolor\": \"#2a3f5f\", \"gridcolor\": \"white\", \"linecolor\": \"white\", \"minorgridcolor\": \"white\", \"startlinecolor\": \"#2a3f5f\"}, \"baxis\": {\"endlinecolor\": \"#2a3f5f\", \"gridcolor\": \"white\", \"linecolor\": \"white\", \"minorgridcolor\": \"white\", \"startlinecolor\": \"#2a3f5f\"}, \"type\": \"carpet\"}], \"choropleth\": [{\"colorbar\": {\"outlinewidth\": 0, \"ticks\": \"\"}, \"type\": \"choropleth\"}], \"contour\": [{\"colorbar\": {\"outlinewidth\": 0, \"ticks\": \"\"}, \"colorscale\": [[0.0, \"#0d0887\"], [0.1111111111111111, \"#46039f\"], [0.2222222222222222, \"#7201a8\"], [0.3333333333333333, \"#9c179e\"], [0.4444444444444444, \"#bd3786\"], [0.5555555555555556, \"#d8576b\"], [0.6666666666666666, \"#ed7953\"], [0.7777777777777778, \"#fb9f3a\"], [0.8888888888888888, \"#fdca26\"], [1.0, \"#f0f921\"]], \"type\": \"contour\"}], \"contourcarpet\": [{\"colorbar\": {\"outlinewidth\": 0, \"ticks\": \"\"}, \"type\": \"contourcarpet\"}], \"heatmap\": [{\"colorbar\": {\"outlinewidth\": 0, \"ticks\": \"\"}, \"colorscale\": [[0.0, \"#0d0887\"], [0.1111111111111111, \"#46039f\"], [0.2222222222222222, \"#7201a8\"], [0.3333333333333333, \"#9c179e\"], [0.4444444444444444, \"#bd3786\"], [0.5555555555555556, \"#d8576b\"], [0.6666666666666666, \"#ed7953\"], [0.7777777777777778, \"#fb9f3a\"], [0.8888888888888888, \"#fdca26\"], [1.0, \"#f0f921\"]], \"type\": \"heatmap\"}], \"heatmapgl\": [{\"colorbar\": {\"outlinewidth\": 0, \"ticks\": \"\"}, \"colorscale\": [[0.0, \"#0d0887\"], [0.1111111111111111, \"#46039f\"], [0.2222222222222222, \"#7201a8\"], [0.3333333333333333, \"#9c179e\"], [0.4444444444444444, \"#bd3786\"], [0.5555555555555556, \"#d8576b\"], [0.6666666666666666, \"#ed7953\"], [0.7777777777777778, \"#fb9f3a\"], [0.8888888888888888, \"#fdca26\"], [1.0, \"#f0f921\"]], \"type\": \"heatmapgl\"}], \"histogram\": [{\"marker\": {\"colorbar\": {\"outlinewidth\": 0, \"ticks\": \"\"}}, \"type\": \"histogram\"}], \"histogram2d\": [{\"colorbar\": {\"outlinewidth\": 0, \"ticks\": \"\"}, \"colorscale\": [[0.0, \"#0d0887\"], [0.1111111111111111, \"#46039f\"], [0.2222222222222222, \"#7201a8\"], [0.3333333333333333, \"#9c179e\"], [0.4444444444444444, \"#bd3786\"], [0.5555555555555556, \"#d8576b\"], [0.6666666666666666, \"#ed7953\"], [0.7777777777777778, \"#fb9f3a\"], [0.8888888888888888, \"#fdca26\"], [1.0, \"#f0f921\"]], \"type\": \"histogram2d\"}], \"histogram2dcontour\": [{\"colorbar\": {\"outlinewidth\": 0, \"ticks\": \"\"}, \"colorscale\": [[0.0, \"#0d0887\"], [0.1111111111111111, \"#46039f\"], [0.2222222222222222, \"#7201a8\"], [0.3333333333333333, \"#9c179e\"], [0.4444444444444444, \"#bd3786\"], [0.5555555555555556, \"#d8576b\"], [0.6666666666666666, \"#ed7953\"], [0.7777777777777778, \"#fb9f3a\"], [0.8888888888888888, \"#fdca26\"], [1.0, \"#f0f921\"]], \"type\": \"histogram2dcontour\"}], \"mesh3d\": [{\"colorbar\": {\"outlinewidth\": 0, \"ticks\": \"\"}, \"type\": \"mesh3d\"}], \"parcoords\": [{\"line\": {\"colorbar\": {\"outlinewidth\": 0, \"ticks\": \"\"}}, \"type\": \"parcoords\"}], \"pie\": [{\"automargin\": true, \"type\": \"pie\"}], \"scatter\": [{\"marker\": {\"colorbar\": {\"outlinewidth\": 0, \"ticks\": \"\"}}, \"type\": \"scatter\"}], \"scatter3d\": [{\"line\": {\"colorbar\": {\"outlinewidth\": 0, \"ticks\": \"\"}}, \"marker\": {\"colorbar\": {\"outlinewidth\": 0, \"ticks\": \"\"}}, \"type\": \"scatter3d\"}], \"scattercarpet\": [{\"marker\": {\"colorbar\": {\"outlinewidth\": 0, \"ticks\": \"\"}}, \"type\": \"scattercarpet\"}], \"scattergeo\": [{\"marker\": {\"colorbar\": {\"outlinewidth\": 0, \"ticks\": \"\"}}, \"type\": \"scattergeo\"}], \"scattergl\": [{\"marker\": {\"colorbar\": {\"outlinewidth\": 0, \"ticks\": \"\"}}, \"type\": \"scattergl\"}], \"scattermapbox\": [{\"marker\": {\"colorbar\": {\"outlinewidth\": 0, \"ticks\": \"\"}}, \"type\": \"scattermapbox\"}], \"scatterpolar\": [{\"marker\": {\"colorbar\": {\"outlinewidth\": 0, \"ticks\": \"\"}}, \"type\": \"scatterpolar\"}], \"scatterpolargl\": [{\"marker\": {\"colorbar\": {\"outlinewidth\": 0, \"ticks\": \"\"}}, \"type\": \"scatterpolargl\"}], \"scatterternary\": [{\"marker\": {\"colorbar\": {\"outlinewidth\": 0, \"ticks\": \"\"}}, \"type\": \"scatterternary\"}], \"surface\": [{\"colorbar\": {\"outlinewidth\": 0, \"ticks\": \"\"}, \"colorscale\": [[0.0, \"#0d0887\"], [0.1111111111111111, \"#46039f\"], [0.2222222222222222, \"#7201a8\"], [0.3333333333333333, \"#9c179e\"], [0.4444444444444444, \"#bd3786\"], [0.5555555555555556, \"#d8576b\"], [0.6666666666666666, \"#ed7953\"], [0.7777777777777778, \"#fb9f3a\"], [0.8888888888888888, \"#fdca26\"], [1.0, \"#f0f921\"]], \"type\": \"surface\"}], \"table\": [{\"cells\": {\"fill\": {\"color\": \"#EBF0F8\"}, \"line\": {\"color\": \"white\"}}, \"header\": {\"fill\": {\"color\": \"#C8D4E3\"}, \"line\": {\"color\": \"white\"}}, \"type\": \"table\"}]}, \"layout\": {\"annotationdefaults\": {\"arrowcolor\": \"#2a3f5f\", \"arrowhead\": 0, \"arrowwidth\": 1}, \"coloraxis\": {\"colorbar\": {\"outlinewidth\": 0, \"ticks\": \"\"}}, \"colorscale\": {\"diverging\": [[0, \"#8e0152\"], [0.1, \"#c51b7d\"], [0.2, \"#de77ae\"], [0.3, \"#f1b6da\"], [0.4, \"#fde0ef\"], [0.5, \"#f7f7f7\"], [0.6, \"#e6f5d0\"], [0.7, \"#b8e186\"], [0.8, \"#7fbc41\"], [0.9, \"#4d9221\"], [1, \"#276419\"]], \"sequential\": [[0.0, \"#0d0887\"], [0.1111111111111111, \"#46039f\"], [0.2222222222222222, \"#7201a8\"], [0.3333333333333333, \"#9c179e\"], [0.4444444444444444, \"#bd3786\"], [0.5555555555555556, \"#d8576b\"], [0.6666666666666666, \"#ed7953\"], [0.7777777777777778, \"#fb9f3a\"], [0.8888888888888888, \"#fdca26\"], [1.0, \"#f0f921\"]], \"sequentialminus\": [[0.0, \"#0d0887\"], [0.1111111111111111, \"#46039f\"], [0.2222222222222222, \"#7201a8\"], [0.3333333333333333, \"#9c179e\"], [0.4444444444444444, \"#bd3786\"], [0.5555555555555556, \"#d8576b\"], [0.6666666666666666, \"#ed7953\"], [0.7777777777777778, \"#fb9f3a\"], [0.8888888888888888, \"#fdca26\"], [1.0, \"#f0f921\"]]}, \"colorway\": [\"#636efa\", \"#EF553B\", \"#00cc96\", \"#ab63fa\", \"#FFA15A\", \"#19d3f3\", \"#FF6692\", \"#B6E880\", \"#FF97FF\", \"#FECB52\"], \"font\": {\"color\": \"#2a3f5f\"}, \"geo\": {\"bgcolor\": \"white\", \"lakecolor\": \"white\", \"landcolor\": \"#E5ECF6\", \"showlakes\": true, \"showland\": true, \"subunitcolor\": \"white\"}, \"hoverlabel\": {\"align\": \"left\"}, \"hovermode\": \"closest\", \"mapbox\": {\"style\": \"light\"}, \"paper_bgcolor\": \"white\", \"plot_bgcolor\": \"#E5ECF6\", \"polar\": {\"angularaxis\": {\"gridcolor\": \"white\", \"linecolor\": \"white\", \"ticks\": \"\"}, \"bgcolor\": \"#E5ECF6\", \"radialaxis\": {\"gridcolor\": \"white\", \"linecolor\": \"white\", \"ticks\": \"\"}}, \"scene\": {\"xaxis\": {\"backgroundcolor\": \"#E5ECF6\", \"gridcolor\": \"white\", \"gridwidth\": 2, \"linecolor\": \"white\", \"showbackground\": true, \"ticks\": \"\", \"zerolinecolor\": \"white\"}, \"yaxis\": {\"backgroundcolor\": \"#E5ECF6\", \"gridcolor\": \"white\", \"gridwidth\": 2, \"linecolor\": \"white\", \"showbackground\": true, \"ticks\": \"\", \"zerolinecolor\": \"white\"}, \"zaxis\": {\"backgroundcolor\": \"#E5ECF6\", \"gridcolor\": \"white\", \"gridwidth\": 2, \"linecolor\": \"white\", \"showbackground\": true, \"ticks\": \"\", \"zerolinecolor\": \"white\"}}, \"shapedefaults\": {\"line\": {\"color\": \"#2a3f5f\"}}, \"ternary\": {\"aaxis\": {\"gridcolor\": \"white\", \"linecolor\": \"white\", \"ticks\": \"\"}, \"baxis\": {\"gridcolor\": \"white\", \"linecolor\": \"white\", \"ticks\": \"\"}, \"bgcolor\": \"#E5ECF6\", \"caxis\": {\"gridcolor\": \"white\", \"linecolor\": \"white\", \"ticks\": \"\"}}, \"title\": {\"x\": 0.05}, \"xaxis\": {\"automargin\": true, \"gridcolor\": \"white\", \"linecolor\": \"white\", \"ticks\": \"\", \"title\": {\"standoff\": 15}, \"zerolinecolor\": \"white\", \"zerolinewidth\": 2}, \"yaxis\": {\"automargin\": true, \"gridcolor\": \"white\", \"linecolor\": \"white\", \"ticks\": \"\", \"title\": {\"standoff\": 15}, \"zerolinecolor\": \"white\", \"zerolinewidth\": 2}}}, \"title\": {\"text\": \"History\"}, \"xaxis\": {\"anchor\": \"y\", \"domain\": [0.0, 0.45], \"title\": {\"text\": \"epochs\"}}, \"xaxis2\": {\"anchor\": \"y2\", \"domain\": [0.55, 1.0], \"title\": {\"text\": \"epochs\"}}, \"yaxis\": {\"anchor\": \"x\", \"domain\": [0.0, 1.0], \"title\": {\"text\": \"loss (MSE)\"}}, \"yaxis2\": {\"anchor\": \"x2\", \"domain\": [0.0, 1.0], \"title\": {\"text\": \"MAE\"}}},\n",
              "                        {\"responsive\": true}\n",
              "                    ).then(function(){\n",
              "                            \n",
              "var gd = document.getElementById('3780f3bd-3f7b-43a2-8489-73db2cdef587');\n",
              "var x = new MutationObserver(function (mutations, observer) {{\n",
              "        var display = window.getComputedStyle(gd).display;\n",
              "        if (!display || display === 'none') {{\n",
              "            console.log([gd, 'removed!']);\n",
              "            Plotly.purge(gd);\n",
              "            observer.disconnect();\n",
              "        }}\n",
              "}});\n",
              "\n",
              "// Listen for the removal of the full notebook cells\n",
              "var notebookContainer = gd.closest('#notebook-container');\n",
              "if (notebookContainer) {{\n",
              "    x.observe(notebookContainer, {childList: true});\n",
              "}}\n",
              "\n",
              "// Listen for the clearing of the current output cell\n",
              "var outputEl = gd.closest('.output');\n",
              "if (outputEl) {{\n",
              "    x.observe(outputEl, {childList: true});\n",
              "}}\n",
              "\n",
              "                        })\n",
              "                };\n",
              "                \n",
              "            </script>\n",
              "        </div>\n",
              "</body>\n",
              "</html>"
            ]
          },
          "metadata": {
            "tags": []
          }
        },
        {
          "output_type": "stream",
          "text": [
            "\n",
            "Средняя ошибка на тестовой выборке: 13.51 очков.\n"
          ],
          "name": "stdout"
        }
      ]
    },
    {
      "cell_type": "code",
      "metadata": {
        "id": "xliIIrdprv87",
        "colab": {
          "base_uri": "https://localhost:8080/",
          "height": 579
        },
        "outputId": "eec871a4-75f9-4604-8464-e54c8fb5cd27"
      },
      "source": [
        "research(time_data, 'time_2', hidden_dim=100, depth=2)"
      ],
      "execution_count": null,
      "outputs": [
        {
          "output_type": "display_data",
          "data": {
            "text/html": [
              "<html>\n",
              "<head><meta charset=\"utf-8\" /></head>\n",
              "<body>\n",
              "    <div>\n",
              "            <script src=\"https://cdnjs.cloudflare.com/ajax/libs/mathjax/2.7.5/MathJax.js?config=TeX-AMS-MML_SVG\"></script><script type=\"text/javascript\">if (window.MathJax) {MathJax.Hub.Config({SVG: {font: \"STIX-Web\"}});}</script>\n",
              "                <script type=\"text/javascript\">window.PlotlyConfig = {MathJaxConfig: 'local'};</script>\n",
              "        <script src=\"https://cdn.plot.ly/plotly-latest.min.js\"></script>    \n",
              "            <div id=\"35412ff9-4fe0-4cf2-9655-79fc225a9848\" class=\"plotly-graph-div\" style=\"height:525px; width:100%;\"></div>\n",
              "            <script type=\"text/javascript\">\n",
              "                \n",
              "                    window.PLOTLYENV=window.PLOTLYENV || {};\n",
              "                    \n",
              "                if (document.getElementById(\"35412ff9-4fe0-4cf2-9655-79fc225a9848\")) {\n",
              "                    Plotly.newPlot(\n",
              "                        '35412ff9-4fe0-4cf2-9655-79fc225a9848',\n",
              "                        [{\"hoverinfo\": \"all\", \"hovertemplate\": \"epoch: %{x}<br>error: %{y}\", \"name\": \"loss\", \"type\": \"scatter\", \"x\": [1, 2, 3, 4, 5, 6, 7, 8, 9, 10, 11, 12, 13, 14, 15, 16, 17, 18, 19, 20, 21, 22, 23, 24, 25, 26, 27, 28, 29, 30, 31, 32, 33, 34, 35, 36, 37, 38, 39, 40, 41, 42, 43, 44, 45], \"xaxis\": \"x\", \"y\": [0.009092220105230808, 0.004041462671011686, 0.004014741629362106, 0.004027580842375755, 0.004012269899249077, 0.0040217190980911255, 0.004014916718006134, 0.004008837044239044, 0.003938705660402775, 0.0039366683922708035, 0.003935409244149923, 0.003935439977794886, 0.003935966640710831, 0.003932399675250053, 0.0039327810518443584, 0.003935074899345636, 0.0039308336563408375, 0.003928407095372677, 0.003918442875146866, 0.00391733692958951, 0.003917504567652941, 0.0039175753481686115, 0.00391671946272254, 0.0039159078150987625, 0.003915836103260517, 0.003915737848728895, 0.003915645647794008, 0.003915684297680855, 0.0039154766127467155, 0.003915471024811268, 0.003915471490472555, 0.003915473353117704, 0.003915462642908096, 0.003915444016456604, 0.003915443550795317, 0.00391544122248888, 0.003915442153811455, 0.0039154416881501675, 0.003915437497198582, 0.003915438894182444, 0.00391544122248888, 0.003915442153811455, 0.003915436565876007, 0.00391544122248888, 0.00391544122248888], \"yaxis\": \"y\"}, {\"hoverinfo\": \"all\", \"hovertemplate\": \"epoch: %{x}<br>error: %{y}\", \"name\": \"mae\", \"type\": \"scatter\", \"x\": [1, 2, 3, 4, 5, 6, 7, 8, 9, 10, 11, 12, 13, 14, 15, 16, 17, 18, 19, 20, 21, 22, 23, 24, 25, 26, 27, 28, 29, 30, 31, 32, 33, 34, 35, 36, 37, 38, 39, 40, 41, 42, 43, 44, 45], \"xaxis\": \"x2\", \"y\": [0.05699295550584793, 0.04316268488764763, 0.0430329330265522, 0.04312292858958244, 0.042958565056324005, 0.04307301715016365, 0.042976874858140945, 0.04294658452272415, 0.04225468635559082, 0.042242906987667084, 0.0422627292573452, 0.0422486886382103, 0.042239051312208176, 0.04221931844949722, 0.04222521930932999, 0.04225648567080498, 0.04223107919096947, 0.0422135554254055, 0.042079824954271317, 0.0420956127345562, 0.042084820568561554, 0.04209822788834572, 0.0420931875705719, 0.042059071362018585, 0.04206959530711174, 0.042075932025909424, 0.04208259657025337, 0.042076461017131805, 0.042082082480192184, 0.042082201689481735, 0.04208061844110489, 0.042076967656612396, 0.04207775369286537, 0.04207809269428253, 0.04207782819867134, 0.04207770526409149, 0.04207782447338104, 0.04207800701260567, 0.04207783192396164, 0.04207782447338104, 0.04207782819867134, 0.04207780212163925, 0.042077865451574326, 0.042077843099832535, 0.04207782447338104], \"yaxis\": \"y2\"}, {\"hoverinfo\": \"all\", \"hovertemplate\": \"epoch: %{x}<br>error: %{y}\", \"name\": \"val_loss\", \"type\": \"scatter\", \"x\": [1, 2, 3, 4, 5, 6, 7, 8, 9, 10, 11, 12, 13, 14, 15, 16, 17, 18, 19, 20, 21, 22, 23, 24, 25, 26, 27, 28, 29, 30, 31, 32, 33, 34, 35, 36, 37, 38, 39, 40, 41, 42, 43, 44, 45], \"xaxis\": \"x\", \"y\": [0.004076696000993252, 0.004295846913009882, 0.0039759729988873005, 0.003930548205971718, 0.004144965671002865, 0.003921901807188988, 0.003933560568839312, 0.003954041283577681, 0.0038830863777548075, 0.003877555252984166, 0.0038763810880482197, 0.003887929255142808, 0.0038757792208343744, 0.0038815313018858433, 0.003880902659147978, 0.003866765648126602, 0.0038665588945150375, 0.003887260565534234, 0.00386453652754426, 0.0038646061439067125, 0.0038656897377222776, 0.0038642946165055037, 0.0038647388573735952, 0.0038642073050141335, 0.0038640042766928673, 0.0038639174308627844, 0.003863822901621461, 0.0038637651596218348, 0.0038637560792267323, 0.0038637483958154917, 0.003863744670525193, 0.0038637397810816765, 0.003863734658807516, 0.003863734658807516, 0.003863734193146229, 0.0038637337274849415, 0.003863732796162367, 0.0038637323305010796, 0.0038637323305010796, 0.0038637323305010796, 0.0038637323305010796, 0.0038637323305010796, 0.003863732796162367, 0.003863732796162367, 0.003863732796162367], \"yaxis\": \"y\"}, {\"hoverinfo\": \"all\", \"hovertemplate\": \"epoch: %{x}<br>error: %{y}\", \"name\": \"val_mae\", \"type\": \"scatter\", \"x\": [1, 2, 3, 4, 5, 6, 7, 8, 9, 10, 11, 12, 13, 14, 15, 16, 17, 18, 19, 20, 21, 22, 23, 24, 25, 26, 27, 28, 29, 30, 31, 32, 33, 34, 35, 36, 37, 38, 39, 40, 41, 42, 43, 44, 45], \"xaxis\": \"x2\", \"y\": [0.04319053143262863, 0.047721441835165024, 0.042610812932252884, 0.04300646111369133, 0.04413186386227608, 0.04230113700032234, 0.04275653511285782, 0.04249729961156845, 0.04263719916343689, 0.042558904737234116, 0.042231619358062744, 0.04257712513208389, 0.04218146577477455, 0.042793240398168564, 0.042253825813531876, 0.042374782264232635, 0.0422465018928051, 0.04277509078383446, 0.04224945232272148, 0.042271167039871216, 0.042188480496406555, 0.042293474078178406, 0.04219764471054077, 0.042244065552949905, 0.042251963168382645, 0.042264897376298904, 0.042238201946020126, 0.0422537624835968, 0.042252570390701294, 0.04225011169910431, 0.042248617857694626, 0.04224938526749611, 0.04224922135472298, 0.042249247431755066, 0.04224912449717522, 0.042249053716659546, 0.042249131947755814, 0.042249150574207306, 0.042249150574207306, 0.042249150574207306, 0.042249150574207306, 0.042249154299497604, 0.042249154299497604, 0.042249154299497604, 0.042249154299497604], \"yaxis\": \"y2\"}],\n",
              "                        {\"legend\": {\"orientation\": \"h\"}, \"margin\": {\"b\": 0, \"l\": 0, \"r\": 40, \"t\": 40}, \"template\": {\"data\": {\"bar\": [{\"error_x\": {\"color\": \"#2a3f5f\"}, \"error_y\": {\"color\": \"#2a3f5f\"}, \"marker\": {\"line\": {\"color\": \"#E5ECF6\", \"width\": 0.5}}, \"type\": \"bar\"}], \"barpolar\": [{\"marker\": {\"line\": {\"color\": \"#E5ECF6\", \"width\": 0.5}}, \"type\": \"barpolar\"}], \"carpet\": [{\"aaxis\": {\"endlinecolor\": \"#2a3f5f\", \"gridcolor\": \"white\", \"linecolor\": \"white\", \"minorgridcolor\": \"white\", \"startlinecolor\": \"#2a3f5f\"}, \"baxis\": {\"endlinecolor\": \"#2a3f5f\", \"gridcolor\": \"white\", \"linecolor\": \"white\", \"minorgridcolor\": \"white\", \"startlinecolor\": \"#2a3f5f\"}, \"type\": \"carpet\"}], \"choropleth\": [{\"colorbar\": {\"outlinewidth\": 0, \"ticks\": \"\"}, \"type\": \"choropleth\"}], \"contour\": [{\"colorbar\": {\"outlinewidth\": 0, \"ticks\": \"\"}, \"colorscale\": [[0.0, \"#0d0887\"], [0.1111111111111111, \"#46039f\"], [0.2222222222222222, \"#7201a8\"], [0.3333333333333333, \"#9c179e\"], [0.4444444444444444, \"#bd3786\"], [0.5555555555555556, \"#d8576b\"], [0.6666666666666666, \"#ed7953\"], [0.7777777777777778, \"#fb9f3a\"], [0.8888888888888888, \"#fdca26\"], [1.0, \"#f0f921\"]], \"type\": \"contour\"}], \"contourcarpet\": [{\"colorbar\": {\"outlinewidth\": 0, \"ticks\": \"\"}, \"type\": \"contourcarpet\"}], \"heatmap\": [{\"colorbar\": {\"outlinewidth\": 0, \"ticks\": \"\"}, \"colorscale\": [[0.0, \"#0d0887\"], [0.1111111111111111, \"#46039f\"], [0.2222222222222222, \"#7201a8\"], [0.3333333333333333, \"#9c179e\"], [0.4444444444444444, \"#bd3786\"], [0.5555555555555556, \"#d8576b\"], [0.6666666666666666, \"#ed7953\"], [0.7777777777777778, \"#fb9f3a\"], [0.8888888888888888, \"#fdca26\"], [1.0, \"#f0f921\"]], \"type\": \"heatmap\"}], \"heatmapgl\": [{\"colorbar\": {\"outlinewidth\": 0, \"ticks\": \"\"}, \"colorscale\": [[0.0, \"#0d0887\"], [0.1111111111111111, \"#46039f\"], [0.2222222222222222, \"#7201a8\"], [0.3333333333333333, \"#9c179e\"], [0.4444444444444444, \"#bd3786\"], [0.5555555555555556, \"#d8576b\"], [0.6666666666666666, \"#ed7953\"], [0.7777777777777778, \"#fb9f3a\"], [0.8888888888888888, \"#fdca26\"], [1.0, \"#f0f921\"]], \"type\": \"heatmapgl\"}], \"histogram\": [{\"marker\": {\"colorbar\": {\"outlinewidth\": 0, \"ticks\": \"\"}}, \"type\": \"histogram\"}], \"histogram2d\": [{\"colorbar\": {\"outlinewidth\": 0, \"ticks\": \"\"}, \"colorscale\": [[0.0, \"#0d0887\"], [0.1111111111111111, \"#46039f\"], [0.2222222222222222, \"#7201a8\"], [0.3333333333333333, \"#9c179e\"], [0.4444444444444444, \"#bd3786\"], [0.5555555555555556, \"#d8576b\"], [0.6666666666666666, \"#ed7953\"], [0.7777777777777778, \"#fb9f3a\"], [0.8888888888888888, \"#fdca26\"], [1.0, \"#f0f921\"]], \"type\": \"histogram2d\"}], \"histogram2dcontour\": [{\"colorbar\": {\"outlinewidth\": 0, \"ticks\": \"\"}, \"colorscale\": [[0.0, \"#0d0887\"], [0.1111111111111111, \"#46039f\"], [0.2222222222222222, \"#7201a8\"], [0.3333333333333333, \"#9c179e\"], [0.4444444444444444, \"#bd3786\"], [0.5555555555555556, \"#d8576b\"], [0.6666666666666666, \"#ed7953\"], [0.7777777777777778, \"#fb9f3a\"], [0.8888888888888888, \"#fdca26\"], [1.0, \"#f0f921\"]], \"type\": \"histogram2dcontour\"}], \"mesh3d\": [{\"colorbar\": {\"outlinewidth\": 0, \"ticks\": \"\"}, \"type\": \"mesh3d\"}], \"parcoords\": [{\"line\": {\"colorbar\": {\"outlinewidth\": 0, \"ticks\": \"\"}}, \"type\": \"parcoords\"}], \"pie\": [{\"automargin\": true, \"type\": \"pie\"}], \"scatter\": [{\"marker\": {\"colorbar\": {\"outlinewidth\": 0, \"ticks\": \"\"}}, \"type\": \"scatter\"}], \"scatter3d\": [{\"line\": {\"colorbar\": {\"outlinewidth\": 0, \"ticks\": \"\"}}, \"marker\": {\"colorbar\": {\"outlinewidth\": 0, \"ticks\": \"\"}}, \"type\": \"scatter3d\"}], \"scattercarpet\": [{\"marker\": {\"colorbar\": {\"outlinewidth\": 0, \"ticks\": \"\"}}, \"type\": \"scattercarpet\"}], \"scattergeo\": [{\"marker\": {\"colorbar\": {\"outlinewidth\": 0, \"ticks\": \"\"}}, \"type\": \"scattergeo\"}], \"scattergl\": [{\"marker\": {\"colorbar\": {\"outlinewidth\": 0, \"ticks\": \"\"}}, \"type\": \"scattergl\"}], \"scattermapbox\": [{\"marker\": {\"colorbar\": {\"outlinewidth\": 0, \"ticks\": \"\"}}, \"type\": \"scattermapbox\"}], \"scatterpolar\": [{\"marker\": {\"colorbar\": {\"outlinewidth\": 0, \"ticks\": \"\"}}, \"type\": \"scatterpolar\"}], \"scatterpolargl\": [{\"marker\": {\"colorbar\": {\"outlinewidth\": 0, \"ticks\": \"\"}}, \"type\": \"scatterpolargl\"}], \"scatterternary\": [{\"marker\": {\"colorbar\": {\"outlinewidth\": 0, \"ticks\": \"\"}}, \"type\": \"scatterternary\"}], \"surface\": [{\"colorbar\": {\"outlinewidth\": 0, \"ticks\": \"\"}, \"colorscale\": [[0.0, \"#0d0887\"], [0.1111111111111111, \"#46039f\"], [0.2222222222222222, \"#7201a8\"], [0.3333333333333333, \"#9c179e\"], [0.4444444444444444, \"#bd3786\"], [0.5555555555555556, \"#d8576b\"], [0.6666666666666666, \"#ed7953\"], [0.7777777777777778, \"#fb9f3a\"], [0.8888888888888888, \"#fdca26\"], [1.0, \"#f0f921\"]], \"type\": \"surface\"}], \"table\": [{\"cells\": {\"fill\": {\"color\": \"#EBF0F8\"}, \"line\": {\"color\": \"white\"}}, \"header\": {\"fill\": {\"color\": \"#C8D4E3\"}, \"line\": {\"color\": \"white\"}}, \"type\": \"table\"}]}, \"layout\": {\"annotationdefaults\": {\"arrowcolor\": \"#2a3f5f\", \"arrowhead\": 0, \"arrowwidth\": 1}, \"coloraxis\": {\"colorbar\": {\"outlinewidth\": 0, \"ticks\": \"\"}}, \"colorscale\": {\"diverging\": [[0, \"#8e0152\"], [0.1, \"#c51b7d\"], [0.2, \"#de77ae\"], [0.3, \"#f1b6da\"], [0.4, \"#fde0ef\"], [0.5, \"#f7f7f7\"], [0.6, \"#e6f5d0\"], [0.7, \"#b8e186\"], [0.8, \"#7fbc41\"], [0.9, \"#4d9221\"], [1, \"#276419\"]], \"sequential\": [[0.0, \"#0d0887\"], [0.1111111111111111, \"#46039f\"], [0.2222222222222222, \"#7201a8\"], [0.3333333333333333, \"#9c179e\"], [0.4444444444444444, \"#bd3786\"], [0.5555555555555556, \"#d8576b\"], [0.6666666666666666, \"#ed7953\"], [0.7777777777777778, \"#fb9f3a\"], [0.8888888888888888, \"#fdca26\"], [1.0, \"#f0f921\"]], \"sequentialminus\": [[0.0, \"#0d0887\"], [0.1111111111111111, \"#46039f\"], [0.2222222222222222, \"#7201a8\"], [0.3333333333333333, \"#9c179e\"], [0.4444444444444444, \"#bd3786\"], [0.5555555555555556, \"#d8576b\"], [0.6666666666666666, \"#ed7953\"], [0.7777777777777778, \"#fb9f3a\"], [0.8888888888888888, \"#fdca26\"], [1.0, \"#f0f921\"]]}, \"colorway\": [\"#636efa\", \"#EF553B\", \"#00cc96\", \"#ab63fa\", \"#FFA15A\", \"#19d3f3\", \"#FF6692\", \"#B6E880\", \"#FF97FF\", \"#FECB52\"], \"font\": {\"color\": \"#2a3f5f\"}, \"geo\": {\"bgcolor\": \"white\", \"lakecolor\": \"white\", \"landcolor\": \"#E5ECF6\", \"showlakes\": true, \"showland\": true, \"subunitcolor\": \"white\"}, \"hoverlabel\": {\"align\": \"left\"}, \"hovermode\": \"closest\", \"mapbox\": {\"style\": \"light\"}, \"paper_bgcolor\": \"white\", \"plot_bgcolor\": \"#E5ECF6\", \"polar\": {\"angularaxis\": {\"gridcolor\": \"white\", \"linecolor\": \"white\", \"ticks\": \"\"}, \"bgcolor\": \"#E5ECF6\", \"radialaxis\": {\"gridcolor\": \"white\", \"linecolor\": \"white\", \"ticks\": \"\"}}, \"scene\": {\"xaxis\": {\"backgroundcolor\": \"#E5ECF6\", \"gridcolor\": \"white\", \"gridwidth\": 2, \"linecolor\": \"white\", \"showbackground\": true, \"ticks\": \"\", \"zerolinecolor\": \"white\"}, \"yaxis\": {\"backgroundcolor\": \"#E5ECF6\", \"gridcolor\": \"white\", \"gridwidth\": 2, \"linecolor\": \"white\", \"showbackground\": true, \"ticks\": \"\", \"zerolinecolor\": \"white\"}, \"zaxis\": {\"backgroundcolor\": \"#E5ECF6\", \"gridcolor\": \"white\", \"gridwidth\": 2, \"linecolor\": \"white\", \"showbackground\": true, \"ticks\": \"\", \"zerolinecolor\": \"white\"}}, \"shapedefaults\": {\"line\": {\"color\": \"#2a3f5f\"}}, \"ternary\": {\"aaxis\": {\"gridcolor\": \"white\", \"linecolor\": \"white\", \"ticks\": \"\"}, \"baxis\": {\"gridcolor\": \"white\", \"linecolor\": \"white\", \"ticks\": \"\"}, \"bgcolor\": \"#E5ECF6\", \"caxis\": {\"gridcolor\": \"white\", \"linecolor\": \"white\", \"ticks\": \"\"}}, \"title\": {\"x\": 0.05}, \"xaxis\": {\"automargin\": true, \"gridcolor\": \"white\", \"linecolor\": \"white\", \"ticks\": \"\", \"title\": {\"standoff\": 15}, \"zerolinecolor\": \"white\", \"zerolinewidth\": 2}, \"yaxis\": {\"automargin\": true, \"gridcolor\": \"white\", \"linecolor\": \"white\", \"ticks\": \"\", \"title\": {\"standoff\": 15}, \"zerolinecolor\": \"white\", \"zerolinewidth\": 2}}}, \"title\": {\"text\": \"History\"}, \"xaxis\": {\"anchor\": \"y\", \"domain\": [0.0, 0.45], \"title\": {\"text\": \"epochs\"}}, \"xaxis2\": {\"anchor\": \"y2\", \"domain\": [0.55, 1.0], \"title\": {\"text\": \"epochs\"}}, \"yaxis\": {\"anchor\": \"x\", \"domain\": [0.0, 1.0], \"title\": {\"text\": \"loss (MSE)\"}}, \"yaxis2\": {\"anchor\": \"x2\", \"domain\": [0.0, 1.0], \"title\": {\"text\": \"MAE\"}}},\n",
              "                        {\"responsive\": true}\n",
              "                    ).then(function(){\n",
              "                            \n",
              "var gd = document.getElementById('35412ff9-4fe0-4cf2-9655-79fc225a9848');\n",
              "var x = new MutationObserver(function (mutations, observer) {{\n",
              "        var display = window.getComputedStyle(gd).display;\n",
              "        if (!display || display === 'none') {{\n",
              "            console.log([gd, 'removed!']);\n",
              "            Plotly.purge(gd);\n",
              "            observer.disconnect();\n",
              "        }}\n",
              "}});\n",
              "\n",
              "// Listen for the removal of the full notebook cells\n",
              "var notebookContainer = gd.closest('#notebook-container');\n",
              "if (notebookContainer) {{\n",
              "    x.observe(notebookContainer, {childList: true});\n",
              "}}\n",
              "\n",
              "// Listen for the clearing of the current output cell\n",
              "var outputEl = gd.closest('.output');\n",
              "if (outputEl) {{\n",
              "    x.observe(outputEl, {childList: true});\n",
              "}}\n",
              "\n",
              "                        })\n",
              "                };\n",
              "                \n",
              "            </script>\n",
              "        </div>\n",
              "</body>\n",
              "</html>"
            ]
          },
          "metadata": {
            "tags": []
          }
        },
        {
          "output_type": "stream",
          "text": [
            "\n",
            "Средняя ошибка на тестовой выборке: 13.34 очков.\n"
          ],
          "name": "stdout"
        }
      ]
    },
    {
      "cell_type": "code",
      "metadata": {
        "id": "MoJq4PUqXyVP",
        "colab": {
          "base_uri": "https://localhost:8080/",
          "height": 579
        },
        "outputId": "bcab9d3a-0ec3-495a-eb97-2ab318032575"
      },
      "source": [
        "for activation in ['sigmoid', 'elu']:\n",
        "    research(time_data, 'time_2', hidden_dim=100, depth=2, activation=activation)"
      ],
      "execution_count": null,
      "outputs": [
        {
          "output_type": "display_data",
          "data": {
            "text/html": [
              "<html>\n",
              "<head><meta charset=\"utf-8\" /></head>\n",
              "<body>\n",
              "    <div>\n",
              "            <script src=\"https://cdnjs.cloudflare.com/ajax/libs/mathjax/2.7.5/MathJax.js?config=TeX-AMS-MML_SVG\"></script><script type=\"text/javascript\">if (window.MathJax) {MathJax.Hub.Config({SVG: {font: \"STIX-Web\"}});}</script>\n",
              "                <script type=\"text/javascript\">window.PlotlyConfig = {MathJaxConfig: 'local'};</script>\n",
              "        <script src=\"https://cdn.plot.ly/plotly-latest.min.js\"></script>    \n",
              "            <div id=\"4861e2f7-59db-4719-b048-df7ba8ff5996\" class=\"plotly-graph-div\" style=\"height:525px; width:100%;\"></div>\n",
              "            <script type=\"text/javascript\">\n",
              "                \n",
              "                    window.PLOTLYENV=window.PLOTLYENV || {};\n",
              "                    \n",
              "                if (document.getElementById(\"4861e2f7-59db-4719-b048-df7ba8ff5996\")) {\n",
              "                    Plotly.newPlot(\n",
              "                        '4861e2f7-59db-4719-b048-df7ba8ff5996',\n",
              "                        [{\"hoverinfo\": \"all\", \"hovertemplate\": \"epoch: %{x}<br>error: %{y}\", \"name\": \"loss\", \"type\": \"scatter\", \"x\": [1, 2, 3, 4, 5, 6, 7, 8, 9, 10, 11, 12, 13, 14, 15, 16, 17, 18, 19, 20, 21, 22, 23, 24, 25, 26, 27, 28], \"xaxis\": \"x\", \"y\": [0.011426822282373905, 0.004290678538382053, 0.004274558275938034, 0.004295257851481438, 0.004310214892029762, 0.0043413881212472916, 0.004319904372096062, 0.00419213529676199, 0.004191753454506397, 0.004189136903733015, 0.004183886107057333, 0.004183783195912838, 0.0041654519736766815, 0.0041639492847025394, 0.004163661506026983, 0.0041630202904343605, 0.0041638691909611225, 0.004160343203693628, 0.00416030315682292, 0.0041601816192269325, 0.004159970674663782, 0.004159967880696058, 0.004159681499004364, 0.004159646108746529, 0.004159640055149794, 0.0041596246883273125, 0.004159622825682163, 0.004159572534263134], \"yaxis\": \"y\"}, {\"hoverinfo\": \"all\", \"hovertemplate\": \"epoch: %{x}<br>error: %{y}\", \"name\": \"mae\", \"type\": \"scatter\", \"x\": [1, 2, 3, 4, 5, 6, 7, 8, 9, 10, 11, 12, 13, 14, 15, 16, 17, 18, 19, 20, 21, 22, 23, 24, 25, 26, 27, 28], \"xaxis\": \"x2\", \"y\": [0.06133928522467613, 0.044105175882577896, 0.04404500871896744, 0.04422452673316002, 0.04444490000605583, 0.04482211917638779, 0.044672053307294846, 0.04345298931002617, 0.04346008598804474, 0.04346051067113876, 0.04343428090214729, 0.043476417660713196, 0.043322741985321045, 0.04327791929244995, 0.04328938573598862, 0.04327080771327019, 0.043288107961416245, 0.04325789213180542, 0.04323999956250191, 0.043264053761959076, 0.0432494692504406, 0.04325973242521286, 0.04323843866586685, 0.043244849890470505, 0.043239057064056396, 0.04325757175683975, 0.04325128346681595, 0.04324779659509659], \"yaxis\": \"y2\"}, {\"hoverinfo\": \"all\", \"hovertemplate\": \"epoch: %{x}<br>error: %{y}\", \"name\": \"val_loss\", \"type\": \"scatter\", \"x\": [1, 2, 3, 4, 5, 6, 7, 8, 9, 10, 11, 12, 13, 14, 15, 16, 17, 18, 19, 20, 21, 22, 23, 24, 25, 26, 27, 28], \"xaxis\": \"x\", \"y\": [0.004329536575824022, 0.004164539277553558, 0.0041614859364926815, 0.004236898384988308, 0.0041685160249471664, 0.004272038117051125, 0.004110954236239195, 0.004100610036402941, 0.004094391129910946, 0.004098911304026842, 0.004096538759768009, 0.0040842085145413876, 0.004083340987563133, 0.004094522446393967, 0.004080757964402437, 0.004076109733432531, 0.004075529519468546, 0.0040754228830337524, 0.004075211938470602, 0.004075543489307165, 0.004075127653777599, 0.004075422417372465, 0.004075308796018362, 0.0040752519853413105, 0.004075163975358009, 0.004075170494616032, 0.004075164906680584, 0.004075162578374147], \"yaxis\": \"y\"}, {\"hoverinfo\": \"all\", \"hovertemplate\": \"epoch: %{x}<br>error: %{y}\", \"name\": \"val_mae\", \"type\": \"scatter\", \"x\": [1, 2, 3, 4, 5, 6, 7, 8, 9, 10, 11, 12, 13, 14, 15, 16, 17, 18, 19, 20, 21, 22, 23, 24, 25, 26, 27, 28], \"xaxis\": \"x2\", \"y\": [0.046966440975666046, 0.04354375973343849, 0.04395420476794243, 0.04520254582166672, 0.04488347843289375, 0.04585462808609009, 0.04349241405725479, 0.0434618815779686, 0.04347802698612213, 0.0439034104347229, 0.04307723417878151, 0.043729495257139206, 0.04321072995662689, 0.0430837906897068, 0.04314466938376427, 0.043397240340709686, 0.04331867769360542, 0.04331941902637482, 0.043439216911792755, 0.04331640899181366, 0.04339295253157616, 0.043321121484041214, 0.043333668261766434, 0.04333988577127457, 0.04335245117545128, 0.043350376188755035, 0.04334971308708191, 0.04335016384720802], \"yaxis\": \"y2\"}],\n",
              "                        {\"legend\": {\"orientation\": \"h\"}, \"margin\": {\"b\": 0, \"l\": 0, \"r\": 40, \"t\": 40}, \"template\": {\"data\": {\"bar\": [{\"error_x\": {\"color\": \"#2a3f5f\"}, \"error_y\": {\"color\": \"#2a3f5f\"}, \"marker\": {\"line\": {\"color\": \"#E5ECF6\", \"width\": 0.5}}, \"type\": \"bar\"}], \"barpolar\": [{\"marker\": {\"line\": {\"color\": \"#E5ECF6\", \"width\": 0.5}}, \"type\": \"barpolar\"}], \"carpet\": [{\"aaxis\": {\"endlinecolor\": \"#2a3f5f\", \"gridcolor\": \"white\", \"linecolor\": \"white\", \"minorgridcolor\": \"white\", \"startlinecolor\": \"#2a3f5f\"}, \"baxis\": {\"endlinecolor\": \"#2a3f5f\", \"gridcolor\": \"white\", \"linecolor\": \"white\", \"minorgridcolor\": \"white\", \"startlinecolor\": \"#2a3f5f\"}, \"type\": \"carpet\"}], \"choropleth\": [{\"colorbar\": {\"outlinewidth\": 0, \"ticks\": \"\"}, \"type\": \"choropleth\"}], \"contour\": [{\"colorbar\": {\"outlinewidth\": 0, \"ticks\": \"\"}, \"colorscale\": [[0.0, \"#0d0887\"], [0.1111111111111111, \"#46039f\"], [0.2222222222222222, \"#7201a8\"], [0.3333333333333333, \"#9c179e\"], [0.4444444444444444, \"#bd3786\"], [0.5555555555555556, \"#d8576b\"], [0.6666666666666666, \"#ed7953\"], [0.7777777777777778, \"#fb9f3a\"], [0.8888888888888888, \"#fdca26\"], [1.0, \"#f0f921\"]], \"type\": \"contour\"}], \"contourcarpet\": [{\"colorbar\": {\"outlinewidth\": 0, \"ticks\": \"\"}, \"type\": \"contourcarpet\"}], \"heatmap\": [{\"colorbar\": {\"outlinewidth\": 0, \"ticks\": \"\"}, \"colorscale\": [[0.0, \"#0d0887\"], [0.1111111111111111, \"#46039f\"], [0.2222222222222222, \"#7201a8\"], [0.3333333333333333, \"#9c179e\"], [0.4444444444444444, \"#bd3786\"], [0.5555555555555556, \"#d8576b\"], [0.6666666666666666, \"#ed7953\"], [0.7777777777777778, \"#fb9f3a\"], [0.8888888888888888, \"#fdca26\"], [1.0, \"#f0f921\"]], \"type\": \"heatmap\"}], \"heatmapgl\": [{\"colorbar\": {\"outlinewidth\": 0, \"ticks\": \"\"}, \"colorscale\": [[0.0, \"#0d0887\"], [0.1111111111111111, \"#46039f\"], [0.2222222222222222, \"#7201a8\"], [0.3333333333333333, \"#9c179e\"], [0.4444444444444444, \"#bd3786\"], [0.5555555555555556, \"#d8576b\"], [0.6666666666666666, \"#ed7953\"], [0.7777777777777778, \"#fb9f3a\"], [0.8888888888888888, \"#fdca26\"], [1.0, \"#f0f921\"]], \"type\": \"heatmapgl\"}], \"histogram\": [{\"marker\": {\"colorbar\": {\"outlinewidth\": 0, \"ticks\": \"\"}}, \"type\": \"histogram\"}], \"histogram2d\": [{\"colorbar\": {\"outlinewidth\": 0, \"ticks\": \"\"}, \"colorscale\": [[0.0, \"#0d0887\"], [0.1111111111111111, \"#46039f\"], [0.2222222222222222, \"#7201a8\"], [0.3333333333333333, \"#9c179e\"], [0.4444444444444444, \"#bd3786\"], [0.5555555555555556, \"#d8576b\"], [0.6666666666666666, \"#ed7953\"], [0.7777777777777778, \"#fb9f3a\"], [0.8888888888888888, \"#fdca26\"], [1.0, \"#f0f921\"]], \"type\": \"histogram2d\"}], \"histogram2dcontour\": [{\"colorbar\": {\"outlinewidth\": 0, \"ticks\": \"\"}, \"colorscale\": [[0.0, \"#0d0887\"], [0.1111111111111111, \"#46039f\"], [0.2222222222222222, \"#7201a8\"], [0.3333333333333333, \"#9c179e\"], [0.4444444444444444, \"#bd3786\"], [0.5555555555555556, \"#d8576b\"], [0.6666666666666666, \"#ed7953\"], [0.7777777777777778, \"#fb9f3a\"], [0.8888888888888888, \"#fdca26\"], [1.0, \"#f0f921\"]], \"type\": \"histogram2dcontour\"}], \"mesh3d\": [{\"colorbar\": {\"outlinewidth\": 0, \"ticks\": \"\"}, \"type\": \"mesh3d\"}], \"parcoords\": [{\"line\": {\"colorbar\": {\"outlinewidth\": 0, \"ticks\": \"\"}}, \"type\": \"parcoords\"}], \"pie\": [{\"automargin\": true, \"type\": \"pie\"}], \"scatter\": [{\"marker\": {\"colorbar\": {\"outlinewidth\": 0, \"ticks\": \"\"}}, \"type\": \"scatter\"}], \"scatter3d\": [{\"line\": {\"colorbar\": {\"outlinewidth\": 0, \"ticks\": \"\"}}, \"marker\": {\"colorbar\": {\"outlinewidth\": 0, \"ticks\": \"\"}}, \"type\": \"scatter3d\"}], \"scattercarpet\": [{\"marker\": {\"colorbar\": {\"outlinewidth\": 0, \"ticks\": \"\"}}, \"type\": \"scattercarpet\"}], \"scattergeo\": [{\"marker\": {\"colorbar\": {\"outlinewidth\": 0, \"ticks\": \"\"}}, \"type\": \"scattergeo\"}], \"scattergl\": [{\"marker\": {\"colorbar\": {\"outlinewidth\": 0, \"ticks\": \"\"}}, \"type\": \"scattergl\"}], \"scattermapbox\": [{\"marker\": {\"colorbar\": {\"outlinewidth\": 0, \"ticks\": \"\"}}, \"type\": \"scattermapbox\"}], \"scatterpolar\": [{\"marker\": {\"colorbar\": {\"outlinewidth\": 0, \"ticks\": \"\"}}, \"type\": \"scatterpolar\"}], \"scatterpolargl\": [{\"marker\": {\"colorbar\": {\"outlinewidth\": 0, \"ticks\": \"\"}}, \"type\": \"scatterpolargl\"}], \"scatterternary\": [{\"marker\": {\"colorbar\": {\"outlinewidth\": 0, \"ticks\": \"\"}}, \"type\": \"scatterternary\"}], \"surface\": [{\"colorbar\": {\"outlinewidth\": 0, \"ticks\": \"\"}, \"colorscale\": [[0.0, \"#0d0887\"], [0.1111111111111111, \"#46039f\"], [0.2222222222222222, \"#7201a8\"], [0.3333333333333333, \"#9c179e\"], [0.4444444444444444, \"#bd3786\"], [0.5555555555555556, \"#d8576b\"], [0.6666666666666666, \"#ed7953\"], [0.7777777777777778, \"#fb9f3a\"], [0.8888888888888888, \"#fdca26\"], [1.0, \"#f0f921\"]], \"type\": \"surface\"}], \"table\": [{\"cells\": {\"fill\": {\"color\": \"#EBF0F8\"}, \"line\": {\"color\": \"white\"}}, \"header\": {\"fill\": {\"color\": \"#C8D4E3\"}, \"line\": {\"color\": \"white\"}}, \"type\": \"table\"}]}, \"layout\": {\"annotationdefaults\": {\"arrowcolor\": \"#2a3f5f\", \"arrowhead\": 0, \"arrowwidth\": 1}, \"coloraxis\": {\"colorbar\": {\"outlinewidth\": 0, \"ticks\": \"\"}}, \"colorscale\": {\"diverging\": [[0, \"#8e0152\"], [0.1, \"#c51b7d\"], [0.2, \"#de77ae\"], [0.3, \"#f1b6da\"], [0.4, \"#fde0ef\"], [0.5, \"#f7f7f7\"], [0.6, \"#e6f5d0\"], [0.7, \"#b8e186\"], [0.8, \"#7fbc41\"], [0.9, \"#4d9221\"], [1, \"#276419\"]], \"sequential\": [[0.0, \"#0d0887\"], [0.1111111111111111, \"#46039f\"], [0.2222222222222222, \"#7201a8\"], [0.3333333333333333, \"#9c179e\"], [0.4444444444444444, \"#bd3786\"], [0.5555555555555556, \"#d8576b\"], [0.6666666666666666, \"#ed7953\"], [0.7777777777777778, \"#fb9f3a\"], [0.8888888888888888, \"#fdca26\"], [1.0, \"#f0f921\"]], \"sequentialminus\": [[0.0, \"#0d0887\"], [0.1111111111111111, \"#46039f\"], [0.2222222222222222, \"#7201a8\"], [0.3333333333333333, \"#9c179e\"], [0.4444444444444444, \"#bd3786\"], [0.5555555555555556, \"#d8576b\"], [0.6666666666666666, \"#ed7953\"], [0.7777777777777778, \"#fb9f3a\"], [0.8888888888888888, \"#fdca26\"], [1.0, \"#f0f921\"]]}, \"colorway\": [\"#636efa\", \"#EF553B\", \"#00cc96\", \"#ab63fa\", \"#FFA15A\", \"#19d3f3\", \"#FF6692\", \"#B6E880\", \"#FF97FF\", \"#FECB52\"], \"font\": {\"color\": \"#2a3f5f\"}, \"geo\": {\"bgcolor\": \"white\", \"lakecolor\": \"white\", \"landcolor\": \"#E5ECF6\", \"showlakes\": true, \"showland\": true, \"subunitcolor\": \"white\"}, \"hoverlabel\": {\"align\": \"left\"}, \"hovermode\": \"closest\", \"mapbox\": {\"style\": \"light\"}, \"paper_bgcolor\": \"white\", \"plot_bgcolor\": \"#E5ECF6\", \"polar\": {\"angularaxis\": {\"gridcolor\": \"white\", \"linecolor\": \"white\", \"ticks\": \"\"}, \"bgcolor\": \"#E5ECF6\", \"radialaxis\": {\"gridcolor\": \"white\", \"linecolor\": \"white\", \"ticks\": \"\"}}, \"scene\": {\"xaxis\": {\"backgroundcolor\": \"#E5ECF6\", \"gridcolor\": \"white\", \"gridwidth\": 2, \"linecolor\": \"white\", \"showbackground\": true, \"ticks\": \"\", \"zerolinecolor\": \"white\"}, \"yaxis\": {\"backgroundcolor\": \"#E5ECF6\", \"gridcolor\": \"white\", \"gridwidth\": 2, \"linecolor\": \"white\", \"showbackground\": true, \"ticks\": \"\", \"zerolinecolor\": \"white\"}, \"zaxis\": {\"backgroundcolor\": \"#E5ECF6\", \"gridcolor\": \"white\", \"gridwidth\": 2, \"linecolor\": \"white\", \"showbackground\": true, \"ticks\": \"\", \"zerolinecolor\": \"white\"}}, \"shapedefaults\": {\"line\": {\"color\": \"#2a3f5f\"}}, \"ternary\": {\"aaxis\": {\"gridcolor\": \"white\", \"linecolor\": \"white\", \"ticks\": \"\"}, \"baxis\": {\"gridcolor\": \"white\", \"linecolor\": \"white\", \"ticks\": \"\"}, \"bgcolor\": \"#E5ECF6\", \"caxis\": {\"gridcolor\": \"white\", \"linecolor\": \"white\", \"ticks\": \"\"}}, \"title\": {\"x\": 0.05}, \"xaxis\": {\"automargin\": true, \"gridcolor\": \"white\", \"linecolor\": \"white\", \"ticks\": \"\", \"title\": {\"standoff\": 15}, \"zerolinecolor\": \"white\", \"zerolinewidth\": 2}, \"yaxis\": {\"automargin\": true, \"gridcolor\": \"white\", \"linecolor\": \"white\", \"ticks\": \"\", \"title\": {\"standoff\": 15}, \"zerolinecolor\": \"white\", \"zerolinewidth\": 2}}}, \"title\": {\"text\": \"History\"}, \"xaxis\": {\"anchor\": \"y\", \"domain\": [0.0, 0.45], \"title\": {\"text\": \"epochs\"}}, \"xaxis2\": {\"anchor\": \"y2\", \"domain\": [0.55, 1.0], \"title\": {\"text\": \"epochs\"}}, \"yaxis\": {\"anchor\": \"x\", \"domain\": [0.0, 1.0], \"title\": {\"text\": \"loss (MSE)\"}}, \"yaxis2\": {\"anchor\": \"x2\", \"domain\": [0.0, 1.0], \"title\": {\"text\": \"MAE\"}}},\n",
              "                        {\"responsive\": true}\n",
              "                    ).then(function(){\n",
              "                            \n",
              "var gd = document.getElementById('4861e2f7-59db-4719-b048-df7ba8ff5996');\n",
              "var x = new MutationObserver(function (mutations, observer) {{\n",
              "        var display = window.getComputedStyle(gd).display;\n",
              "        if (!display || display === 'none') {{\n",
              "            console.log([gd, 'removed!']);\n",
              "            Plotly.purge(gd);\n",
              "            observer.disconnect();\n",
              "        }}\n",
              "}});\n",
              "\n",
              "// Listen for the removal of the full notebook cells\n",
              "var notebookContainer = gd.closest('#notebook-container');\n",
              "if (notebookContainer) {{\n",
              "    x.observe(notebookContainer, {childList: true});\n",
              "}}\n",
              "\n",
              "// Listen for the clearing of the current output cell\n",
              "var outputEl = gd.closest('.output');\n",
              "if (outputEl) {{\n",
              "    x.observe(outputEl, {childList: true});\n",
              "}}\n",
              "\n",
              "                        })\n",
              "                };\n",
              "                \n",
              "            </script>\n",
              "        </div>\n",
              "</body>\n",
              "</html>"
            ]
          },
          "metadata": {
            "tags": []
          }
        },
        {
          "output_type": "stream",
          "text": [
            "\n",
            "Средняя ошибка на тестовой выборке: 13.53 очков.\n"
          ],
          "name": "stdout"
        }
      ]
    },
    {
      "cell_type": "markdown",
      "metadata": {
        "id": "PFVaT2KzpKqo"
      },
      "source": [
        "###Results"
      ]
    },
    {
      "cell_type": "code",
      "metadata": {
        "id": "WLI4pLNfooPf"
      },
      "source": [
        "log = pd.read_csv('log.csv', index_col=0)"
      ],
      "execution_count": null,
      "outputs": []
    },
    {
      "cell_type": "code",
      "metadata": {
        "id": "GW8nDlWaovD7",
        "colab": {
          "base_uri": "https://localhost:8080/",
          "height": 542
        },
        "outputId": "fd6148e5-4ca6-48a6-f505-6327f53910ff"
      },
      "source": [
        "box_plot(\n",
        "    log.query('outlier_threshold == 0 & hidden_dim == 20 & depth == 1 & activation == \"relu\" & batch_size == 128'),\n",
        "    color='mode',\n",
        "    title='Влияние предобработки данных на абсолютную ошибку'\n",
        "    )"
      ],
      "execution_count": null,
      "outputs": [
        {
          "output_type": "display_data",
          "data": {
            "text/html": [
              "<html>\n",
              "<head><meta charset=\"utf-8\" /></head>\n",
              "<body>\n",
              "    <div>\n",
              "            <script src=\"https://cdnjs.cloudflare.com/ajax/libs/mathjax/2.7.5/MathJax.js?config=TeX-AMS-MML_SVG\"></script><script type=\"text/javascript\">if (window.MathJax) {MathJax.Hub.Config({SVG: {font: \"STIX-Web\"}});}</script>\n",
              "                <script type=\"text/javascript\">window.PlotlyConfig = {MathJaxConfig: 'local'};</script>\n",
              "        <script src=\"https://cdn.plot.ly/plotly-latest.min.js\"></script>    \n",
              "            <div id=\"3cb741a8-282b-47c8-9c57-063d6b731e1a\" class=\"plotly-graph-div\" style=\"height:525px; width:100%;\"></div>\n",
              "            <script type=\"text/javascript\">\n",
              "                \n",
              "                    window.PLOTLYENV=window.PLOTLYENV || {};\n",
              "                    \n",
              "                if (document.getElementById(\"3cb741a8-282b-47c8-9c57-063d6b731e1a\")) {\n",
              "                    Plotly.newPlot(\n",
              "                        '3cb741a8-282b-47c8-9c57-063d6b731e1a',\n",
              "                        [{\"alignmentgroup\": \"True\", \"hoverlabel\": {\"namelength\": 0}, \"hovertemplate\": \"mode=time<br>subset=%{x}<br>mae=%{y}\", \"legendgroup\": \"mode=time\", \"marker\": {\"color\": \"#636efa\"}, \"name\": \"mode=time\", \"notched\": false, \"offsetgroup\": \"mode=time\", \"orientation\": \"v\", \"showlegend\": true, \"type\": \"box\", \"x\": [\"train\", \"test\", \"train\", \"test\", \"train\", \"test\", \"train\", \"test\", \"train\", \"test\", \"train\", \"test\", \"train\", \"test\", \"train\", \"test\", \"train\", \"test\", \"train\", \"test\"], \"x0\": \" \", \"xaxis\": \"x\", \"y\": [13.61, 13.58, 13.75, 13.84, 13.65, 13.55, 13.69, 13.49, 13.7, 13.5, 13.64, 13.65, 13.58, 13.67, 13.55, 13.67, 13.73, 13.74, 13.63, 13.61], \"y0\": \" \", \"yaxis\": \"y\"}, {\"alignmentgroup\": \"True\", \"hoverlabel\": {\"namelength\": 0}, \"hovertemplate\": \"mode=sum<br>subset=%{x}<br>mae=%{y}\", \"legendgroup\": \"mode=sum\", \"marker\": {\"color\": \"#EF553B\"}, \"name\": \"mode=sum\", \"notched\": false, \"offsetgroup\": \"mode=sum\", \"orientation\": \"v\", \"showlegend\": true, \"type\": \"box\", \"x\": [\"train\", \"test\", \"train\", \"test\", \"train\", \"test\", \"train\", \"test\", \"train\", \"test\", \"train\", \"test\", \"train\", \"test\", \"train\", \"test\", \"train\", \"test\", \"train\", \"test\"], \"x0\": \" \", \"xaxis\": \"x\", \"y\": [13.7, 13.61, 13.77, 13.57, 13.89, 13.8, 13.9, 13.55, 13.76, 13.76, 13.65, 13.87, 13.75, 13.74, 13.7, 13.8, 13.74, 13.71, 13.76, 13.44], \"y0\": \" \", \"yaxis\": \"y\"}, {\"alignmentgroup\": \"True\", \"hoverlabel\": {\"namelength\": 0}, \"hovertemplate\": \"mode=time_2<br>subset=%{x}<br>mae=%{y}\", \"legendgroup\": \"mode=time_2\", \"marker\": {\"color\": \"#00cc96\"}, \"name\": \"mode=time_2\", \"notched\": false, \"offsetgroup\": \"mode=time_2\", \"orientation\": \"v\", \"showlegend\": true, \"type\": \"box\", \"x\": [\"train\", \"test\", \"train\", \"test\", \"train\", \"test\", \"train\", \"test\", \"train\", \"test\", \"train\", \"test\", \"train\", \"test\", \"train\", \"test\", \"train\", \"test\", \"train\", \"test\"], \"x0\": \" \", \"xaxis\": \"x\", \"y\": [13.65, 13.67, 13.62, 13.59, 13.74, 13.68, 13.62, 13.54, 13.8, 13.65, 13.65, 13.64, 13.6, 13.55, 13.62, 13.44, 13.82, 13.88, 13.77, 13.77], \"y0\": \" \", \"yaxis\": \"y\"}, {\"alignmentgroup\": \"True\", \"hoverlabel\": {\"namelength\": 0}, \"hovertemplate\": \"mode=quarter_1<br>subset=%{x}<br>mae=%{y}\", \"legendgroup\": \"mode=quarter_1\", \"marker\": {\"color\": \"#ab63fa\"}, \"name\": \"mode=quarter_1\", \"notched\": false, \"offsetgroup\": \"mode=quarter_1\", \"orientation\": \"v\", \"showlegend\": true, \"type\": \"box\", \"x\": [\"train\", \"test\", \"train\", \"test\", \"train\", \"test\", \"train\", \"test\", \"train\", \"test\", \"train\", \"test\", \"train\", \"test\", \"train\", \"test\", \"train\", \"test\", \"train\", \"test\"], \"x0\": \" \", \"xaxis\": \"x\", \"y\": [23.25, 26.16, 22.84, 24.33, 24.01, 19.18, 23.11, 25.68, 23.01, 24.07, 23.53, 21.49, 23.37, 23.6, 22.81, 24.68, 23.81, 21.51, 23.48, 22.49], \"y0\": \" \", \"yaxis\": \"y\"}, {\"alignmentgroup\": \"True\", \"hoverlabel\": {\"namelength\": 0}, \"hovertemplate\": \"mode=quarter_2<br>subset=%{x}<br>mae=%{y}\", \"legendgroup\": \"mode=quarter_2\", \"marker\": {\"color\": \"#FFA15A\"}, \"name\": \"mode=quarter_2\", \"notched\": false, \"offsetgroup\": \"mode=quarter_2\", \"orientation\": \"v\", \"showlegend\": true, \"type\": \"box\", \"x\": [\"train\", \"test\", \"train\", \"test\", \"train\", \"test\", \"train\", \"test\", \"train\", \"test\", \"train\", \"test\", \"train\", \"test\", \"train\", \"test\", \"train\", \"test\", \"train\", \"test\"], \"x0\": \" \", \"xaxis\": \"x\", \"y\": [22.8, 23.9, 22.92, 25.46, 22.78, 24.49, 23.12, 23.12, 23.48, 25.27, 22.82, 25.45, 23.64, 22.58, 23.21, 24.67, 22.73, 24.31, 23.39, 21.47], \"y0\": \" \", \"yaxis\": \"y\"}, {\"alignmentgroup\": \"True\", \"hoverlabel\": {\"namelength\": 0}, \"hovertemplate\": \"mode=quarter_3<br>subset=%{x}<br>mae=%{y}\", \"legendgroup\": \"mode=quarter_3\", \"marker\": {\"color\": \"#19d3f3\"}, \"name\": \"mode=quarter_3\", \"notched\": false, \"offsetgroup\": \"mode=quarter_3\", \"orientation\": \"v\", \"showlegend\": true, \"type\": \"box\", \"x\": [\"train\", \"test\", \"train\", \"test\", \"train\", \"test\", \"train\", \"test\", \"train\", \"test\", \"train\", \"test\", \"train\", \"test\", \"train\", \"test\", \"train\", \"test\", \"train\", \"test\"], \"x0\": \" \", \"xaxis\": \"x\", \"y\": [22.86, 23.5, 23.68, 21.35, 22.73, 24.12, 23.65, 21.25, 23.62, 24.56, 23.39, 22.55, 22.81, 24.27, 23.7, 22.94, 23.14, 22.72, 23.13, 22.6], \"y0\": \" \", \"yaxis\": \"y\"}, {\"alignmentgroup\": \"True\", \"hoverlabel\": {\"namelength\": 0}, \"hovertemplate\": \"mode=quarter_12<br>subset=%{x}<br>mae=%{y}\", \"legendgroup\": \"mode=quarter_12\", \"marker\": {\"color\": \"#FF6692\"}, \"name\": \"mode=quarter_12\", \"notched\": false, \"offsetgroup\": \"mode=quarter_12\", \"orientation\": \"v\", \"showlegend\": true, \"type\": \"box\", \"x\": [\"train\", \"test\", \"train\", \"test\", \"train\", \"test\", \"train\", \"test\", \"train\", \"test\", \"train\", \"test\", \"train\", \"test\", \"train\", \"test\", \"train\", \"test\", \"train\", \"test\"], \"x0\": \" \", \"xaxis\": \"x\", \"y\": [23.2, 22.92, 23.33, 22.92, 24.46, 25.4, 23.21, 23.31, 22.8, 23.84, 23.47, 22.12, 22.98, 22.97, 23.41, 21.82, 22.97, 24.07, 23.6, 22.17], \"y0\": \" \", \"yaxis\": \"y\"}, {\"alignmentgroup\": \"True\", \"hoverlabel\": {\"namelength\": 0}, \"hovertemplate\": \"mode=quarter_23<br>subset=%{x}<br>mae=%{y}\", \"legendgroup\": \"mode=quarter_23\", \"marker\": {\"color\": \"#B6E880\"}, \"name\": \"mode=quarter_23\", \"notched\": false, \"offsetgroup\": \"mode=quarter_23\", \"orientation\": \"v\", \"showlegend\": true, \"type\": \"box\", \"x\": [\"train\", \"test\", \"train\", \"test\", \"train\", \"test\", \"train\", \"test\", \"train\", \"test\", \"train\", \"test\", \"train\", \"test\", \"train\", \"test\", \"train\", \"test\", \"train\", \"test\"], \"x0\": \" \", \"xaxis\": \"x\", \"y\": [23.17, 24.49, 23.67, 21.72, 22.41, 24.72, 23.68, 21.39, 23.03, 23.04, 22.97, 23.9, 23.48, 23.73, 22.47, 25.24, 23.64, 22.79, 24.03, 22.81], \"y0\": \" \", \"yaxis\": \"y\"}, {\"alignmentgroup\": \"True\", \"hoverlabel\": {\"namelength\": 0}, \"hovertemplate\": \"mode=quarter_123<br>subset=%{x}<br>mae=%{y}\", \"legendgroup\": \"mode=quarter_123\", \"marker\": {\"color\": \"#FF97FF\"}, \"name\": \"mode=quarter_123\", \"notched\": false, \"offsetgroup\": \"mode=quarter_123\", \"orientation\": \"v\", \"showlegend\": true, \"type\": \"box\", \"x\": [\"train\", \"test\", \"train\", \"test\", \"train\", \"test\", \"train\", \"test\", \"train\", \"test\", \"train\", \"test\", \"train\", \"test\", \"train\", \"test\", \"train\", \"test\", \"train\", \"test\"], \"x0\": \" \", \"xaxis\": \"x\", \"y\": [23.3, 22.78, 23.61, 22.56, 23.39, 21.92, 23.76, 20.94, 23.12, 22.87, 23.21, 22.89, 22.84, 25.3, 23.15, 24.82, 23.42, 22.31, 23.1, 23.6], \"y0\": \" \", \"yaxis\": \"y\"}],\n",
              "                        {\"boxmode\": \"group\", \"legend\": {\"tracegroupgap\": 0}, \"margin\": {\"b\": 0, \"l\": 0, \"r\": 200, \"t\": 40}, \"template\": {\"data\": {\"bar\": [{\"error_x\": {\"color\": \"#2a3f5f\"}, \"error_y\": {\"color\": \"#2a3f5f\"}, \"marker\": {\"line\": {\"color\": \"#E5ECF6\", \"width\": 0.5}}, \"type\": \"bar\"}], \"barpolar\": [{\"marker\": {\"line\": {\"color\": \"#E5ECF6\", \"width\": 0.5}}, \"type\": \"barpolar\"}], \"carpet\": [{\"aaxis\": {\"endlinecolor\": \"#2a3f5f\", \"gridcolor\": \"white\", \"linecolor\": \"white\", \"minorgridcolor\": \"white\", \"startlinecolor\": \"#2a3f5f\"}, \"baxis\": {\"endlinecolor\": \"#2a3f5f\", \"gridcolor\": \"white\", \"linecolor\": \"white\", \"minorgridcolor\": \"white\", \"startlinecolor\": \"#2a3f5f\"}, \"type\": \"carpet\"}], \"choropleth\": [{\"colorbar\": {\"outlinewidth\": 0, \"ticks\": \"\"}, \"type\": \"choropleth\"}], \"contour\": [{\"colorbar\": {\"outlinewidth\": 0, \"ticks\": \"\"}, \"colorscale\": [[0.0, \"#0d0887\"], [0.1111111111111111, \"#46039f\"], [0.2222222222222222, \"#7201a8\"], [0.3333333333333333, \"#9c179e\"], [0.4444444444444444, \"#bd3786\"], [0.5555555555555556, \"#d8576b\"], [0.6666666666666666, \"#ed7953\"], [0.7777777777777778, \"#fb9f3a\"], [0.8888888888888888, \"#fdca26\"], [1.0, \"#f0f921\"]], \"type\": \"contour\"}], \"contourcarpet\": [{\"colorbar\": {\"outlinewidth\": 0, \"ticks\": \"\"}, \"type\": \"contourcarpet\"}], \"heatmap\": [{\"colorbar\": {\"outlinewidth\": 0, \"ticks\": \"\"}, \"colorscale\": [[0.0, \"#0d0887\"], [0.1111111111111111, \"#46039f\"], [0.2222222222222222, \"#7201a8\"], [0.3333333333333333, \"#9c179e\"], [0.4444444444444444, \"#bd3786\"], [0.5555555555555556, \"#d8576b\"], [0.6666666666666666, \"#ed7953\"], [0.7777777777777778, \"#fb9f3a\"], [0.8888888888888888, \"#fdca26\"], [1.0, \"#f0f921\"]], \"type\": \"heatmap\"}], \"heatmapgl\": [{\"colorbar\": {\"outlinewidth\": 0, \"ticks\": \"\"}, \"colorscale\": [[0.0, \"#0d0887\"], [0.1111111111111111, \"#46039f\"], [0.2222222222222222, \"#7201a8\"], [0.3333333333333333, \"#9c179e\"], [0.4444444444444444, \"#bd3786\"], [0.5555555555555556, \"#d8576b\"], [0.6666666666666666, \"#ed7953\"], [0.7777777777777778, \"#fb9f3a\"], [0.8888888888888888, \"#fdca26\"], [1.0, \"#f0f921\"]], \"type\": \"heatmapgl\"}], \"histogram\": [{\"marker\": {\"colorbar\": {\"outlinewidth\": 0, \"ticks\": \"\"}}, \"type\": \"histogram\"}], \"histogram2d\": [{\"colorbar\": {\"outlinewidth\": 0, \"ticks\": \"\"}, \"colorscale\": [[0.0, \"#0d0887\"], [0.1111111111111111, \"#46039f\"], [0.2222222222222222, \"#7201a8\"], [0.3333333333333333, \"#9c179e\"], [0.4444444444444444, \"#bd3786\"], [0.5555555555555556, \"#d8576b\"], [0.6666666666666666, \"#ed7953\"], [0.7777777777777778, \"#fb9f3a\"], [0.8888888888888888, \"#fdca26\"], [1.0, \"#f0f921\"]], \"type\": \"histogram2d\"}], \"histogram2dcontour\": [{\"colorbar\": {\"outlinewidth\": 0, \"ticks\": \"\"}, \"colorscale\": [[0.0, \"#0d0887\"], [0.1111111111111111, \"#46039f\"], [0.2222222222222222, \"#7201a8\"], [0.3333333333333333, \"#9c179e\"], [0.4444444444444444, \"#bd3786\"], [0.5555555555555556, \"#d8576b\"], [0.6666666666666666, \"#ed7953\"], [0.7777777777777778, \"#fb9f3a\"], [0.8888888888888888, \"#fdca26\"], [1.0, \"#f0f921\"]], \"type\": \"histogram2dcontour\"}], \"mesh3d\": [{\"colorbar\": {\"outlinewidth\": 0, \"ticks\": \"\"}, \"type\": \"mesh3d\"}], \"parcoords\": [{\"line\": {\"colorbar\": {\"outlinewidth\": 0, \"ticks\": \"\"}}, \"type\": \"parcoords\"}], \"pie\": [{\"automargin\": true, \"type\": \"pie\"}], \"scatter\": [{\"marker\": {\"colorbar\": {\"outlinewidth\": 0, \"ticks\": \"\"}}, \"type\": \"scatter\"}], \"scatter3d\": [{\"line\": {\"colorbar\": {\"outlinewidth\": 0, \"ticks\": \"\"}}, \"marker\": {\"colorbar\": {\"outlinewidth\": 0, \"ticks\": \"\"}}, \"type\": \"scatter3d\"}], \"scattercarpet\": [{\"marker\": {\"colorbar\": {\"outlinewidth\": 0, \"ticks\": \"\"}}, \"type\": \"scattercarpet\"}], \"scattergeo\": [{\"marker\": {\"colorbar\": {\"outlinewidth\": 0, \"ticks\": \"\"}}, \"type\": \"scattergeo\"}], \"scattergl\": [{\"marker\": {\"colorbar\": {\"outlinewidth\": 0, \"ticks\": \"\"}}, \"type\": \"scattergl\"}], \"scattermapbox\": [{\"marker\": {\"colorbar\": {\"outlinewidth\": 0, \"ticks\": \"\"}}, \"type\": \"scattermapbox\"}], \"scatterpolar\": [{\"marker\": {\"colorbar\": {\"outlinewidth\": 0, \"ticks\": \"\"}}, \"type\": \"scatterpolar\"}], \"scatterpolargl\": [{\"marker\": {\"colorbar\": {\"outlinewidth\": 0, \"ticks\": \"\"}}, \"type\": \"scatterpolargl\"}], \"scatterternary\": [{\"marker\": {\"colorbar\": {\"outlinewidth\": 0, \"ticks\": \"\"}}, \"type\": \"scatterternary\"}], \"surface\": [{\"colorbar\": {\"outlinewidth\": 0, \"ticks\": \"\"}, \"colorscale\": [[0.0, \"#0d0887\"], [0.1111111111111111, \"#46039f\"], [0.2222222222222222, \"#7201a8\"], [0.3333333333333333, \"#9c179e\"], [0.4444444444444444, \"#bd3786\"], [0.5555555555555556, \"#d8576b\"], [0.6666666666666666, \"#ed7953\"], [0.7777777777777778, \"#fb9f3a\"], [0.8888888888888888, \"#fdca26\"], [1.0, \"#f0f921\"]], \"type\": \"surface\"}], \"table\": [{\"cells\": {\"fill\": {\"color\": \"#EBF0F8\"}, \"line\": {\"color\": \"white\"}}, \"header\": {\"fill\": {\"color\": \"#C8D4E3\"}, \"line\": {\"color\": \"white\"}}, \"type\": \"table\"}]}, \"layout\": {\"annotationdefaults\": {\"arrowcolor\": \"#2a3f5f\", \"arrowhead\": 0, \"arrowwidth\": 1}, \"coloraxis\": {\"colorbar\": {\"outlinewidth\": 0, \"ticks\": \"\"}}, \"colorscale\": {\"diverging\": [[0, \"#8e0152\"], [0.1, \"#c51b7d\"], [0.2, \"#de77ae\"], [0.3, \"#f1b6da\"], [0.4, \"#fde0ef\"], [0.5, \"#f7f7f7\"], [0.6, \"#e6f5d0\"], [0.7, \"#b8e186\"], [0.8, \"#7fbc41\"], [0.9, \"#4d9221\"], [1, \"#276419\"]], \"sequential\": [[0.0, \"#0d0887\"], [0.1111111111111111, \"#46039f\"], [0.2222222222222222, \"#7201a8\"], [0.3333333333333333, \"#9c179e\"], [0.4444444444444444, \"#bd3786\"], [0.5555555555555556, \"#d8576b\"], [0.6666666666666666, \"#ed7953\"], [0.7777777777777778, \"#fb9f3a\"], [0.8888888888888888, \"#fdca26\"], [1.0, \"#f0f921\"]], \"sequentialminus\": [[0.0, \"#0d0887\"], [0.1111111111111111, \"#46039f\"], [0.2222222222222222, \"#7201a8\"], [0.3333333333333333, \"#9c179e\"], [0.4444444444444444, \"#bd3786\"], [0.5555555555555556, \"#d8576b\"], [0.6666666666666666, \"#ed7953\"], [0.7777777777777778, \"#fb9f3a\"], [0.8888888888888888, \"#fdca26\"], [1.0, \"#f0f921\"]]}, \"colorway\": [\"#636efa\", \"#EF553B\", \"#00cc96\", \"#ab63fa\", \"#FFA15A\", \"#19d3f3\", \"#FF6692\", \"#B6E880\", \"#FF97FF\", \"#FECB52\"], \"font\": {\"color\": \"#2a3f5f\"}, \"geo\": {\"bgcolor\": \"white\", \"lakecolor\": \"white\", \"landcolor\": \"#E5ECF6\", \"showlakes\": true, \"showland\": true, \"subunitcolor\": \"white\"}, \"hoverlabel\": {\"align\": \"left\"}, \"hovermode\": \"closest\", \"mapbox\": {\"style\": \"light\"}, \"paper_bgcolor\": \"white\", \"plot_bgcolor\": \"#E5ECF6\", \"polar\": {\"angularaxis\": {\"gridcolor\": \"white\", \"linecolor\": \"white\", \"ticks\": \"\"}, \"bgcolor\": \"#E5ECF6\", \"radialaxis\": {\"gridcolor\": \"white\", \"linecolor\": \"white\", \"ticks\": \"\"}}, \"scene\": {\"xaxis\": {\"backgroundcolor\": \"#E5ECF6\", \"gridcolor\": \"white\", \"gridwidth\": 2, \"linecolor\": \"white\", \"showbackground\": true, \"ticks\": \"\", \"zerolinecolor\": \"white\"}, \"yaxis\": {\"backgroundcolor\": \"#E5ECF6\", \"gridcolor\": \"white\", \"gridwidth\": 2, \"linecolor\": \"white\", \"showbackground\": true, \"ticks\": \"\", \"zerolinecolor\": \"white\"}, \"zaxis\": {\"backgroundcolor\": \"#E5ECF6\", \"gridcolor\": \"white\", \"gridwidth\": 2, \"linecolor\": \"white\", \"showbackground\": true, \"ticks\": \"\", \"zerolinecolor\": \"white\"}}, \"shapedefaults\": {\"line\": {\"color\": \"#2a3f5f\"}}, \"ternary\": {\"aaxis\": {\"gridcolor\": \"white\", \"linecolor\": \"white\", \"ticks\": \"\"}, \"baxis\": {\"gridcolor\": \"white\", \"linecolor\": \"white\", \"ticks\": \"\"}, \"bgcolor\": \"#E5ECF6\", \"caxis\": {\"gridcolor\": \"white\", \"linecolor\": \"white\", \"ticks\": \"\"}}, \"title\": {\"x\": 0.05}, \"xaxis\": {\"automargin\": true, \"gridcolor\": \"white\", \"linecolor\": \"white\", \"ticks\": \"\", \"title\": {\"standoff\": 15}, \"zerolinecolor\": \"white\", \"zerolinewidth\": 2}, \"yaxis\": {\"automargin\": true, \"gridcolor\": \"white\", \"linecolor\": \"white\", \"ticks\": \"\", \"title\": {\"standoff\": 15}, \"zerolinecolor\": \"white\", \"zerolinewidth\": 2}}}, \"title\": {\"text\": \"\\u0412\\u043b\\u0438\\u044f\\u043d\\u0438\\u0435 \\u043f\\u0440\\u0435\\u0434\\u043e\\u0431\\u0440\\u0430\\u0431\\u043e\\u0442\\u043a\\u0438 \\u0434\\u0430\\u043d\\u043d\\u044b\\u0445 \\u043d\\u0430 \\u0430\\u0431\\u0441\\u043e\\u043b\\u044e\\u0442\\u043d\\u0443\\u044e \\u043e\\u0448\\u0438\\u0431\\u043a\\u0443\"}, \"xaxis\": {\"anchor\": \"y\", \"domain\": [0.0, 1.0], \"title\": {\"text\": \"subset\"}}, \"yaxis\": {\"anchor\": \"x\", \"domain\": [0.0, 1.0], \"title\": {\"text\": \"mae\"}}},\n",
              "                        {\"responsive\": true}\n",
              "                    ).then(function(){\n",
              "                            \n",
              "var gd = document.getElementById('3cb741a8-282b-47c8-9c57-063d6b731e1a');\n",
              "var x = new MutationObserver(function (mutations, observer) {{\n",
              "        var display = window.getComputedStyle(gd).display;\n",
              "        if (!display || display === 'none') {{\n",
              "            console.log([gd, 'removed!']);\n",
              "            Plotly.purge(gd);\n",
              "            observer.disconnect();\n",
              "        }}\n",
              "}});\n",
              "\n",
              "// Listen for the removal of the full notebook cells\n",
              "var notebookContainer = gd.closest('#notebook-container');\n",
              "if (notebookContainer) {{\n",
              "    x.observe(notebookContainer, {childList: true});\n",
              "}}\n",
              "\n",
              "// Listen for the clearing of the current output cell\n",
              "var outputEl = gd.closest('.output');\n",
              "if (outputEl) {{\n",
              "    x.observe(outputEl, {childList: true});\n",
              "}}\n",
              "\n",
              "                        })\n",
              "                };\n",
              "                \n",
              "            </script>\n",
              "        </div>\n",
              "</body>\n",
              "</html>"
            ]
          },
          "metadata": {
            "tags": []
          }
        }
      ]
    },
    {
      "cell_type": "markdown",
      "metadata": {
        "id": "4APGx4VGzaoF"
      },
      "source": [
        "Вероятно для более точного предсказания по результатам четвертей не хватает объёма выборки"
      ]
    },
    {
      "cell_type": "code",
      "metadata": {
        "id": "t2wc8fHuqfJB",
        "colab": {
          "base_uri": "https://localhost:8080/",
          "height": 542
        },
        "outputId": "863ff75f-3727-4343-b67e-bfcbea71503a"
      },
      "source": [
        "box_plot(\n",
        "    log.query('mode == \"time_2\" & hidden_dim == 100 & depth == 1 & activation == \"relu\" & batch_size == 128'),\n",
        "    color='outlier_threshold',\n",
        "    title='Влияние исключения выбросов на абсолютную ошибку'\n",
        "    )"
      ],
      "execution_count": null,
      "outputs": [
        {
          "output_type": "display_data",
          "data": {
            "text/html": [
              "<html>\n",
              "<head><meta charset=\"utf-8\" /></head>\n",
              "<body>\n",
              "    <div>\n",
              "            <script src=\"https://cdnjs.cloudflare.com/ajax/libs/mathjax/2.7.5/MathJax.js?config=TeX-AMS-MML_SVG\"></script><script type=\"text/javascript\">if (window.MathJax) {MathJax.Hub.Config({SVG: {font: \"STIX-Web\"}});}</script>\n",
              "                <script type=\"text/javascript\">window.PlotlyConfig = {MathJaxConfig: 'local'};</script>\n",
              "        <script src=\"https://cdn.plot.ly/plotly-latest.min.js\"></script>    \n",
              "            <div id=\"ec8bb292-31c7-4a8d-9c30-87e9d14b4ce5\" class=\"plotly-graph-div\" style=\"height:525px; width:100%;\"></div>\n",
              "            <script type=\"text/javascript\">\n",
              "                \n",
              "                    window.PLOTLYENV=window.PLOTLYENV || {};\n",
              "                    \n",
              "                if (document.getElementById(\"ec8bb292-31c7-4a8d-9c30-87e9d14b4ce5\")) {\n",
              "                    Plotly.newPlot(\n",
              "                        'ec8bb292-31c7-4a8d-9c30-87e9d14b4ce5',\n",
              "                        [{\"alignmentgroup\": \"True\", \"hoverlabel\": {\"namelength\": 0}, \"hovertemplate\": \"outlier_threshold=0<br>subset=%{x}<br>mae=%{y}\", \"legendgroup\": \"outlier_threshold=0\", \"marker\": {\"color\": \"#636efa\"}, \"name\": \"outlier_threshold=0\", \"notched\": false, \"offsetgroup\": \"outlier_threshold=0\", \"orientation\": \"v\", \"showlegend\": true, \"type\": \"box\", \"x\": [\"train\", \"test\", \"train\", \"test\", \"train\", \"test\", \"train\", \"test\", \"train\", \"test\", \"train\", \"test\", \"train\", \"test\", \"train\", \"test\", \"train\", \"test\", \"train\", \"test\"], \"x0\": \" \", \"xaxis\": \"x\", \"y\": [13.48, 13.45, 13.5, 13.51, 13.51, 13.43, 13.5, 13.57, 13.52, 13.44, 13.49, 13.41, 13.47, 13.51, 13.53, 13.5, 13.49, 13.46, 13.51, 13.46], \"y0\": \" \", \"yaxis\": \"y\"}, {\"alignmentgroup\": \"True\", \"hoverlabel\": {\"namelength\": 0}, \"hovertemplate\": \"outlier_threshold=50<br>subset=%{x}<br>mae=%{y}\", \"legendgroup\": \"outlier_threshold=50\", \"marker\": {\"color\": \"#EF553B\"}, \"name\": \"outlier_threshold=50\", \"notched\": false, \"offsetgroup\": \"outlier_threshold=50\", \"orientation\": \"v\", \"showlegend\": true, \"type\": \"box\", \"x\": [\"train\", \"test\", \"train\", \"test\", \"train\", \"test\", \"train\", \"test\", \"train\", \"test\", \"train\", \"test\", \"train\", \"test\", \"train\", \"test\", \"train\", \"test\", \"train\", \"test\"], \"x0\": \" \", \"xaxis\": \"x\", \"y\": [13.36, 13.45, 13.37, 13.36, 13.33, 13.67, 13.4, 13.49, 13.31, 13.55, 13.36, 13.63, 13.37, 13.34, 13.34, 13.49, 13.3, 13.37, 13.32, 13.51], \"y0\": \" \", \"yaxis\": \"y\"}],\n",
              "                        {\"boxmode\": \"group\", \"legend\": {\"tracegroupgap\": 0}, \"margin\": {\"b\": 0, \"l\": 0, \"r\": 200, \"t\": 40}, \"template\": {\"data\": {\"bar\": [{\"error_x\": {\"color\": \"#2a3f5f\"}, \"error_y\": {\"color\": \"#2a3f5f\"}, \"marker\": {\"line\": {\"color\": \"#E5ECF6\", \"width\": 0.5}}, \"type\": \"bar\"}], \"barpolar\": [{\"marker\": {\"line\": {\"color\": \"#E5ECF6\", \"width\": 0.5}}, \"type\": \"barpolar\"}], \"carpet\": [{\"aaxis\": {\"endlinecolor\": \"#2a3f5f\", \"gridcolor\": \"white\", \"linecolor\": \"white\", \"minorgridcolor\": \"white\", \"startlinecolor\": \"#2a3f5f\"}, \"baxis\": {\"endlinecolor\": \"#2a3f5f\", \"gridcolor\": \"white\", \"linecolor\": \"white\", \"minorgridcolor\": \"white\", \"startlinecolor\": \"#2a3f5f\"}, \"type\": \"carpet\"}], \"choropleth\": [{\"colorbar\": {\"outlinewidth\": 0, \"ticks\": \"\"}, \"type\": \"choropleth\"}], \"contour\": [{\"colorbar\": {\"outlinewidth\": 0, \"ticks\": \"\"}, \"colorscale\": [[0.0, \"#0d0887\"], [0.1111111111111111, \"#46039f\"], [0.2222222222222222, \"#7201a8\"], [0.3333333333333333, \"#9c179e\"], [0.4444444444444444, \"#bd3786\"], [0.5555555555555556, \"#d8576b\"], [0.6666666666666666, \"#ed7953\"], [0.7777777777777778, \"#fb9f3a\"], [0.8888888888888888, \"#fdca26\"], [1.0, \"#f0f921\"]], \"type\": \"contour\"}], \"contourcarpet\": [{\"colorbar\": {\"outlinewidth\": 0, \"ticks\": \"\"}, \"type\": \"contourcarpet\"}], \"heatmap\": [{\"colorbar\": {\"outlinewidth\": 0, \"ticks\": \"\"}, \"colorscale\": [[0.0, \"#0d0887\"], [0.1111111111111111, \"#46039f\"], [0.2222222222222222, \"#7201a8\"], [0.3333333333333333, \"#9c179e\"], [0.4444444444444444, \"#bd3786\"], [0.5555555555555556, \"#d8576b\"], [0.6666666666666666, \"#ed7953\"], [0.7777777777777778, \"#fb9f3a\"], [0.8888888888888888, \"#fdca26\"], [1.0, \"#f0f921\"]], \"type\": \"heatmap\"}], \"heatmapgl\": [{\"colorbar\": {\"outlinewidth\": 0, \"ticks\": \"\"}, \"colorscale\": [[0.0, \"#0d0887\"], [0.1111111111111111, \"#46039f\"], [0.2222222222222222, \"#7201a8\"], [0.3333333333333333, \"#9c179e\"], [0.4444444444444444, \"#bd3786\"], [0.5555555555555556, \"#d8576b\"], [0.6666666666666666, \"#ed7953\"], [0.7777777777777778, \"#fb9f3a\"], [0.8888888888888888, \"#fdca26\"], [1.0, \"#f0f921\"]], \"type\": \"heatmapgl\"}], \"histogram\": [{\"marker\": {\"colorbar\": {\"outlinewidth\": 0, \"ticks\": \"\"}}, \"type\": \"histogram\"}], \"histogram2d\": [{\"colorbar\": {\"outlinewidth\": 0, \"ticks\": \"\"}, \"colorscale\": [[0.0, \"#0d0887\"], [0.1111111111111111, \"#46039f\"], [0.2222222222222222, \"#7201a8\"], [0.3333333333333333, \"#9c179e\"], [0.4444444444444444, \"#bd3786\"], [0.5555555555555556, \"#d8576b\"], [0.6666666666666666, \"#ed7953\"], [0.7777777777777778, \"#fb9f3a\"], [0.8888888888888888, \"#fdca26\"], [1.0, \"#f0f921\"]], \"type\": \"histogram2d\"}], \"histogram2dcontour\": [{\"colorbar\": {\"outlinewidth\": 0, \"ticks\": \"\"}, \"colorscale\": [[0.0, \"#0d0887\"], [0.1111111111111111, \"#46039f\"], [0.2222222222222222, \"#7201a8\"], [0.3333333333333333, \"#9c179e\"], [0.4444444444444444, \"#bd3786\"], [0.5555555555555556, \"#d8576b\"], [0.6666666666666666, \"#ed7953\"], [0.7777777777777778, \"#fb9f3a\"], [0.8888888888888888, \"#fdca26\"], [1.0, \"#f0f921\"]], \"type\": \"histogram2dcontour\"}], \"mesh3d\": [{\"colorbar\": {\"outlinewidth\": 0, \"ticks\": \"\"}, \"type\": \"mesh3d\"}], \"parcoords\": [{\"line\": {\"colorbar\": {\"outlinewidth\": 0, \"ticks\": \"\"}}, \"type\": \"parcoords\"}], \"pie\": [{\"automargin\": true, \"type\": \"pie\"}], \"scatter\": [{\"marker\": {\"colorbar\": {\"outlinewidth\": 0, \"ticks\": \"\"}}, \"type\": \"scatter\"}], \"scatter3d\": [{\"line\": {\"colorbar\": {\"outlinewidth\": 0, \"ticks\": \"\"}}, \"marker\": {\"colorbar\": {\"outlinewidth\": 0, \"ticks\": \"\"}}, \"type\": \"scatter3d\"}], \"scattercarpet\": [{\"marker\": {\"colorbar\": {\"outlinewidth\": 0, \"ticks\": \"\"}}, \"type\": \"scattercarpet\"}], \"scattergeo\": [{\"marker\": {\"colorbar\": {\"outlinewidth\": 0, \"ticks\": \"\"}}, \"type\": \"scattergeo\"}], \"scattergl\": [{\"marker\": {\"colorbar\": {\"outlinewidth\": 0, \"ticks\": \"\"}}, \"type\": \"scattergl\"}], \"scattermapbox\": [{\"marker\": {\"colorbar\": {\"outlinewidth\": 0, \"ticks\": \"\"}}, \"type\": \"scattermapbox\"}], \"scatterpolar\": [{\"marker\": {\"colorbar\": {\"outlinewidth\": 0, \"ticks\": \"\"}}, \"type\": \"scatterpolar\"}], \"scatterpolargl\": [{\"marker\": {\"colorbar\": {\"outlinewidth\": 0, \"ticks\": \"\"}}, \"type\": \"scatterpolargl\"}], \"scatterternary\": [{\"marker\": {\"colorbar\": {\"outlinewidth\": 0, \"ticks\": \"\"}}, \"type\": \"scatterternary\"}], \"surface\": [{\"colorbar\": {\"outlinewidth\": 0, \"ticks\": \"\"}, \"colorscale\": [[0.0, \"#0d0887\"], [0.1111111111111111, \"#46039f\"], [0.2222222222222222, \"#7201a8\"], [0.3333333333333333, \"#9c179e\"], [0.4444444444444444, \"#bd3786\"], [0.5555555555555556, \"#d8576b\"], [0.6666666666666666, \"#ed7953\"], [0.7777777777777778, \"#fb9f3a\"], [0.8888888888888888, \"#fdca26\"], [1.0, \"#f0f921\"]], \"type\": \"surface\"}], \"table\": [{\"cells\": {\"fill\": {\"color\": \"#EBF0F8\"}, \"line\": {\"color\": \"white\"}}, \"header\": {\"fill\": {\"color\": \"#C8D4E3\"}, \"line\": {\"color\": \"white\"}}, \"type\": \"table\"}]}, \"layout\": {\"annotationdefaults\": {\"arrowcolor\": \"#2a3f5f\", \"arrowhead\": 0, \"arrowwidth\": 1}, \"coloraxis\": {\"colorbar\": {\"outlinewidth\": 0, \"ticks\": \"\"}}, \"colorscale\": {\"diverging\": [[0, \"#8e0152\"], [0.1, \"#c51b7d\"], [0.2, \"#de77ae\"], [0.3, \"#f1b6da\"], [0.4, \"#fde0ef\"], [0.5, \"#f7f7f7\"], [0.6, \"#e6f5d0\"], [0.7, \"#b8e186\"], [0.8, \"#7fbc41\"], [0.9, \"#4d9221\"], [1, \"#276419\"]], \"sequential\": [[0.0, \"#0d0887\"], [0.1111111111111111, \"#46039f\"], [0.2222222222222222, \"#7201a8\"], [0.3333333333333333, \"#9c179e\"], [0.4444444444444444, \"#bd3786\"], [0.5555555555555556, \"#d8576b\"], [0.6666666666666666, \"#ed7953\"], [0.7777777777777778, \"#fb9f3a\"], [0.8888888888888888, \"#fdca26\"], [1.0, \"#f0f921\"]], \"sequentialminus\": [[0.0, \"#0d0887\"], [0.1111111111111111, \"#46039f\"], [0.2222222222222222, \"#7201a8\"], [0.3333333333333333, \"#9c179e\"], [0.4444444444444444, \"#bd3786\"], [0.5555555555555556, \"#d8576b\"], [0.6666666666666666, \"#ed7953\"], [0.7777777777777778, \"#fb9f3a\"], [0.8888888888888888, \"#fdca26\"], [1.0, \"#f0f921\"]]}, \"colorway\": [\"#636efa\", \"#EF553B\", \"#00cc96\", \"#ab63fa\", \"#FFA15A\", \"#19d3f3\", \"#FF6692\", \"#B6E880\", \"#FF97FF\", \"#FECB52\"], \"font\": {\"color\": \"#2a3f5f\"}, \"geo\": {\"bgcolor\": \"white\", \"lakecolor\": \"white\", \"landcolor\": \"#E5ECF6\", \"showlakes\": true, \"showland\": true, \"subunitcolor\": \"white\"}, \"hoverlabel\": {\"align\": \"left\"}, \"hovermode\": \"closest\", \"mapbox\": {\"style\": \"light\"}, \"paper_bgcolor\": \"white\", \"plot_bgcolor\": \"#E5ECF6\", \"polar\": {\"angularaxis\": {\"gridcolor\": \"white\", \"linecolor\": \"white\", \"ticks\": \"\"}, \"bgcolor\": \"#E5ECF6\", \"radialaxis\": {\"gridcolor\": \"white\", \"linecolor\": \"white\", \"ticks\": \"\"}}, \"scene\": {\"xaxis\": {\"backgroundcolor\": \"#E5ECF6\", \"gridcolor\": \"white\", \"gridwidth\": 2, \"linecolor\": \"white\", \"showbackground\": true, \"ticks\": \"\", \"zerolinecolor\": \"white\"}, \"yaxis\": {\"backgroundcolor\": \"#E5ECF6\", \"gridcolor\": \"white\", \"gridwidth\": 2, \"linecolor\": \"white\", \"showbackground\": true, \"ticks\": \"\", \"zerolinecolor\": \"white\"}, \"zaxis\": {\"backgroundcolor\": \"#E5ECF6\", \"gridcolor\": \"white\", \"gridwidth\": 2, \"linecolor\": \"white\", \"showbackground\": true, \"ticks\": \"\", \"zerolinecolor\": \"white\"}}, \"shapedefaults\": {\"line\": {\"color\": \"#2a3f5f\"}}, \"ternary\": {\"aaxis\": {\"gridcolor\": \"white\", \"linecolor\": \"white\", \"ticks\": \"\"}, \"baxis\": {\"gridcolor\": \"white\", \"linecolor\": \"white\", \"ticks\": \"\"}, \"bgcolor\": \"#E5ECF6\", \"caxis\": {\"gridcolor\": \"white\", \"linecolor\": \"white\", \"ticks\": \"\"}}, \"title\": {\"x\": 0.05}, \"xaxis\": {\"automargin\": true, \"gridcolor\": \"white\", \"linecolor\": \"white\", \"ticks\": \"\", \"title\": {\"standoff\": 15}, \"zerolinecolor\": \"white\", \"zerolinewidth\": 2}, \"yaxis\": {\"automargin\": true, \"gridcolor\": \"white\", \"linecolor\": \"white\", \"ticks\": \"\", \"title\": {\"standoff\": 15}, \"zerolinecolor\": \"white\", \"zerolinewidth\": 2}}}, \"title\": {\"text\": \"\\u0412\\u043b\\u0438\\u044f\\u043d\\u0438\\u0435 \\u0438\\u0441\\u043a\\u043b\\u044e\\u0447\\u0435\\u043d\\u0438\\u044f \\u0432\\u044b\\u0431\\u0440\\u043e\\u0441\\u043e\\u0432 \\u043d\\u0430 \\u0430\\u0431\\u0441\\u043e\\u043b\\u044e\\u0442\\u043d\\u0443\\u044e \\u043e\\u0448\\u0438\\u0431\\u043a\\u0443\"}, \"xaxis\": {\"anchor\": \"y\", \"domain\": [0.0, 1.0], \"title\": {\"text\": \"subset\"}}, \"yaxis\": {\"anchor\": \"x\", \"domain\": [0.0, 1.0], \"title\": {\"text\": \"mae\"}}},\n",
              "                        {\"responsive\": true}\n",
              "                    ).then(function(){\n",
              "                            \n",
              "var gd = document.getElementById('ec8bb292-31c7-4a8d-9c30-87e9d14b4ce5');\n",
              "var x = new MutationObserver(function (mutations, observer) {{\n",
              "        var display = window.getComputedStyle(gd).display;\n",
              "        if (!display || display === 'none') {{\n",
              "            console.log([gd, 'removed!']);\n",
              "            Plotly.purge(gd);\n",
              "            observer.disconnect();\n",
              "        }}\n",
              "}});\n",
              "\n",
              "// Listen for the removal of the full notebook cells\n",
              "var notebookContainer = gd.closest('#notebook-container');\n",
              "if (notebookContainer) {{\n",
              "    x.observe(notebookContainer, {childList: true});\n",
              "}}\n",
              "\n",
              "// Listen for the clearing of the current output cell\n",
              "var outputEl = gd.closest('.output');\n",
              "if (outputEl) {{\n",
              "    x.observe(outputEl, {childList: true});\n",
              "}}\n",
              "\n",
              "                        })\n",
              "                };\n",
              "                \n",
              "            </script>\n",
              "        </div>\n",
              "</body>\n",
              "</html>"
            ]
          },
          "metadata": {
            "tags": []
          }
        }
      ]
    },
    {
      "cell_type": "markdown",
      "metadata": {
        "id": "qMoIq7wxxy7_"
      },
      "source": [
        "Как и ожидалось, удаление выбросов из обучающей выборки не улучшает результаты на тестовой."
      ]
    },
    {
      "cell_type": "code",
      "metadata": {
        "id": "LqasMj-7rMfq",
        "colab": {
          "base_uri": "https://localhost:8080/",
          "height": 542
        },
        "outputId": "459b4982-b65c-4aed-b449-d596680439e0"
      },
      "source": [
        "box_plot(\n",
        "    log.query('mode == \"time_2\" & outlier_threshold == 0 & depth == 1 & activation == \"relu\" & batch_size == 128'),\n",
        "    color='hidden_dim',\n",
        "    title='Влияние количества нейронов в скрытом слое на абсолютную ошибку'\n",
        "    )"
      ],
      "execution_count": null,
      "outputs": [
        {
          "output_type": "display_data",
          "data": {
            "text/html": [
              "<html>\n",
              "<head><meta charset=\"utf-8\" /></head>\n",
              "<body>\n",
              "    <div>\n",
              "            <script src=\"https://cdnjs.cloudflare.com/ajax/libs/mathjax/2.7.5/MathJax.js?config=TeX-AMS-MML_SVG\"></script><script type=\"text/javascript\">if (window.MathJax) {MathJax.Hub.Config({SVG: {font: \"STIX-Web\"}});}</script>\n",
              "                <script type=\"text/javascript\">window.PlotlyConfig = {MathJaxConfig: 'local'};</script>\n",
              "        <script src=\"https://cdn.plot.ly/plotly-latest.min.js\"></script>    \n",
              "            <div id=\"17f485e0-79e5-4e57-a427-c147f95438f9\" class=\"plotly-graph-div\" style=\"height:525px; width:100%;\"></div>\n",
              "            <script type=\"text/javascript\">\n",
              "                \n",
              "                    window.PLOTLYENV=window.PLOTLYENV || {};\n",
              "                    \n",
              "                if (document.getElementById(\"17f485e0-79e5-4e57-a427-c147f95438f9\")) {\n",
              "                    Plotly.newPlot(\n",
              "                        '17f485e0-79e5-4e57-a427-c147f95438f9',\n",
              "                        [{\"alignmentgroup\": \"True\", \"hoverlabel\": {\"namelength\": 0}, \"hovertemplate\": \"hidden_dim=20<br>subset=%{x}<br>mae=%{y}\", \"legendgroup\": \"hidden_dim=20\", \"marker\": {\"color\": \"#636efa\"}, \"name\": \"hidden_dim=20\", \"notched\": false, \"offsetgroup\": \"hidden_dim=20\", \"orientation\": \"v\", \"showlegend\": true, \"type\": \"box\", \"x\": [\"train\", \"test\", \"train\", \"test\", \"train\", \"test\", \"train\", \"test\", \"train\", \"test\", \"train\", \"test\", \"train\", \"test\", \"train\", \"test\", \"train\", \"test\", \"train\", \"test\"], \"x0\": \" \", \"xaxis\": \"x\", \"y\": [13.65, 13.67, 13.62, 13.59, 13.74, 13.68, 13.62, 13.54, 13.8, 13.65, 13.65, 13.64, 13.6, 13.55, 13.62, 13.44, 13.82, 13.88, 13.77, 13.77], \"y0\": \" \", \"yaxis\": \"y\"}, {\"alignmentgroup\": \"True\", \"hoverlabel\": {\"namelength\": 0}, \"hovertemplate\": \"hidden_dim=5<br>subset=%{x}<br>mae=%{y}\", \"legendgroup\": \"hidden_dim=5\", \"marker\": {\"color\": \"#EF553B\"}, \"name\": \"hidden_dim=5\", \"notched\": false, \"offsetgroup\": \"hidden_dim=5\", \"orientation\": \"v\", \"showlegend\": true, \"type\": \"box\", \"x\": [\"train\", \"test\", \"train\", \"test\", \"train\", \"test\", \"train\", \"test\", \"train\", \"test\", \"train\", \"test\", \"train\", \"test\", \"train\", \"test\", \"train\", \"test\", \"train\", \"test\"], \"x0\": \" \", \"xaxis\": \"x\", \"y\": [13.82, 13.79, 13.85, 13.73, 13.81, 13.93, 13.8, 13.86, 13.82, 13.87, 13.75, 13.77, 13.67, 13.83, 13.83, 13.92, 13.84, 13.79, 13.8, 14.01], \"y0\": \" \", \"yaxis\": \"y\"}, {\"alignmentgroup\": \"True\", \"hoverlabel\": {\"namelength\": 0}, \"hovertemplate\": \"hidden_dim=10<br>subset=%{x}<br>mae=%{y}\", \"legendgroup\": \"hidden_dim=10\", \"marker\": {\"color\": \"#00cc96\"}, \"name\": \"hidden_dim=10\", \"notched\": false, \"offsetgroup\": \"hidden_dim=10\", \"orientation\": \"v\", \"showlegend\": true, \"type\": \"box\", \"x\": [\"train\", \"test\", \"train\", \"test\", \"train\", \"test\", \"train\", \"test\", \"train\", \"test\", \"train\", \"test\", \"train\", \"test\", \"train\", \"test\", \"train\", \"test\", \"train\", \"test\"], \"x0\": \" \", \"xaxis\": \"x\", \"y\": [13.8, 13.87, 13.67, 13.79, 13.73, 13.77, 13.84, 13.85, 13.83, 13.86, 13.76, 13.7, 13.86, 13.79, 13.61, 13.61, 13.68, 13.69, 13.76, 13.88], \"y0\": \" \", \"yaxis\": \"y\"}, {\"alignmentgroup\": \"True\", \"hoverlabel\": {\"namelength\": 0}, \"hovertemplate\": \"hidden_dim=100<br>subset=%{x}<br>mae=%{y}\", \"legendgroup\": \"hidden_dim=100\", \"marker\": {\"color\": \"#ab63fa\"}, \"name\": \"hidden_dim=100\", \"notched\": false, \"offsetgroup\": \"hidden_dim=100\", \"orientation\": \"v\", \"showlegend\": true, \"type\": \"box\", \"x\": [\"train\", \"test\", \"train\", \"test\", \"train\", \"test\", \"train\", \"test\", \"train\", \"test\", \"train\", \"test\", \"train\", \"test\", \"train\", \"test\", \"train\", \"test\", \"train\", \"test\"], \"x0\": \" \", \"xaxis\": \"x\", \"y\": [13.48, 13.45, 13.5, 13.51, 13.51, 13.43, 13.5, 13.57, 13.52, 13.44, 13.49, 13.41, 13.47, 13.51, 13.53, 13.5, 13.49, 13.46, 13.51, 13.46], \"y0\": \" \", \"yaxis\": \"y\"}],\n",
              "                        {\"boxmode\": \"group\", \"legend\": {\"tracegroupgap\": 0}, \"margin\": {\"b\": 0, \"l\": 0, \"r\": 200, \"t\": 40}, \"template\": {\"data\": {\"bar\": [{\"error_x\": {\"color\": \"#2a3f5f\"}, \"error_y\": {\"color\": \"#2a3f5f\"}, \"marker\": {\"line\": {\"color\": \"#E5ECF6\", \"width\": 0.5}}, \"type\": \"bar\"}], \"barpolar\": [{\"marker\": {\"line\": {\"color\": \"#E5ECF6\", \"width\": 0.5}}, \"type\": \"barpolar\"}], \"carpet\": [{\"aaxis\": {\"endlinecolor\": \"#2a3f5f\", \"gridcolor\": \"white\", \"linecolor\": \"white\", \"minorgridcolor\": \"white\", \"startlinecolor\": \"#2a3f5f\"}, \"baxis\": {\"endlinecolor\": \"#2a3f5f\", \"gridcolor\": \"white\", \"linecolor\": \"white\", \"minorgridcolor\": \"white\", \"startlinecolor\": \"#2a3f5f\"}, \"type\": \"carpet\"}], \"choropleth\": [{\"colorbar\": {\"outlinewidth\": 0, \"ticks\": \"\"}, \"type\": \"choropleth\"}], \"contour\": [{\"colorbar\": {\"outlinewidth\": 0, \"ticks\": \"\"}, \"colorscale\": [[0.0, \"#0d0887\"], [0.1111111111111111, \"#46039f\"], [0.2222222222222222, \"#7201a8\"], [0.3333333333333333, \"#9c179e\"], [0.4444444444444444, \"#bd3786\"], [0.5555555555555556, \"#d8576b\"], [0.6666666666666666, \"#ed7953\"], [0.7777777777777778, \"#fb9f3a\"], [0.8888888888888888, \"#fdca26\"], [1.0, \"#f0f921\"]], \"type\": \"contour\"}], \"contourcarpet\": [{\"colorbar\": {\"outlinewidth\": 0, \"ticks\": \"\"}, \"type\": \"contourcarpet\"}], \"heatmap\": [{\"colorbar\": {\"outlinewidth\": 0, \"ticks\": \"\"}, \"colorscale\": [[0.0, \"#0d0887\"], [0.1111111111111111, \"#46039f\"], [0.2222222222222222, \"#7201a8\"], [0.3333333333333333, \"#9c179e\"], [0.4444444444444444, \"#bd3786\"], [0.5555555555555556, \"#d8576b\"], [0.6666666666666666, \"#ed7953\"], [0.7777777777777778, \"#fb9f3a\"], [0.8888888888888888, \"#fdca26\"], [1.0, \"#f0f921\"]], \"type\": \"heatmap\"}], \"heatmapgl\": [{\"colorbar\": {\"outlinewidth\": 0, \"ticks\": \"\"}, \"colorscale\": [[0.0, \"#0d0887\"], [0.1111111111111111, \"#46039f\"], [0.2222222222222222, \"#7201a8\"], [0.3333333333333333, \"#9c179e\"], [0.4444444444444444, \"#bd3786\"], [0.5555555555555556, \"#d8576b\"], [0.6666666666666666, \"#ed7953\"], [0.7777777777777778, \"#fb9f3a\"], [0.8888888888888888, \"#fdca26\"], [1.0, \"#f0f921\"]], \"type\": \"heatmapgl\"}], \"histogram\": [{\"marker\": {\"colorbar\": {\"outlinewidth\": 0, \"ticks\": \"\"}}, \"type\": \"histogram\"}], \"histogram2d\": [{\"colorbar\": {\"outlinewidth\": 0, \"ticks\": \"\"}, \"colorscale\": [[0.0, \"#0d0887\"], [0.1111111111111111, \"#46039f\"], [0.2222222222222222, \"#7201a8\"], [0.3333333333333333, \"#9c179e\"], [0.4444444444444444, \"#bd3786\"], [0.5555555555555556, \"#d8576b\"], [0.6666666666666666, \"#ed7953\"], [0.7777777777777778, \"#fb9f3a\"], [0.8888888888888888, \"#fdca26\"], [1.0, \"#f0f921\"]], \"type\": \"histogram2d\"}], \"histogram2dcontour\": [{\"colorbar\": {\"outlinewidth\": 0, \"ticks\": \"\"}, \"colorscale\": [[0.0, \"#0d0887\"], [0.1111111111111111, \"#46039f\"], [0.2222222222222222, \"#7201a8\"], [0.3333333333333333, \"#9c179e\"], [0.4444444444444444, \"#bd3786\"], [0.5555555555555556, \"#d8576b\"], [0.6666666666666666, \"#ed7953\"], [0.7777777777777778, \"#fb9f3a\"], [0.8888888888888888, \"#fdca26\"], [1.0, \"#f0f921\"]], \"type\": \"histogram2dcontour\"}], \"mesh3d\": [{\"colorbar\": {\"outlinewidth\": 0, \"ticks\": \"\"}, \"type\": \"mesh3d\"}], \"parcoords\": [{\"line\": {\"colorbar\": {\"outlinewidth\": 0, \"ticks\": \"\"}}, \"type\": \"parcoords\"}], \"pie\": [{\"automargin\": true, \"type\": \"pie\"}], \"scatter\": [{\"marker\": {\"colorbar\": {\"outlinewidth\": 0, \"ticks\": \"\"}}, \"type\": \"scatter\"}], \"scatter3d\": [{\"line\": {\"colorbar\": {\"outlinewidth\": 0, \"ticks\": \"\"}}, \"marker\": {\"colorbar\": {\"outlinewidth\": 0, \"ticks\": \"\"}}, \"type\": \"scatter3d\"}], \"scattercarpet\": [{\"marker\": {\"colorbar\": {\"outlinewidth\": 0, \"ticks\": \"\"}}, \"type\": \"scattercarpet\"}], \"scattergeo\": [{\"marker\": {\"colorbar\": {\"outlinewidth\": 0, \"ticks\": \"\"}}, \"type\": \"scattergeo\"}], \"scattergl\": [{\"marker\": {\"colorbar\": {\"outlinewidth\": 0, \"ticks\": \"\"}}, \"type\": \"scattergl\"}], \"scattermapbox\": [{\"marker\": {\"colorbar\": {\"outlinewidth\": 0, \"ticks\": \"\"}}, \"type\": \"scattermapbox\"}], \"scatterpolar\": [{\"marker\": {\"colorbar\": {\"outlinewidth\": 0, \"ticks\": \"\"}}, \"type\": \"scatterpolar\"}], \"scatterpolargl\": [{\"marker\": {\"colorbar\": {\"outlinewidth\": 0, \"ticks\": \"\"}}, \"type\": \"scatterpolargl\"}], \"scatterternary\": [{\"marker\": {\"colorbar\": {\"outlinewidth\": 0, \"ticks\": \"\"}}, \"type\": \"scatterternary\"}], \"surface\": [{\"colorbar\": {\"outlinewidth\": 0, \"ticks\": \"\"}, \"colorscale\": [[0.0, \"#0d0887\"], [0.1111111111111111, \"#46039f\"], [0.2222222222222222, \"#7201a8\"], [0.3333333333333333, \"#9c179e\"], [0.4444444444444444, \"#bd3786\"], [0.5555555555555556, \"#d8576b\"], [0.6666666666666666, \"#ed7953\"], [0.7777777777777778, \"#fb9f3a\"], [0.8888888888888888, \"#fdca26\"], [1.0, \"#f0f921\"]], \"type\": \"surface\"}], \"table\": [{\"cells\": {\"fill\": {\"color\": \"#EBF0F8\"}, \"line\": {\"color\": \"white\"}}, \"header\": {\"fill\": {\"color\": \"#C8D4E3\"}, \"line\": {\"color\": \"white\"}}, \"type\": \"table\"}]}, \"layout\": {\"annotationdefaults\": {\"arrowcolor\": \"#2a3f5f\", \"arrowhead\": 0, \"arrowwidth\": 1}, \"coloraxis\": {\"colorbar\": {\"outlinewidth\": 0, \"ticks\": \"\"}}, \"colorscale\": {\"diverging\": [[0, \"#8e0152\"], [0.1, \"#c51b7d\"], [0.2, \"#de77ae\"], [0.3, \"#f1b6da\"], [0.4, \"#fde0ef\"], [0.5, \"#f7f7f7\"], [0.6, \"#e6f5d0\"], [0.7, \"#b8e186\"], [0.8, \"#7fbc41\"], [0.9, \"#4d9221\"], [1, \"#276419\"]], \"sequential\": [[0.0, \"#0d0887\"], [0.1111111111111111, \"#46039f\"], [0.2222222222222222, \"#7201a8\"], [0.3333333333333333, \"#9c179e\"], [0.4444444444444444, \"#bd3786\"], [0.5555555555555556, \"#d8576b\"], [0.6666666666666666, \"#ed7953\"], [0.7777777777777778, \"#fb9f3a\"], [0.8888888888888888, \"#fdca26\"], [1.0, \"#f0f921\"]], \"sequentialminus\": [[0.0, \"#0d0887\"], [0.1111111111111111, \"#46039f\"], [0.2222222222222222, \"#7201a8\"], [0.3333333333333333, \"#9c179e\"], [0.4444444444444444, \"#bd3786\"], [0.5555555555555556, \"#d8576b\"], [0.6666666666666666, \"#ed7953\"], [0.7777777777777778, \"#fb9f3a\"], [0.8888888888888888, \"#fdca26\"], [1.0, \"#f0f921\"]]}, \"colorway\": [\"#636efa\", \"#EF553B\", \"#00cc96\", \"#ab63fa\", \"#FFA15A\", \"#19d3f3\", \"#FF6692\", \"#B6E880\", \"#FF97FF\", \"#FECB52\"], \"font\": {\"color\": \"#2a3f5f\"}, \"geo\": {\"bgcolor\": \"white\", \"lakecolor\": \"white\", \"landcolor\": \"#E5ECF6\", \"showlakes\": true, \"showland\": true, \"subunitcolor\": \"white\"}, \"hoverlabel\": {\"align\": \"left\"}, \"hovermode\": \"closest\", \"mapbox\": {\"style\": \"light\"}, \"paper_bgcolor\": \"white\", \"plot_bgcolor\": \"#E5ECF6\", \"polar\": {\"angularaxis\": {\"gridcolor\": \"white\", \"linecolor\": \"white\", \"ticks\": \"\"}, \"bgcolor\": \"#E5ECF6\", \"radialaxis\": {\"gridcolor\": \"white\", \"linecolor\": \"white\", \"ticks\": \"\"}}, \"scene\": {\"xaxis\": {\"backgroundcolor\": \"#E5ECF6\", \"gridcolor\": \"white\", \"gridwidth\": 2, \"linecolor\": \"white\", \"showbackground\": true, \"ticks\": \"\", \"zerolinecolor\": \"white\"}, \"yaxis\": {\"backgroundcolor\": \"#E5ECF6\", \"gridcolor\": \"white\", \"gridwidth\": 2, \"linecolor\": \"white\", \"showbackground\": true, \"ticks\": \"\", \"zerolinecolor\": \"white\"}, \"zaxis\": {\"backgroundcolor\": \"#E5ECF6\", \"gridcolor\": \"white\", \"gridwidth\": 2, \"linecolor\": \"white\", \"showbackground\": true, \"ticks\": \"\", \"zerolinecolor\": \"white\"}}, \"shapedefaults\": {\"line\": {\"color\": \"#2a3f5f\"}}, \"ternary\": {\"aaxis\": {\"gridcolor\": \"white\", \"linecolor\": \"white\", \"ticks\": \"\"}, \"baxis\": {\"gridcolor\": \"white\", \"linecolor\": \"white\", \"ticks\": \"\"}, \"bgcolor\": \"#E5ECF6\", \"caxis\": {\"gridcolor\": \"white\", \"linecolor\": \"white\", \"ticks\": \"\"}}, \"title\": {\"x\": 0.05}, \"xaxis\": {\"automargin\": true, \"gridcolor\": \"white\", \"linecolor\": \"white\", \"ticks\": \"\", \"title\": {\"standoff\": 15}, \"zerolinecolor\": \"white\", \"zerolinewidth\": 2}, \"yaxis\": {\"automargin\": true, \"gridcolor\": \"white\", \"linecolor\": \"white\", \"ticks\": \"\", \"title\": {\"standoff\": 15}, \"zerolinecolor\": \"white\", \"zerolinewidth\": 2}}}, \"title\": {\"text\": \"\\u0412\\u043b\\u0438\\u044f\\u043d\\u0438\\u0435 \\u043a\\u043e\\u043b\\u0438\\u0447\\u0435\\u0441\\u0442\\u0432\\u0430 \\u043d\\u0435\\u0439\\u0440\\u043e\\u043d\\u043e\\u0432 \\u0432 \\u0441\\u043a\\u0440\\u044b\\u0442\\u043e\\u043c \\u0441\\u043b\\u043e\\u0435 \\u043d\\u0430 \\u0430\\u0431\\u0441\\u043e\\u043b\\u044e\\u0442\\u043d\\u0443\\u044e \\u043e\\u0448\\u0438\\u0431\\u043a\\u0443\"}, \"xaxis\": {\"anchor\": \"y\", \"domain\": [0.0, 1.0], \"title\": {\"text\": \"subset\"}}, \"yaxis\": {\"anchor\": \"x\", \"domain\": [0.0, 1.0], \"title\": {\"text\": \"mae\"}}},\n",
              "                        {\"responsive\": true}\n",
              "                    ).then(function(){\n",
              "                            \n",
              "var gd = document.getElementById('17f485e0-79e5-4e57-a427-c147f95438f9');\n",
              "var x = new MutationObserver(function (mutations, observer) {{\n",
              "        var display = window.getComputedStyle(gd).display;\n",
              "        if (!display || display === 'none') {{\n",
              "            console.log([gd, 'removed!']);\n",
              "            Plotly.purge(gd);\n",
              "            observer.disconnect();\n",
              "        }}\n",
              "}});\n",
              "\n",
              "// Listen for the removal of the full notebook cells\n",
              "var notebookContainer = gd.closest('#notebook-container');\n",
              "if (notebookContainer) {{\n",
              "    x.observe(notebookContainer, {childList: true});\n",
              "}}\n",
              "\n",
              "// Listen for the clearing of the current output cell\n",
              "var outputEl = gd.closest('.output');\n",
              "if (outputEl) {{\n",
              "    x.observe(outputEl, {childList: true});\n",
              "}}\n",
              "\n",
              "                        })\n",
              "                };\n",
              "                \n",
              "            </script>\n",
              "        </div>\n",
              "</body>\n",
              "</html>"
            ]
          },
          "metadata": {
            "tags": []
          }
        }
      ]
    },
    {
      "cell_type": "markdown",
      "metadata": {
        "id": "hJ5Mqg4hz0Un"
      },
      "source": [
        "Несмотря на небольшую длину входных векторов, увеличение нейронов улучшает результат."
      ]
    },
    {
      "cell_type": "code",
      "metadata": {
        "id": "zkMDeQF0rfjS",
        "colab": {
          "base_uri": "https://localhost:8080/",
          "height": 542
        },
        "outputId": "ce70b44b-1ec8-49be-f246-1828860316bc"
      },
      "source": [
        "box_plot(\n",
        "    log.query('mode == \"time_2\" & outlier_threshold == 0 & hidden_dim == 20 & activation == \"relu\" & batch_size == 128'),\n",
        "    color='depth',\n",
        "    title='Влияние глубины сети на абсолютную ошибку'\n",
        "    )"
      ],
      "execution_count": null,
      "outputs": [
        {
          "output_type": "display_data",
          "data": {
            "text/html": [
              "<html>\n",
              "<head><meta charset=\"utf-8\" /></head>\n",
              "<body>\n",
              "    <div>\n",
              "            <script src=\"https://cdnjs.cloudflare.com/ajax/libs/mathjax/2.7.5/MathJax.js?config=TeX-AMS-MML_SVG\"></script><script type=\"text/javascript\">if (window.MathJax) {MathJax.Hub.Config({SVG: {font: \"STIX-Web\"}});}</script>\n",
              "                <script type=\"text/javascript\">window.PlotlyConfig = {MathJaxConfig: 'local'};</script>\n",
              "        <script src=\"https://cdn.plot.ly/plotly-latest.min.js\"></script>    \n",
              "            <div id=\"a1389157-ed5d-4ca7-af4f-4f40efe08656\" class=\"plotly-graph-div\" style=\"height:525px; width:100%;\"></div>\n",
              "            <script type=\"text/javascript\">\n",
              "                \n",
              "                    window.PLOTLYENV=window.PLOTLYENV || {};\n",
              "                    \n",
              "                if (document.getElementById(\"a1389157-ed5d-4ca7-af4f-4f40efe08656\")) {\n",
              "                    Plotly.newPlot(\n",
              "                        'a1389157-ed5d-4ca7-af4f-4f40efe08656',\n",
              "                        [{\"alignmentgroup\": \"True\", \"hoverlabel\": {\"namelength\": 0}, \"hovertemplate\": \"depth=1<br>subset=%{x}<br>mae=%{y}\", \"legendgroup\": \"depth=1\", \"marker\": {\"color\": \"#636efa\"}, \"name\": \"depth=1\", \"notched\": false, \"offsetgroup\": \"depth=1\", \"orientation\": \"v\", \"showlegend\": true, \"type\": \"box\", \"x\": [\"train\", \"test\", \"train\", \"test\", \"train\", \"test\", \"train\", \"test\", \"train\", \"test\", \"train\", \"test\", \"train\", \"test\", \"train\", \"test\", \"train\", \"test\", \"train\", \"test\"], \"x0\": \" \", \"xaxis\": \"x\", \"y\": [13.65, 13.67, 13.62, 13.59, 13.74, 13.68, 13.62, 13.54, 13.8, 13.65, 13.65, 13.64, 13.6, 13.55, 13.62, 13.44, 13.82, 13.88, 13.77, 13.77], \"y0\": \" \", \"yaxis\": \"y\"}, {\"alignmentgroup\": \"True\", \"hoverlabel\": {\"namelength\": 0}, \"hovertemplate\": \"depth=2<br>subset=%{x}<br>mae=%{y}\", \"legendgroup\": \"depth=2\", \"marker\": {\"color\": \"#EF553B\"}, \"name\": \"depth=2\", \"notched\": false, \"offsetgroup\": \"depth=2\", \"orientation\": \"v\", \"showlegend\": true, \"type\": \"box\", \"x\": [\"train\", \"test\", \"train\", \"test\", \"train\", \"test\", \"train\", \"test\", \"train\", \"test\", \"train\", \"test\", \"train\", \"test\", \"train\", \"test\", \"train\", \"test\", \"train\", \"test\"], \"x0\": \" \", \"xaxis\": \"x\", \"y\": [13.53, 13.51, 13.44, 13.59, 13.49, 13.44, 13.59, 13.57, 13.54, 13.46, 13.52, 13.56, 13.55, 13.42, 13.42, 13.66, 13.51, 13.49, 13.56, 13.57], \"y0\": \" \", \"yaxis\": \"y\"}, {\"alignmentgroup\": \"True\", \"hoverlabel\": {\"namelength\": 0}, \"hovertemplate\": \"depth=3<br>subset=%{x}<br>mae=%{y}\", \"legendgroup\": \"depth=3\", \"marker\": {\"color\": \"#00cc96\"}, \"name\": \"depth=3\", \"notched\": false, \"offsetgroup\": \"depth=3\", \"orientation\": \"v\", \"showlegend\": true, \"type\": \"box\", \"x\": [\"train\", \"test\", \"train\", \"test\", \"train\", \"test\", \"train\", \"test\", \"train\", \"test\", \"train\", \"test\", \"train\", \"test\", \"train\", \"test\", \"train\", \"test\", \"train\", \"test\"], \"x0\": \" \", \"xaxis\": \"x\", \"y\": [13.46, 13.44, 13.47, 13.57, 13.51, 13.53, 13.47, 13.61, 13.42, 13.43, 13.51, 13.44, 13.58, 13.51, 13.47, 13.55, 13.59, 13.59, 13.47, 13.48], \"y0\": \" \", \"yaxis\": \"y\"}],\n",
              "                        {\"boxmode\": \"group\", \"legend\": {\"tracegroupgap\": 0}, \"margin\": {\"b\": 0, \"l\": 0, \"r\": 200, \"t\": 40}, \"template\": {\"data\": {\"bar\": [{\"error_x\": {\"color\": \"#2a3f5f\"}, \"error_y\": {\"color\": \"#2a3f5f\"}, \"marker\": {\"line\": {\"color\": \"#E5ECF6\", \"width\": 0.5}}, \"type\": \"bar\"}], \"barpolar\": [{\"marker\": {\"line\": {\"color\": \"#E5ECF6\", \"width\": 0.5}}, \"type\": \"barpolar\"}], \"carpet\": [{\"aaxis\": {\"endlinecolor\": \"#2a3f5f\", \"gridcolor\": \"white\", \"linecolor\": \"white\", \"minorgridcolor\": \"white\", \"startlinecolor\": \"#2a3f5f\"}, \"baxis\": {\"endlinecolor\": \"#2a3f5f\", \"gridcolor\": \"white\", \"linecolor\": \"white\", \"minorgridcolor\": \"white\", \"startlinecolor\": \"#2a3f5f\"}, \"type\": \"carpet\"}], \"choropleth\": [{\"colorbar\": {\"outlinewidth\": 0, \"ticks\": \"\"}, \"type\": \"choropleth\"}], \"contour\": [{\"colorbar\": {\"outlinewidth\": 0, \"ticks\": \"\"}, \"colorscale\": [[0.0, \"#0d0887\"], [0.1111111111111111, \"#46039f\"], [0.2222222222222222, \"#7201a8\"], [0.3333333333333333, \"#9c179e\"], [0.4444444444444444, \"#bd3786\"], [0.5555555555555556, \"#d8576b\"], [0.6666666666666666, \"#ed7953\"], [0.7777777777777778, \"#fb9f3a\"], [0.8888888888888888, \"#fdca26\"], [1.0, \"#f0f921\"]], \"type\": \"contour\"}], \"contourcarpet\": [{\"colorbar\": {\"outlinewidth\": 0, \"ticks\": \"\"}, \"type\": \"contourcarpet\"}], \"heatmap\": [{\"colorbar\": {\"outlinewidth\": 0, \"ticks\": \"\"}, \"colorscale\": [[0.0, \"#0d0887\"], [0.1111111111111111, \"#46039f\"], [0.2222222222222222, \"#7201a8\"], [0.3333333333333333, \"#9c179e\"], [0.4444444444444444, \"#bd3786\"], [0.5555555555555556, \"#d8576b\"], [0.6666666666666666, \"#ed7953\"], [0.7777777777777778, \"#fb9f3a\"], [0.8888888888888888, \"#fdca26\"], [1.0, \"#f0f921\"]], \"type\": \"heatmap\"}], \"heatmapgl\": [{\"colorbar\": {\"outlinewidth\": 0, \"ticks\": \"\"}, \"colorscale\": [[0.0, \"#0d0887\"], [0.1111111111111111, \"#46039f\"], [0.2222222222222222, \"#7201a8\"], [0.3333333333333333, \"#9c179e\"], [0.4444444444444444, \"#bd3786\"], [0.5555555555555556, \"#d8576b\"], [0.6666666666666666, \"#ed7953\"], [0.7777777777777778, \"#fb9f3a\"], [0.8888888888888888, \"#fdca26\"], [1.0, \"#f0f921\"]], \"type\": \"heatmapgl\"}], \"histogram\": [{\"marker\": {\"colorbar\": {\"outlinewidth\": 0, \"ticks\": \"\"}}, \"type\": \"histogram\"}], \"histogram2d\": [{\"colorbar\": {\"outlinewidth\": 0, \"ticks\": \"\"}, \"colorscale\": [[0.0, \"#0d0887\"], [0.1111111111111111, \"#46039f\"], [0.2222222222222222, \"#7201a8\"], [0.3333333333333333, \"#9c179e\"], [0.4444444444444444, \"#bd3786\"], [0.5555555555555556, \"#d8576b\"], [0.6666666666666666, \"#ed7953\"], [0.7777777777777778, \"#fb9f3a\"], [0.8888888888888888, \"#fdca26\"], [1.0, \"#f0f921\"]], \"type\": \"histogram2d\"}], \"histogram2dcontour\": [{\"colorbar\": {\"outlinewidth\": 0, \"ticks\": \"\"}, \"colorscale\": [[0.0, \"#0d0887\"], [0.1111111111111111, \"#46039f\"], [0.2222222222222222, \"#7201a8\"], [0.3333333333333333, \"#9c179e\"], [0.4444444444444444, \"#bd3786\"], [0.5555555555555556, \"#d8576b\"], [0.6666666666666666, \"#ed7953\"], [0.7777777777777778, \"#fb9f3a\"], [0.8888888888888888, \"#fdca26\"], [1.0, \"#f0f921\"]], \"type\": \"histogram2dcontour\"}], \"mesh3d\": [{\"colorbar\": {\"outlinewidth\": 0, \"ticks\": \"\"}, \"type\": \"mesh3d\"}], \"parcoords\": [{\"line\": {\"colorbar\": {\"outlinewidth\": 0, \"ticks\": \"\"}}, \"type\": \"parcoords\"}], \"pie\": [{\"automargin\": true, \"type\": \"pie\"}], \"scatter\": [{\"marker\": {\"colorbar\": {\"outlinewidth\": 0, \"ticks\": \"\"}}, \"type\": \"scatter\"}], \"scatter3d\": [{\"line\": {\"colorbar\": {\"outlinewidth\": 0, \"ticks\": \"\"}}, \"marker\": {\"colorbar\": {\"outlinewidth\": 0, \"ticks\": \"\"}}, \"type\": \"scatter3d\"}], \"scattercarpet\": [{\"marker\": {\"colorbar\": {\"outlinewidth\": 0, \"ticks\": \"\"}}, \"type\": \"scattercarpet\"}], \"scattergeo\": [{\"marker\": {\"colorbar\": {\"outlinewidth\": 0, \"ticks\": \"\"}}, \"type\": \"scattergeo\"}], \"scattergl\": [{\"marker\": {\"colorbar\": {\"outlinewidth\": 0, \"ticks\": \"\"}}, \"type\": \"scattergl\"}], \"scattermapbox\": [{\"marker\": {\"colorbar\": {\"outlinewidth\": 0, \"ticks\": \"\"}}, \"type\": \"scattermapbox\"}], \"scatterpolar\": [{\"marker\": {\"colorbar\": {\"outlinewidth\": 0, \"ticks\": \"\"}}, \"type\": \"scatterpolar\"}], \"scatterpolargl\": [{\"marker\": {\"colorbar\": {\"outlinewidth\": 0, \"ticks\": \"\"}}, \"type\": \"scatterpolargl\"}], \"scatterternary\": [{\"marker\": {\"colorbar\": {\"outlinewidth\": 0, \"ticks\": \"\"}}, \"type\": \"scatterternary\"}], \"surface\": [{\"colorbar\": {\"outlinewidth\": 0, \"ticks\": \"\"}, \"colorscale\": [[0.0, \"#0d0887\"], [0.1111111111111111, \"#46039f\"], [0.2222222222222222, \"#7201a8\"], [0.3333333333333333, \"#9c179e\"], [0.4444444444444444, \"#bd3786\"], [0.5555555555555556, \"#d8576b\"], [0.6666666666666666, \"#ed7953\"], [0.7777777777777778, \"#fb9f3a\"], [0.8888888888888888, \"#fdca26\"], [1.0, \"#f0f921\"]], \"type\": \"surface\"}], \"table\": [{\"cells\": {\"fill\": {\"color\": \"#EBF0F8\"}, \"line\": {\"color\": \"white\"}}, \"header\": {\"fill\": {\"color\": \"#C8D4E3\"}, \"line\": {\"color\": \"white\"}}, \"type\": \"table\"}]}, \"layout\": {\"annotationdefaults\": {\"arrowcolor\": \"#2a3f5f\", \"arrowhead\": 0, \"arrowwidth\": 1}, \"coloraxis\": {\"colorbar\": {\"outlinewidth\": 0, \"ticks\": \"\"}}, \"colorscale\": {\"diverging\": [[0, \"#8e0152\"], [0.1, \"#c51b7d\"], [0.2, \"#de77ae\"], [0.3, \"#f1b6da\"], [0.4, \"#fde0ef\"], [0.5, \"#f7f7f7\"], [0.6, \"#e6f5d0\"], [0.7, \"#b8e186\"], [0.8, \"#7fbc41\"], [0.9, \"#4d9221\"], [1, \"#276419\"]], \"sequential\": [[0.0, \"#0d0887\"], [0.1111111111111111, \"#46039f\"], [0.2222222222222222, \"#7201a8\"], [0.3333333333333333, \"#9c179e\"], [0.4444444444444444, \"#bd3786\"], [0.5555555555555556, \"#d8576b\"], [0.6666666666666666, \"#ed7953\"], [0.7777777777777778, \"#fb9f3a\"], [0.8888888888888888, \"#fdca26\"], [1.0, \"#f0f921\"]], \"sequentialminus\": [[0.0, \"#0d0887\"], [0.1111111111111111, \"#46039f\"], [0.2222222222222222, \"#7201a8\"], [0.3333333333333333, \"#9c179e\"], [0.4444444444444444, \"#bd3786\"], [0.5555555555555556, \"#d8576b\"], [0.6666666666666666, \"#ed7953\"], [0.7777777777777778, \"#fb9f3a\"], [0.8888888888888888, \"#fdca26\"], [1.0, \"#f0f921\"]]}, \"colorway\": [\"#636efa\", \"#EF553B\", \"#00cc96\", \"#ab63fa\", \"#FFA15A\", \"#19d3f3\", \"#FF6692\", \"#B6E880\", \"#FF97FF\", \"#FECB52\"], \"font\": {\"color\": \"#2a3f5f\"}, \"geo\": {\"bgcolor\": \"white\", \"lakecolor\": \"white\", \"landcolor\": \"#E5ECF6\", \"showlakes\": true, \"showland\": true, \"subunitcolor\": \"white\"}, \"hoverlabel\": {\"align\": \"left\"}, \"hovermode\": \"closest\", \"mapbox\": {\"style\": \"light\"}, \"paper_bgcolor\": \"white\", \"plot_bgcolor\": \"#E5ECF6\", \"polar\": {\"angularaxis\": {\"gridcolor\": \"white\", \"linecolor\": \"white\", \"ticks\": \"\"}, \"bgcolor\": \"#E5ECF6\", \"radialaxis\": {\"gridcolor\": \"white\", \"linecolor\": \"white\", \"ticks\": \"\"}}, \"scene\": {\"xaxis\": {\"backgroundcolor\": \"#E5ECF6\", \"gridcolor\": \"white\", \"gridwidth\": 2, \"linecolor\": \"white\", \"showbackground\": true, \"ticks\": \"\", \"zerolinecolor\": \"white\"}, \"yaxis\": {\"backgroundcolor\": \"#E5ECF6\", \"gridcolor\": \"white\", \"gridwidth\": 2, \"linecolor\": \"white\", \"showbackground\": true, \"ticks\": \"\", \"zerolinecolor\": \"white\"}, \"zaxis\": {\"backgroundcolor\": \"#E5ECF6\", \"gridcolor\": \"white\", \"gridwidth\": 2, \"linecolor\": \"white\", \"showbackground\": true, \"ticks\": \"\", \"zerolinecolor\": \"white\"}}, \"shapedefaults\": {\"line\": {\"color\": \"#2a3f5f\"}}, \"ternary\": {\"aaxis\": {\"gridcolor\": \"white\", \"linecolor\": \"white\", \"ticks\": \"\"}, \"baxis\": {\"gridcolor\": \"white\", \"linecolor\": \"white\", \"ticks\": \"\"}, \"bgcolor\": \"#E5ECF6\", \"caxis\": {\"gridcolor\": \"white\", \"linecolor\": \"white\", \"ticks\": \"\"}}, \"title\": {\"x\": 0.05}, \"xaxis\": {\"automargin\": true, \"gridcolor\": \"white\", \"linecolor\": \"white\", \"ticks\": \"\", \"title\": {\"standoff\": 15}, \"zerolinecolor\": \"white\", \"zerolinewidth\": 2}, \"yaxis\": {\"automargin\": true, \"gridcolor\": \"white\", \"linecolor\": \"white\", \"ticks\": \"\", \"title\": {\"standoff\": 15}, \"zerolinecolor\": \"white\", \"zerolinewidth\": 2}}}, \"title\": {\"text\": \"\\u0412\\u043b\\u0438\\u044f\\u043d\\u0438\\u0435 \\u0433\\u043b\\u0443\\u0431\\u0438\\u043d\\u044b \\u0441\\u0435\\u0442\\u0438 \\u043d\\u0430 \\u0430\\u0431\\u0441\\u043e\\u043b\\u044e\\u0442\\u043d\\u0443\\u044e \\u043e\\u0448\\u0438\\u0431\\u043a\\u0443\"}, \"xaxis\": {\"anchor\": \"y\", \"domain\": [0.0, 1.0], \"title\": {\"text\": \"subset\"}}, \"yaxis\": {\"anchor\": \"x\", \"domain\": [0.0, 1.0], \"title\": {\"text\": \"mae\"}}},\n",
              "                        {\"responsive\": true}\n",
              "                    ).then(function(){\n",
              "                            \n",
              "var gd = document.getElementById('a1389157-ed5d-4ca7-af4f-4f40efe08656');\n",
              "var x = new MutationObserver(function (mutations, observer) {{\n",
              "        var display = window.getComputedStyle(gd).display;\n",
              "        if (!display || display === 'none') {{\n",
              "            console.log([gd, 'removed!']);\n",
              "            Plotly.purge(gd);\n",
              "            observer.disconnect();\n",
              "        }}\n",
              "}});\n",
              "\n",
              "// Listen for the removal of the full notebook cells\n",
              "var notebookContainer = gd.closest('#notebook-container');\n",
              "if (notebookContainer) {{\n",
              "    x.observe(notebookContainer, {childList: true});\n",
              "}}\n",
              "\n",
              "// Listen for the clearing of the current output cell\n",
              "var outputEl = gd.closest('.output');\n",
              "if (outputEl) {{\n",
              "    x.observe(outputEl, {childList: true});\n",
              "}}\n",
              "\n",
              "                        })\n",
              "                };\n",
              "                \n",
              "            </script>\n",
              "        </div>\n",
              "</body>\n",
              "</html>"
            ]
          },
          "metadata": {
            "tags": []
          }
        }
      ]
    },
    {
      "cell_type": "markdown",
      "metadata": {
        "id": "AVs_ryTQ0DvZ"
      },
      "source": [
        "Добавить скрытые слои тоже приводит к уменьшению ошибки."
      ]
    },
    {
      "cell_type": "code",
      "metadata": {
        "id": "af4P4SlSr6-H",
        "colab": {
          "base_uri": "https://localhost:8080/",
          "height": 542
        },
        "outputId": "e70cbf45-fe4c-405c-c99c-389d9682a8ec"
      },
      "source": [
        "box_plot(\n",
        "    log.query('mode == \"time_2\" & outlier_threshold == 0 & hidden_dim == 100 & depth == 2 & batch_size == 128'),\n",
        "    color='activation',\n",
        "    title='Влияние функции активации на абсолютную ошибку'\n",
        "    )"
      ],
      "execution_count": null,
      "outputs": [
        {
          "output_type": "display_data",
          "data": {
            "text/html": [
              "<html>\n",
              "<head><meta charset=\"utf-8\" /></head>\n",
              "<body>\n",
              "    <div>\n",
              "            <script src=\"https://cdnjs.cloudflare.com/ajax/libs/mathjax/2.7.5/MathJax.js?config=TeX-AMS-MML_SVG\"></script><script type=\"text/javascript\">if (window.MathJax) {MathJax.Hub.Config({SVG: {font: \"STIX-Web\"}});}</script>\n",
              "                <script type=\"text/javascript\">window.PlotlyConfig = {MathJaxConfig: 'local'};</script>\n",
              "        <script src=\"https://cdn.plot.ly/plotly-latest.min.js\"></script>    \n",
              "            <div id=\"6dd014ea-6774-4f45-a55d-8daec5124ab4\" class=\"plotly-graph-div\" style=\"height:525px; width:100%;\"></div>\n",
              "            <script type=\"text/javascript\">\n",
              "                \n",
              "                    window.PLOTLYENV=window.PLOTLYENV || {};\n",
              "                    \n",
              "                if (document.getElementById(\"6dd014ea-6774-4f45-a55d-8daec5124ab4\")) {\n",
              "                    Plotly.newPlot(\n",
              "                        '6dd014ea-6774-4f45-a55d-8daec5124ab4',\n",
              "                        [{\"alignmentgroup\": \"True\", \"hoverlabel\": {\"namelength\": 0}, \"hovertemplate\": \"activation=sigmoid<br>subset=%{x}<br>mae=%{y}\", \"legendgroup\": \"activation=sigmoid\", \"marker\": {\"color\": \"#636efa\"}, \"name\": \"activation=sigmoid\", \"notched\": false, \"offsetgroup\": \"activation=sigmoid\", \"orientation\": \"v\", \"showlegend\": true, \"type\": \"box\", \"x\": [\"train\", \"test\", \"train\", \"test\", \"train\", \"test\", \"train\", \"test\", \"train\", \"test\", \"train\", \"test\", \"train\", \"test\", \"train\", \"test\", \"train\", \"test\", \"train\", \"test\"], \"x0\": \" \", \"xaxis\": \"x\", \"y\": [13.86, 13.87, 13.79, 13.94, 13.87, 13.76, 13.79, 13.69, 13.82, 13.92, 13.83, 13.85, 13.84, 13.73, 13.85, 13.91, 13.86, 13.71, 13.86, 13.7], \"y0\": \" \", \"yaxis\": \"y\"}, {\"alignmentgroup\": \"True\", \"hoverlabel\": {\"namelength\": 0}, \"hovertemplate\": \"activation=elu<br>subset=%{x}<br>mae=%{y}\", \"legendgroup\": \"activation=elu\", \"marker\": {\"color\": \"#EF553B\"}, \"name\": \"activation=elu\", \"notched\": false, \"offsetgroup\": \"activation=elu\", \"orientation\": \"v\", \"showlegend\": true, \"type\": \"box\", \"x\": [\"train\", \"test\", \"train\", \"test\", \"train\", \"test\", \"train\", \"test\", \"train\", \"test\", \"train\", \"test\", \"train\", \"test\", \"train\", \"test\", \"train\", \"test\", \"train\", \"test\"], \"x0\": \" \", \"xaxis\": \"x\", \"y\": [13.72, 13.64, 13.63, 13.6, 13.67, 13.65, 13.59, 13.66, 13.74, 13.66, 13.65, 13.77, 13.65, 13.73, 13.74, 13.68, 13.7, 13.77, 13.74, 13.53], \"y0\": \" \", \"yaxis\": \"y\"}, {\"alignmentgroup\": \"True\", \"hoverlabel\": {\"namelength\": 0}, \"hovertemplate\": \"activation=relu<br>subset=%{x}<br>mae=%{y}\", \"legendgroup\": \"activation=relu\", \"marker\": {\"color\": \"#00cc96\"}, \"name\": \"activation=relu\", \"notched\": false, \"offsetgroup\": \"activation=relu\", \"orientation\": \"v\", \"showlegend\": true, \"type\": \"box\", \"x\": [\"train\", \"test\", \"train\", \"test\", \"train\", \"test\", \"train\", \"test\", \"train\", \"test\", \"train\", \"test\", \"train\", \"test\", \"train\", \"test\", \"train\", \"test\", \"train\", \"test\"], \"x0\": \" \", \"xaxis\": \"x\", \"y\": [13.46, 13.44, 13.47, 13.45, 13.43, 13.49, 13.47, 13.41, 13.45, 13.37, 13.4, 13.57, 13.42, 13.36, 13.43, 13.33, 13.42, 13.44, 13.41, 13.34], \"y0\": \" \", \"yaxis\": \"y\"}],\n",
              "                        {\"boxmode\": \"group\", \"legend\": {\"tracegroupgap\": 0}, \"margin\": {\"b\": 0, \"l\": 0, \"r\": 200, \"t\": 40}, \"template\": {\"data\": {\"bar\": [{\"error_x\": {\"color\": \"#2a3f5f\"}, \"error_y\": {\"color\": \"#2a3f5f\"}, \"marker\": {\"line\": {\"color\": \"#E5ECF6\", \"width\": 0.5}}, \"type\": \"bar\"}], \"barpolar\": [{\"marker\": {\"line\": {\"color\": \"#E5ECF6\", \"width\": 0.5}}, \"type\": \"barpolar\"}], \"carpet\": [{\"aaxis\": {\"endlinecolor\": \"#2a3f5f\", \"gridcolor\": \"white\", \"linecolor\": \"white\", \"minorgridcolor\": \"white\", \"startlinecolor\": \"#2a3f5f\"}, \"baxis\": {\"endlinecolor\": \"#2a3f5f\", \"gridcolor\": \"white\", \"linecolor\": \"white\", \"minorgridcolor\": \"white\", \"startlinecolor\": \"#2a3f5f\"}, \"type\": \"carpet\"}], \"choropleth\": [{\"colorbar\": {\"outlinewidth\": 0, \"ticks\": \"\"}, \"type\": \"choropleth\"}], \"contour\": [{\"colorbar\": {\"outlinewidth\": 0, \"ticks\": \"\"}, \"colorscale\": [[0.0, \"#0d0887\"], [0.1111111111111111, \"#46039f\"], [0.2222222222222222, \"#7201a8\"], [0.3333333333333333, \"#9c179e\"], [0.4444444444444444, \"#bd3786\"], [0.5555555555555556, \"#d8576b\"], [0.6666666666666666, \"#ed7953\"], [0.7777777777777778, \"#fb9f3a\"], [0.8888888888888888, \"#fdca26\"], [1.0, \"#f0f921\"]], \"type\": \"contour\"}], \"contourcarpet\": [{\"colorbar\": {\"outlinewidth\": 0, \"ticks\": \"\"}, \"type\": \"contourcarpet\"}], \"heatmap\": [{\"colorbar\": {\"outlinewidth\": 0, \"ticks\": \"\"}, \"colorscale\": [[0.0, \"#0d0887\"], [0.1111111111111111, \"#46039f\"], [0.2222222222222222, \"#7201a8\"], [0.3333333333333333, \"#9c179e\"], [0.4444444444444444, \"#bd3786\"], [0.5555555555555556, \"#d8576b\"], [0.6666666666666666, \"#ed7953\"], [0.7777777777777778, \"#fb9f3a\"], [0.8888888888888888, \"#fdca26\"], [1.0, \"#f0f921\"]], \"type\": \"heatmap\"}], \"heatmapgl\": [{\"colorbar\": {\"outlinewidth\": 0, \"ticks\": \"\"}, \"colorscale\": [[0.0, \"#0d0887\"], [0.1111111111111111, \"#46039f\"], [0.2222222222222222, \"#7201a8\"], [0.3333333333333333, \"#9c179e\"], [0.4444444444444444, \"#bd3786\"], [0.5555555555555556, \"#d8576b\"], [0.6666666666666666, \"#ed7953\"], [0.7777777777777778, \"#fb9f3a\"], [0.8888888888888888, \"#fdca26\"], [1.0, \"#f0f921\"]], \"type\": \"heatmapgl\"}], \"histogram\": [{\"marker\": {\"colorbar\": {\"outlinewidth\": 0, \"ticks\": \"\"}}, \"type\": \"histogram\"}], \"histogram2d\": [{\"colorbar\": {\"outlinewidth\": 0, \"ticks\": \"\"}, \"colorscale\": [[0.0, \"#0d0887\"], [0.1111111111111111, \"#46039f\"], [0.2222222222222222, \"#7201a8\"], [0.3333333333333333, \"#9c179e\"], [0.4444444444444444, \"#bd3786\"], [0.5555555555555556, \"#d8576b\"], [0.6666666666666666, \"#ed7953\"], [0.7777777777777778, \"#fb9f3a\"], [0.8888888888888888, \"#fdca26\"], [1.0, \"#f0f921\"]], \"type\": \"histogram2d\"}], \"histogram2dcontour\": [{\"colorbar\": {\"outlinewidth\": 0, \"ticks\": \"\"}, \"colorscale\": [[0.0, \"#0d0887\"], [0.1111111111111111, \"#46039f\"], [0.2222222222222222, \"#7201a8\"], [0.3333333333333333, \"#9c179e\"], [0.4444444444444444, \"#bd3786\"], [0.5555555555555556, \"#d8576b\"], [0.6666666666666666, \"#ed7953\"], [0.7777777777777778, \"#fb9f3a\"], [0.8888888888888888, \"#fdca26\"], [1.0, \"#f0f921\"]], \"type\": \"histogram2dcontour\"}], \"mesh3d\": [{\"colorbar\": {\"outlinewidth\": 0, \"ticks\": \"\"}, \"type\": \"mesh3d\"}], \"parcoords\": [{\"line\": {\"colorbar\": {\"outlinewidth\": 0, \"ticks\": \"\"}}, \"type\": \"parcoords\"}], \"pie\": [{\"automargin\": true, \"type\": \"pie\"}], \"scatter\": [{\"marker\": {\"colorbar\": {\"outlinewidth\": 0, \"ticks\": \"\"}}, \"type\": \"scatter\"}], \"scatter3d\": [{\"line\": {\"colorbar\": {\"outlinewidth\": 0, \"ticks\": \"\"}}, \"marker\": {\"colorbar\": {\"outlinewidth\": 0, \"ticks\": \"\"}}, \"type\": \"scatter3d\"}], \"scattercarpet\": [{\"marker\": {\"colorbar\": {\"outlinewidth\": 0, \"ticks\": \"\"}}, \"type\": \"scattercarpet\"}], \"scattergeo\": [{\"marker\": {\"colorbar\": {\"outlinewidth\": 0, \"ticks\": \"\"}}, \"type\": \"scattergeo\"}], \"scattergl\": [{\"marker\": {\"colorbar\": {\"outlinewidth\": 0, \"ticks\": \"\"}}, \"type\": \"scattergl\"}], \"scattermapbox\": [{\"marker\": {\"colorbar\": {\"outlinewidth\": 0, \"ticks\": \"\"}}, \"type\": \"scattermapbox\"}], \"scatterpolar\": [{\"marker\": {\"colorbar\": {\"outlinewidth\": 0, \"ticks\": \"\"}}, \"type\": \"scatterpolar\"}], \"scatterpolargl\": [{\"marker\": {\"colorbar\": {\"outlinewidth\": 0, \"ticks\": \"\"}}, \"type\": \"scatterpolargl\"}], \"scatterternary\": [{\"marker\": {\"colorbar\": {\"outlinewidth\": 0, \"ticks\": \"\"}}, \"type\": \"scatterternary\"}], \"surface\": [{\"colorbar\": {\"outlinewidth\": 0, \"ticks\": \"\"}, \"colorscale\": [[0.0, \"#0d0887\"], [0.1111111111111111, \"#46039f\"], [0.2222222222222222, \"#7201a8\"], [0.3333333333333333, \"#9c179e\"], [0.4444444444444444, \"#bd3786\"], [0.5555555555555556, \"#d8576b\"], [0.6666666666666666, \"#ed7953\"], [0.7777777777777778, \"#fb9f3a\"], [0.8888888888888888, \"#fdca26\"], [1.0, \"#f0f921\"]], \"type\": \"surface\"}], \"table\": [{\"cells\": {\"fill\": {\"color\": \"#EBF0F8\"}, \"line\": {\"color\": \"white\"}}, \"header\": {\"fill\": {\"color\": \"#C8D4E3\"}, \"line\": {\"color\": \"white\"}}, \"type\": \"table\"}]}, \"layout\": {\"annotationdefaults\": {\"arrowcolor\": \"#2a3f5f\", \"arrowhead\": 0, \"arrowwidth\": 1}, \"coloraxis\": {\"colorbar\": {\"outlinewidth\": 0, \"ticks\": \"\"}}, \"colorscale\": {\"diverging\": [[0, \"#8e0152\"], [0.1, \"#c51b7d\"], [0.2, \"#de77ae\"], [0.3, \"#f1b6da\"], [0.4, \"#fde0ef\"], [0.5, \"#f7f7f7\"], [0.6, \"#e6f5d0\"], [0.7, \"#b8e186\"], [0.8, \"#7fbc41\"], [0.9, \"#4d9221\"], [1, \"#276419\"]], \"sequential\": [[0.0, \"#0d0887\"], [0.1111111111111111, \"#46039f\"], [0.2222222222222222, \"#7201a8\"], [0.3333333333333333, \"#9c179e\"], [0.4444444444444444, \"#bd3786\"], [0.5555555555555556, \"#d8576b\"], [0.6666666666666666, \"#ed7953\"], [0.7777777777777778, \"#fb9f3a\"], [0.8888888888888888, \"#fdca26\"], [1.0, \"#f0f921\"]], \"sequentialminus\": [[0.0, \"#0d0887\"], [0.1111111111111111, \"#46039f\"], [0.2222222222222222, \"#7201a8\"], [0.3333333333333333, \"#9c179e\"], [0.4444444444444444, \"#bd3786\"], [0.5555555555555556, \"#d8576b\"], [0.6666666666666666, \"#ed7953\"], [0.7777777777777778, \"#fb9f3a\"], [0.8888888888888888, \"#fdca26\"], [1.0, \"#f0f921\"]]}, \"colorway\": [\"#636efa\", \"#EF553B\", \"#00cc96\", \"#ab63fa\", \"#FFA15A\", \"#19d3f3\", \"#FF6692\", \"#B6E880\", \"#FF97FF\", \"#FECB52\"], \"font\": {\"color\": \"#2a3f5f\"}, \"geo\": {\"bgcolor\": \"white\", \"lakecolor\": \"white\", \"landcolor\": \"#E5ECF6\", \"showlakes\": true, \"showland\": true, \"subunitcolor\": \"white\"}, \"hoverlabel\": {\"align\": \"left\"}, \"hovermode\": \"closest\", \"mapbox\": {\"style\": \"light\"}, \"paper_bgcolor\": \"white\", \"plot_bgcolor\": \"#E5ECF6\", \"polar\": {\"angularaxis\": {\"gridcolor\": \"white\", \"linecolor\": \"white\", \"ticks\": \"\"}, \"bgcolor\": \"#E5ECF6\", \"radialaxis\": {\"gridcolor\": \"white\", \"linecolor\": \"white\", \"ticks\": \"\"}}, \"scene\": {\"xaxis\": {\"backgroundcolor\": \"#E5ECF6\", \"gridcolor\": \"white\", \"gridwidth\": 2, \"linecolor\": \"white\", \"showbackground\": true, \"ticks\": \"\", \"zerolinecolor\": \"white\"}, \"yaxis\": {\"backgroundcolor\": \"#E5ECF6\", \"gridcolor\": \"white\", \"gridwidth\": 2, \"linecolor\": \"white\", \"showbackground\": true, \"ticks\": \"\", \"zerolinecolor\": \"white\"}, \"zaxis\": {\"backgroundcolor\": \"#E5ECF6\", \"gridcolor\": \"white\", \"gridwidth\": 2, \"linecolor\": \"white\", \"showbackground\": true, \"ticks\": \"\", \"zerolinecolor\": \"white\"}}, \"shapedefaults\": {\"line\": {\"color\": \"#2a3f5f\"}}, \"ternary\": {\"aaxis\": {\"gridcolor\": \"white\", \"linecolor\": \"white\", \"ticks\": \"\"}, \"baxis\": {\"gridcolor\": \"white\", \"linecolor\": \"white\", \"ticks\": \"\"}, \"bgcolor\": \"#E5ECF6\", \"caxis\": {\"gridcolor\": \"white\", \"linecolor\": \"white\", \"ticks\": \"\"}}, \"title\": {\"x\": 0.05}, \"xaxis\": {\"automargin\": true, \"gridcolor\": \"white\", \"linecolor\": \"white\", \"ticks\": \"\", \"title\": {\"standoff\": 15}, \"zerolinecolor\": \"white\", \"zerolinewidth\": 2}, \"yaxis\": {\"automargin\": true, \"gridcolor\": \"white\", \"linecolor\": \"white\", \"ticks\": \"\", \"title\": {\"standoff\": 15}, \"zerolinecolor\": \"white\", \"zerolinewidth\": 2}}}, \"title\": {\"text\": \"\\u0412\\u043b\\u0438\\u044f\\u043d\\u0438\\u0435 \\u0444\\u0443\\u043d\\u043a\\u0446\\u0438\\u0438 \\u0430\\u043a\\u0442\\u0438\\u0432\\u0430\\u0446\\u0438\\u0438 \\u043d\\u0430 \\u0430\\u0431\\u0441\\u043e\\u043b\\u044e\\u0442\\u043d\\u0443\\u044e \\u043e\\u0448\\u0438\\u0431\\u043a\\u0443\"}, \"xaxis\": {\"anchor\": \"y\", \"domain\": [0.0, 1.0], \"title\": {\"text\": \"subset\"}}, \"yaxis\": {\"anchor\": \"x\", \"domain\": [0.0, 1.0], \"title\": {\"text\": \"mae\"}}},\n",
              "                        {\"responsive\": true}\n",
              "                    ).then(function(){\n",
              "                            \n",
              "var gd = document.getElementById('6dd014ea-6774-4f45-a55d-8daec5124ab4');\n",
              "var x = new MutationObserver(function (mutations, observer) {{\n",
              "        var display = window.getComputedStyle(gd).display;\n",
              "        if (!display || display === 'none') {{\n",
              "            console.log([gd, 'removed!']);\n",
              "            Plotly.purge(gd);\n",
              "            observer.disconnect();\n",
              "        }}\n",
              "}});\n",
              "\n",
              "// Listen for the removal of the full notebook cells\n",
              "var notebookContainer = gd.closest('#notebook-container');\n",
              "if (notebookContainer) {{\n",
              "    x.observe(notebookContainer, {childList: true});\n",
              "}}\n",
              "\n",
              "// Listen for the clearing of the current output cell\n",
              "var outputEl = gd.closest('.output');\n",
              "if (outputEl) {{\n",
              "    x.observe(outputEl, {childList: true});\n",
              "}}\n",
              "\n",
              "                        })\n",
              "                };\n",
              "                \n",
              "            </script>\n",
              "        </div>\n",
              "</body>\n",
              "</html>"
            ]
          },
          "metadata": {
            "tags": []
          }
        }
      ]
    },
    {
      "cell_type": "markdown",
      "metadata": {
        "id": "E3zUDjKM0ODU"
      },
      "source": [
        "ReLU заметно выигрывает."
      ]
    },
    {
      "cell_type": "code",
      "metadata": {
        "id": "NHV3aLEEsD-n",
        "colab": {
          "base_uri": "https://localhost:8080/",
          "height": 542
        },
        "outputId": "4c11ab21-c273-44f7-d42b-a0845faf60d8"
      },
      "source": [
        "box_plot(\n",
        "    log.query('mode == \"time_2\" & outlier_threshold == 0 & hidden_dim == 100 & depth == 1 & activation == \"relu\"'),\n",
        "    color='batch_size',\n",
        "    title='Влияние размера пакета на абсолютную ошибку'\n",
        "    )"
      ],
      "execution_count": null,
      "outputs": [
        {
          "output_type": "display_data",
          "data": {
            "text/html": [
              "<html>\n",
              "<head><meta charset=\"utf-8\" /></head>\n",
              "<body>\n",
              "    <div>\n",
              "            <script src=\"https://cdnjs.cloudflare.com/ajax/libs/mathjax/2.7.5/MathJax.js?config=TeX-AMS-MML_SVG\"></script><script type=\"text/javascript\">if (window.MathJax) {MathJax.Hub.Config({SVG: {font: \"STIX-Web\"}});}</script>\n",
              "                <script type=\"text/javascript\">window.PlotlyConfig = {MathJaxConfig: 'local'};</script>\n",
              "        <script src=\"https://cdn.plot.ly/plotly-latest.min.js\"></script>    \n",
              "            <div id=\"8f64d60c-3996-49c7-a323-bc1f7de81ce4\" class=\"plotly-graph-div\" style=\"height:525px; width:100%;\"></div>\n",
              "            <script type=\"text/javascript\">\n",
              "                \n",
              "                    window.PLOTLYENV=window.PLOTLYENV || {};\n",
              "                    \n",
              "                if (document.getElementById(\"8f64d60c-3996-49c7-a323-bc1f7de81ce4\")) {\n",
              "                    Plotly.newPlot(\n",
              "                        '8f64d60c-3996-49c7-a323-bc1f7de81ce4',\n",
              "                        [{\"alignmentgroup\": \"True\", \"hoverlabel\": {\"namelength\": 0}, \"hovertemplate\": \"batch_size=128<br>subset=%{x}<br>mae=%{y}\", \"legendgroup\": \"batch_size=128\", \"marker\": {\"color\": \"#636efa\"}, \"name\": \"batch_size=128\", \"notched\": false, \"offsetgroup\": \"batch_size=128\", \"orientation\": \"v\", \"showlegend\": true, \"type\": \"box\", \"x\": [\"train\", \"test\", \"train\", \"test\", \"train\", \"test\", \"train\", \"test\", \"train\", \"test\", \"train\", \"test\", \"train\", \"test\", \"train\", \"test\", \"train\", \"test\", \"train\", \"test\"], \"x0\": \" \", \"xaxis\": \"x\", \"y\": [13.48, 13.45, 13.5, 13.51, 13.51, 13.43, 13.5, 13.57, 13.52, 13.44, 13.49, 13.41, 13.47, 13.51, 13.53, 13.5, 13.49, 13.46, 13.51, 13.46], \"y0\": \" \", \"yaxis\": \"y\"}, {\"alignmentgroup\": \"True\", \"hoverlabel\": {\"namelength\": 0}, \"hovertemplate\": \"batch_size=32<br>subset=%{x}<br>mae=%{y}\", \"legendgroup\": \"batch_size=32\", \"marker\": {\"color\": \"#EF553B\"}, \"name\": \"batch_size=32\", \"notched\": false, \"offsetgroup\": \"batch_size=32\", \"orientation\": \"v\", \"showlegend\": true, \"type\": \"box\", \"x\": [\"train\", \"test\", \"train\", \"test\", \"train\", \"test\", \"train\", \"test\", \"train\", \"test\", \"train\", \"test\", \"train\", \"test\", \"train\", \"test\", \"train\", \"test\", \"train\", \"test\"], \"x0\": \" \", \"xaxis\": \"x\", \"y\": [13.43, 13.45, 13.4, 13.48, 13.47, 13.57, 13.37, 13.43, 13.39, 13.5, 13.45, 13.55, 13.39, 13.46, 13.42, 13.29, 13.45, 13.41, 13.37, 13.48], \"y0\": \" \", \"yaxis\": \"y\"}, {\"alignmentgroup\": \"True\", \"hoverlabel\": {\"namelength\": 0}, \"hovertemplate\": \"batch_size=512<br>subset=%{x}<br>mae=%{y}\", \"legendgroup\": \"batch_size=512\", \"marker\": {\"color\": \"#00cc96\"}, \"name\": \"batch_size=512\", \"notched\": false, \"offsetgroup\": \"batch_size=512\", \"orientation\": \"v\", \"showlegend\": true, \"type\": \"box\", \"x\": [\"train\", \"test\", \"train\", \"test\", \"train\", \"test\", \"train\", \"test\", \"train\", \"test\", \"train\", \"test\", \"train\", \"test\", \"train\", \"test\", \"train\", \"test\", \"train\", \"test\"], \"x0\": \" \", \"xaxis\": \"x\", \"y\": [13.61, 13.56, 13.57, 13.56, 13.54, 13.55, 13.56, 13.56, 13.65, 13.63, 13.63, 13.71, 13.63, 13.79, 13.57, 13.55, 13.55, 13.71, 13.6, 13.66], \"y0\": \" \", \"yaxis\": \"y\"}],\n",
              "                        {\"boxmode\": \"group\", \"legend\": {\"tracegroupgap\": 0}, \"margin\": {\"b\": 0, \"l\": 0, \"r\": 200, \"t\": 40}, \"template\": {\"data\": {\"bar\": [{\"error_x\": {\"color\": \"#2a3f5f\"}, \"error_y\": {\"color\": \"#2a3f5f\"}, \"marker\": {\"line\": {\"color\": \"#E5ECF6\", \"width\": 0.5}}, \"type\": \"bar\"}], \"barpolar\": [{\"marker\": {\"line\": {\"color\": \"#E5ECF6\", \"width\": 0.5}}, \"type\": \"barpolar\"}], \"carpet\": [{\"aaxis\": {\"endlinecolor\": \"#2a3f5f\", \"gridcolor\": \"white\", \"linecolor\": \"white\", \"minorgridcolor\": \"white\", \"startlinecolor\": \"#2a3f5f\"}, \"baxis\": {\"endlinecolor\": \"#2a3f5f\", \"gridcolor\": \"white\", \"linecolor\": \"white\", \"minorgridcolor\": \"white\", \"startlinecolor\": \"#2a3f5f\"}, \"type\": \"carpet\"}], \"choropleth\": [{\"colorbar\": {\"outlinewidth\": 0, \"ticks\": \"\"}, \"type\": \"choropleth\"}], \"contour\": [{\"colorbar\": {\"outlinewidth\": 0, \"ticks\": \"\"}, \"colorscale\": [[0.0, \"#0d0887\"], [0.1111111111111111, \"#46039f\"], [0.2222222222222222, \"#7201a8\"], [0.3333333333333333, \"#9c179e\"], [0.4444444444444444, \"#bd3786\"], [0.5555555555555556, \"#d8576b\"], [0.6666666666666666, \"#ed7953\"], [0.7777777777777778, \"#fb9f3a\"], [0.8888888888888888, \"#fdca26\"], [1.0, \"#f0f921\"]], \"type\": \"contour\"}], \"contourcarpet\": [{\"colorbar\": {\"outlinewidth\": 0, \"ticks\": \"\"}, \"type\": \"contourcarpet\"}], \"heatmap\": [{\"colorbar\": {\"outlinewidth\": 0, \"ticks\": \"\"}, \"colorscale\": [[0.0, \"#0d0887\"], [0.1111111111111111, \"#46039f\"], [0.2222222222222222, \"#7201a8\"], [0.3333333333333333, \"#9c179e\"], [0.4444444444444444, \"#bd3786\"], [0.5555555555555556, \"#d8576b\"], [0.6666666666666666, \"#ed7953\"], [0.7777777777777778, \"#fb9f3a\"], [0.8888888888888888, \"#fdca26\"], [1.0, \"#f0f921\"]], \"type\": \"heatmap\"}], \"heatmapgl\": [{\"colorbar\": {\"outlinewidth\": 0, \"ticks\": \"\"}, \"colorscale\": [[0.0, \"#0d0887\"], [0.1111111111111111, \"#46039f\"], [0.2222222222222222, \"#7201a8\"], [0.3333333333333333, \"#9c179e\"], [0.4444444444444444, \"#bd3786\"], [0.5555555555555556, \"#d8576b\"], [0.6666666666666666, \"#ed7953\"], [0.7777777777777778, \"#fb9f3a\"], [0.8888888888888888, \"#fdca26\"], [1.0, \"#f0f921\"]], \"type\": \"heatmapgl\"}], \"histogram\": [{\"marker\": {\"colorbar\": {\"outlinewidth\": 0, \"ticks\": \"\"}}, \"type\": \"histogram\"}], \"histogram2d\": [{\"colorbar\": {\"outlinewidth\": 0, \"ticks\": \"\"}, \"colorscale\": [[0.0, \"#0d0887\"], [0.1111111111111111, \"#46039f\"], [0.2222222222222222, \"#7201a8\"], [0.3333333333333333, \"#9c179e\"], [0.4444444444444444, \"#bd3786\"], [0.5555555555555556, \"#d8576b\"], [0.6666666666666666, \"#ed7953\"], [0.7777777777777778, \"#fb9f3a\"], [0.8888888888888888, \"#fdca26\"], [1.0, \"#f0f921\"]], \"type\": \"histogram2d\"}], \"histogram2dcontour\": [{\"colorbar\": {\"outlinewidth\": 0, \"ticks\": \"\"}, \"colorscale\": [[0.0, \"#0d0887\"], [0.1111111111111111, \"#46039f\"], [0.2222222222222222, \"#7201a8\"], [0.3333333333333333, \"#9c179e\"], [0.4444444444444444, \"#bd3786\"], [0.5555555555555556, \"#d8576b\"], [0.6666666666666666, \"#ed7953\"], [0.7777777777777778, \"#fb9f3a\"], [0.8888888888888888, \"#fdca26\"], [1.0, \"#f0f921\"]], \"type\": \"histogram2dcontour\"}], \"mesh3d\": [{\"colorbar\": {\"outlinewidth\": 0, \"ticks\": \"\"}, \"type\": \"mesh3d\"}], \"parcoords\": [{\"line\": {\"colorbar\": {\"outlinewidth\": 0, \"ticks\": \"\"}}, \"type\": \"parcoords\"}], \"pie\": [{\"automargin\": true, \"type\": \"pie\"}], \"scatter\": [{\"marker\": {\"colorbar\": {\"outlinewidth\": 0, \"ticks\": \"\"}}, \"type\": \"scatter\"}], \"scatter3d\": [{\"line\": {\"colorbar\": {\"outlinewidth\": 0, \"ticks\": \"\"}}, \"marker\": {\"colorbar\": {\"outlinewidth\": 0, \"ticks\": \"\"}}, \"type\": \"scatter3d\"}], \"scattercarpet\": [{\"marker\": {\"colorbar\": {\"outlinewidth\": 0, \"ticks\": \"\"}}, \"type\": \"scattercarpet\"}], \"scattergeo\": [{\"marker\": {\"colorbar\": {\"outlinewidth\": 0, \"ticks\": \"\"}}, \"type\": \"scattergeo\"}], \"scattergl\": [{\"marker\": {\"colorbar\": {\"outlinewidth\": 0, \"ticks\": \"\"}}, \"type\": \"scattergl\"}], \"scattermapbox\": [{\"marker\": {\"colorbar\": {\"outlinewidth\": 0, \"ticks\": \"\"}}, \"type\": \"scattermapbox\"}], \"scatterpolar\": [{\"marker\": {\"colorbar\": {\"outlinewidth\": 0, \"ticks\": \"\"}}, \"type\": \"scatterpolar\"}], \"scatterpolargl\": [{\"marker\": {\"colorbar\": {\"outlinewidth\": 0, \"ticks\": \"\"}}, \"type\": \"scatterpolargl\"}], \"scatterternary\": [{\"marker\": {\"colorbar\": {\"outlinewidth\": 0, \"ticks\": \"\"}}, \"type\": \"scatterternary\"}], \"surface\": [{\"colorbar\": {\"outlinewidth\": 0, \"ticks\": \"\"}, \"colorscale\": [[0.0, \"#0d0887\"], [0.1111111111111111, \"#46039f\"], [0.2222222222222222, \"#7201a8\"], [0.3333333333333333, \"#9c179e\"], [0.4444444444444444, \"#bd3786\"], [0.5555555555555556, \"#d8576b\"], [0.6666666666666666, \"#ed7953\"], [0.7777777777777778, \"#fb9f3a\"], [0.8888888888888888, \"#fdca26\"], [1.0, \"#f0f921\"]], \"type\": \"surface\"}], \"table\": [{\"cells\": {\"fill\": {\"color\": \"#EBF0F8\"}, \"line\": {\"color\": \"white\"}}, \"header\": {\"fill\": {\"color\": \"#C8D4E3\"}, \"line\": {\"color\": \"white\"}}, \"type\": \"table\"}]}, \"layout\": {\"annotationdefaults\": {\"arrowcolor\": \"#2a3f5f\", \"arrowhead\": 0, \"arrowwidth\": 1}, \"coloraxis\": {\"colorbar\": {\"outlinewidth\": 0, \"ticks\": \"\"}}, \"colorscale\": {\"diverging\": [[0, \"#8e0152\"], [0.1, \"#c51b7d\"], [0.2, \"#de77ae\"], [0.3, \"#f1b6da\"], [0.4, \"#fde0ef\"], [0.5, \"#f7f7f7\"], [0.6, \"#e6f5d0\"], [0.7, \"#b8e186\"], [0.8, \"#7fbc41\"], [0.9, \"#4d9221\"], [1, \"#276419\"]], \"sequential\": [[0.0, \"#0d0887\"], [0.1111111111111111, \"#46039f\"], [0.2222222222222222, \"#7201a8\"], [0.3333333333333333, \"#9c179e\"], [0.4444444444444444, \"#bd3786\"], [0.5555555555555556, \"#d8576b\"], [0.6666666666666666, \"#ed7953\"], [0.7777777777777778, \"#fb9f3a\"], [0.8888888888888888, \"#fdca26\"], [1.0, \"#f0f921\"]], \"sequentialminus\": [[0.0, \"#0d0887\"], [0.1111111111111111, \"#46039f\"], [0.2222222222222222, \"#7201a8\"], [0.3333333333333333, \"#9c179e\"], [0.4444444444444444, \"#bd3786\"], [0.5555555555555556, \"#d8576b\"], [0.6666666666666666, \"#ed7953\"], [0.7777777777777778, \"#fb9f3a\"], [0.8888888888888888, \"#fdca26\"], [1.0, \"#f0f921\"]]}, \"colorway\": [\"#636efa\", \"#EF553B\", \"#00cc96\", \"#ab63fa\", \"#FFA15A\", \"#19d3f3\", \"#FF6692\", \"#B6E880\", \"#FF97FF\", \"#FECB52\"], \"font\": {\"color\": \"#2a3f5f\"}, \"geo\": {\"bgcolor\": \"white\", \"lakecolor\": \"white\", \"landcolor\": \"#E5ECF6\", \"showlakes\": true, \"showland\": true, \"subunitcolor\": \"white\"}, \"hoverlabel\": {\"align\": \"left\"}, \"hovermode\": \"closest\", \"mapbox\": {\"style\": \"light\"}, \"paper_bgcolor\": \"white\", \"plot_bgcolor\": \"#E5ECF6\", \"polar\": {\"angularaxis\": {\"gridcolor\": \"white\", \"linecolor\": \"white\", \"ticks\": \"\"}, \"bgcolor\": \"#E5ECF6\", \"radialaxis\": {\"gridcolor\": \"white\", \"linecolor\": \"white\", \"ticks\": \"\"}}, \"scene\": {\"xaxis\": {\"backgroundcolor\": \"#E5ECF6\", \"gridcolor\": \"white\", \"gridwidth\": 2, \"linecolor\": \"white\", \"showbackground\": true, \"ticks\": \"\", \"zerolinecolor\": \"white\"}, \"yaxis\": {\"backgroundcolor\": \"#E5ECF6\", \"gridcolor\": \"white\", \"gridwidth\": 2, \"linecolor\": \"white\", \"showbackground\": true, \"ticks\": \"\", \"zerolinecolor\": \"white\"}, \"zaxis\": {\"backgroundcolor\": \"#E5ECF6\", \"gridcolor\": \"white\", \"gridwidth\": 2, \"linecolor\": \"white\", \"showbackground\": true, \"ticks\": \"\", \"zerolinecolor\": \"white\"}}, \"shapedefaults\": {\"line\": {\"color\": \"#2a3f5f\"}}, \"ternary\": {\"aaxis\": {\"gridcolor\": \"white\", \"linecolor\": \"white\", \"ticks\": \"\"}, \"baxis\": {\"gridcolor\": \"white\", \"linecolor\": \"white\", \"ticks\": \"\"}, \"bgcolor\": \"#E5ECF6\", \"caxis\": {\"gridcolor\": \"white\", \"linecolor\": \"white\", \"ticks\": \"\"}}, \"title\": {\"x\": 0.05}, \"xaxis\": {\"automargin\": true, \"gridcolor\": \"white\", \"linecolor\": \"white\", \"ticks\": \"\", \"title\": {\"standoff\": 15}, \"zerolinecolor\": \"white\", \"zerolinewidth\": 2}, \"yaxis\": {\"automargin\": true, \"gridcolor\": \"white\", \"linecolor\": \"white\", \"ticks\": \"\", \"title\": {\"standoff\": 15}, \"zerolinecolor\": \"white\", \"zerolinewidth\": 2}}}, \"title\": {\"text\": \"\\u0412\\u043b\\u0438\\u044f\\u043d\\u0438\\u0435 \\u0440\\u0430\\u0437\\u043c\\u0435\\u0440\\u0430 \\u043f\\u0430\\u043a\\u0435\\u0442\\u0430 \\u043d\\u0430 \\u0430\\u0431\\u0441\\u043e\\u043b\\u044e\\u0442\\u043d\\u0443\\u044e \\u043e\\u0448\\u0438\\u0431\\u043a\\u0443\"}, \"xaxis\": {\"anchor\": \"y\", \"domain\": [0.0, 1.0], \"title\": {\"text\": \"subset\"}}, \"yaxis\": {\"anchor\": \"x\", \"domain\": [0.0, 1.0], \"title\": {\"text\": \"mae\"}}},\n",
              "                        {\"responsive\": true}\n",
              "                    ).then(function(){\n",
              "                            \n",
              "var gd = document.getElementById('8f64d60c-3996-49c7-a323-bc1f7de81ce4');\n",
              "var x = new MutationObserver(function (mutations, observer) {{\n",
              "        var display = window.getComputedStyle(gd).display;\n",
              "        if (!display || display === 'none') {{\n",
              "            console.log([gd, 'removed!']);\n",
              "            Plotly.purge(gd);\n",
              "            observer.disconnect();\n",
              "        }}\n",
              "}});\n",
              "\n",
              "// Listen for the removal of the full notebook cells\n",
              "var notebookContainer = gd.closest('#notebook-container');\n",
              "if (notebookContainer) {{\n",
              "    x.observe(notebookContainer, {childList: true});\n",
              "}}\n",
              "\n",
              "// Listen for the clearing of the current output cell\n",
              "var outputEl = gd.closest('.output');\n",
              "if (outputEl) {{\n",
              "    x.observe(outputEl, {childList: true});\n",
              "}}\n",
              "\n",
              "                        })\n",
              "                };\n",
              "                \n",
              "            </script>\n",
              "        </div>\n",
              "</body>\n",
              "</html>"
            ]
          },
          "metadata": {
            "tags": []
          }
        }
      ]
    },
    {
      "cell_type": "markdown",
      "metadata": {
        "id": "pKG7ci9b0XZR"
      },
      "source": [
        "Лучше средний размер пакета."
      ]
    },
    {
      "cell_type": "code",
      "metadata": {
        "id": "BN-YPKkPwSS2",
        "colab": {
          "base_uri": "https://localhost:8080/",
          "height": 695
        },
        "outputId": "082b5d05-cd34-4a5a-c234-0dd775e37494"
      },
      "source": [
        "log.groupby(['subset', 'mode', 'outlier_threshold', 'hidden_dim', 'depth', 'activation', 'batch_size']) \\\n",
        "    .agg({'mae': 'mean'}).loc['test'].sort_values('mae') # найдём лучшие гиперпараметры сети"
      ],
      "execution_count": null,
      "outputs": [
        {
          "output_type": "execute_result",
          "data": {
            "text/html": [
              "<div>\n",
              "<style scoped>\n",
              "    .dataframe tbody tr th:only-of-type {\n",
              "        vertical-align: middle;\n",
              "    }\n",
              "\n",
              "    .dataframe tbody tr th {\n",
              "        vertical-align: top;\n",
              "    }\n",
              "\n",
              "    .dataframe thead th {\n",
              "        text-align: right;\n",
              "    }\n",
              "</style>\n",
              "<table border=\"1\" class=\"dataframe\">\n",
              "  <thead>\n",
              "    <tr style=\"text-align: right;\">\n",
              "      <th></th>\n",
              "      <th></th>\n",
              "      <th></th>\n",
              "      <th></th>\n",
              "      <th></th>\n",
              "      <th></th>\n",
              "      <th>mae</th>\n",
              "    </tr>\n",
              "    <tr>\n",
              "      <th>mode</th>\n",
              "      <th>outlier_threshold</th>\n",
              "      <th>hidden_dim</th>\n",
              "      <th>depth</th>\n",
              "      <th>activation</th>\n",
              "      <th>batch_size</th>\n",
              "      <th></th>\n",
              "    </tr>\n",
              "  </thead>\n",
              "  <tbody>\n",
              "    <tr>\n",
              "      <th rowspan=\"7\" valign=\"top\">time_2</th>\n",
              "      <th rowspan=\"3\" valign=\"top\">0</th>\n",
              "      <th rowspan=\"3\" valign=\"top\">100</th>\n",
              "      <th>2</th>\n",
              "      <th>relu</th>\n",
              "      <th>128</th>\n",
              "      <td>13.420</td>\n",
              "    </tr>\n",
              "    <tr>\n",
              "      <th rowspan=\"2\" valign=\"top\">1</th>\n",
              "      <th rowspan=\"2\" valign=\"top\">relu</th>\n",
              "      <th>32</th>\n",
              "      <td>13.462</td>\n",
              "    </tr>\n",
              "    <tr>\n",
              "      <th>128</th>\n",
              "      <td>13.474</td>\n",
              "    </tr>\n",
              "    <tr>\n",
              "      <th>50</th>\n",
              "      <th>100</th>\n",
              "      <th>1</th>\n",
              "      <th>relu</th>\n",
              "      <th>128</th>\n",
              "      <td>13.486</td>\n",
              "    </tr>\n",
              "    <tr>\n",
              "      <th rowspan=\"3\" valign=\"top\">0</th>\n",
              "      <th rowspan=\"2\" valign=\"top\">20</th>\n",
              "      <th>3</th>\n",
              "      <th>relu</th>\n",
              "      <th>128</th>\n",
              "      <td>13.515</td>\n",
              "    </tr>\n",
              "    <tr>\n",
              "      <th>2</th>\n",
              "      <th>relu</th>\n",
              "      <th>128</th>\n",
              "      <td>13.527</td>\n",
              "    </tr>\n",
              "    <tr>\n",
              "      <th>100</th>\n",
              "      <th>1</th>\n",
              "      <th>relu</th>\n",
              "      <th>512</th>\n",
              "      <td>13.628</td>\n",
              "    </tr>\n",
              "    <tr>\n",
              "      <th>time</th>\n",
              "      <th>0</th>\n",
              "      <th>20</th>\n",
              "      <th>1</th>\n",
              "      <th>relu</th>\n",
              "      <th>128</th>\n",
              "      <td>13.630</td>\n",
              "    </tr>\n",
              "    <tr>\n",
              "      <th rowspan=\"2\" valign=\"top\">time_2</th>\n",
              "      <th rowspan=\"2\" valign=\"top\">0</th>\n",
              "      <th>20</th>\n",
              "      <th>1</th>\n",
              "      <th>relu</th>\n",
              "      <th>128</th>\n",
              "      <td>13.641</td>\n",
              "    </tr>\n",
              "    <tr>\n",
              "      <th>100</th>\n",
              "      <th>2</th>\n",
              "      <th>elu</th>\n",
              "      <th>128</th>\n",
              "      <td>13.669</td>\n",
              "    </tr>\n",
              "    <tr>\n",
              "      <th>sum</th>\n",
              "      <th>0</th>\n",
              "      <th>20</th>\n",
              "      <th>1</th>\n",
              "      <th>relu</th>\n",
              "      <th>128</th>\n",
              "      <td>13.685</td>\n",
              "    </tr>\n",
              "    <tr>\n",
              "      <th rowspan=\"3\" valign=\"top\">time_2</th>\n",
              "      <th rowspan=\"3\" valign=\"top\">0</th>\n",
              "      <th>10</th>\n",
              "      <th>1</th>\n",
              "      <th>relu</th>\n",
              "      <th>128</th>\n",
              "      <td>13.781</td>\n",
              "    </tr>\n",
              "    <tr>\n",
              "      <th>100</th>\n",
              "      <th>2</th>\n",
              "      <th>sigmoid</th>\n",
              "      <th>128</th>\n",
              "      <td>13.808</td>\n",
              "    </tr>\n",
              "    <tr>\n",
              "      <th>5</th>\n",
              "      <th>1</th>\n",
              "      <th>relu</th>\n",
              "      <th>128</th>\n",
              "      <td>13.850</td>\n",
              "    </tr>\n",
              "    <tr>\n",
              "      <th>quarter_3</th>\n",
              "      <th>0</th>\n",
              "      <th>20</th>\n",
              "      <th>1</th>\n",
              "      <th>relu</th>\n",
              "      <th>128</th>\n",
              "      <td>22.986</td>\n",
              "    </tr>\n",
              "    <tr>\n",
              "      <th>quarter_123</th>\n",
              "      <th>0</th>\n",
              "      <th>20</th>\n",
              "      <th>1</th>\n",
              "      <th>relu</th>\n",
              "      <th>128</th>\n",
              "      <td>22.999</td>\n",
              "    </tr>\n",
              "    <tr>\n",
              "      <th>quarter_12</th>\n",
              "      <th>0</th>\n",
              "      <th>20</th>\n",
              "      <th>1</th>\n",
              "      <th>relu</th>\n",
              "      <th>128</th>\n",
              "      <td>23.154</td>\n",
              "    </tr>\n",
              "    <tr>\n",
              "      <th>quarter_1</th>\n",
              "      <th>0</th>\n",
              "      <th>20</th>\n",
              "      <th>1</th>\n",
              "      <th>relu</th>\n",
              "      <th>128</th>\n",
              "      <td>23.319</td>\n",
              "    </tr>\n",
              "    <tr>\n",
              "      <th>quarter_23</th>\n",
              "      <th>0</th>\n",
              "      <th>20</th>\n",
              "      <th>1</th>\n",
              "      <th>relu</th>\n",
              "      <th>128</th>\n",
              "      <td>23.383</td>\n",
              "    </tr>\n",
              "    <tr>\n",
              "      <th>quarter_2</th>\n",
              "      <th>0</th>\n",
              "      <th>20</th>\n",
              "      <th>1</th>\n",
              "      <th>relu</th>\n",
              "      <th>128</th>\n",
              "      <td>24.072</td>\n",
              "    </tr>\n",
              "  </tbody>\n",
              "</table>\n",
              "</div>"
            ],
            "text/plain": [
              "                                                                         mae\n",
              "mode        outlier_threshold hidden_dim depth activation batch_size        \n",
              "time_2      0                 100        2     relu       128         13.420\n",
              "                                         1     relu       32          13.462\n",
              "                                                          128         13.474\n",
              "            50                100        1     relu       128         13.486\n",
              "            0                 20         3     relu       128         13.515\n",
              "                                         2     relu       128         13.527\n",
              "                              100        1     relu       512         13.628\n",
              "time        0                 20         1     relu       128         13.630\n",
              "time_2      0                 20         1     relu       128         13.641\n",
              "                              100        2     elu        128         13.669\n",
              "sum         0                 20         1     relu       128         13.685\n",
              "time_2      0                 10         1     relu       128         13.781\n",
              "                              100        2     sigmoid    128         13.808\n",
              "                              5          1     relu       128         13.850\n",
              "quarter_3   0                 20         1     relu       128         22.986\n",
              "quarter_123 0                 20         1     relu       128         22.999\n",
              "quarter_12  0                 20         1     relu       128         23.154\n",
              "quarter_1   0                 20         1     relu       128         23.319\n",
              "quarter_23  0                 20         1     relu       128         23.383\n",
              "quarter_2   0                 20         1     relu       128         24.072"
            ]
          },
          "metadata": {
            "tags": []
          },
          "execution_count": 95
        }
      ]
    },
    {
      "cell_type": "markdown",
      "metadata": {
        "id": "EcMWqt8x7Ndf"
      },
      "source": [
        "#Task 2\n",
        "\n",
        "Участник просит консультацию по диплому.\n",
        "\n",
        "\n",
        "\"У меня следующая идея для проекта:\n",
        "У нас в Компании есть календарно-сетевые графики строительных проектов.\n",
        "Сейчас происходит идентификация рисков вручную и в дальнейшем количественный анализ.\n",
        "Мне бы хотелось реализовать нейронку, которая при анализе графика (виды работ, сроки, стоимость и т.п.)\n",
        "распознавала бы риски проекта и отображала бы их в виде диаграммы торнадо (от наиболее вероятного до менее значительного) в объеме 10 рисков на проект.\n",
        "При этом бы выводилась вероятность наступления этого риска для дальнейшей проработки графика.\n",
        "Как Вы думаете это возможно или необходимо посмотреть более простую тему?\"\n",
        "\n",
        "Дайте участнику подробный ответ, описывающий подход к решению поставленной задачи."
      ]
    },
    {
      "cell_type": "markdown",
      "metadata": {
        "id": "czLbbqjp8nBm"
      },
      "source": [
        "##Ответ\n",
        "\n",
        "На мой взгляд тема интересна, а задача вполне решаема при условии достаточного объёма размеченных данных.\n",
        "\n",
        "На вход можно подать векторизованные параметры графика каждого проекта, а на выход вероятности каждого из возможных рисков. То есть по сути получится регрессионная модель, предсказывающая не один признак, а вектор вероятностей рисков.\n",
        "\n",
        "Затем из предсказанных вероятностей выбираете 10 максимальных для построения диаграммы.\n",
        "\n",
        "Возможно стоит воспользоваться PolynomialFeatures из Scikit Learn для генерации новых признаков.\n",
        "\n",
        "Не забудьте нормализовать входные параметры."
      ]
    },
    {
      "cell_type": "markdown",
      "metadata": {
        "id": "RpVOPPzl7Lu6"
      },
      "source": [
        "#EOF"
      ]
    }
  ]
}